{
 "cells": [
  {
   "cell_type": "code",
   "execution_count": 1,
   "metadata": {},
   "outputs": [],
   "source": [
    "import pandas as pd\n",
    "import plotly.graph_objects as go\n",
    "import plotly.express as px\n",
    "import xlsxwriter"
   ]
  },
  {
   "cell_type": "code",
   "execution_count": 2,
   "metadata": {},
   "outputs": [
    {
     "name": "stderr",
     "output_type": "stream",
     "text": [
      "C:\\Users\\mbasualdo\\AppData\\Local\\Temp\\ipykernel_24136\\2993245896.py:1: DtypeWarning: Columns (3) have mixed types. Specify dtype option on import or set low_memory=False.\n",
      "  df_producto=pd.read_csv('../data/EXPO_DOC_TOTAL.csv',\n"
     ]
    }
   ],
   "source": [
    "df_producto=pd.read_csv('../data/EXPO_DOC_TOTAL.csv', \n",
    "                        encoding='Latin-1',\n",
    "                        # sep=';', \n",
    "            dtype={'ncm':'str','CUIT':'str','empresa':'str','enmienda':'str','ncm_descri':'str','sim':'str','pais':'str','pais_descri':'str','dia':'str','mes':'str','anio':'str'}\n",
    "            )"
   ]
  },
  {
   "cell_type": "code",
   "execution_count": null,
   "metadata": {},
   "outputs": [],
   "source": [
    "mani=df_producto[df_producto.ncm=='12024200']\n",
    "mani.pais_descri=mani.pais_descri.apply(lambda x: x.capitalize())\n",
    "mani.empresa=mani.empresa.apply(lambda x: x.lower())\n",
    "mani['fob_unitario_ton']=mani.fob/mani.pnet*1000\n"
   ]
  },
  {
   "cell_type": "code",
   "execution_count": 7,
   "metadata": {},
   "outputs": [],
   "source": [
    "bm=pd.read_excel('../data/CMO-Historical-Data-Monthly.xlsx',sheet_name='Monthly Prices',skiprows=6)\n",
    "bm=bm[[bm.columns[19]]].rename(columns={'Unnamed: 0':'Fecha', 'GRNUT':'maiz_bm'})"
   ]
  },
  {
   "cell_type": "code",
   "execution_count": 10,
   "metadata": {},
   "outputs": [
    {
     "data": {
      "text/plain": [
       "'GRNUT'"
      ]
     },
     "execution_count": 10,
     "metadata": {},
     "output_type": "execute_result"
    }
   ],
   "source": [
    "bm.columns[19]"
   ]
  },
  {
   "cell_type": "code",
   "execution_count": null,
   "metadata": {},
   "outputs": [],
   "source": [
    "# Fechas para usarlas en los graficos\n",
    "desde=df_producto.sort_values(['anio','mes','dia'], ascending=True)['anio'][0]\n",
    "hasta=df_producto.sort_values(['anio','mes','dia'], ascending=True)['anio'].iloc[-1]\n",
    "\n",
    "\n",
    "inicio=df_producto.sort_values(['anio','mes'],ascending=True).reset_index(drop=True).mes[0]+'/01/'+df_producto.sort_values(['anio','mes'],ascending=True).reset_index(drop=True).anio[0]\n",
    "mes=int(df_producto.sort_values(['anio','mes'],ascending=True).reset_index(drop=True).mes.iloc[-1])+1\n",
    "fin=str(mes)+'/01/'+df_producto.sort_values(['anio','mes'],ascending=True).reset_index(drop=True).anio.iloc[-1]\n",
    "monthDates = pd.DataFrame({\n",
    "    'fecha': pd.date_range(start=inicio, end=fin, freq='M').strftime('%m-%Y')\n",
    "})"
   ]
  }
 ],
 "metadata": {
  "kernelspec": {
   "display_name": "Python 3.10.4 ('indec')",
   "language": "python",
   "name": "python3"
  },
  "language_info": {
   "codemirror_mode": {
    "name": "ipython",
    "version": 3
   },
   "file_extension": ".py",
   "mimetype": "text/x-python",
   "name": "python",
   "nbconvert_exporter": "python",
   "pygments_lexer": "ipython3",
   "version": "3.10.4"
  },
  "orig_nbformat": 4,
  "vscode": {
   "interpreter": {
    "hash": "8e76e384a9df139c1746ba138f5ce3f6d0babc035eebae6bb58adb8dce6b6867"
   }
  }
 },
 "nbformat": 4,
 "nbformat_minor": 2
}
