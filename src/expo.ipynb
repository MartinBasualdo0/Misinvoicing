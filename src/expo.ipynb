{
 "cells": [
  {
   "cell_type": "code",
   "execution_count": 2,
   "metadata": {},
   "outputs": [],
   "source": [
    "import pandas as pd\n",
    "import plotly.graph_objects as go\n",
    "import plotly.express as px"
   ]
  },
  {
   "cell_type": "code",
   "execution_count": 3,
   "metadata": {},
   "outputs": [],
   "source": [
    "#Importo\n",
    "df_producto=pd.read_csv('../data/EXPO_DOC.csv', encoding='latin-1',sep=';', dtype={'CUIT':'str',\n",
    "                                                                                            'dia':'str',\n",
    "                                                                                            'mes':'str',\n",
    "                                                                                            'anio':'str'})\n",
    "# Correcciones de lectura\n",
    "df_producto.pais_descri=df_producto.pais_descri.apply(lambda x: x.capitalize())\n",
    "df_producto.empresa=df_producto.empresa.apply(lambda x: x.lower())\n",
    "\n",
    "#Fob por tonelada importada\n",
    "df_producto['fob_unitario_ton']=df_producto.fob/df_producto.pnet*1000\n",
    "\n",
    "#Importo datos de los precios de referencia del banco mundial\n",
    "bm=pd.read_excel('../data/CMO-Historical-Data-Monthly.xlsx',sheet_name='Monthly Prices',skiprows=6)\n",
    "bm=bm[[bm.columns[0],bm.columns[24],bm.columns[30],bm.columns[37]]].rename(columns={'Unnamed: 0':'Fecha', 'SOYBEANS':'soja_bm',bm.columns[37]:'trigo_bm',bm.columns[30]:'maiz_bm' })\n",
    "bm['anio']=bm.Fecha.apply(lambda x: x[:4])\n",
    "bm['mes']=bm.Fecha.apply(lambda x: x[5:])\n",
    "bm.drop('Fecha',axis=1,inplace=True)\n",
    "\n",
    "# Separo las dataframes para cada producto, haciendolo mas facil de manipular\n",
    "dfs_producto=[i for x, i in df_producto.groupby('NOMEN', as_index=False)]\n",
    "trigo=pd.merge(left=dfs_producto[0],right=bm[['anio','mes','trigo_bm']], on=['anio','mes'],how='left').rename({'trigo_bm':'bm'},axis=1) #concat\n",
    "trigo['fob_unitario_ton_capit']=trigo.fob_unitario_ton*trigo.bm.iloc[-1]/trigo.bm\n",
    "trigo['diferencia_ref']=trigo.fob_unitario_ton-trigo.bm\n",
    "trigo['diferencia_ref_capi']=trigo.fob_unitario_ton_capit-trigo.bm.iloc[-1]\n",
    "trigo['fecha']=trigo[\"mes\"].astype(str)+'-'+trigo['anio'].astype(str)\n",
    "trigo['fecha']=pd.to_datetime(trigo[\"fecha\"]).dt.strftime('%m-%Y')\n",
    "trigo=trigo.sort_values(['anio','mes','dia'], ascending=True)\n",
    "\n",
    "maiz=pd.merge(left=dfs_producto[1],right=bm[['anio','mes','maiz_bm']], on=['anio','mes'],how='left').rename({'maiz_bm':'bm'},axis=1) #concat\n",
    "maiz['fob_unitario_ton_capit']=maiz.fob_unitario_ton*maiz.bm.iloc[-1]/maiz.bm\n",
    "maiz['diferencia_ref']=maiz.fob_unitario_ton-maiz.bm\n",
    "maiz['diferencia_ref_capi']=maiz.fob_unitario_ton_capit-maiz.bm.iloc[-1]\n",
    "maiz['fecha']=maiz[\"mes\"].astype(str)+'-'+maiz['anio'].astype(str)\n",
    "maiz['fecha']=pd.to_datetime(maiz[\"fecha\"]).dt.strftime('%m-%Y')\n",
    "maiz=maiz.sort_values(['anio','mes','dia'], ascending=True)\n",
    "\n",
    "soja=pd.merge(left=dfs_producto[2],right=bm[['anio','mes','soja_bm']], on=['anio','mes'],how='left').rename({'soja_bm':'bm'},axis=1) #concat\n",
    "soja['fob_unitario_ton_capit']=soja.fob_unitario_ton*soja.bm.iloc[-1]/soja.bm\n",
    "soja['diferencia_ref']=soja.fob_unitario_ton-soja.bm\n",
    "soja['diferencia_ref_capi']=soja.fob_unitario_ton_capit-soja.bm.iloc[-1]\n",
    "soja['fecha']=soja[\"mes\"].astype(str)+'-'+soja['anio'].astype(str)\n",
    "soja['fecha']=pd.to_datetime(soja[\"fecha\"]).dt.strftime('%m-%Y')\n",
    "soja=soja.sort_values(['anio','mes','dia'], ascending=True)\n",
    "\n",
    "\n",
    "desde=df_producto.sort_values(['anio','mes','dia'], ascending=True)['anio'][0]\n",
    "hasta=df_producto.sort_values(['anio','mes','dia'], ascending=True)['anio'].iloc[-1]"
   ]
  },
  {
   "cell_type": "code",
   "execution_count": 4,
   "metadata": {},
   "outputs": [
    {
     "data": {
      "text/html": [
       "<div>\n",
       "<style scoped>\n",
       "    .dataframe tbody tr th:only-of-type {\n",
       "        vertical-align: middle;\n",
       "    }\n",
       "\n",
       "    .dataframe tbody tr th {\n",
       "        vertical-align: top;\n",
       "    }\n",
       "\n",
       "    .dataframe thead th {\n",
       "        text-align: right;\n",
       "    }\n",
       "</style>\n",
       "<table border=\"1\" class=\"dataframe\">\n",
       "  <thead>\n",
       "    <tr style=\"text-align: right;\">\n",
       "      <th></th>\n",
       "      <th>anio</th>\n",
       "      <th>dia</th>\n",
       "      <th>mes</th>\n",
       "      <th>NOMEN</th>\n",
       "      <th>CUIT</th>\n",
       "      <th>empresa</th>\n",
       "      <th>pais_descri</th>\n",
       "      <th>fob</th>\n",
       "      <th>pnet</th>\n",
       "      <th>fob_unitario_ton</th>\n",
       "      <th>bm</th>\n",
       "    </tr>\n",
       "  </thead>\n",
       "  <tbody>\n",
       "    <tr>\n",
       "      <th>1049</th>\n",
       "      <td>2022</td>\n",
       "      <td>21</td>\n",
       "      <td>04</td>\n",
       "      <td>10019900</td>\n",
       "      <td>33714472319</td>\n",
       "      <td>biotrigo genetica srl</td>\n",
       "      <td>Brasil</td>\n",
       "      <td>52.80</td>\n",
       "      <td>52.80</td>\n",
       "      <td>1000.000000</td>\n",
       "      <td>495.28</td>\n",
       "    </tr>\n",
       "    <tr>\n",
       "      <th>1081</th>\n",
       "      <td>2022</td>\n",
       "      <td>22</td>\n",
       "      <td>01</td>\n",
       "      <td>10019900</td>\n",
       "      <td>33714472319</td>\n",
       "      <td>biotrigo genetica srl</td>\n",
       "      <td>Brasil</td>\n",
       "      <td>863.33</td>\n",
       "      <td>863.33</td>\n",
       "      <td>1000.000000</td>\n",
       "      <td>374.24</td>\n",
       "    </tr>\n",
       "    <tr>\n",
       "      <th>992</th>\n",
       "      <td>2021</td>\n",
       "      <td>20</td>\n",
       "      <td>03</td>\n",
       "      <td>10019900</td>\n",
       "      <td>33714472319</td>\n",
       "      <td>biotrigo genetica srl</td>\n",
       "      <td>Brasil</td>\n",
       "      <td>728.00</td>\n",
       "      <td>728.00</td>\n",
       "      <td>1000.000000</td>\n",
       "      <td>273.13</td>\n",
       "    </tr>\n",
       "    <tr>\n",
       "      <th>295</th>\n",
       "      <td>2021</td>\n",
       "      <td>06</td>\n",
       "      <td>05</td>\n",
       "      <td>10019900</td>\n",
       "      <td>33714472319</td>\n",
       "      <td>biotrigo genetica srl</td>\n",
       "      <td>Brasil</td>\n",
       "      <td>98.15</td>\n",
       "      <td>98.15</td>\n",
       "      <td>1000.000000</td>\n",
       "      <td>297.25</td>\n",
       "    </tr>\n",
       "    <tr>\n",
       "      <th>1424</th>\n",
       "      <td>2022</td>\n",
       "      <td>28</td>\n",
       "      <td>02</td>\n",
       "      <td>10019900</td>\n",
       "      <td>33714472319</td>\n",
       "      <td>biotrigo genetica srl</td>\n",
       "      <td>Brasil</td>\n",
       "      <td>1006.15</td>\n",
       "      <td>1006.15</td>\n",
       "      <td>1000.000000</td>\n",
       "      <td>390.50</td>\n",
       "    </tr>\n",
       "    <tr>\n",
       "      <th>1447</th>\n",
       "      <td>2022</td>\n",
       "      <td>28</td>\n",
       "      <td>07</td>\n",
       "      <td>10019900</td>\n",
       "      <td>30712354530</td>\n",
       "      <td>edco grains s.a</td>\n",
       "      <td>Brasil</td>\n",
       "      <td>14560.00</td>\n",
       "      <td>28000.00</td>\n",
       "      <td>520.000000</td>\n",
       "      <td>382.50</td>\n",
       "    </tr>\n",
       "    <tr>\n",
       "      <th>447</th>\n",
       "      <td>2022</td>\n",
       "      <td>09</td>\n",
       "      <td>06</td>\n",
       "      <td>10019900</td>\n",
       "      <td>30712354530</td>\n",
       "      <td>edco grains s.a</td>\n",
       "      <td>Brasil</td>\n",
       "      <td>14000.00</td>\n",
       "      <td>28000.00</td>\n",
       "      <td>500.000000</td>\n",
       "      <td>459.59</td>\n",
       "    </tr>\n",
       "    <tr>\n",
       "      <th>1444</th>\n",
       "      <td>2022</td>\n",
       "      <td>28</td>\n",
       "      <td>06</td>\n",
       "      <td>10019900</td>\n",
       "      <td>30712354530</td>\n",
       "      <td>edco grains s.a</td>\n",
       "      <td>Brasil</td>\n",
       "      <td>28000.00</td>\n",
       "      <td>56000.00</td>\n",
       "      <td>500.000000</td>\n",
       "      <td>459.59</td>\n",
       "    </tr>\n",
       "    <tr>\n",
       "      <th>353</th>\n",
       "      <td>2022</td>\n",
       "      <td>07</td>\n",
       "      <td>06</td>\n",
       "      <td>10019900</td>\n",
       "      <td>30541934029</td>\n",
       "      <td>molino matilde s a</td>\n",
       "      <td>Brasil</td>\n",
       "      <td>200011.74</td>\n",
       "      <td>401630.00</td>\n",
       "      <td>498.000000</td>\n",
       "      <td>459.59</td>\n",
       "    </tr>\n",
       "    <tr>\n",
       "      <th>1496</th>\n",
       "      <td>2022</td>\n",
       "      <td>29</td>\n",
       "      <td>06</td>\n",
       "      <td>10019900</td>\n",
       "      <td>30709689726</td>\n",
       "      <td>jewell especialidades sa</td>\n",
       "      <td>Ecuador</td>\n",
       "      <td>75325.32</td>\n",
       "      <td>151560.00</td>\n",
       "      <td>497.000000</td>\n",
       "      <td>459.59</td>\n",
       "    </tr>\n",
       "    <tr>\n",
       "      <th>1000</th>\n",
       "      <td>2022</td>\n",
       "      <td>20</td>\n",
       "      <td>06</td>\n",
       "      <td>10019900</td>\n",
       "      <td>30709689726</td>\n",
       "      <td>jewell especialidades sa</td>\n",
       "      <td>Ecuador</td>\n",
       "      <td>150342.50</td>\n",
       "      <td>302500.00</td>\n",
       "      <td>497.000000</td>\n",
       "      <td>459.59</td>\n",
       "    </tr>\n",
       "    <tr>\n",
       "      <th>1582</th>\n",
       "      <td>2022</td>\n",
       "      <td>31</td>\n",
       "      <td>05</td>\n",
       "      <td>10019900</td>\n",
       "      <td>30541934029</td>\n",
       "      <td>molino matilde s a</td>\n",
       "      <td>Brasil</td>\n",
       "      <td>402391.58</td>\n",
       "      <td>813690.00</td>\n",
       "      <td>494.526884</td>\n",
       "      <td>522.29</td>\n",
       "    </tr>\n",
       "    <tr>\n",
       "      <th>1210</th>\n",
       "      <td>2022</td>\n",
       "      <td>24</td>\n",
       "      <td>05</td>\n",
       "      <td>10019900</td>\n",
       "      <td>30541934029</td>\n",
       "      <td>molino matilde s a</td>\n",
       "      <td>Brasil</td>\n",
       "      <td>201211.14</td>\n",
       "      <td>407310.00</td>\n",
       "      <td>494.000000</td>\n",
       "      <td>522.29</td>\n",
       "    </tr>\n",
       "    <tr>\n",
       "      <th>842</th>\n",
       "      <td>2022</td>\n",
       "      <td>17</td>\n",
       "      <td>05</td>\n",
       "      <td>10019900</td>\n",
       "      <td>30541934029</td>\n",
       "      <td>molino matilde s a</td>\n",
       "      <td>Brasil</td>\n",
       "      <td>198116.98</td>\n",
       "      <td>401860.00</td>\n",
       "      <td>493.000000</td>\n",
       "      <td>522.29</td>\n",
       "    </tr>\n",
       "    <tr>\n",
       "      <th>1056</th>\n",
       "      <td>2022</td>\n",
       "      <td>21</td>\n",
       "      <td>06</td>\n",
       "      <td>10019900</td>\n",
       "      <td>30500120882</td>\n",
       "      <td>asociacion de cooperativas argentinas coop ltda</td>\n",
       "      <td>Brasil</td>\n",
       "      <td>3975720.00</td>\n",
       "      <td>8080000.00</td>\n",
       "      <td>492.044554</td>\n",
       "      <td>459.59</td>\n",
       "    </tr>\n",
       "  </tbody>\n",
       "</table>\n",
       "</div>"
      ],
      "text/plain": [
       "      anio dia mes     NOMEN         CUIT  \\\n",
       "1049  2022  21  04  10019900  33714472319   \n",
       "1081  2022  22  01  10019900  33714472319   \n",
       "992   2021  20  03  10019900  33714472319   \n",
       "295   2021  06  05  10019900  33714472319   \n",
       "1424  2022  28  02  10019900  33714472319   \n",
       "1447  2022  28  07  10019900  30712354530   \n",
       "447   2022  09  06  10019900  30712354530   \n",
       "1444  2022  28  06  10019900  30712354530   \n",
       "353   2022  07  06  10019900  30541934029   \n",
       "1496  2022  29  06  10019900  30709689726   \n",
       "1000  2022  20  06  10019900  30709689726   \n",
       "1582  2022  31  05  10019900  30541934029   \n",
       "1210  2022  24  05  10019900  30541934029   \n",
       "842   2022  17  05  10019900  30541934029   \n",
       "1056  2022  21  06  10019900  30500120882   \n",
       "\n",
       "                                              empresa pais_descri         fob  \\\n",
       "1049                            biotrigo genetica srl      Brasil       52.80   \n",
       "1081                            biotrigo genetica srl      Brasil      863.33   \n",
       "992                             biotrigo genetica srl      Brasil      728.00   \n",
       "295                             biotrigo genetica srl      Brasil       98.15   \n",
       "1424                            biotrigo genetica srl      Brasil     1006.15   \n",
       "1447                                  edco grains s.a      Brasil    14560.00   \n",
       "447                                   edco grains s.a      Brasil    14000.00   \n",
       "1444                                  edco grains s.a      Brasil    28000.00   \n",
       "353                                molino matilde s a      Brasil   200011.74   \n",
       "1496                         jewell especialidades sa     Ecuador    75325.32   \n",
       "1000                         jewell especialidades sa     Ecuador   150342.50   \n",
       "1582                               molino matilde s a      Brasil   402391.58   \n",
       "1210                               molino matilde s a      Brasil   201211.14   \n",
       "842                                molino matilde s a      Brasil   198116.98   \n",
       "1056  asociacion de cooperativas argentinas coop ltda      Brasil  3975720.00   \n",
       "\n",
       "            pnet  fob_unitario_ton      bm  \n",
       "1049       52.80       1000.000000  495.28  \n",
       "1081      863.33       1000.000000  374.24  \n",
       "992       728.00       1000.000000  273.13  \n",
       "295        98.15       1000.000000  297.25  \n",
       "1424     1006.15       1000.000000  390.50  \n",
       "1447    28000.00        520.000000  382.50  \n",
       "447     28000.00        500.000000  459.59  \n",
       "1444    56000.00        500.000000  459.59  \n",
       "353    401630.00        498.000000  459.59  \n",
       "1496   151560.00        497.000000  459.59  \n",
       "1000   302500.00        497.000000  459.59  \n",
       "1582   813690.00        494.526884  522.29  \n",
       "1210   407310.00        494.000000  522.29  \n",
       "842    401860.00        493.000000  522.29  \n",
       "1056  8080000.00        492.044554  459.59  "
      ]
     },
     "execution_count": 4,
     "metadata": {},
     "output_type": "execute_result"
    }
   ],
   "source": [
    "trigo_outliers=trigo.sort_values('fob_unitario_ton',ascending=False)\n",
    "trigo_outliers=trigo_outliers[['anio','dia','mes','NOMEN','CUIT','empresa','pais_descri','fob','pnet','fob_unitario_ton','bm']]\n",
    "\n",
    "# Outliers a partir de 1000 en adelante. \n",
    "trigo=trigo[trigo.fob_unitario_ton<1000].reset_index(drop=True)\n",
    "\n",
    "trigo_outliers.head(15) #Para ver outliers"
   ]
  },
  {
   "cell_type": "code",
   "execution_count": 5,
   "metadata": {},
   "outputs": [
    {
     "data": {
      "text/html": [
       "<div>\n",
       "<style scoped>\n",
       "    .dataframe tbody tr th:only-of-type {\n",
       "        vertical-align: middle;\n",
       "    }\n",
       "\n",
       "    .dataframe tbody tr th {\n",
       "        vertical-align: top;\n",
       "    }\n",
       "\n",
       "    .dataframe thead th {\n",
       "        text-align: right;\n",
       "    }\n",
       "</style>\n",
       "<table border=\"1\" class=\"dataframe\">\n",
       "  <thead>\n",
       "    <tr style=\"text-align: right;\">\n",
       "      <th></th>\n",
       "      <th>anio</th>\n",
       "      <th>dia</th>\n",
       "      <th>mes</th>\n",
       "      <th>NOMEN</th>\n",
       "      <th>CUIT</th>\n",
       "      <th>empresa</th>\n",
       "      <th>pais_descri</th>\n",
       "      <th>fob</th>\n",
       "      <th>pnet</th>\n",
       "      <th>fob_unitario_ton</th>\n",
       "      <th>bm</th>\n",
       "    </tr>\n",
       "  </thead>\n",
       "  <tbody>\n",
       "    <tr>\n",
       "      <th>4674</th>\n",
       "      <td>2022</td>\n",
       "      <td>22</td>\n",
       "      <td>02</td>\n",
       "      <td>10059010</td>\n",
       "      <td>30708792493</td>\n",
       "      <td>snack crops sociedad anonima</td>\n",
       "      <td>Italia</td>\n",
       "      <td>16670.99</td>\n",
       "      <td>26.38</td>\n",
       "      <td>631955.648218</td>\n",
       "      <td>292.622344</td>\n",
       "    </tr>\n",
       "    <tr>\n",
       "      <th>3762</th>\n",
       "      <td>2021</td>\n",
       "      <td>17</td>\n",
       "      <td>10</td>\n",
       "      <td>10059010</td>\n",
       "      <td>30710254830</td>\n",
       "      <td>dos mates sa</td>\n",
       "      <td>Libano</td>\n",
       "      <td>29269.04</td>\n",
       "      <td>51.53</td>\n",
       "      <td>568000.000000</td>\n",
       "      <td>239.648763</td>\n",
       "    </tr>\n",
       "    <tr>\n",
       "      <th>5869</th>\n",
       "      <td>2022</td>\n",
       "      <td>27</td>\n",
       "      <td>01</td>\n",
       "      <td>10059010</td>\n",
       "      <td>30716887614</td>\n",
       "      <td>beans export s.r.l.</td>\n",
       "      <td>Uruguay</td>\n",
       "      <td>22575.00</td>\n",
       "      <td>150.50</td>\n",
       "      <td>150000.000000</td>\n",
       "      <td>276.623189</td>\n",
       "    </tr>\n",
       "    <tr>\n",
       "      <th>371</th>\n",
       "      <td>2021</td>\n",
       "      <td>02</td>\n",
       "      <td>10</td>\n",
       "      <td>10059010</td>\n",
       "      <td>30715780026</td>\n",
       "      <td>powertec comercio s.r.l</td>\n",
       "      <td>Uruguay</td>\n",
       "      <td>28817.60</td>\n",
       "      <td>205.84</td>\n",
       "      <td>140000.000000</td>\n",
       "      <td>239.648763</td>\n",
       "    </tr>\n",
       "    <tr>\n",
       "      <th>5267</th>\n",
       "      <td>2021</td>\n",
       "      <td>24</td>\n",
       "      <td>08</td>\n",
       "      <td>10059010</td>\n",
       "      <td>27220974761</td>\n",
       "      <td>rojas luisa beatriz</td>\n",
       "      <td>Bolivia</td>\n",
       "      <td>34800.00</td>\n",
       "      <td>290.00</td>\n",
       "      <td>120000.000000</td>\n",
       "      <td>256.612434</td>\n",
       "    </tr>\n",
       "    <tr>\n",
       "      <th>4604</th>\n",
       "      <td>2021</td>\n",
       "      <td>21</td>\n",
       "      <td>10</td>\n",
       "      <td>10059010</td>\n",
       "      <td>30541588619</td>\n",
       "      <td>molino passerini saic</td>\n",
       "      <td>Chile</td>\n",
       "      <td>840.00</td>\n",
       "      <td>600.00</td>\n",
       "      <td>1400.000000</td>\n",
       "      <td>239.648763</td>\n",
       "    </tr>\n",
       "    <tr>\n",
       "      <th>5026</th>\n",
       "      <td>2021</td>\n",
       "      <td>23</td>\n",
       "      <td>08</td>\n",
       "      <td>10059010</td>\n",
       "      <td>30541588619</td>\n",
       "      <td>molino passerini saic</td>\n",
       "      <td>Chile</td>\n",
       "      <td>134.00</td>\n",
       "      <td>100.00</td>\n",
       "      <td>1340.000000</td>\n",
       "      <td>256.612434</td>\n",
       "    </tr>\n",
       "    <tr>\n",
       "      <th>3176</th>\n",
       "      <td>2021</td>\n",
       "      <td>15</td>\n",
       "      <td>04</td>\n",
       "      <td>10059010</td>\n",
       "      <td>30541588619</td>\n",
       "      <td>molino passerini saic</td>\n",
       "      <td>Chile</td>\n",
       "      <td>310.00</td>\n",
       "      <td>250.00</td>\n",
       "      <td>1240.000000</td>\n",
       "      <td>268.233868</td>\n",
       "    </tr>\n",
       "    <tr>\n",
       "      <th>1336</th>\n",
       "      <td>2022</td>\n",
       "      <td>07</td>\n",
       "      <td>01</td>\n",
       "      <td>10059010</td>\n",
       "      <td>30714682055</td>\n",
       "      <td>keymar srl</td>\n",
       "      <td>Estados unidos</td>\n",
       "      <td>2534.40</td>\n",
       "      <td>2087.42</td>\n",
       "      <td>1214.130362</td>\n",
       "      <td>276.623189</td>\n",
       "    </tr>\n",
       "    <tr>\n",
       "      <th>4722</th>\n",
       "      <td>2021</td>\n",
       "      <td>22</td>\n",
       "      <td>04</td>\n",
       "      <td>10059010</td>\n",
       "      <td>30708499818</td>\n",
       "      <td>seedar s.a.</td>\n",
       "      <td>Brasil</td>\n",
       "      <td>1242.50</td>\n",
       "      <td>1250.00</td>\n",
       "      <td>994.000000</td>\n",
       "      <td>268.233868</td>\n",
       "    </tr>\n",
       "    <tr>\n",
       "      <th>330</th>\n",
       "      <td>2022</td>\n",
       "      <td>02</td>\n",
       "      <td>07</td>\n",
       "      <td>10059010</td>\n",
       "      <td>30708792493</td>\n",
       "      <td>snack crops sociedad anonima</td>\n",
       "      <td>Brasil</td>\n",
       "      <td>24300.00</td>\n",
       "      <td>27000.00</td>\n",
       "      <td>900.000000</td>\n",
       "      <td>322.967198</td>\n",
       "    </tr>\n",
       "    <tr>\n",
       "      <th>4845</th>\n",
       "      <td>2021</td>\n",
       "      <td>22</td>\n",
       "      <td>11</td>\n",
       "      <td>10059010</td>\n",
       "      <td>30708792493</td>\n",
       "      <td>snack crops sociedad anonima</td>\n",
       "      <td>Reino unido de gran breta?a e irlanda del norte</td>\n",
       "      <td>47091.15</td>\n",
       "      <td>52550.00</td>\n",
       "      <td>896.120837</td>\n",
       "      <td>248.719150</td>\n",
       "    </tr>\n",
       "    <tr>\n",
       "      <th>4978</th>\n",
       "      <td>2022</td>\n",
       "      <td>23</td>\n",
       "      <td>06</td>\n",
       "      <td>10059010</td>\n",
       "      <td>30601191640</td>\n",
       "      <td>rivara s a</td>\n",
       "      <td>Canada</td>\n",
       "      <td>17802.64</td>\n",
       "      <td>20000.00</td>\n",
       "      <td>890.132000</td>\n",
       "      <td>335.714557</td>\n",
       "    </tr>\n",
       "    <tr>\n",
       "      <th>3972</th>\n",
       "      <td>2022</td>\n",
       "      <td>18</td>\n",
       "      <td>07</td>\n",
       "      <td>10059010</td>\n",
       "      <td>30708792493</td>\n",
       "      <td>snack crops sociedad anonima</td>\n",
       "      <td>Brasil</td>\n",
       "      <td>23549.40</td>\n",
       "      <td>27000.00</td>\n",
       "      <td>872.200000</td>\n",
       "      <td>322.967198</td>\n",
       "    </tr>\n",
       "    <tr>\n",
       "      <th>1900</th>\n",
       "      <td>2022</td>\n",
       "      <td>09</td>\n",
       "      <td>06</td>\n",
       "      <td>10059010</td>\n",
       "      <td>30708792493</td>\n",
       "      <td>snack crops sociedad anonima</td>\n",
       "      <td>Reino unido de gran breta?a e irlanda del norte</td>\n",
       "      <td>45476.70</td>\n",
       "      <td>52270.00</td>\n",
       "      <td>870.034437</td>\n",
       "      <td>335.714557</td>\n",
       "    </tr>\n",
       "  </tbody>\n",
       "</table>\n",
       "</div>"
      ],
      "text/plain": [
       "      anio dia mes     NOMEN         CUIT                       empresa  \\\n",
       "4674  2022  22  02  10059010  30708792493  snack crops sociedad anonima   \n",
       "3762  2021  17  10  10059010  30710254830                  dos mates sa   \n",
       "5869  2022  27  01  10059010  30716887614           beans export s.r.l.   \n",
       "371   2021  02  10  10059010  30715780026       powertec comercio s.r.l   \n",
       "5267  2021  24  08  10059010  27220974761           rojas luisa beatriz   \n",
       "4604  2021  21  10  10059010  30541588619         molino passerini saic   \n",
       "5026  2021  23  08  10059010  30541588619         molino passerini saic   \n",
       "3176  2021  15  04  10059010  30541588619         molino passerini saic   \n",
       "1336  2022  07  01  10059010  30714682055                    keymar srl   \n",
       "4722  2021  22  04  10059010  30708499818                   seedar s.a.   \n",
       "330   2022  02  07  10059010  30708792493  snack crops sociedad anonima   \n",
       "4845  2021  22  11  10059010  30708792493  snack crops sociedad anonima   \n",
       "4978  2022  23  06  10059010  30601191640                    rivara s a   \n",
       "3972  2022  18  07  10059010  30708792493  snack crops sociedad anonima   \n",
       "1900  2022  09  06  10059010  30708792493  snack crops sociedad anonima   \n",
       "\n",
       "                                          pais_descri       fob      pnet  \\\n",
       "4674                                           Italia  16670.99     26.38   \n",
       "3762                                           Libano  29269.04     51.53   \n",
       "5869                                          Uruguay  22575.00    150.50   \n",
       "371                                           Uruguay  28817.60    205.84   \n",
       "5267                                          Bolivia  34800.00    290.00   \n",
       "4604                                            Chile    840.00    600.00   \n",
       "5026                                            Chile    134.00    100.00   \n",
       "3176                                            Chile    310.00    250.00   \n",
       "1336                                   Estados unidos   2534.40   2087.42   \n",
       "4722                                           Brasil   1242.50   1250.00   \n",
       "330                                            Brasil  24300.00  27000.00   \n",
       "4845  Reino unido de gran breta?a e irlanda del norte  47091.15  52550.00   \n",
       "4978                                           Canada  17802.64  20000.00   \n",
       "3972                                           Brasil  23549.40  27000.00   \n",
       "1900  Reino unido de gran breta?a e irlanda del norte  45476.70  52270.00   \n",
       "\n",
       "      fob_unitario_ton          bm  \n",
       "4674     631955.648218  292.622344  \n",
       "3762     568000.000000  239.648763  \n",
       "5869     150000.000000  276.623189  \n",
       "371      140000.000000  239.648763  \n",
       "5267     120000.000000  256.612434  \n",
       "4604       1400.000000  239.648763  \n",
       "5026       1340.000000  256.612434  \n",
       "3176       1240.000000  268.233868  \n",
       "1336       1214.130362  276.623189  \n",
       "4722        994.000000  268.233868  \n",
       "330         900.000000  322.967198  \n",
       "4845        896.120837  248.719150  \n",
       "4978        890.132000  335.714557  \n",
       "3972        872.200000  322.967198  \n",
       "1900        870.034437  335.714557  "
      ]
     },
     "execution_count": 5,
     "metadata": {},
     "output_type": "execute_result"
    }
   ],
   "source": [
    "maiz_outliers=maiz.sort_values('fob_unitario_ton',ascending=False)\n",
    "maiz_outliers=maiz_outliers[['anio','dia','mes','NOMEN','CUIT','empresa','pais_descri','fob','pnet','fob_unitario_ton','bm']]\n",
    "\n",
    "# Outliers a partir de 1000 en adelante. \n",
    "maiz=maiz[maiz.fob_unitario_ton<1000].reset_index(drop=True)\n",
    "\n",
    "maiz_outliers.head(15)"
   ]
  },
  {
   "cell_type": "code",
   "execution_count": 6,
   "metadata": {},
   "outputs": [
    {
     "data": {
      "text/html": [
       "<div>\n",
       "<style scoped>\n",
       "    .dataframe tbody tr th:only-of-type {\n",
       "        vertical-align: middle;\n",
       "    }\n",
       "\n",
       "    .dataframe tbody tr th {\n",
       "        vertical-align: top;\n",
       "    }\n",
       "\n",
       "    .dataframe thead th {\n",
       "        text-align: right;\n",
       "    }\n",
       "</style>\n",
       "<table border=\"1\" class=\"dataframe\">\n",
       "  <thead>\n",
       "    <tr style=\"text-align: right;\">\n",
       "      <th></th>\n",
       "      <th>anio</th>\n",
       "      <th>dia</th>\n",
       "      <th>mes</th>\n",
       "      <th>NOMEN</th>\n",
       "      <th>CUIT</th>\n",
       "      <th>empresa</th>\n",
       "      <th>pais_descri</th>\n",
       "      <th>fob</th>\n",
       "      <th>pnet</th>\n",
       "      <th>fob_unitario_ton</th>\n",
       "      <th>bm</th>\n",
       "    </tr>\n",
       "  </thead>\n",
       "  <tbody>\n",
       "    <tr>\n",
       "      <th>464</th>\n",
       "      <td>2022</td>\n",
       "      <td>14</td>\n",
       "      <td>02</td>\n",
       "      <td>12019000</td>\n",
       "      <td>30716309122</td>\n",
       "      <td>trigus trading s.a.</td>\n",
       "      <td>Uruguay</td>\n",
       "      <td>61954.40</td>\n",
       "      <td>144.08</td>\n",
       "      <td>430000.000000</td>\n",
       "      <td>661.63</td>\n",
       "    </tr>\n",
       "    <tr>\n",
       "      <th>327</th>\n",
       "      <td>2022</td>\n",
       "      <td>10</td>\n",
       "      <td>02</td>\n",
       "      <td>12019000</td>\n",
       "      <td>30716309122</td>\n",
       "      <td>trigus trading s.a.</td>\n",
       "      <td>Uruguay</td>\n",
       "      <td>61799.60</td>\n",
       "      <td>143.72</td>\n",
       "      <td>430000.000000</td>\n",
       "      <td>661.63</td>\n",
       "    </tr>\n",
       "    <tr>\n",
       "      <th>440</th>\n",
       "      <td>2022</td>\n",
       "      <td>13</td>\n",
       "      <td>04</td>\n",
       "      <td>12019000</td>\n",
       "      <td>30716891182</td>\n",
       "      <td>jm y cia s.a.s.</td>\n",
       "      <td>Chile</td>\n",
       "      <td>76500.00</td>\n",
       "      <td>17000.00</td>\n",
       "      <td>4500.000000</td>\n",
       "      <td>720.79</td>\n",
       "    </tr>\n",
       "    <tr>\n",
       "      <th>194</th>\n",
       "      <td>2022</td>\n",
       "      <td>06</td>\n",
       "      <td>07</td>\n",
       "      <td>12019000</td>\n",
       "      <td>30630720911</td>\n",
       "      <td>petroagro sociedad anonima</td>\n",
       "      <td>Estados unidos</td>\n",
       "      <td>142642.50</td>\n",
       "      <td>150150.00</td>\n",
       "      <td>950.000000</td>\n",
       "      <td>678.20</td>\n",
       "    </tr>\n",
       "    <tr>\n",
       "      <th>479</th>\n",
       "      <td>2022</td>\n",
       "      <td>14</td>\n",
       "      <td>07</td>\n",
       "      <td>12019000</td>\n",
       "      <td>30630720911</td>\n",
       "      <td>petroagro sociedad anonima</td>\n",
       "      <td>Estados unidos</td>\n",
       "      <td>7298983.00</td>\n",
       "      <td>7683140.00</td>\n",
       "      <td>950.000000</td>\n",
       "      <td>678.20</td>\n",
       "    </tr>\n",
       "    <tr>\n",
       "      <th>553</th>\n",
       "      <td>2022</td>\n",
       "      <td>16</td>\n",
       "      <td>07</td>\n",
       "      <td>12019000</td>\n",
       "      <td>30630720911</td>\n",
       "      <td>petroagro sociedad anonima</td>\n",
       "      <td>Estados unidos</td>\n",
       "      <td>244530.00</td>\n",
       "      <td>257400.00</td>\n",
       "      <td>950.000000</td>\n",
       "      <td>678.20</td>\n",
       "    </tr>\n",
       "    <tr>\n",
       "      <th>762</th>\n",
       "      <td>2022</td>\n",
       "      <td>23</td>\n",
       "      <td>06</td>\n",
       "      <td>12019000</td>\n",
       "      <td>30630720911</td>\n",
       "      <td>petroagro sociedad anonima</td>\n",
       "      <td>Estados unidos</td>\n",
       "      <td>224276.00</td>\n",
       "      <td>236080.00</td>\n",
       "      <td>950.000000</td>\n",
       "      <td>737.06</td>\n",
       "    </tr>\n",
       "    <tr>\n",
       "      <th>934</th>\n",
       "      <td>2022</td>\n",
       "      <td>28</td>\n",
       "      <td>07</td>\n",
       "      <td>12019000</td>\n",
       "      <td>30630720911</td>\n",
       "      <td>petroagro sociedad anonima</td>\n",
       "      <td>Estados unidos</td>\n",
       "      <td>244311.50</td>\n",
       "      <td>257170.00</td>\n",
       "      <td>950.000000</td>\n",
       "      <td>678.20</td>\n",
       "    </tr>\n",
       "    <tr>\n",
       "      <th>804</th>\n",
       "      <td>2021</td>\n",
       "      <td>24</td>\n",
       "      <td>07</td>\n",
       "      <td>12019000</td>\n",
       "      <td>30710674570</td>\n",
       "      <td>roagro negocios s. a.</td>\n",
       "      <td>Canada</td>\n",
       "      <td>190048.10</td>\n",
       "      <td>203260.00</td>\n",
       "      <td>935.000000</td>\n",
       "      <td>600.44</td>\n",
       "    </tr>\n",
       "    <tr>\n",
       "      <th>897</th>\n",
       "      <td>2021</td>\n",
       "      <td>27</td>\n",
       "      <td>06</td>\n",
       "      <td>12019000</td>\n",
       "      <td>30710674570</td>\n",
       "      <td>roagro negocios s. a.</td>\n",
       "      <td>Canada</td>\n",
       "      <td>103710.20</td>\n",
       "      <td>110920.00</td>\n",
       "      <td>935.000000</td>\n",
       "      <td>614.68</td>\n",
       "    </tr>\n",
       "    <tr>\n",
       "      <th>80</th>\n",
       "      <td>2021</td>\n",
       "      <td>03</td>\n",
       "      <td>07</td>\n",
       "      <td>12019000</td>\n",
       "      <td>30710674570</td>\n",
       "      <td>roagro negocios s. a.</td>\n",
       "      <td>Canada</td>\n",
       "      <td>123270.40</td>\n",
       "      <td>131840.00</td>\n",
       "      <td>935.000000</td>\n",
       "      <td>600.44</td>\n",
       "    </tr>\n",
       "    <tr>\n",
       "      <th>947</th>\n",
       "      <td>2021</td>\n",
       "      <td>28</td>\n",
       "      <td>10</td>\n",
       "      <td>12019000</td>\n",
       "      <td>30659909061</td>\n",
       "      <td>delotte sa</td>\n",
       "      <td>Estados unidos</td>\n",
       "      <td>92628.00</td>\n",
       "      <td>99600.00</td>\n",
       "      <td>930.000000</td>\n",
       "      <td>551.95</td>\n",
       "    </tr>\n",
       "    <tr>\n",
       "      <th>490</th>\n",
       "      <td>2021</td>\n",
       "      <td>14</td>\n",
       "      <td>09</td>\n",
       "      <td>12019000</td>\n",
       "      <td>30659909061</td>\n",
       "      <td>delotte sa</td>\n",
       "      <td>Canada</td>\n",
       "      <td>91291.13</td>\n",
       "      <td>103460.00</td>\n",
       "      <td>882.380920</td>\n",
       "      <td>557.55</td>\n",
       "    </tr>\n",
       "    <tr>\n",
       "      <th>618</th>\n",
       "      <td>2022</td>\n",
       "      <td>18</td>\n",
       "      <td>06</td>\n",
       "      <td>12019000</td>\n",
       "      <td>30715571060</td>\n",
       "      <td>la tranquera verde sa</td>\n",
       "      <td>Estados unidos</td>\n",
       "      <td>4731396.48</td>\n",
       "      <td>5400240.00</td>\n",
       "      <td>876.145594</td>\n",
       "      <td>737.06</td>\n",
       "    </tr>\n",
       "    <tr>\n",
       "      <th>480</th>\n",
       "      <td>2022</td>\n",
       "      <td>14</td>\n",
       "      <td>07</td>\n",
       "      <td>12019000</td>\n",
       "      <td>30707060871</td>\n",
       "      <td>grupo ckoos srl</td>\n",
       "      <td>Estados unidos</td>\n",
       "      <td>198050.00</td>\n",
       "      <td>233000.00</td>\n",
       "      <td>850.000000</td>\n",
       "      <td>678.20</td>\n",
       "    </tr>\n",
       "  </tbody>\n",
       "</table>\n",
       "</div>"
      ],
      "text/plain": [
       "     anio dia mes     NOMEN         CUIT                     empresa  \\\n",
       "464  2022  14  02  12019000  30716309122         trigus trading s.a.   \n",
       "327  2022  10  02  12019000  30716309122         trigus trading s.a.   \n",
       "440  2022  13  04  12019000  30716891182             jm y cia s.a.s.   \n",
       "194  2022  06  07  12019000  30630720911  petroagro sociedad anonima   \n",
       "479  2022  14  07  12019000  30630720911  petroagro sociedad anonima   \n",
       "553  2022  16  07  12019000  30630720911  petroagro sociedad anonima   \n",
       "762  2022  23  06  12019000  30630720911  petroagro sociedad anonima   \n",
       "934  2022  28  07  12019000  30630720911  petroagro sociedad anonima   \n",
       "804  2021  24  07  12019000  30710674570       roagro negocios s. a.   \n",
       "897  2021  27  06  12019000  30710674570       roagro negocios s. a.   \n",
       "80   2021  03  07  12019000  30710674570       roagro negocios s. a.   \n",
       "947  2021  28  10  12019000  30659909061                  delotte sa   \n",
       "490  2021  14  09  12019000  30659909061                  delotte sa   \n",
       "618  2022  18  06  12019000  30715571060       la tranquera verde sa   \n",
       "480  2022  14  07  12019000  30707060871             grupo ckoos srl   \n",
       "\n",
       "        pais_descri         fob        pnet  fob_unitario_ton      bm  \n",
       "464         Uruguay    61954.40      144.08     430000.000000  661.63  \n",
       "327         Uruguay    61799.60      143.72     430000.000000  661.63  \n",
       "440           Chile    76500.00    17000.00       4500.000000  720.79  \n",
       "194  Estados unidos   142642.50   150150.00        950.000000  678.20  \n",
       "479  Estados unidos  7298983.00  7683140.00        950.000000  678.20  \n",
       "553  Estados unidos   244530.00   257400.00        950.000000  678.20  \n",
       "762  Estados unidos   224276.00   236080.00        950.000000  737.06  \n",
       "934  Estados unidos   244311.50   257170.00        950.000000  678.20  \n",
       "804          Canada   190048.10   203260.00        935.000000  600.44  \n",
       "897          Canada   103710.20   110920.00        935.000000  614.68  \n",
       "80           Canada   123270.40   131840.00        935.000000  600.44  \n",
       "947  Estados unidos    92628.00    99600.00        930.000000  551.95  \n",
       "490          Canada    91291.13   103460.00        882.380920  557.55  \n",
       "618  Estados unidos  4731396.48  5400240.00        876.145594  737.06  \n",
       "480  Estados unidos   198050.00   233000.00        850.000000  678.20  "
      ]
     },
     "execution_count": 6,
     "metadata": {},
     "output_type": "execute_result"
    }
   ],
   "source": [
    "soja_outliers=soja.sort_values('fob_unitario_ton',ascending=False)\n",
    "soja_outliers=soja_outliers[['anio','dia','mes','NOMEN','CUIT','empresa','pais_descri','fob','pnet','fob_unitario_ton','bm']]\n",
    "# Outliers a partir de 1000 en adelante. \n",
    "soja=soja[soja.fob_unitario_ton<3000].reset_index(drop=True)\n",
    "\n",
    "soja_outliers.head(15)"
   ]
  },
  {
   "cell_type": "code",
   "execution_count": 7,
   "metadata": {},
   "outputs": [],
   "source": [
    "def plot_precio(y, color, producto):\n",
    "     '''y='fob_unitario_ton', 'diferencia_ref'\n",
    "     color='pais_descri','empresa'     \n",
    "     Producto='trigo','soja','maiz'''\n",
    "     if producto=='soja':\n",
    "          df=soja\n",
    "     elif producto=='trigo':\n",
    "          df=trigo\n",
    "     elif producto=='maiz':\n",
    "          df=maiz\n",
    "     \n",
    "     if y=='fob_unitario_ton':\n",
    "          title_1= 'Fob unitario'\n",
    "          title_2= f'FOB por tonelada exportada de {producto} <br> <sup> Precio de referencia del Banco Mundial'\n",
    "     elif y=='diferencia_ref':\n",
    "          title_1= 'Diferencia en USD'\n",
    "          title_2= f'Diferencia con precio de referencia en USD por tonelada exportada de {producto} <br> <sup> Precio de referencia del Banco Mundial'\n",
    "     precio_soja_plot=px.scatter(\n",
    "     df.round(1),\n",
    "     x='fecha',\n",
    "     y=y,\n",
    "     color=color,\n",
    "     labels={\n",
    "          \"pais_descri\": \"Destino\",\n",
    "          'fob_unitario_ton': 'Precio',\n",
    "          'fob':'Fob',\n",
    "          'pnet':'Kg',\n",
    "          'fecha':'Fecha',\n",
    "          'bm': 'Precio de referencia',\n",
    "          'diferencia_ref':'Spread',\n",
    "          'empresa':'Exportador'\n",
    "          },\n",
    "     hover_data={'pais_descri',\n",
    "                    'fob_unitario_ton',\n",
    "                    'bm',\n",
    "                    'diferencia_ref',\n",
    "                    'empresa',\n",
    "                    'fob',\n",
    "                    'pnet'        \n",
    "                                   }\n",
    "     )\n",
    "\n",
    "     precio_soja_plot.update_yaxes(title_text= title_1, \n",
    "                                   range=[df[y].min()-100,df[y].max()+100]\n",
    "                                   )\n",
    "     precio_soja_plot.update_xaxes(title_text='')\n",
    "\n",
    "     precio_soja_plot.update_traces(marker=dict(size=12,\n",
    "                                   line=dict(width=2,\n",
    "                                             color='DarkSlateGrey')),\n",
    "                    selector=dict(mode='markers'))\n",
    "\n",
    "     precio_soja_plot.update_layout(separators=',.', font_family='Georgia', font_size=13,\n",
    "                                   height=700, width=900,\n",
    "                                   template = 'none',\n",
    "                                   title_text=title_2)\n",
    "\n",
    "     return precio_soja_plot\n",
    "\n",
    "def precio_boxplot_mes(producto):\n",
    "     '''Producto='trigo','soja','maiz'''\n",
    "     if producto=='soja':\n",
    "          df=soja\n",
    "     elif producto=='trigo':\n",
    "          df=trigo\n",
    "     elif producto=='maiz':\n",
    "          df=maiz\n",
    "     \n",
    "     precio_soja_boxplot=px.box(\n",
    "     df.round(1),\n",
    "     x='fecha',\n",
    "     y='fob_unitario_ton',\n",
    "     color='fecha',\n",
    "     labels={\n",
    "          \"pais_descri\": \"Destino\",\n",
    "          'fob_unitario_ton': 'Precio',\n",
    "          'fob':'Fob',\n",
    "          'pnet':'Kg',\n",
    "          'fecha':'Fecha',\n",
    "          'bm': 'Precio de referencia',\n",
    "          'diferencia_ref':'Spread',\n",
    "          'empresa':'Exportador'\n",
    "          },\n",
    "     hover_data={'pais_descri',\n",
    "                    'fob_unitario_ton',\n",
    "                    'bm',\n",
    "                    'diferencia_ref',\n",
    "                    'empresa',\n",
    "                    'fob',\n",
    "                    'pnet'        \n",
    "                                   }\n",
    "     )\n",
    "\n",
    "     precio_soja_boxplot.update_yaxes(title_text= 'Fob unitario', \n",
    "                                   range=[df['fob_unitario_ton'].min()-100,df['fob_unitario_ton'].max()+100]\n",
    "                                   )\n",
    "     precio_soja_boxplot.update_xaxes(title_text='')\n",
    "\n",
    "     precio_soja_boxplot.update_layout(separators=',.', font_family='Georgia', font_size=13,\n",
    "                                   height=700, width=900,\n",
    "                                   template = 'none',\n",
    "                                   title_text=f'FOB por tonelada exportada de {producto} <br> <sup> Precio de referencia del Banco Mundial',\n",
    "                                   showlegend=False)\n",
    "\n",
    "     return precio_soja_boxplot\n",
    "\n",
    "def precio_boxplot_capitalizado(producto):\n",
    "     '''Producto='trigo','soja','maiz'''\n",
    "     if producto=='soja':\n",
    "          df=soja\n",
    "     elif producto=='trigo':\n",
    "          df=trigo\n",
    "     elif producto=='maiz':\n",
    "          df=maiz\n",
    "     \n",
    "     precio_soja_boxplot=px.box(\n",
    "     df.round(1),\n",
    "     # x='fecha',\n",
    "     x='fob_unitario_ton_capit',\n",
    "     # color='fecha',\n",
    "     labels={\n",
    "          \"pais_descri\": \"Destino\",\n",
    "          'fob_unitario_ton': 'Precio',\n",
    "          'fob_unitario_ton_capit':'Precio capitalizado',\n",
    "          'fob':'Fob',\n",
    "          'pnet':'Kg',\n",
    "          'fecha':'Fecha',\n",
    "          'bm': 'Precio de referencia',\n",
    "          'diferencia_ref':'Spread',\n",
    "          'empresa':'Exportador'\n",
    "          },\n",
    "     hover_data={'pais_descri',\n",
    "                    'fob_unitario_ton',\n",
    "                    'fob_unitario_ton_capit',\n",
    "                    'bm',\n",
    "                    'diferencia_ref',\n",
    "                    'empresa',\n",
    "                    'fob',\n",
    "                    'pnet'        \n",
    "                                   }\n",
    "     )\n",
    "\n",
    "     precio_soja_boxplot.update_yaxes(title_text= '', \n",
    "                                   # range=[producto['fob_unitario_ton_capit'].min()-100,producto['fob_unitario_ton_capit'].max()+100]\n",
    "                                   )\n",
    "     precio_soja_boxplot.update_xaxes(title_text='Fob unitario')\n",
    "\n",
    "     precio_soja_boxplot.update_layout(separators=',.', font_family='Georgia', font_size=13,\n",
    "                                   height=400, width=700,\n",
    "                                   template = 'none',\n",
    "                                   title_text=f'FOB por tonelada exportada de {producto} {desde}-{hasta} <br> <sup> Capitalizado al último precio disponible. Precio de referencia del Banco Mundial',\n",
    "                                   showlegend=False)\n",
    "     \n",
    "     precio_soja_boxplot.add_vline(x=df.bm.iloc[-1],line_dash=\"dash\",line_color=\"blue\")\n",
    "\n",
    "     return precio_soja_boxplot\n",
    "\n",
    "def precio_boxplot(producto):\n",
    "     '''Producto='trigo','soja','maiz'''\n",
    "     if producto=='soja':\n",
    "          df=soja\n",
    "     elif producto=='trigo':\n",
    "          df=trigo\n",
    "     elif producto=='maiz':\n",
    "          df=maiz\n",
    "          \n",
    "     precio_soja_boxplot=px.box(\n",
    "     df.round(1),\n",
    "     # x='fecha',\n",
    "     x='fob_unitario_ton',\n",
    "     # color='fecha',\n",
    "     labels={\n",
    "          \"pais_descri\": \"Destino\",\n",
    "          'fob_unitario_ton': 'Precio',\n",
    "          'fob':'Fob',\n",
    "          'pnet':'Kg',\n",
    "          'fecha':'Fecha',\n",
    "          'bm': 'Precio de referencia',\n",
    "          'diferencia_ref':'Spread',\n",
    "          'empresa':'Exportador'\n",
    "          },\n",
    "     hover_data={'pais_descri',\n",
    "                    'fob_unitario_ton',\n",
    "                    'bm',\n",
    "                    'diferencia_ref',\n",
    "                    'empresa',\n",
    "                    'fob',\n",
    "                    'pnet'        \n",
    "                                   }\n",
    "     )\n",
    "\n",
    "     precio_soja_boxplot.update_yaxes(title_text= '', \n",
    "                                   # range=[df['fob_unitario_ton'].min()-100,df['fob_unitario_ton'].max()+100]\n",
    "                                   )\n",
    "     precio_soja_boxplot.update_xaxes(title_text='Fob unitario')\n",
    "\n",
    "     precio_soja_boxplot.update_layout(separators=',.', font_family='Georgia', font_size=13,\n",
    "                                   height=400, width=700,\n",
    "                                   template = 'none',\n",
    "                                   title_text=f'FOB por tonelada exportada de {producto} {desde}-{hasta} <br> <sup> Precio de referencia del Banco Mundial',\n",
    "                                   showlegend=False)\n",
    "\n",
    "     return precio_soja_boxplot\n",
    "\n"
   ]
  },
  {
   "cell_type": "code",
   "execution_count": 8,
   "metadata": {},
   "outputs": [
    {
     "data": {
      "application/vnd.plotly.v1+json": {
       "config": {
        "plotlyServerURL": "https://plot.ly"
       },
       "data": [
        {
         "customdata": [
          [
           "Chile",
           141580,
           493,
           69798.9,
           576.4,
           "auqui s.a."
          ],
          [
           "Chile",
           338500,
           485,
           164172.5,
           576.4,
           "a.c.b. alimentos coronel baigorria s.a."
          ],
          [
           "Chile",
           140000,
           410,
           57400,
           576.4,
           "carolina vasquetto y elio marinelli sociedad simple"
          ],
          [
           "Chile",
           141420,
           493,
           69720.1,
           576.4,
           "auqui s.a."
          ],
          [
           "Chile",
           313360,
           485,
           151979.6,
           576.4,
           "a.c.b. alimentos coronel baigorria s.a."
          ],
          [
           "Chile",
           83680,
           400,
           33472,
           576.4,
           "carolina vasquetto y elio marinelli sociedad simple"
          ],
          [
           "Chile",
           283760,
           532,
           150960.3,
           576.4,
           "a.c.b. alimentos coronel baigorria s.a."
          ],
          [
           "Chile",
           141640,
           493,
           69828.5,
           576.4,
           "auqui s.a."
          ],
          [
           "Chile",
           142500,
           445,
           63412.5,
           576.4,
           "alimentos tancacha s.a."
          ],
          [
           "Chile",
           140000,
           410,
           57400,
           576.4,
           "carolina vasquetto y elio marinelli sociedad simple"
          ],
          [
           "Chile",
           565850,
           532,
           301032.2,
           576.4,
           "a.c.b. alimentos coronel baigorria s.a."
          ],
          [
           "Chile",
           168000,
           400,
           67200,
           576.4,
           "carolina vasquetto y elio marinelli sociedad simple"
          ],
          [
           "Chile",
           113320,
           395,
           44761.4,
           576.4,
           "alfatrans s.a.s. s. a. s."
          ],
          [
           "Chile",
           479360,
           360,
           172569.6,
           576.4,
           "agrofertil s.r.l."
          ],
          [
           "Chile",
           282180,
           532,
           150119.8,
           576.4,
           "a.c.b. alimentos coronel baigorria s.a."
          ],
          [
           "Chile",
           141940,
           493,
           69976.4,
           576.4,
           "auqui s.a."
          ],
          [
           "Chile",
           284970,
           559,
           159298.2,
           576.4,
           "a.c.b. alimentos coronel baigorria s.a."
          ],
          [
           "Chile",
           112000,
           410,
           45920,
           576.4,
           "carolina vasquetto y elio marinelli sociedad simple"
          ],
          [
           "Chile",
           85500,
           478,
           40869,
           576.4,
           "alimentos tancacha s.a."
          ],
          [
           "Chile",
           499980,
           360,
           179992.8,
           576.4,
           "agrofertil s.r.l."
          ],
          [
           "Chile",
           280630,
           559,
           156872.2,
           576.4,
           "a.c.b. alimentos coronel baigorria s.a."
          ],
          [
           "Chile",
           284360,
           549,
           156113.6,
           576.4,
           "a.c.b. alimentos coronel baigorria s.a."
          ],
          [
           "Chile",
           141960,
           493,
           69986.3,
           576.4,
           "auqui s.a."
          ],
          [
           "Chile",
           283870,
           559,
           158683.3,
           576.4,
           "a.c.b. alimentos coronel baigorria s.a."
          ],
          [
           "Chile",
           224000,
           465.3,
           104227.2,
           576.4,
           "sociedad agricola e inmobiliaria las piedras limitada"
          ],
          [
           "Chile",
           140660,
           493,
           69345.4,
           576.4,
           "auqui s.a."
          ],
          [
           "Chile",
           252000,
           515.4,
           129873.2,
           576.4,
           "sociedad agricola e inmobiliaria las piedras limitada"
          ],
          [
           "Chile",
           504000,
           501,
           252504,
           576.4,
           "sociedad agricola e inmobiliaria las piedras limitada"
          ],
          [
           "Chile",
           499980,
           360,
           179992.8,
           576.4,
           "agrofertil s.r.l."
          ],
          [
           "Chile",
           112080,
           400,
           44832,
           576.4,
           "alfatrans s.a.s. s. a. s."
          ],
          [
           "Chile",
           281570,
           564,
           158805.5,
           578.3,
           "a.c.b. alimentos coronel baigorria s.a."
          ],
          [
           "Chile",
           27540,
           430,
           11842.2,
           578.3,
           "carolina vasquetto y elio marinelli sociedad simple"
          ],
          [
           "Chile",
           284920,
           549,
           156421.1,
           578.3,
           "a.c.b. alimentos coronel baigorria s.a."
          ],
          [
           "Chile",
           29000,
           400,
           11600,
           578.3,
           "alfatrans s.a.s. s. a. s."
          ],
          [
           "Chile",
           168000,
           410,
           68880,
           578.3,
           "carolina vasquetto y elio marinelli sociedad simple"
          ],
          [
           "Chile",
           504000,
           501,
           252504,
           578.3,
           "sociedad agricola e inmobiliaria las piedras limitada"
          ],
          [
           "Chile",
           284290,
           564,
           160339.6,
           578.3,
           "a.c.b. alimentos coronel baigorria s.a."
          ],
          [
           "Chile",
           142500,
           560,
           79800,
           578.3,
           "auqui s.a."
          ],
          [
           "Chile",
           279610,
           564,
           157700,
           578.3,
           "a.c.b. alimentos coronel baigorria s.a."
          ],
          [
           "Chile",
           113620,
           400,
           45448,
           578.3,
           "alfatrans s.a.s. s. a. s."
          ],
          [
           "Chile",
           28000,
           730,
           20440,
           578.3,
           "ronalb s r l"
          ],
          [
           "Chile",
           225000,
           422.7,
           95100,
           578.3,
           "carolina vasquetto y elio marinelli sociedad simple"
          ],
          [
           "Chile",
           513000,
           460,
           235980,
           578.3,
           "alimentos tancacha s.a."
          ],
          [
           "Chile",
           28000,
           730,
           20440,
           578.3,
           "ronalb s r l"
          ],
          [
           "Chile",
           252000,
           515.4,
           129873.2,
           578.3,
           "sociedad agricola e inmobiliaria las piedras limitada"
          ],
          [
           "Chile",
           499740,
           360,
           179906.4,
           578.3,
           "agrofertil s.r.l."
          ],
          [
           "Chile",
           140820,
           430,
           60552.6,
           578.3,
           "alfatrans s.a.s. s. a. s."
          ],
          [
           "Chile",
           142760,
           430,
           61386.8,
           578.3,
           "alfatrans s.a.s. s. a. s."
          ],
          [
           "Chile",
           113220,
           478,
           54119.2,
           578.3,
           "alimentos tancacha s.a."
          ],
          [
           "Chile",
           112490,
           437.3,
           49196,
           578.3,
           "carolina vasquetto y elio marinelli sociedad simple"
          ],
          [
           "Chile",
           168000,
           410,
           68880,
           578.3,
           "carolina vasquetto y elio marinelli sociedad simple"
          ],
          [
           "Chile",
           141620,
           560,
           79307.2,
           578.3,
           "auqui s.a."
          ],
          [
           "Chile",
           279190,
           546,
           152437.7,
           578.3,
           "fg importaciones srl"
          ],
          [
           "Chile",
           143300,
           430,
           61619,
           578.3,
           "alfatrans s.a.s. s. a. s."
          ],
          [
           "Chile",
           556680,
           546,
           303947.3,
           578.3,
           "fg importaciones srl"
          ],
          [
           "Chile",
           504000,
           492,
           247968,
           578.3,
           "sociedad agricola e inmobiliaria las piedras limitada"
          ],
          [
           "Chile",
           141640,
           560,
           79318.4,
           578.3,
           "auqui s.a."
          ],
          [
           "Chile",
           284220,
           560,
           159163.2,
           585.7,
           "auqui s.a."
          ],
          [
           "Chile",
           280620,
           546,
           153218.5,
           585.7,
           "fg importaciones srl"
          ],
          [
           "Chile",
           142240,
           430,
           61163.2,
           585.7,
           "alfatrans s.a.s. s. a. s."
          ],
          [
           "Chile",
           522000,
           446,
           232812,
           585.7,
           "alimentos tancacha s.a."
          ],
          [
           "Chile",
           84000,
           410,
           34440,
           585.7,
           "carolina vasquetto y elio marinelli sociedad simple"
          ],
          [
           "Chile",
           284980,
           546,
           155599.1,
           585.7,
           "fg importaciones srl"
          ],
          [
           "Chile",
           504000,
           492,
           247968,
           585.7,
           "sociedad agricola e inmobiliaria las piedras limitada"
          ],
          [
           "Chile",
           142160,
           560,
           79609.6,
           585.7,
           "auqui s.a."
          ],
          [
           "Chile",
           284980,
           546,
           155599.1,
           585.7,
           "fg importaciones srl"
          ],
          [
           "Chile",
           142160,
           560,
           79609.6,
           585.7,
           "auqui s.a."
          ],
          [
           "Chile",
           562900,
           527,
           296648.3,
           585.7,
           "fg importaciones srl"
          ],
          [
           "Chile",
           83000,
           430,
           35690,
           585.7,
           "alfatrans s.a.s. s. a. s."
          ],
          [
           "Chile",
           171000,
           435,
           74385,
           585.7,
           "carolina vasquetto y elio marinelli sociedad simple"
          ],
          [
           "Chile",
           508000,
           490,
           248920,
           585.7,
           "sociedad agricola e inmobiliaria las piedras limitada"
          ],
          [
           "Chile",
           280140,
           513,
           143711.8,
           585.7,
           "fg importaciones srl"
          ],
          [
           "Chile",
           142440,
           560,
           79766.4,
           585.7,
           "auqui s.a."
          ],
          [
           "Chile",
           283120,
           513,
           145240.6,
           585.7,
           "fg importaciones srl"
          ],
          [
           "Chile",
           113700,
           560,
           63672,
           585.7,
           "auqui s.a."
          ],
          [
           "Chile",
           169000,
           443.4,
           74940,
           585.7,
           "carolina vasquetto y elio marinelli sociedad simple"
          ],
          [
           "Chile",
           522000,
           440,
           229680,
           585.7,
           "alimentos tancacha s.a."
          ],
          [
           "Chile",
           142440,
           430,
           61249.2,
           585.7,
           "alfatrans s.a.s. s. a. s."
          ],
          [
           "Chile",
           167760,
           435,
           72975.6,
           585.7,
           "carolina vasquetto y elio marinelli sociedad simple"
          ],
          [
           "Chile",
           58000,
           450,
           26100,
           585.7,
           "alimentos tancacha s.a."
          ],
          [
           "Chile",
           555030,
           513,
           284730.4,
           585.7,
           "fg importaciones srl"
          ],
          [
           "Chile",
           28000,
           440,
           12320,
           585.7,
           "carolina vasquetto y elio marinelli sociedad simple"
          ],
          [
           "Chile",
           29000,
           450,
           13050,
           585.7,
           "alimentos tancacha s.a."
          ],
          [
           "Chile",
           284990,
           507,
           144489.9,
           585.7,
           "fg importaciones srl"
          ],
          [
           "Chile",
           58000,
           430,
           24940,
           585.7,
           "alfatrans s.a.s. s. a. s."
          ],
          [
           "Chile",
           171000,
           435,
           74385,
           585.7,
           "carolina vasquetto y elio marinelli sociedad simple"
          ],
          [
           "Chile",
           508000,
           490,
           248920,
           585.7,
           "sociedad agricola e inmobiliaria las piedras limitada"
          ],
          [
           "Chile",
           284900,
           507,
           144444.3,
           585.7,
           "fg importaciones srl"
          ],
          [
           "Chile",
           110340,
           435,
           47997.9,
           585.7,
           "del sur agroexportadora s.a.s."
          ],
          [
           "Chile",
           144720,
           430,
           62229.6,
           585.7,
           "alfatrans s.a.s. s. a. s."
          ],
          [
           "Chile",
           58000,
           450,
           26100,
           585.7,
           "alimentos tancacha s.a."
          ],
          [
           "Chile",
           338000,
           497,
           167986,
           585.7,
           "sociedad agricola e inmobiliaria las piedras limitada"
          ],
          [
           "Chile",
           142380,
           563,
           80159.9,
           585.7,
           "auqui s.a."
          ],
          [
           "Chile",
           284810,
           507,
           144398.7,
           585.7,
           "fg importaciones srl"
          ],
          [
           "Chile",
           142460,
           563,
           80205,
           585.7,
           "auqui s.a."
          ],
          [
           "Chile",
           284980,
           507,
           144484.9,
           585.7,
           "fg importaciones srl"
          ],
          [
           "Chile",
           111440,
           435,
           48476.4,
           585.7,
           "del sur agroexportadora s.a.s."
          ],
          [
           "Chile",
           112000,
           435,
           48720,
           585.7,
           "carolina vasquetto y elio marinelli sociedad simple"
          ],
          [
           "Chile",
           28500,
           460,
           13110,
           585.7,
           "alimentos tancacha s.a."
          ],
          [
           "Chile",
           142500,
           537,
           76522.5,
           585.7,
           "auqui s.a."
          ],
          [
           "Chile",
           28000,
           448,
           12544,
           585.7,
           "barbale agropecuaria s.r.l."
          ],
          [
           "Chile",
           286320,
           435,
           124549.2,
           585.7,
           "alfatrans s.a.s. s. a. s."
          ],
          [
           "Chile",
           508000,
           490,
           248920,
           585.7,
           "sociedad agricola e inmobiliaria las piedras limitada"
          ],
          [
           "Chile",
           56380,
           460,
           25934.8,
           585.7,
           "alimentos tancacha s.a."
          ],
          [
           "Chile",
           55860,
           435,
           24299.1,
           585.7,
           "del sur agroexportadora s.a.s."
          ],
          [
           "Chile",
           290000,
           432,
           125280,
           597.1,
           "alfatrans s.a.s. s. a. s."
          ],
          [
           "Chile",
           56000,
           497,
           27832,
           597.1,
           "sociedad agricola e inmobiliaria las piedras limitada"
          ],
          [
           "Chile",
           989540,
           402.5,
           398289.8,
           597.1,
           "j.a.l. s.r.l."
          ],
          [
           "Chile",
           522000,
           440,
           229680,
           597.1,
           "alimentos tancacha s.a."
          ],
          [
           "Chile",
           141700,
           537,
           76092.9,
           597.1,
           "auqui s.a."
          ],
          [
           "Chile",
           141540,
           432,
           61145.3,
           597.1,
           "del sur agroexportadora s.a.s."
          ],
          [
           "Chile",
           1025530,
           492,
           504560.8,
           597.1,
           "s & f global serv sociedad responsabilidad limitada"
          ],
          [
           "Chile",
           56740,
           445,
           25249.3,
           597.1,
           "del sur agroexportadora s.a.s."
          ],
          [
           "Chile",
           287110,
           432,
           124031.5,
           597.1,
           "alfatrans s.a.s. s. a. s."
          ],
          [
           "Chile",
           1011750,
           511,
           517004.2,
           597.1,
           "s & f global serv sociedad responsabilidad limitada"
          ],
          [
           "Chile",
           141780,
           432,
           61249,
           597.1,
           "del sur agroexportadora s.a.s."
          ],
          [
           "Chile",
           56000,
           497.1,
           27837.6,
           597.1,
           "sociedad agricola e inmobiliaria las piedras limitada"
          ],
          [
           "Chile",
           27000,
           460,
           12420,
           597.1,
           "alimentos tancacha s.a."
          ],
          [
           "Chile",
           508000,
           484,
           245872,
           597.1,
           "sociedad agricola e inmobiliaria las piedras limitada"
          ],
          [
           "Chile",
           56380,
           445,
           25089.1,
           597.1,
           "del sur agroexportadora s.a.s."
          ],
          [
           "Chile",
           575080,
           447,
           257060.8,
           597.1,
           "alimentos tancacha s.a."
          ],
          [
           "Chile",
           142400,
           432,
           61516.8,
           597.1,
           "del sur agroexportadora s.a.s."
          ],
          [
           "Chile",
           139500,
           440,
           61380,
           597.1,
           "insumos y acopios del sur s.a."
          ],
          [
           "Chile",
           85260,
           445,
           37940.7,
           597.1,
           "del sur agroexportadora s.a.s."
          ],
          [
           "Chile",
           286480,
           453,
           129775.4,
           597.1,
           "alfatrans s.a.s. s. a. s."
          ],
          [
           "Chile",
           283580,
           522,
           148028.8,
           597.1,
           "auqui s.a."
          ],
          [
           "Chile",
           790000,
           488.6,
           386026,
           597.1,
           "sociedad agricola e inmobiliaria las piedras limitada"
          ],
          [
           "Chile",
           142160,
           522,
           74207.5,
           597.1,
           "auqui s.a."
          ],
          [
           "Chile",
           142060,
           432,
           61369.9,
           597.1,
           "del sur agroexportadora s.a.s."
          ],
          [
           "Chile",
           508000,
           490,
           248920,
           597.1,
           "sociedad agricola e inmobiliaria las piedras limitada"
          ],
          [
           "Chile",
           142300,
           549,
           78122.7,
           597.1,
           "auqui s.a."
          ],
          [
           "Chile",
           28500,
           445,
           12682.5,
           597.1,
           "del sur agroexportadora s.a.s."
          ],
          [
           "Chile",
           141840,
           549,
           77870.2,
           646.8,
           "auqui s.a."
          ],
          [
           "Chile",
           141660,
           435,
           61622.1,
           646.8,
           "del sur agroexportadora s.a.s."
          ],
          [
           "Chile",
           140000,
           440,
           61600,
           646.8,
           "insumos y acopios del sur s.a."
          ],
          [
           "Chile",
           994780,
           402.5,
           400399,
           646.8,
           "s & f global serv sociedad responsabilidad limitada"
          ],
          [
           "Chile",
           142120,
           435,
           61822.2,
           646.8,
           "del sur agroexportadora s.a.s."
          ],
          [
           "Chile",
           508000,
           490,
           248920,
           646.8,
           "sociedad agricola e inmobiliaria las piedras limitada"
          ],
          [
           "Chile",
           282200,
           455,
           128401,
           646.8,
           "alfatrans s.a.s. s. a. s."
          ],
          [
           "Chile",
           1168440,
           507,
           592399.1,
           646.8,
           "s & f global serv sociedad responsabilidad limitada"
          ],
          [
           "Chile",
           85500,
           445,
           38047.5,
           646.8,
           "del sur agroexportadora s.a.s."
          ],
          [
           "Chile",
           141940,
           435,
           61743.9,
           646.8,
           "del sur agroexportadora s.a.s."
          ],
          [
           "Chile",
           287160,
           435,
           124914.6,
           646.8,
           "alfatrans s.a.s. s. a. s."
          ],
          [
           "Chile",
           28000,
           448,
           12544,
           646.8,
           "barbale agropecuaria s.r.l."
          ],
          [
           "Chile",
           1025900,
           546,
           560141.4,
           646.8,
           "s & f global serv sociedad responsabilidad limitada"
          ],
          [
           "Chile",
           288800,
           435,
           125628,
           646.8,
           "alfatrans s.a.s. s. a. s."
          ],
          [
           "Chile",
           142320,
           435,
           61909.2,
           646.8,
           "del sur agroexportadora s.a.s."
          ],
          [
           "Chile",
           171000,
           450,
           76950,
           646.8,
           "centro electro s.r.l."
          ],
          [
           "Chile",
           508000,
           488,
           247904,
           646.8,
           "sociedad agricola e inmobiliaria las piedras limitada"
          ],
          [
           "Chile",
           141760,
           435,
           61665.6,
           646.8,
           "del sur agroexportadora s.a.s."
          ],
          [
           "Chile",
           286800,
           435,
           124758,
           646.8,
           "alfatrans s.a.s. s. a. s."
          ],
          [
           "Chile",
           85500,
           445,
           38047.5,
           646.8,
           "del sur agroexportadora s.a.s."
          ],
          [
           "Chile",
           141660,
           435,
           61622.1,
           646.8,
           "del sur agroexportadora s.a.s."
          ],
          [
           "Chile",
           85500,
           553,
           47281.5,
           646.8,
           "auqui s.a."
          ],
          [
           "Chile",
           112000,
           450,
           50400,
           646.8,
           "del sur agroexportadora s.a.s."
          ],
          [
           "Chile",
           56020,
           435,
           24368.7,
           646.8,
           "alfatrans s.a.s. s. a. s."
          ],
          [
           "Chile",
           281420,
           440,
           123824.8,
           646.8,
           "insumos y acopios del sur s.a."
          ],
          [
           "Chile",
           1025930,
           546,
           560157.8,
           646.8,
           "s & f global serv sociedad responsabilidad limitada"
          ],
          [
           "Chile",
           168000,
           410,
           68880,
           646.8,
           "lopez ibarra jorge daniel"
          ],
          [
           "Chile",
           282000,
           492,
           138744,
           646.8,
           "sociedad agricola e inmobiliaria las piedras limitada"
          ],
          [
           "Chile",
           141900,
           549,
           77903.1,
           646.8,
           "auqui s.a."
          ],
          [
           "Chile",
           56000,
           435,
           24360,
           646.8,
           "alfatrans s.a.s. s. a. s."
          ],
          [
           "Chile",
           508000,
           488,
           247904,
           614.7,
           "sociedad agricola e inmobiliaria las piedras limitada"
          ],
          [
           "Chile",
           83600,
           450,
           37620,
           614.7,
           "del sur agroexportadora s.a.s."
          ],
          [
           "Chile",
           84000,
           450,
           37800,
           614.7,
           "del sur agroexportadora s.a.s."
          ],
          [
           "Chile",
           28000,
           476,
           13328,
           614.7,
           "barbale agropecuaria s.r.l."
          ],
          [
           "Chile",
           709620,
           436,
           309394.3,
           614.7,
           "alfatrans s.a.s. s. a. s."
          ],
          [
           "Chile",
           1024080,
           526,
           538666.1,
           614.7,
           "s & f global serv sociedad responsabilidad limitada"
          ],
          [
           "Chile",
           141920,
           422,
           59890.2,
           614.7,
           "del sur agroexportadora s.a.s."
          ],
          [
           "Chile",
           198780,
           450,
           89451,
           614.7,
           "centro electro s.r.l."
          ],
          [
           "Chile",
           113660,
           435,
           49442.1,
           614.7,
           "centro electro s.r.l."
          ],
          [
           "Chile",
           280900,
           422,
           118539.8,
           614.7,
           "del sur agroexportadora s.a.s."
          ],
          [
           "Chile",
           283240,
           557,
           157764.7,
           614.7,
           "auqui s.a."
          ],
          [
           "Chile",
           169000,
           425,
           71825,
           614.7,
           "centro electro s.r.l."
          ],
          [
           "Chile",
           508000,
           482,
           244856,
           614.7,
           "sociedad agricola e inmobiliaria las piedras limitada"
          ],
          [
           "Chile",
           283470,
           557,
           157892.8,
           614.7,
           "auqui s.a."
          ],
          [
           "Chile",
           1266630,
           526,
           666247.4,
           614.7,
           "s & f global serv sociedad responsabilidad limitada"
          ],
          [
           "Chile",
           141960,
           422,
           59907.1,
           614.7,
           "del sur agroexportadora s.a.s."
          ],
          [
           "Chile",
           141640,
           422,
           59772.1,
           600.4,
           "del sur agroexportadora s.a.s."
          ],
          [
           "Chile",
           112420,
           415,
           46654.3,
           600.4,
           "del sur agroexportadora s.a.s."
          ],
          [
           "Chile",
           84000,
           442,
           37128,
           600.4,
           "carolina vasquetto y elio marinelli sociedad simple"
          ],
          [
           "Chile",
           141900,
           422,
           59881.8,
           600.4,
           "del sur agroexportadora s.a.s."
          ],
          [
           "Chile",
           141120,
           418,
           58988.2,
           600.4,
           "alimentos tancacha s.a."
          ],
          [
           "Chile",
           226000,
           492,
           111192,
           600.4,
           "sociedad agricola e inmobiliaria las piedras limitada"
          ],
          [
           "Chile",
           508000,
           482,
           244856,
           600.4,
           "sociedad agricola e inmobiliaria las piedras limitada"
          ],
          [
           "Chile",
           432580,
           436,
           188604.9,
           600.4,
           "alfatrans s.a.s. s. a. s."
          ],
          [
           "Chile",
           313020,
           405,
           126773.1,
           600.4,
           "centro electro s.r.l."
          ],
          [
           "Chile",
           142300,
           422,
           60050.6,
           600.4,
           "del sur agroexportadora s.a.s."
          ],
          [
           "Chile",
           28000,
           495,
           13860,
           600.4,
           "sociedad agricola e inmobiliaria las piedras limitada"
          ],
          [
           "Chile",
           142500,
           418,
           59565,
           600.4,
           "alimentos tancacha s.a."
          ],
          [
           "Chile",
           85160,
           430,
           36618.8,
           600.4,
           "badaloni y asociados s.r.l"
          ],
          [
           "Chile",
           653720,
           481,
           314439.3,
           600.4,
           "s & f global serv sociedad responsabilidad limitada"
          ],
          [
           "Chile",
           142180,
           400,
           56872,
           600.4,
           "del sur agroexportadora s.a.s."
          ],
          [
           "Chile",
           600000,
           413,
           247800,
           600.4,
           "alimentos tancacha s.a."
          ],
          [
           "Chile",
           141960,
           400,
           56784,
           600.4,
           "del sur agroexportadora s.a.s."
          ],
          [
           "Chile",
           57060,
           405,
           23109.3,
           600.4,
           "centro electro s.r.l."
          ],
          [
           "Chile",
           141900,
           400,
           56760,
           600.4,
           "del sur agroexportadora s.a.s."
          ],
          [
           "Chile",
           591720,
           436,
           257989.9,
           600.4,
           "alfatrans s.a.s. s. a. s."
          ],
          [
           "Chile",
           171000,
           418,
           71478,
           600.4,
           "alimentos tancacha s.a."
          ],
          [
           "Chile",
           144520,
           405,
           58530.6,
           600.4,
           "centro electro s.r.l."
          ],
          [
           "Chile",
           142500,
           400,
           57000,
           600.4,
           "del sur agroexportadora s.a.s."
          ],
          [
           "Chile",
           140920,
           400,
           56368,
           600.4,
           "del sur agroexportadora s.a.s."
          ],
          [
           "Chile",
           1013520,
           481,
           487503.1,
           585.8,
           "s & f global serv sociedad responsabilidad limitada"
          ],
          [
           "Chile",
           365340,
           429.3,
           156825,
           585.8,
           "centro electro s.r.l."
          ],
          [
           "Chile",
           142500,
           538,
           76665,
           585.8,
           "coingra sa"
          ],
          [
           "Chile",
           142260,
           539,
           76678.1,
           585.8,
           "coingra sa"
          ],
          [
           "Chile",
           28500,
           425,
           12112.5,
           585.8,
           "carolina vasquetto y elio marinelli sociedad simple"
          ],
          [
           "Chile",
           338000,
           485,
           163930,
           585.8,
           "sociedad agricola e inmobiliaria las piedras limitada"
          ],
          [
           "Chile",
           370470,
           481,
           178196.1,
           585.8,
           "s & f global serv sociedad responsabilidad limitada"
          ],
          [
           "Chile",
           142700,
           415,
           59220.5,
           585.8,
           "centro electro s.r.l."
          ],
          [
           "Chile",
           142000,
           400,
           56800,
           585.8,
           "carolina vasquetto y elio marinelli sociedad simple"
          ],
          [
           "Chile",
           141140,
           400,
           56456,
           585.8,
           "del sur agroexportadora s.a.s."
          ],
          [
           "Chile",
           142600,
           405,
           57753,
           585.8,
           "centro electro s.r.l."
          ],
          [
           "Chile",
           142240,
           538,
           76525.1,
           585.8,
           "coingra sa"
          ],
          [
           "Chile",
           28000,
           730,
           20440,
           585.8,
           "ronalb s r l"
          ],
          [
           "Chile",
           9500,
           400,
           3800,
           585.8,
           "carolina vasquetto y elio marinelli sociedad simple"
          ],
          [
           "Chile",
           142080,
           538,
           76439,
           585.8,
           "coingra sa"
          ],
          [
           "Chile",
           575380,
           436,
           250865.7,
           557.6,
           "alfatrans s.a.s. s. a. s."
          ],
          [
           "Chile",
           28000,
           730,
           20440,
           557.6,
           "ronalb s r l"
          ],
          [
           "Chile",
           285000,
           462,
           131670,
           557.6,
           "alimentos tancacha s.a."
          ],
          [
           "Chile",
           113580,
           434,
           49293.7,
           557.6,
           "carolina vasquetto y elio marinelli sociedad simple"
          ],
          [
           "Chile",
           142240,
           415,
           59029.6,
           557.6,
           "carolina vasquetto y elio marinelli sociedad simple"
          ],
          [
           "Chile",
           28000,
           504,
           14112,
           557.6,
           "barbale agropecuaria s.r.l."
          ],
          [
           "Chile",
           285000,
           462,
           131670,
           557.6,
           "alimentos tancacha s.a."
          ],
          [
           "Chile",
           435980,
           436,
           190087.3,
           557.6,
           "alfatrans s.a.s. s. a. s."
          ],
          [
           "Chile",
           142060,
           541,
           76854.5,
           557.6,
           "coingra sa"
          ],
          [
           "Chile",
           285000,
           462,
           131670,
           557.6,
           "alimentos tancacha s.a."
          ],
          [
           "Chile",
           28080,
           410,
           11512.8,
           557.6,
           "ramone sas"
          ],
          [
           "Chile",
           138840,
           410,
           56924.4,
           557.6,
           "ramone sas"
          ],
          [
           "Chile",
           254000,
           485,
           123190,
           557.6,
           "sociedad agricola e inmobiliaria las piedras limitada"
          ],
          [
           "Chile",
           56140,
           430,
           24140.2,
           557.6,
           "carolina vasquetto y elio marinelli sociedad simple"
          ],
          [
           "Chile",
           561870,
           480,
           269697.6,
           557.6,
           "argen-time sas"
          ],
          [
           "Chile",
           283540,
           541,
           153395.1,
           557.6,
           "coingra sa"
          ],
          [
           "Chile",
           142320,
           415,
           59062.8,
           557.6,
           "carolina vasquetto y elio marinelli sociedad simple"
          ],
          [
           "Chile",
           283080,
           465,
           131632.2,
           557.6,
           "alimentos tancacha s.a."
          ],
          [
           "Chile",
           112440,
           436,
           49023.8,
           557.6,
           "alfatrans s.a.s. s. a. s."
          ],
          [
           "Chile",
           170400,
           410,
           69864,
           557.6,
           "ramone sas"
          ],
          [
           "Chile",
           172580,
           410,
           70757.8,
           557.6,
           "ramone sas"
          ],
          [
           "Chile",
           172600,
           410,
           70766,
           557.6,
           "ramone sas"
          ],
          [
           "Chile",
           142660,
           410,
           58490.6,
           557.6,
           "ramone sas"
          ],
          [
           "Chile",
           285000,
           476,
           135660,
           557.6,
           "alimentos tancacha s.a."
          ],
          [
           "Chile",
           142360,
           415,
           59079.4,
           557.6,
           "carolina vasquetto y elio marinelli sociedad simple"
          ],
          [
           "Chile",
           338000,
           466,
           157508,
           557.6,
           "sociedad agricola e inmobiliaria las piedras limitada"
          ],
          [
           "Chile",
           315250,
           414.6,
           130691.2,
           557.6,
           "ramone sas"
          ],
          [
           "Chile",
           142680,
           410,
           58498.8,
           552,
           "ramone sas"
          ],
          [
           "Chile",
           574800,
           440,
           252912,
           552,
           "alfatrans s.a.s. s. a. s."
          ],
          [
           "Chile",
           141460,
           558,
           78934.7,
           552,
           "coingra sa"
          ],
          [
           "Chile",
           508000,
           467,
           237236,
           552,
           "sociedad agricola e inmobiliaria las piedras limitada"
          ],
          [
           "Chile",
           283840,
           558,
           158382.7,
           552,
           "coingra sa"
          ],
          [
           "Chile",
           56500,
           415,
           23447.5,
           552,
           "carolina vasquetto y elio marinelli sociedad simple"
          ],
          [
           "Chile",
           338000,
           481,
           162578,
           552,
           "sociedad agricola e inmobiliaria las piedras limitada"
          ],
          [
           "Chile",
           310900,
           414.5,
           128873.4,
           552,
           "ramone sas"
          ],
          [
           "Chile",
           287400,
           440,
           126456,
           552,
           "alfatrans s.a.s. s. a. s."
          ],
          [
           "Chile",
           142200,
           440,
           62568,
           552,
           "alfatrans s.a.s. s. a. s."
          ],
          [
           "Chile",
           56580,
           430,
           24329.4,
           552,
           "carolina vasquetto y elio marinelli sociedad simple"
          ],
          [
           "Chile",
           28000,
           499,
           13972,
           552,
           "barbale agropecuaria s.r.l."
          ],
          [
           "Chile",
           508000,
           467,
           237236,
           552,
           "sociedad agricola e inmobiliaria las piedras limitada"
          ],
          [
           "Chile",
           254000,
           499.9,
           126974.6,
           552,
           "sociedad agricola e inmobiliaria las piedras limitada"
          ],
          [
           "Chile",
           85500,
           434,
           37107,
           552,
           "carolina vasquetto y elio marinelli sociedad simple"
          ],
          [
           "Chile",
           85360,
           434,
           37046.2,
           552,
           "carolina vasquetto y elio marinelli sociedad simple"
          ],
          [
           "Chile",
           168420,
           410,
           69052.2,
           552,
           "sialfa argentina s.r.l."
          ],
          [
           "Chile",
           173620,
           410,
           71184.2,
           552,
           "sialfa argentina s.r.l."
          ],
          [
           "Chile",
           56500,
           435,
           24577.5,
           552,
           "carolina vasquetto y elio marinelli sociedad simple"
          ],
          [
           "Chile",
           285000,
           475,
           135375,
           552,
           "alimentos tancacha s.a."
          ],
          [
           "Chile",
           139780,
           434,
           60664.5,
           552,
           "carolina vasquetto y elio marinelli sociedad simple"
          ],
          [
           "Chile",
           254000,
           499.9,
           126974.6,
           552,
           "sociedad agricola e inmobiliaria las piedras limitada"
          ],
          [
           "Chile",
           85500,
           482,
           41211,
           552,
           "alimentos tancacha s.a."
          ],
          [
           "Chile",
           762000,
           478.3,
           364490,
           552,
           "sociedad agricola e inmobiliaria las piedras limitada"
          ],
          [
           "Chile",
           173580,
           410,
           71167.8,
           552,
           "sialfa argentina s.r.l."
          ],
          [
           "Chile",
           371020,
           440,
           163248.8,
           552,
           "alfatrans s.a.s. s. a. s."
          ],
          [
           "Chile",
           84940,
           434,
           36864,
           551,
           "carolina vasquetto y elio marinelli sociedad simple"
          ],
          [
           "Chile",
           308380,
           414.5,
           127833.2,
           551,
           "sialfa argentina s.r.l."
          ],
          [
           "Chile",
           85500,
           482,
           41211,
           551,
           "alimentos tancacha s.a."
          ],
          [
           "Chile",
           508000,
           477,
           242316,
           551,
           "sociedad agricola e inmobiliaria las piedras limitada"
          ],
          [
           "Chile",
           142260,
           547,
           77816.2,
           551,
           "coingra sa"
          ],
          [
           "Chile",
           559760,
           504.5,
           282397.4,
           551,
           "bunbury s.a."
          ],
          [
           "Chile",
           56400,
           509.4,
           28730.2,
           551,
           "sociedad agricola e inmobiliaria las piedras limitada"
          ],
          [
           "Chile",
           536000,
           483.5,
           259136,
           551,
           "sociedad agricola e inmobiliaria las piedras limitada"
          ],
          [
           "Chile",
           142500,
           440,
           62700,
           551,
           "cagnoni walter ernesto"
          ],
          [
           "Chile",
           338000,
           509,
           172042,
           551,
           "sociedad agricola e inmobiliaria las piedras limitada"
          ],
          [
           "Chile",
           28000,
           499,
           13972,
           551,
           "barbale agropecuaria s.r.l."
          ],
          [
           "Chile",
           508000,
           482,
           244856,
           554.1,
           "sociedad agricola e inmobiliaria las piedras limitada"
          ],
          [
           "Chile",
           141720,
           410,
           58105.2,
           554.1,
           "sialfa argentina s.r.l."
          ],
          [
           "Chile",
           85500,
           482,
           41211,
           554.1,
           "alimentos tancacha s.a."
          ],
          [
           "Chile",
           282500,
           410,
           115825,
           554.1,
           "cagnoni walter ernesto"
          ],
          [
           "Chile",
           85500,
           482,
           41211,
           554.1,
           "alimentos tancacha s.a."
          ],
          [
           "Chile",
           929500,
           492.4,
           457712.8,
           554.1,
           "sociedad agricola e inmobiliaria las piedras limitada"
          ],
          [
           "Chile",
           282400,
           465,
           131316,
           554.1,
           "insumos y acopios del sur s.a."
          ],
          [
           "Chile",
           281620,
           410,
           115464.2,
           554.1,
           "cagnoni walter ernesto"
          ],
          [
           "Chile",
           574500,
           413,
           237268.5,
           554.1,
           "cagnoni walter ernesto"
          ],
          [
           "Chile",
           508000,
           484,
           245872,
           554.1,
           "sociedad agricola e inmobiliaria las piedras limitada"
          ],
          [
           "Chile",
           85500,
           482,
           41211,
           554.1,
           "alimentos tancacha s.a."
          ],
          [
           "Chile",
           142880,
           426.2,
           60900,
           554.1,
           "agrofertil s.r.l."
          ],
          [
           "Chile",
           285000,
           465,
           132525,
           554.1,
           "insumos y acopios del sur s.a."
          ],
          [
           "Chile",
           85500,
           482,
           41211,
           554.1,
           "alimentos tancacha s.a."
          ],
          [
           "Chile",
           256500,
           470,
           120555,
           554.1,
           "carolina vasquetto y elio marinelli sociedad simple"
          ],
          [
           "Chile",
           284150,
           428.6,
           121800,
           554.1,
           "agrofertil s.r.l."
          ],
          [
           "Chile",
           57000,
           470,
           26790,
           554.1,
           "carolina vasquetto y elio marinelli sociedad simple"
          ],
          [
           "Chile",
           141740,
           547,
           77531.8,
           606.2,
           "coingra sa"
          ],
          [
           "Chile",
           508000,
           487,
           247396,
           606.2,
           "sociedad agricola e inmobiliaria las piedras limitada"
          ],
          [
           "Chile",
           569280,
           413,
           235112.6,
           606.2,
           "cagnoni walter ernesto"
          ],
          [
           "Chile",
           256500,
           470,
           120555,
           606.2,
           "carolina vasquetto y elio marinelli sociedad simple"
          ],
          [
           "Chile",
           144160,
           422.4,
           60900,
           606.2,
           "agrofertil s.r.l."
          ],
          [
           "Chile",
           254000,
           519.4,
           131927.6,
           606.2,
           "sociedad agricola e inmobiliaria las piedras limitada"
          ],
          [
           "Chile",
           282070,
           500,
           141035,
           606.2,
           "costantini y asociados s.a."
          ],
          [
           "Chile",
           140740,
           432.7,
           60900,
           606.2,
           "agrofertil s.r.l."
          ],
          [
           "Chile",
           147000,
           423,
           62181,
           606.2,
           "cagnoni walter ernesto"
          ],
          [
           "Chile",
           85160,
           443.9,
           37800,
           606.2,
           "agrofertil s.r.l."
          ],
          [
           "Chile",
           143260,
           423,
           60599,
           606.2,
           "cagnoni walter ernesto"
          ],
          [
           "Chile",
           286340,
           423,
           121121.8,
           606.2,
           "cagnoni walter ernesto"
          ],
          [
           "Chile",
           143500,
           424.4,
           60900,
           606.2,
           "agrofertil s.r.l."
          ],
          [
           "Chile",
           287480,
           423,
           121604,
           606.2,
           "cagnoni walter ernesto"
          ],
          [
           "Chile",
           284980,
           500,
           142490,
           661.6,
           "costantini y asociados s.a."
          ],
          [
           "Chile",
           284560,
           424,
           120648,
           661.6,
           "cagnoni walter ernesto"
          ],
          [
           "Chile",
           252000,
           490,
           123480,
           661.6,
           "carolina vasquetto y elio marinelli sociedad simple"
          ],
          [
           "Chile",
           141660,
           430,
           60913.8,
           661.6,
           "jm y cia s.a.s."
          ],
          [
           "Chile",
           145000,
           440,
           63800,
           661.6,
           "jm y cia s.a.s."
          ],
          [
           "Chile",
           140480,
           425,
           59704,
           661.6,
           "cagnoni walter ernesto"
          ],
          [
           "Chile",
           142820,
           425,
           60698.5,
           661.6,
           "cagnoni walter ernesto"
          ],
          [
           "Chile",
           508000,
           487,
           247396,
           661.6,
           "sociedad agricola e inmobiliaria las piedras limitada"
          ],
          [
           "Chile",
           143240,
           460.8,
           66000,
           661.6,
           "agrofertil s.r.l."
          ],
          [
           "Chile",
           28000,
           519,
           14532,
           661.6,
           "barbale agropecuaria s.r.l."
          ],
          [
           "Chile",
           224000,
           490,
           109760,
           661.6,
           "carolina vasquetto y elio marinelli sociedad simple"
          ],
          [
           "Chile",
           567600,
           520,
           295152,
           661.6,
           "costantini y asociados s.a."
          ],
          [
           "Chile",
           145000,
           430,
           62350,
           661.6,
           "jm y cia s.a.s."
          ],
          [
           "Chile",
           338000,
           531.2,
           179555.6,
           661.6,
           "sociedad agricola e inmobiliaria las piedras limitada"
          ],
          [
           "Chile",
           111420,
           450.2,
           50160,
           661.6,
           "agrofertil s.r.l."
          ],
          [
           "Chile",
           282000,
           528,
           148896,
           661.6,
           "sociedad agricola e inmobiliaria las piedras limitada"
          ],
          [
           "Chile",
           140940,
           444.9,
           62700,
           661.6,
           "agrofertil s.r.l."
          ],
          [
           "Chile",
           564260,
           559,
           315421.3,
           661.6,
           "costantini y asociados s.a."
          ],
          [
           "Chile",
           508000,
           507,
           257556,
           661.6,
           "sociedad agricola e inmobiliaria las piedras limitada"
          ],
          [
           "Chile",
           140000,
           596.3,
           83482,
           720.6,
           "sociedad agricola e inmobiliaria las piedras limitada"
          ],
          [
           "Chile",
           174840,
           478.7,
           83700,
           720.6,
           "agrofertil s.r.l."
          ],
          [
           "Chile",
           1326000,
           570.1,
           756008,
           720.6,
           "sociedad agricola e inmobiliaria las piedras limitada"
          ],
          [
           "Chile",
           278020,
           456.3,
           126850,
           720.6,
           "jm y cia s.a.s."
          ],
          [
           "Chile",
           142000,
           450,
           63900,
           720.6,
           "jm y cia s.a.s."
          ],
          [
           "Chile",
           285000,
           645,
           183825,
           720.6,
           "insumos y acopios del sur s.a."
          ],
          [
           "Chile",
           167320,
           465.3,
           77850,
           720.6,
           "jm y cia s.a.s."
          ],
          [
           "Chile",
           35300,
           450,
           15885,
           720.6,
           "jm y cia s.a.s."
          ],
          [
           "Chile",
           30,
           530,
           15.9,
           720.6,
           "anta expo s.a"
          ],
          [
           "Chile",
           281480,
           645,
           181554.6,
           720.6,
           "insumos y acopios del sur s.a."
          ],
          [
           "Chile",
           338000,
           655,
           221390,
           720.6,
           "sociedad agricola e inmobiliaria las piedras limitada"
          ],
          [
           "Chile",
           1018340,
           650,
           661921,
           720.6,
           "costantini y asociados s.a."
          ],
          [
           "Chile",
           284920,
           635,
           180924.2,
           720.8,
           "insumos y acopios del sur s.a."
          ],
          [
           "Chile",
           112000,
           530,
           59360,
           720.8,
           "carolina vasquetto y elio marinelli sociedad simple"
          ],
          [
           "Chile",
           508000,
           628,
           319024,
           720.8,
           "sociedad agricola e inmobiliaria las piedras limitada"
          ],
          [
           "Chile",
           881920,
           620,
           546790.4,
           720.8,
           "costantini y asociados s.a."
          ],
          [
           "Chile",
           140000,
           530,
           74200,
           720.8,
           "carolina vasquetto y elio marinelli sociedad simple"
          ],
          [
           "Chile",
           283220,
           605,
           171348.1,
           720.8,
           "insumos y acopios del sur s.a."
          ],
          [
           "Chile",
           169080,
           462.5,
           78200,
           720.8,
           "jm y cia s.a.s."
          ],
          [
           "Chile",
           114000,
           623,
           71022,
           720.8,
           "alimentos tancacha s.a."
          ],
          [
           "Chile",
           28000,
           700,
           19600,
           720.8,
           "barbale agropecuaria s.r.l."
          ],
          [
           "Chile",
           85500,
           623,
           53266.5,
           720.8,
           "alimentos tancacha s.a."
          ],
          [
           "Chile",
           114000,
           623,
           71022,
           720.8,
           "alimentos tancacha s.a."
          ],
          [
           "Chile",
           508000,
           597,
           303276,
           720.8,
           "sociedad agricola e inmobiliaria las piedras limitada"
          ],
          [
           "Chile",
           140000,
           530,
           74200,
           720.8,
           "carolina vasquetto y elio marinelli sociedad simple"
          ],
          [
           "Chile",
           143980,
           453.2,
           65250,
           720.8,
           "jm y cia s.a.s."
          ],
          [
           "Chile",
           174000,
           470,
           81780,
           720.8,
           "jm y cia s.a.s."
          ],
          [
           "Chile",
           140000,
           530,
           74200,
           720.8,
           "carolina vasquetto y elio marinelli sociedad simple"
          ],
          [
           "Chile",
           508000,
           597,
           303276,
           720.8,
           "sociedad agricola e inmobiliaria las piedras limitada"
          ],
          [
           "Chile",
           417130,
           635,
           264877.6,
           720.8,
           "insumos y acopios del sur s.a."
          ],
          [
           "Chile",
           174000,
           460,
           80040,
           720.8,
           "jm y cia s.a.s."
          ],
          [
           "Chile",
           142220,
           602,
           85616.4,
           724.1,
           "costantini y asociados s.a."
          ],
          [
           "Chile",
           564000,
           636.5,
           358986,
           724.1,
           "sociedad agricola e inmobiliaria las piedras limitada"
          ],
          [
           "Chile",
           84000,
           530,
           44520,
           724.1,
           "carolina vasquetto y elio marinelli sociedad simple"
          ],
          [
           "Chile",
           508000,
           627,
           318516,
           724.1,
           "sociedad agricola e inmobiliaria las piedras limitada"
          ],
          [
           "Chile",
           427500,
           615,
           262912.5,
           724.1,
           "insumos y acopios del sur s.a."
          ],
          [
           "Chile",
           114440,
           476.4,
           54520,
           724.1,
           "jm y cia s.a.s."
          ],
          [
           "Chile",
           169000,
           650,
           109850,
           724.1,
           "sociedad agricola e inmobiliaria las piedras limitada"
          ],
          [
           "Chile",
           508000,
           627,
           318516,
           724.1,
           "sociedad agricola e inmobiliaria las piedras limitada"
          ],
          [
           "Chile",
           140000,
           510,
           71400,
           724.1,
           "carolina vasquetto y elio marinelli sociedad simple"
          ],
          [
           "Chile",
           28400,
           450,
           12780,
           724.1,
           "jm y cia s.a.s."
          ],
          [
           "Chile",
           280900,
           565,
           158708.5,
           724.1,
           "insumos y acopios del sur s.a."
          ],
          [
           "Chile",
           168000,
           510,
           85680,
           724.1,
           "carolina vasquetto y elio marinelli sociedad simple"
          ],
          [
           "Chile",
           28000,
           850,
           23800,
           724.1,
           "ronalb s r l"
          ],
          [
           "Chile",
           140000,
           650,
           91000,
           724.1,
           "sociedad agricola e inmobiliaria las piedras limitada"
          ],
          [
           "Chile",
           168000,
           517,
           86856,
           724.1,
           "carolina vasquetto y elio marinelli sociedad simple"
          ],
          [
           "Chile",
           508000,
           599,
           304292,
           724.1,
           "sociedad agricola e inmobiliaria las piedras limitada"
          ],
          [
           "Chile",
           1022380,
           540,
           552085.2,
           724.1,
           "costantini y asociados s.a."
          ],
          [
           "Chile",
           140000,
           517,
           72380,
           737.1,
           "carolina vasquetto y elio marinelli sociedad simple"
          ],
          [
           "Chile",
           508000,
           599,
           304292,
           737.1,
           "sociedad agricola e inmobiliaria las piedras limitada"
          ],
          [
           "Chile",
           28000,
           850,
           23800,
           737.1,
           "ronalb s r l"
          ],
          [
           "Chile",
           28000,
           740,
           20720,
           737.1,
           "barbale agropecuaria s.r.l."
          ],
          [
           "Chile",
           280000,
           520,
           145600,
           737.1,
           "carolina vasquetto y elio marinelli sociedad simple"
          ],
          [
           "Chile",
           196000,
           530,
           103880,
           737.1,
           "carolina vasquetto y elio marinelli sociedad simple"
          ],
          [
           "Chile",
           199120,
           590,
           117480.8,
           737.1,
           "insumos y acopios del sur s.a."
          ],
          [
           "Chile",
           508000,
           597,
           303276,
           737.1,
           "sociedad agricola e inmobiliaria las piedras limitada"
          ],
          [
           "Chile",
           167880,
           495,
           83100.6,
           678.2,
           "del plata trading company"
          ],
          [
           "Chile",
           198380,
           590,
           117044.2,
           678.2,
           "insumos y acopios del sur s.a."
          ],
          [
           "Chile",
           280000,
           530,
           148400,
           678.2,
           "carolina vasquetto y elio marinelli sociedad simple"
          ],
          [
           "Chile",
           512440,
           550,
           281842,
           678.2,
           "costantini y asociados s.a."
          ],
          [
           "Chile",
           195760,
           590,
           115498.4,
           678.2,
           "insumos y acopios del sur s.a."
          ],
          [
           "Chile",
           198460,
           560,
           111137.6,
           678.2,
           "insumos y acopios del sur s.a."
          ],
          [
           "Chile",
           56000,
           530,
           29680,
           678.2,
           "carolina vasquetto y elio marinelli sociedad simple"
          ],
          [
           "Chile",
           57000,
           560,
           31920,
           678.2,
           "alimentos tancacha s.a."
          ],
          [
           "Chile",
           140000,
           510,
           71400,
           678.2,
           "carolina vasquetto y elio marinelli sociedad simple"
          ],
          [
           "Chile",
           169000,
           632,
           106808,
           678.2,
           "sociedad agricola e inmobiliaria las piedras limitada"
          ],
          [
           "Chile",
           199660,
           560,
           111809.6,
           678.2,
           "insumos y acopios del sur s.a."
          ],
          [
           "Chile",
           252000,
           562,
           141624,
           678.2,
           "sociedad agricola e inmobiliaria las piedras limitada"
          ]
         ],
         "hovertemplate": "Destino=%{customdata[0]}<br>Fecha=%{x}<br>Spread=%{y}<br>Kg=%{customdata[1]}<br>Precio=%{customdata[2]}<br>Fob=%{customdata[3]}<br>Precio de referencia=%{customdata[4]}<br>Exportador=%{customdata[5]}<extra></extra>",
         "legendgroup": "Chile",
         "marker": {
          "color": "#636efa",
          "line": {
           "color": "DarkSlateGrey",
           "width": 2
          },
          "size": 12,
          "symbol": "circle"
         },
         "mode": "markers",
         "name": "Chile",
         "showlegend": true,
         "type": "scattergl",
         "x": [
          "01-2021",
          "01-2021",
          "01-2021",
          "01-2021",
          "01-2021",
          "01-2021",
          "01-2021",
          "01-2021",
          "01-2021",
          "01-2021",
          "01-2021",
          "01-2021",
          "01-2021",
          "01-2021",
          "01-2021",
          "01-2021",
          "01-2021",
          "01-2021",
          "01-2021",
          "01-2021",
          "01-2021",
          "01-2021",
          "01-2021",
          "01-2021",
          "01-2021",
          "01-2021",
          "01-2021",
          "01-2021",
          "01-2021",
          "01-2021",
          "02-2021",
          "02-2021",
          "02-2021",
          "02-2021",
          "02-2021",
          "02-2021",
          "02-2021",
          "02-2021",
          "02-2021",
          "02-2021",
          "02-2021",
          "02-2021",
          "02-2021",
          "02-2021",
          "02-2021",
          "02-2021",
          "02-2021",
          "02-2021",
          "02-2021",
          "02-2021",
          "02-2021",
          "02-2021",
          "02-2021",
          "02-2021",
          "02-2021",
          "02-2021",
          "02-2021",
          "03-2021",
          "03-2021",
          "03-2021",
          "03-2021",
          "03-2021",
          "03-2021",
          "03-2021",
          "03-2021",
          "03-2021",
          "03-2021",
          "03-2021",
          "03-2021",
          "03-2021",
          "03-2021",
          "03-2021",
          "03-2021",
          "03-2021",
          "03-2021",
          "03-2021",
          "03-2021",
          "03-2021",
          "03-2021",
          "03-2021",
          "03-2021",
          "03-2021",
          "03-2021",
          "03-2021",
          "03-2021",
          "03-2021",
          "03-2021",
          "03-2021",
          "03-2021",
          "03-2021",
          "03-2021",
          "03-2021",
          "03-2021",
          "03-2021",
          "03-2021",
          "03-2021",
          "03-2021",
          "03-2021",
          "03-2021",
          "03-2021",
          "03-2021",
          "03-2021",
          "03-2021",
          "03-2021",
          "03-2021",
          "04-2021",
          "04-2021",
          "04-2021",
          "04-2021",
          "04-2021",
          "04-2021",
          "04-2021",
          "04-2021",
          "04-2021",
          "04-2021",
          "04-2021",
          "04-2021",
          "04-2021",
          "04-2021",
          "04-2021",
          "04-2021",
          "04-2021",
          "04-2021",
          "04-2021",
          "04-2021",
          "04-2021",
          "04-2021",
          "04-2021",
          "04-2021",
          "04-2021",
          "04-2021",
          "04-2021",
          "05-2021",
          "05-2021",
          "05-2021",
          "05-2021",
          "05-2021",
          "05-2021",
          "05-2021",
          "05-2021",
          "05-2021",
          "05-2021",
          "05-2021",
          "05-2021",
          "05-2021",
          "05-2021",
          "05-2021",
          "05-2021",
          "05-2021",
          "05-2021",
          "05-2021",
          "05-2021",
          "05-2021",
          "05-2021",
          "05-2021",
          "05-2021",
          "05-2021",
          "05-2021",
          "05-2021",
          "05-2021",
          "05-2021",
          "05-2021",
          "06-2021",
          "06-2021",
          "06-2021",
          "06-2021",
          "06-2021",
          "06-2021",
          "06-2021",
          "06-2021",
          "06-2021",
          "06-2021",
          "06-2021",
          "06-2021",
          "06-2021",
          "06-2021",
          "06-2021",
          "06-2021",
          "07-2021",
          "07-2021",
          "07-2021",
          "07-2021",
          "07-2021",
          "07-2021",
          "07-2021",
          "07-2021",
          "07-2021",
          "07-2021",
          "07-2021",
          "07-2021",
          "07-2021",
          "07-2021",
          "07-2021",
          "07-2021",
          "07-2021",
          "07-2021",
          "07-2021",
          "07-2021",
          "07-2021",
          "07-2021",
          "07-2021",
          "07-2021",
          "08-2021",
          "08-2021",
          "08-2021",
          "08-2021",
          "08-2021",
          "08-2021",
          "08-2021",
          "08-2021",
          "08-2021",
          "08-2021",
          "08-2021",
          "08-2021",
          "08-2021",
          "08-2021",
          "08-2021",
          "09-2021",
          "09-2021",
          "09-2021",
          "09-2021",
          "09-2021",
          "09-2021",
          "09-2021",
          "09-2021",
          "09-2021",
          "09-2021",
          "09-2021",
          "09-2021",
          "09-2021",
          "09-2021",
          "09-2021",
          "09-2021",
          "09-2021",
          "09-2021",
          "09-2021",
          "09-2021",
          "09-2021",
          "09-2021",
          "09-2021",
          "09-2021",
          "09-2021",
          "09-2021",
          "09-2021",
          "10-2021",
          "10-2021",
          "10-2021",
          "10-2021",
          "10-2021",
          "10-2021",
          "10-2021",
          "10-2021",
          "10-2021",
          "10-2021",
          "10-2021",
          "10-2021",
          "10-2021",
          "10-2021",
          "10-2021",
          "10-2021",
          "10-2021",
          "10-2021",
          "10-2021",
          "10-2021",
          "10-2021",
          "10-2021",
          "10-2021",
          "10-2021",
          "10-2021",
          "10-2021",
          "11-2021",
          "11-2021",
          "11-2021",
          "11-2021",
          "11-2021",
          "11-2021",
          "11-2021",
          "11-2021",
          "11-2021",
          "11-2021",
          "11-2021",
          "12-2021",
          "12-2021",
          "12-2021",
          "12-2021",
          "12-2021",
          "12-2021",
          "12-2021",
          "12-2021",
          "12-2021",
          "12-2021",
          "12-2021",
          "12-2021",
          "12-2021",
          "12-2021",
          "12-2021",
          "12-2021",
          "12-2021",
          "01-2022",
          "01-2022",
          "01-2022",
          "01-2022",
          "01-2022",
          "01-2022",
          "01-2022",
          "01-2022",
          "01-2022",
          "01-2022",
          "01-2022",
          "01-2022",
          "01-2022",
          "01-2022",
          "02-2022",
          "02-2022",
          "02-2022",
          "02-2022",
          "02-2022",
          "02-2022",
          "02-2022",
          "02-2022",
          "02-2022",
          "02-2022",
          "02-2022",
          "02-2022",
          "02-2022",
          "02-2022",
          "02-2022",
          "02-2022",
          "02-2022",
          "02-2022",
          "02-2022",
          "03-2022",
          "03-2022",
          "03-2022",
          "03-2022",
          "03-2022",
          "03-2022",
          "03-2022",
          "03-2022",
          "03-2022",
          "03-2022",
          "03-2022",
          "03-2022",
          "04-2022",
          "04-2022",
          "04-2022",
          "04-2022",
          "04-2022",
          "04-2022",
          "04-2022",
          "04-2022",
          "04-2022",
          "04-2022",
          "04-2022",
          "04-2022",
          "04-2022",
          "04-2022",
          "04-2022",
          "04-2022",
          "04-2022",
          "04-2022",
          "04-2022",
          "05-2022",
          "05-2022",
          "05-2022",
          "05-2022",
          "05-2022",
          "05-2022",
          "05-2022",
          "05-2022",
          "05-2022",
          "05-2022",
          "05-2022",
          "05-2022",
          "05-2022",
          "05-2022",
          "05-2022",
          "05-2022",
          "05-2022",
          "06-2022",
          "06-2022",
          "06-2022",
          "06-2022",
          "06-2022",
          "06-2022",
          "06-2022",
          "06-2022",
          "07-2022",
          "07-2022",
          "07-2022",
          "07-2022",
          "07-2022",
          "07-2022",
          "07-2022",
          "07-2022",
          "07-2022",
          "07-2022",
          "07-2022",
          "07-2022"
         ],
         "xaxis": "x",
         "y": [
          -83.4,
          -91.4,
          -166.4,
          -83.4,
          -91.4,
          -176.4,
          -44.4,
          -83.4,
          -131.4,
          -166.4,
          -44.4,
          -176.4,
          -181.4,
          -216.4,
          -44.4,
          -83.4,
          -17.4,
          -166.4,
          -98.4,
          -216.4,
          -17.4,
          -27.4,
          -83.4,
          -17.4,
          -111.1,
          -83.4,
          -61,
          -75.4,
          -216.4,
          -176.4,
          -14.3,
          -148.3,
          -29.3,
          -178.3,
          -168.3,
          -77.3,
          -14.3,
          -18.3,
          -14.3,
          -178.3,
          151.7,
          -155.6,
          -118.3,
          151.7,
          -62.9,
          -218.3,
          -148.3,
          -148.3,
          -100.3,
          -140.9,
          -168.3,
          -18.3,
          -32.3,
          -148.3,
          -32.3,
          -86.3,
          -18.3,
          -25.7,
          -39.7,
          -155.7,
          -139.7,
          -175.7,
          -39.7,
          -93.7,
          -25.7,
          -39.7,
          -25.7,
          -58.7,
          -155.7,
          -150.7,
          -95.7,
          -72.7,
          -25.7,
          -72.7,
          -25.7,
          -142.3,
          -145.7,
          -155.7,
          -150.7,
          -135.7,
          -72.7,
          -145.7,
          -135.7,
          -78.7,
          -155.7,
          -150.7,
          -95.7,
          -78.7,
          -150.7,
          -155.7,
          -135.7,
          -88.7,
          -22.7,
          -78.7,
          -22.7,
          -78.7,
          -150.7,
          -150.7,
          -125.7,
          -48.7,
          -137.7,
          -150.7,
          -95.7,
          -125.7,
          -150.7,
          -165.1,
          -100.1,
          -194.6,
          -157.1,
          -60.1,
          -165.1,
          -105.1,
          -152.1,
          -165.1,
          -86.1,
          -165.1,
          -100,
          -137.1,
          -113.1,
          -152.1,
          -150.1,
          -165.1,
          -157.1,
          -152.1,
          -144.1,
          -75.1,
          -108.5,
          -75.1,
          -165.1,
          -107.1,
          -48.1,
          -152.1,
          -97.8,
          -211.8,
          -206.8,
          -244.3,
          -211.8,
          -156.8,
          -191.8,
          -139.8,
          -201.8,
          -211.8,
          -211.8,
          -198.8,
          -100.8,
          -211.8,
          -211.8,
          -196.8,
          -158.8,
          -211.8,
          -211.8,
          -201.8,
          -211.8,
          -93.8,
          -196.8,
          -211.8,
          -206.8,
          -100.8,
          -236.8,
          -154.8,
          -97.8,
          -211.8,
          -126.7,
          -164.7,
          -164.7,
          -138.7,
          -178.7,
          -88.7,
          -192.7,
          -164.7,
          -179.7,
          -192.7,
          -57.7,
          -189.7,
          -132.7,
          -57.7,
          -88.7,
          -192.7,
          -178.4,
          -185.4,
          -158.4,
          -178.4,
          -182.4,
          -108.4,
          -118.4,
          -164.4,
          -195.4,
          -178.4,
          -105.4,
          -182.4,
          -170.4,
          -119.4,
          -200.4,
          -187.4,
          -200.4,
          -195.4,
          -200.4,
          -164.4,
          -182.4,
          -195.4,
          -200.4,
          -200.4,
          -104.8,
          -156.5,
          -47.8,
          -46.8,
          -160.8,
          -100.8,
          -104.8,
          -170.8,
          -185.8,
          -185.8,
          -180.8,
          -47.8,
          144.2,
          -185.8,
          -47.8,
          -121.5,
          172.5,
          -95.5,
          -123.5,
          -142.5,
          -53.5,
          -95.5,
          -121.5,
          -16.5,
          -95.5,
          -147.5,
          -147.5,
          -72.5,
          -127.5,
          -77.5,
          -16.5,
          -142.5,
          -92.5,
          -121.6,
          -147.5,
          -147.5,
          -147.5,
          -147.5,
          -81.5,
          -142.5,
          -91.5,
          -143,
          -142,
          -112,
          6,
          -85,
          6,
          -137,
          -71,
          -137.4,
          -112,
          -112,
          -122,
          -53,
          -85,
          -52.1,
          -118,
          -118,
          -142,
          -142,
          -117,
          -77,
          -118,
          -52.1,
          -70,
          -73.6,
          -142,
          -112,
          -117,
          -136.5,
          -69,
          -74,
          -4,
          -46.5,
          -41.6,
          -67.6,
          -111,
          -42,
          -52,
          -72.1,
          -144.1,
          -72.1,
          -144.1,
          -72.1,
          -61.7,
          -89.1,
          -144.1,
          -141.1,
          -70.1,
          -72.1,
          -127.9,
          -89.1,
          -72.1,
          -84.1,
          -125.5,
          -84.1,
          -59.2,
          -119.2,
          -193.2,
          -136.2,
          -183.8,
          -86.8,
          -106.2,
          -173.5,
          -183.2,
          -162.3,
          -183.2,
          -183.2,
          -181.8,
          -183.2,
          -161.6,
          -237.6,
          -171.6,
          -231.6,
          -221.6,
          -236.6,
          -236.6,
          -174.6,
          -200.9,
          -142.6,
          -171.6,
          -141.6,
          -231.6,
          -130.4,
          -211.4,
          -133.6,
          -216.8,
          -102.6,
          -154.6,
          -124.3,
          -241.9,
          -150.5,
          -264.3,
          -270.6,
          -75.6,
          -255.3,
          -270.6,
          -190.6,
          -75.6,
          -65.6,
          -70.6,
          -85.8,
          -190.8,
          -92.8,
          -100.8,
          -190.8,
          -115.8,
          -258.3,
          -97.8,
          -20.8,
          -97.8,
          -97.8,
          -123.8,
          -190.8,
          -267.6,
          -250.8,
          -190.8,
          -123.8,
          -85.8,
          -260.8,
          -122.1,
          -87.6,
          -194.1,
          -97.1,
          -109.1,
          -247.7,
          -74.1,
          -97.1,
          -214.1,
          -274.1,
          -159.1,
          -214.1,
          125.9,
          -74.1,
          -207.1,
          -125.1,
          -184.1,
          -220.1,
          -138.1,
          112.9,
          2.9,
          -217.1,
          -207.1,
          -147.1,
          -140.1,
          -183.2,
          -88.2,
          -148.2,
          -128.2,
          -88.2,
          -118.2,
          -148.2,
          -118.2,
          -168.2,
          -46.2,
          -118.2,
          -116.2
         ],
         "yaxis": "y"
        },
        {
         "customdata": [
          [
           "Brasil",
           84000,
           225,
           18900,
           576.4,
           "correa yonathan luis"
          ],
          [
           "Brasil",
           140000,
           200,
           28000,
           576.4,
           "agata s.r.l."
          ],
          [
           "Brasil",
           28000,
           410,
           11480,
           576.4,
           "correa yonathan luis"
          ],
          [
           "Brasil",
           56000,
           410,
           22960,
           576.4,
           "correa yonathan luis"
          ],
          [
           "Brasil",
           56000,
           410,
           22960,
           576.4,
           "correa yonathan luis"
          ],
          [
           "Brasil",
           338000,
           365,
           123370,
           576.4,
           "agrofertil s.r.l."
          ],
          [
           "Brasil",
           56000,
           410,
           22960,
           576.4,
           "correa yonathan luis"
          ],
          [
           "Brasil",
           84000,
           410,
           34440,
           576.4,
           "correa yonathan luis"
          ],
          [
           "Brasil",
           335620,
           365,
           122501.3,
           578.3,
           "agrofertil s.r.l."
          ],
          [
           "Brasil",
           332960,
           365,
           121530.4,
           578.3,
           "agrofertil s.r.l."
          ],
          [
           "Brasil",
           308000,
           410,
           126280,
           578.3,
           "correa yonathan luis"
          ],
          [
           "Brasil",
           28000,
           410,
           11480,
           578.3,
           "correa yonathan luis"
          ],
          [
           "Brasil",
           56000,
           410,
           22960,
           578.3,
           "correa yonathan luis"
          ],
          [
           "Brasil",
           28000,
           410,
           11480,
           578.3,
           "correa yonathan luis"
          ],
          [
           "Brasil",
           28000,
           410,
           11480,
           578.3,
           "correa yonathan luis"
          ],
          [
           "Brasil",
           112000,
           410,
           45920,
           578.3,
           "correa yonathan luis"
          ],
          [
           "Brasil",
           8000,
           375,
           3000,
           578.3,
           "alimentos argentinos s.r.l."
          ],
          [
           "Brasil",
           28000,
           410,
           11480,
           578.3,
           "correa yonathan luis"
          ],
          [
           "Brasil",
           112500,
           410,
           46125,
           578.3,
           "correa yonathan luis"
          ],
          [
           "Brasil",
           280500,
           410,
           115005,
           578.3,
           "correa yonathan luis"
          ],
          [
           "Brasil",
           112500,
           410,
           46125,
           585.7,
           "correa yonathan luis"
          ],
          [
           "Brasil",
           168000,
           410,
           68880,
           585.7,
           "correa yonathan luis"
          ],
          [
           "Brasil",
           112000,
           410,
           45920,
           585.7,
           "correa yonathan luis"
          ],
          [
           "Brasil",
           112000,
           410,
           45920,
           585.7,
           "correa yonathan luis"
          ],
          [
           "Brasil",
           28000,
           410,
           11480,
           585.7,
           "correa yonathan luis"
          ],
          [
           "Brasil",
           196000,
           410,
           80360,
           585.7,
           "correa yonathan luis"
          ],
          [
           "Brasil",
           226000,
           410,
           92660,
           585.7,
           "correa yonathan luis"
          ],
          [
           "Brasil",
           28000,
           410,
           11480,
           585.7,
           "correa yonathan luis"
          ],
          [
           "Brasil",
           84000,
           410,
           34440,
           585.7,
           "agata s.r.l."
          ],
          [
           "Brasil",
           28000,
           410,
           11480,
           585.7,
           "agata s.r.l."
          ],
          [
           "Brasil",
           112000,
           410,
           45920,
           597.1,
           "agata s.r.l."
          ],
          [
           "Brasil",
           56000,
           410,
           22960,
           597.1,
           "agata s.r.l."
          ],
          [
           "Brasil",
           28000,
           410,
           11480,
           597.1,
           "agata s.r.l."
          ],
          [
           "Brasil",
           112000,
           410,
           45920,
           597.1,
           "correa yonathan luis"
          ],
          [
           "Brasil",
           28000,
           410,
           11480,
           597.1,
           "correa yonathan luis"
          ],
          [
           "Brasil",
           28000,
           410,
           11480,
           597.1,
           "correa yonathan luis"
          ],
          [
           "Brasil",
           28000,
           410,
           11480,
           597.1,
           "correa yonathan luis"
          ],
          [
           "Brasil",
           85500,
           410,
           35055,
           646.8,
           "correa yonathan luis"
          ],
          [
           "Brasil",
           85100,
           410,
           34891,
           646.8,
           "correa yonathan luis"
          ],
          [
           "Brasil",
           56000,
           410,
           22960,
           646.8,
           "correa yonathan luis"
          ],
          [
           "Brasil",
           28000,
           410,
           11480,
           646.8,
           "correa yonathan luis"
          ],
          [
           "Brasil",
           28000,
           410,
           11480,
           600.4,
           "correa yonathan luis"
          ],
          [
           "Brasil",
           28000,
           410,
           11480,
           600.4,
           "correa yonathan luis"
          ],
          [
           "Brasil",
           28500,
           430,
           12255,
           551,
           "correa yonathan luis"
          ],
          [
           "Brasil",
           28500,
           430,
           12255,
           551,
           "correa yonathan luis"
          ],
          [
           "Brasil",
           28500,
           430,
           12255,
           551,
           "correa yonathan luis"
          ],
          [
           "Brasil",
           28500,
           430,
           12255,
           551,
           "correa yonathan luis"
          ],
          [
           "Brasil",
           331640,
           511,
           169468,
           554.1,
           "acheron s.a."
          ],
          [
           "Brasil",
           28000,
           430,
           12040,
           554.1,
           "correa yonathan luis"
          ],
          [
           "Brasil",
           28000,
           430,
           12040,
           554.1,
           "correa yonathan luis"
          ],
          [
           "Brasil",
           28000,
           430,
           12040,
           606.2,
           "correa yonathan luis"
          ],
          [
           "Brasil",
           28000,
           430,
           12040,
           606.2,
           "correa yonathan luis"
          ],
          [
           "Brasil",
           28000,
           430,
           12040,
           606.2,
           "correa yonathan luis"
          ],
          [
           "Brasil",
           28000,
           430,
           12040,
           661.6,
           "correa yonathan luis"
          ],
          [
           "Brasil",
           28000,
           430,
           12040,
           661.6,
           "correa yonathan luis"
          ],
          [
           "Brasil",
           28000,
           430,
           12040,
           720.6,
           "correa yonathan luis"
          ],
          [
           "Brasil",
           56000,
           450,
           25200,
           720.6,
           "correa yonathan luis"
          ],
          [
           "Brasil",
           28000,
           450,
           12600,
           720.6,
           "correa yonathan luis"
          ],
          [
           "Brasil",
           28000,
           450,
           12600,
           720.8,
           "correa yonathan luis"
          ],
          [
           "Brasil",
           28000,
           450,
           12600,
           720.8,
           "correa yonathan luis"
          ],
          [
           "Brasil",
           28000,
           450,
           12600,
           720.8,
           "correa yonathan luis"
          ]
         ],
         "hovertemplate": "Destino=%{customdata[0]}<br>Fecha=%{x}<br>Spread=%{y}<br>Kg=%{customdata[1]}<br>Precio=%{customdata[2]}<br>Fob=%{customdata[3]}<br>Precio de referencia=%{customdata[4]}<br>Exportador=%{customdata[5]}<extra></extra>",
         "legendgroup": "Brasil",
         "marker": {
          "color": "#EF553B",
          "line": {
           "color": "DarkSlateGrey",
           "width": 2
          },
          "size": 12,
          "symbol": "circle"
         },
         "mode": "markers",
         "name": "Brasil",
         "showlegend": true,
         "type": "scattergl",
         "x": [
          "01-2021",
          "01-2021",
          "01-2021",
          "01-2021",
          "01-2021",
          "01-2021",
          "01-2021",
          "01-2021",
          "02-2021",
          "02-2021",
          "02-2021",
          "02-2021",
          "02-2021",
          "02-2021",
          "02-2021",
          "02-2021",
          "02-2021",
          "02-2021",
          "02-2021",
          "02-2021",
          "03-2021",
          "03-2021",
          "03-2021",
          "03-2021",
          "03-2021",
          "03-2021",
          "03-2021",
          "03-2021",
          "03-2021",
          "03-2021",
          "04-2021",
          "04-2021",
          "04-2021",
          "04-2021",
          "04-2021",
          "04-2021",
          "04-2021",
          "05-2021",
          "05-2021",
          "05-2021",
          "05-2021",
          "07-2021",
          "07-2021",
          "11-2021",
          "11-2021",
          "11-2021",
          "11-2021",
          "12-2021",
          "12-2021",
          "12-2021",
          "01-2022",
          "01-2022",
          "01-2022",
          "02-2022",
          "02-2022",
          "03-2022",
          "03-2022",
          "03-2022",
          "04-2022",
          "04-2022",
          "04-2022"
         ],
         "xaxis": "x",
         "y": [
          -351.4,
          -376.4,
          -166.4,
          -166.4,
          -166.4,
          -211.4,
          -166.4,
          -166.4,
          -213.3,
          -213.3,
          -168.3,
          -168.3,
          -168.3,
          -168.3,
          -168.3,
          -168.3,
          -203.3,
          -168.3,
          -168.3,
          -168.3,
          -175.7,
          -175.7,
          -175.7,
          -175.7,
          -175.7,
          -175.7,
          -175.7,
          -175.7,
          -175.7,
          -175.7,
          -187.1,
          -187.1,
          -187.1,
          -187.1,
          -187.1,
          -187.1,
          -187.1,
          -236.8,
          -236.8,
          -236.8,
          -236.8,
          -190.4,
          -190.4,
          -121,
          -121,
          -121,
          -121,
          -43.1,
          -124.1,
          -124.1,
          -176.2,
          -176.2,
          -176.2,
          -231.6,
          -231.6,
          -290.6,
          -270.6,
          -270.6,
          -270.8,
          -270.8,
          -270.8
         ],
         "yaxis": "y"
        },
        {
         "customdata": [
          [
           "Estados unidos",
           59680,
           430,
           25662.4,
           576.4,
           "bro s.r.l."
          ],
          [
           "Estados unidos",
           494500,
           570,
           281865,
           646.8,
           "campos verdes argentinos s.a."
          ],
          [
           "Estados unidos",
           337680,
           615,
           207673.2,
           646.8,
           "soyapampa s.a."
          ],
          [
           "Estados unidos",
           341000,
           615,
           209715,
           646.8,
           "miska s.a."
          ],
          [
           "Estados unidos",
           108380,
           610,
           66111.8,
           646.8,
           "lancopinto sa"
          ],
          [
           "Estados unidos",
           209300,
           710,
           148603,
           646.8,
           "luis a ducret y cia s a"
          ],
          [
           "Estados unidos",
           440000,
           570,
           250800,
           646.8,
           "campos verdes argentinos s.a."
          ],
          [
           "Estados unidos",
           903660,
           615,
           555750.9,
           646.8,
           "soyapampa s.a."
          ],
          [
           "Estados unidos",
           683700,
           615,
           420475.5,
           646.8,
           "miska s.a."
          ],
          [
           "Estados unidos",
           131850,
           610,
           80428.5,
           646.8,
           "lancopinto sa"
          ],
          [
           "Estados unidos",
           494500,
           570,
           281865,
           646.8,
           "campos verdes argentinos s.a."
          ],
          [
           "Estados unidos",
           678440,
           615,
           417240.6,
           646.8,
           "soyapampa s.a."
          ],
          [
           "Estados unidos",
           342060,
           615,
           210366.9,
           646.8,
           "miska s.a."
          ],
          [
           "Estados unidos",
           224480,
           610,
           136932.8,
           646.8,
           "verk food trade s.a."
          ],
          [
           "Estados unidos",
           152160,
           590,
           89774.4,
           646.8,
           "lancopinto sa"
          ],
          [
           "Estados unidos",
           563125,
           590,
           332240.8,
           646.8,
           "edco grains s.a"
          ],
          [
           "Estados unidos",
           308080,
           590,
           181767.2,
           646.8,
           "lancopinto sa"
          ],
          [
           "Estados unidos",
           169640,
           618,
           104837.5,
           646.8,
           "izco"
          ],
          [
           "Estados unidos",
           150500,
           570,
           85785,
           614.7,
           "campos verdes argentinos s.a."
          ],
          [
           "Estados unidos",
           5414000,
           598,
           3237572,
           614.7,
           "special grains s a"
          ],
          [
           "Estados unidos",
           6915000,
           598,
           4135170,
           614.7,
           "petroagro sociedad anonima"
          ],
          [
           "Estados unidos",
           520000,
           777,
           404040,
           614.7,
           "la tranquera verde sa"
          ],
          [
           "Estados unidos",
           2922000,
           789.9,
           2308034,
           614.7,
           "pradera natural sa"
          ],
          [
           "Estados unidos",
           397180,
           590,
           234336.2,
           614.7,
           "argen peanuts s a"
          ],
          [
           "Estados unidos",
           433980,
           618,
           268199.6,
           614.7,
           "izco"
          ],
          [
           "Estados unidos",
           7913645,
           777,
           6148898.3,
           614.7,
           "la tranquera verde sa"
          ],
          [
           "Estados unidos",
           2078000,
           777,
           1614606,
           614.7,
           "pradera natural sa"
          ],
          [
           "Estados unidos",
           199560,
           590,
           117740.4,
           614.7,
           "argen peanuts s a"
          ],
          [
           "Estados unidos",
           132940,
           590,
           78434.6,
           614.7,
           "nutpro s a"
          ],
          [
           "Estados unidos",
           187590,
           832,
           156074.9,
           614.7,
           "roagro negocios s. a."
          ],
          [
           "Estados unidos",
           578240,
           608,
           351554.8,
           614.7,
           "edco grains s.a"
          ],
          [
           "Estados unidos",
           212700,
           710,
           151017,
           614.7,
           "luis a ducret y cia s a"
          ],
          [
           "Estados unidos",
           112240,
           615,
           69027.6,
           614.7,
           "soyapampa s.a."
          ],
          [
           "Estados unidos",
           329760,
           570,
           187963.2,
           614.7,
           "campos verdes argentinos s.a."
          ],
          [
           "Estados unidos",
           793380,
           615,
           487928.7,
           614.7,
           "soyapampa s.a."
          ],
          [
           "Estados unidos",
           348140,
           620,
           215846.8,
           614.7,
           "edco grains s.a"
          ],
          [
           "Estados unidos",
           106840,
           430,
           45941.2,
           614.7,
           "bro s.r.l."
          ],
          [
           "Estados unidos",
           228140,
           615,
           140306.1,
           614.7,
           "miska s.a."
          ],
          [
           "Estados unidos",
           212920,
           610,
           129881.2,
           614.7,
           "verk food trade s.a."
          ],
          [
           "Estados unidos",
           504720,
           570,
           287690.4,
           614.7,
           "campos verdes argentinos s.a."
          ],
          [
           "Estados unidos",
           320340,
           610,
           195407.4,
           614.7,
           "verk food trade s.a."
          ],
          [
           "Estados unidos",
           353980,
           590,
           208848.2,
           614.7,
           "cultivos la indiana s.a."
          ],
          [
           "Estados unidos",
           208600,
           610,
           127246,
           614.7,
           "south american grain s.a."
          ],
          [
           "Estados unidos",
           108000,
           570,
           61560,
           614.7,
           "conosur foods argentina sa"
          ],
          [
           "Estados unidos",
           459080,
           604.9,
           277699.6,
           600.4,
           "edco grains s.a"
          ],
          [
           "Estados unidos",
           342580,
           590,
           202122.2,
           600.4,
           "cultivos la indiana s.a."
          ],
          [
           "Estados unidos",
           8608120,
           794.3,
           6837749.2,
           600.4,
           "la tranquera verde sa"
          ],
          [
           "Estados unidos",
           3359880,
           824.1,
           2768795.2,
           600.4,
           "pradera natural sa"
          ],
          [
           "Estados unidos",
           226020,
           590,
           133351.8,
           600.4,
           "nutpro s a"
          ],
          [
           "Estados unidos",
           547910,
           470.8,
           257980.6,
           600.4,
           "bro s.r.l."
          ],
          [
           "Estados unidos",
           286000,
           570,
           163020,
           600.4,
           "campos verdes argentinos s.a."
          ],
          [
           "Estados unidos",
           286000,
           570,
           163020,
           600.4,
           "campos verdes argentinos s.a."
          ],
          [
           "Estados unidos",
           341400,
           615,
           209961,
           600.4,
           "miska s.a."
          ],
          [
           "Estados unidos",
           107860,
           570,
           61480.2,
           600.4,
           "conosur foods argentina sa"
          ],
          [
           "Estados unidos",
           527270,
           715,
           376998,
           585.8,
           "bullmark srl"
          ],
          [
           "Estados unidos",
           213620,
           610,
           130308.2,
           585.8,
           "verk food trade s.a."
          ],
          [
           "Estados unidos",
           416420,
           610,
           254016.2,
           585.8,
           "south american grain s.a."
          ],
          [
           "Estados unidos",
           7880600,
           598,
           4712598.8,
           585.8,
           "special grains s a"
          ],
          [
           "Estados unidos",
           4559000,
           598,
           2726282,
           585.8,
           "petroagro sociedad anonima"
          ],
          [
           "Estados unidos",
           225440,
           617,
           139096.5,
           585.8,
           "soyapampa s.a."
          ],
          [
           "Estados unidos",
           226140,
           617,
           139528.4,
           585.8,
           "miska s.a."
          ],
          [
           "Estados unidos",
           22260,
           481,
           10707.1,
           585.8,
           "bro s.r.l."
          ],
          [
           "Estados unidos",
           66420,
           650,
           43173,
           585.8,
           "argen peanuts s a"
          ],
          [
           "Estados unidos",
           211000,
           570,
           120270,
           585.8,
           "conosur foods argentina sa"
          ],
          [
           "Estados unidos",
           105000,
           570,
           59850,
           585.8,
           "campos verdes argentinos s.a."
          ],
          [
           "Estados unidos",
           219280,
           481,
           105473.7,
           557.6,
           "bro s.r.l."
          ],
          [
           "Estados unidos",
           107500,
           570,
           61275,
           557.6,
           "campos verdes argentinos s.a."
          ],
          [
           "Estados unidos",
           219320,
           610,
           133785.2,
           557.6,
           "south american grain s.a."
          ],
          [
           "Estados unidos",
           420000,
           690,
           289800,
           557.6,
           "delotte sa"
          ],
          [
           "Estados unidos",
           107500,
           570,
           61275,
           557.6,
           "conosur foods argentina sa"
          ],
          [
           "Estados unidos",
           454940,
           617,
           280698,
           557.6,
           "miska s.a."
          ],
          [
           "Estados unidos",
           233540,
           610,
           142459.4,
           557.6,
           "south american grain s.a."
          ],
          [
           "Estados unidos",
           105500,
           570,
           60135,
           557.6,
           "conosur foods argentina sa"
          ],
          [
           "Estados unidos",
           107500,
           690,
           74175,
           557.6,
           "delotte sa"
          ],
          [
           "Estados unidos",
           230000,
           665,
           152950,
           557.6,
           "bullmark srl"
          ],
          [
           "Estados unidos",
           214700,
           780,
           167466,
           557.6,
           "south american grain s.a."
          ],
          [
           "Estados unidos",
           105000,
           690,
           72450,
           557.6,
           "delotte sa"
          ],
          [
           "Estados unidos",
           105000,
           690,
           72450,
           557.6,
           "delotte sa"
          ],
          [
           "Estados unidos",
           255780,
           590,
           150910.2,
           557.6,
           "verk food trade s.a."
          ],
          [
           "Estados unidos",
           103440,
           750,
           77580,
           552,
           "south american grain s.a."
          ],
          [
           "Estados unidos",
           3279000,
           598,
           1960842,
           552,
           "petroagro sociedad anonima"
          ],
          [
           "Estados unidos",
           2570500,
           849.7,
           2184238.5,
           552,
           "la tranquera verde sa"
          ],
          [
           "Estados unidos",
           3250500,
           848.6,
           2758308.5,
           552,
           "pradera natural sa"
          ],
          [
           "Estados unidos",
           99600,
           930,
           92628,
           552,
           "delotte sa"
          ],
          [
           "Estados unidos",
           235680,
           690,
           162619.2,
           552,
           "delotte sa"
          ],
          [
           "Estados unidos",
           86900,
           650,
           56485,
           551,
           "argen peanuts s a"
          ],
          [
           "Estados unidos",
           4895290,
           598,
           2927383.4,
           551,
           "petroagro sociedad anonima"
          ],
          [
           "Estados unidos",
           254440,
           750,
           190830,
           551,
           "south american grain s.a."
          ],
          [
           "Estados unidos",
           233720,
           610,
           142569.2,
           554.1,
           "verk food trade s.a."
          ],
          [
           "Estados unidos",
           277180,
           681.3,
           188844.2,
           554.1,
           "bullmark srl"
          ],
          [
           "Estados unidos",
           109940,
           600,
           65964,
           554.1,
           "edco grains s.a"
          ],
          [
           "Estados unidos",
           148800,
           724.8,
           107856,
           720.6,
           "special grains s a"
          ],
          [
           "Estados unidos",
           101140,
           696,
           70393.4,
           720.8,
           "santa anita oil sa"
          ],
          [
           "Estados unidos",
           48000,
           710,
           34080,
           720.8,
           "espar sociedad de responsabilidad limitada"
          ],
          [
           "Estados unidos",
           255780,
           700,
           179046,
           720.8,
           "soyapampa s.a."
          ],
          [
           "Estados unidos",
           255960,
           700,
           179172,
           724.1,
           "miska s.a."
          ],
          [
           "Estados unidos",
           212060,
           780,
           165406.8,
           724.1,
           "south american grain s.a."
          ],
          [
           "Estados unidos",
           247640,
           700,
           173348,
           724.1,
           "soyapampa s.a."
          ],
          [
           "Estados unidos",
           500220,
           700,
           350154,
           724.1,
           "miska s.a."
          ],
          [
           "Estados unidos",
           156700,
           675,
           105772.5,
           724.1,
           "santa anita oil sa"
          ],
          [
           "Estados unidos",
           212500,
           780,
           165750,
           724.1,
           "south american grain s.a."
          ],
          [
           "Estados unidos",
           432360,
           700,
           302652,
           724.1,
           "miska s.a."
          ],
          [
           "Estados unidos",
           259440,
           640,
           166041.6,
           724.1,
           "santa anita oil sa"
          ],
          [
           "Estados unidos",
           64300,
           780,
           50154,
           724.1,
           "south american grain s.a."
          ],
          [
           "Estados unidos",
           206460,
           780,
           161038.8,
           724.1,
           "south american grain s.a."
          ],
          [
           "Estados unidos",
           43300,
           640,
           27712,
           724.1,
           "santa anita oil sa"
          ],
          [
           "Estados unidos",
           548060,
           700,
           383642,
           737.1,
           "soyapampa s.a."
          ],
          [
           "Estados unidos",
           91120,
           700,
           63784,
           737.1,
           "miska s.a."
          ],
          [
           "Estados unidos",
           75000,
           650,
           48750,
           737.1,
           "espar sociedad de responsabilidad limitada"
          ],
          [
           "Estados unidos",
           135700,
           660,
           89562,
           737.1,
           "soyapampa s.a."
          ],
          [
           "Estados unidos",
           2660000,
           845,
           2247700,
           737.1,
           "special grains s a"
          ],
          [
           "Estados unidos",
           2660000,
           845,
           2247700,
           737.1,
           "petroagro sociedad anonima"
          ],
          [
           "Estados unidos",
           135800,
           660,
           89628,
           737.1,
           "soyapampa s.a."
          ],
          [
           "Estados unidos",
           5040000,
           802.2,
           4042880,
           737.1,
           "la tranquera verde sa"
          ],
          [
           "Estados unidos",
           7062000,
           792,
           5593104,
           737.1,
           "pradera natural sa"
          ],
          [
           "Estados unidos",
           116120,
           530.8,
           61639.5,
           737.1,
           "bullmark srl"
          ],
          [
           "Estados unidos",
           213360,
           692,
           147645.1,
           737.1,
           "santa anita oil sa"
          ],
          [
           "Estados unidos",
           246660,
           720,
           177595.2,
           737.1,
           "campos verdes argentinos s.a."
          ],
          [
           "Estados unidos",
           213720,
           780,
           166701.6,
           737.1,
           "south american grain s.a."
          ],
          [
           "Estados unidos",
           169920,
           700,
           118944,
           737.1,
           "izco"
          ],
          [
           "Estados unidos",
           2938060,
           845,
           2482660.7,
           737.1,
           "special grains s a"
          ],
          [
           "Estados unidos",
           3005000,
           845,
           2539225,
           737.1,
           "petroagro sociedad anonima"
          ],
          [
           "Estados unidos",
           348200,
           530.8,
           184833.6,
           737.1,
           "bullmark srl"
          ],
          [
           "Estados unidos",
           408460,
           700,
           285922,
           737.1,
           "soyapampa s.a."
          ],
          [
           "Estados unidos",
           5400240,
           876.1,
           4731396.5,
           737.1,
           "la tranquera verde sa"
          ],
          [
           "Estados unidos",
           3501280,
           792,
           2773013.8,
           737.1,
           "pradera natural sa"
          ],
          [
           "Estados unidos",
           577980,
           780,
           450824.4,
           737.1,
           "south american grain s.a."
          ],
          [
           "Estados unidos",
           120490,
           685,
           82535.6,
           737.1,
           "espar sociedad de responsabilidad limitada"
          ],
          [
           "Estados unidos",
           236080,
           950,
           224276,
           737.1,
           "petroagro sociedad anonima"
          ],
          [
           "Estados unidos",
           450200,
           700,
           315140,
           737.1,
           "soyapampa s.a."
          ],
          [
           "Estados unidos",
           569860,
           700,
           398902,
           737.1,
           "miska s.a."
          ],
          [
           "Estados unidos",
           111600,
           700,
           78120,
           737.1,
           "izco"
          ],
          [
           "Estados unidos",
           214980,
           780,
           167684.4,
           737.1,
           "south american grain s.a."
          ],
          [
           "Estados unidos",
           170400,
           700,
           119280,
           737.1,
           "izco"
          ],
          [
           "Estados unidos",
           125320,
           700,
           87724,
           737.1,
           "soyapampa s.a."
          ],
          [
           "Estados unidos",
           169660,
           700,
           118762,
           678.2,
           "izco"
          ],
          [
           "Estados unidos",
           150150,
           950,
           142642.5,
           678.2,
           "petroagro sociedad anonima"
          ],
          [
           "Estados unidos",
           487380,
           465,
           226631.7,
           678.2,
           "bro s.r.l."
          ],
          [
           "Estados unidos",
           53640,
           700,
           37548,
           678.2,
           "izco"
          ],
          [
           "Estados unidos",
           214400,
           780,
           167232,
           678.2,
           "south american grain s.a."
          ],
          [
           "Estados unidos",
           80500,
           700,
           56350,
           678.2,
           "miska s.a."
          ],
          [
           "Estados unidos",
           720040,
           730,
           525629.2,
           678.2,
           "bullmark srl"
          ],
          [
           "Estados unidos",
           242360,
           720,
           174499.2,
           678.2,
           "campos verdes argentinos s.a."
          ],
          [
           "Estados unidos",
           7683140,
           950,
           7298983,
           678.2,
           "petroagro sociedad anonima"
          ],
          [
           "Estados unidos",
           233000,
           850,
           198050,
           678.2,
           "grupo ckoos srl"
          ],
          [
           "Estados unidos",
           1924000,
           720,
           1385280,
           678.2,
           "conosur foods argentina sa"
          ],
          [
           "Estados unidos",
           2125000,
           720,
           1530000,
           678.2,
           "campos verdes argentinos s.a."
          ],
          [
           "Estados unidos",
           257400,
           950,
           244530,
           678.2,
           "petroagro sociedad anonima"
          ],
          [
           "Estados unidos",
           78060,
           700,
           54642,
           678.2,
           "soyapampa s.a."
          ],
          [
           "Estados unidos",
           95720,
           700,
           67004,
           678.2,
           "miska s.a."
          ],
          [
           "Estados unidos",
           2080000,
           640,
           1331200,
           678.2,
           "bro s.r.l."
          ],
          [
           "Estados unidos",
           111860,
           700,
           78302,
           678.2,
           "izco"
          ],
          [
           "Estados unidos",
           8600000,
           645.5,
           5551600,
           678.2,
           "bro s.r.l."
          ],
          [
           "Estados unidos",
           299960,
           622,
           186575.1,
           678.2,
           "santa anita oil sa"
          ],
          [
           "Estados unidos",
           3035700,
           586,
           1778920.2,
           678.2,
           "bro s.r.l."
          ],
          [
           "Estados unidos",
           85000,
           650,
           55250,
           678.2,
           "luis a ducret y cia s a"
          ],
          [
           "Estados unidos",
           167560,
           820,
           137399.2,
           678.2,
           "going natural srl"
          ],
          [
           "Estados unidos",
           244320,
           720,
           175910.4,
           678.2,
           "campos verdes argentinos s.a."
          ],
          [
           "Estados unidos",
           257170,
           950,
           244311.5,
           678.2,
           "petroagro sociedad anonima"
          ],
          [
           "Estados unidos",
           121920,
           700,
           85344,
           678.2,
           "soyapampa s.a."
          ],
          [
           "Estados unidos",
           180600,
           700,
           126420,
           678.2,
           "miska s.a."
          ],
          [
           "Estados unidos",
           45420,
           700,
           31794,
           678.2,
           "izco"
          ],
          [
           "Estados unidos",
           250960,
           700,
           175672,
           678.2,
           "soyapampa s.a."
          ],
          [
           "Estados unidos",
           179930,
           680,
           122352.4,
           678.2,
           "jewell especialidades sa"
          ],
          [
           "Estados unidos",
           405940,
           700,
           284158,
           678.2,
           "miska s.a."
          ],
          [
           "Estados unidos",
           133640,
           700,
           93548,
           678.2,
           "izco"
          ],
          [
           "Estados unidos",
           64500,
           720,
           46440,
           678.2,
           "campos verdes argentinos s.a."
          ],
          [
           "Estados unidos",
           45460,
           700,
           31822,
           678.2,
           "soyapampa s.a."
          ],
          [
           "Estados unidos",
           201840,
           700,
           141288,
           678.2,
           "miska s.a."
          ]
         ],
         "hovertemplate": "Destino=%{customdata[0]}<br>Fecha=%{x}<br>Spread=%{y}<br>Kg=%{customdata[1]}<br>Precio=%{customdata[2]}<br>Fob=%{customdata[3]}<br>Precio de referencia=%{customdata[4]}<br>Exportador=%{customdata[5]}<extra></extra>",
         "legendgroup": "Estados unidos",
         "marker": {
          "color": "#00cc96",
          "line": {
           "color": "DarkSlateGrey",
           "width": 2
          },
          "size": 12,
          "symbol": "circle"
         },
         "mode": "markers",
         "name": "Estados unidos",
         "showlegend": true,
         "type": "scattergl",
         "x": [
          "01-2021",
          "05-2021",
          "05-2021",
          "05-2021",
          "05-2021",
          "05-2021",
          "05-2021",
          "05-2021",
          "05-2021",
          "05-2021",
          "05-2021",
          "05-2021",
          "05-2021",
          "05-2021",
          "05-2021",
          "05-2021",
          "05-2021",
          "05-2021",
          "06-2021",
          "06-2021",
          "06-2021",
          "06-2021",
          "06-2021",
          "06-2021",
          "06-2021",
          "06-2021",
          "06-2021",
          "06-2021",
          "06-2021",
          "06-2021",
          "06-2021",
          "06-2021",
          "06-2021",
          "06-2021",
          "06-2021",
          "06-2021",
          "06-2021",
          "06-2021",
          "06-2021",
          "06-2021",
          "06-2021",
          "06-2021",
          "06-2021",
          "06-2021",
          "07-2021",
          "07-2021",
          "07-2021",
          "07-2021",
          "07-2021",
          "07-2021",
          "07-2021",
          "07-2021",
          "07-2021",
          "07-2021",
          "08-2021",
          "08-2021",
          "08-2021",
          "08-2021",
          "08-2021",
          "08-2021",
          "08-2021",
          "08-2021",
          "08-2021",
          "08-2021",
          "08-2021",
          "09-2021",
          "09-2021",
          "09-2021",
          "09-2021",
          "09-2021",
          "09-2021",
          "09-2021",
          "09-2021",
          "09-2021",
          "09-2021",
          "09-2021",
          "09-2021",
          "09-2021",
          "09-2021",
          "10-2021",
          "10-2021",
          "10-2021",
          "10-2021",
          "10-2021",
          "10-2021",
          "11-2021",
          "11-2021",
          "11-2021",
          "12-2021",
          "12-2021",
          "12-2021",
          "03-2022",
          "04-2022",
          "04-2022",
          "04-2022",
          "05-2022",
          "05-2022",
          "05-2022",
          "05-2022",
          "05-2022",
          "05-2022",
          "05-2022",
          "05-2022",
          "05-2022",
          "05-2022",
          "05-2022",
          "06-2022",
          "06-2022",
          "06-2022",
          "06-2022",
          "06-2022",
          "06-2022",
          "06-2022",
          "06-2022",
          "06-2022",
          "06-2022",
          "06-2022",
          "06-2022",
          "06-2022",
          "06-2022",
          "06-2022",
          "06-2022",
          "06-2022",
          "06-2022",
          "06-2022",
          "06-2022",
          "06-2022",
          "06-2022",
          "06-2022",
          "06-2022",
          "06-2022",
          "06-2022",
          "06-2022",
          "06-2022",
          "06-2022",
          "07-2022",
          "07-2022",
          "07-2022",
          "07-2022",
          "07-2022",
          "07-2022",
          "07-2022",
          "07-2022",
          "07-2022",
          "07-2022",
          "07-2022",
          "07-2022",
          "07-2022",
          "07-2022",
          "07-2022",
          "07-2022",
          "07-2022",
          "07-2022",
          "07-2022",
          "07-2022",
          "07-2022",
          "07-2022",
          "07-2022",
          "07-2022",
          "07-2022",
          "07-2022",
          "07-2022",
          "07-2022",
          "07-2022",
          "07-2022",
          "07-2022",
          "07-2022",
          "07-2022",
          "07-2022"
         ],
         "xaxis": "x",
         "y": [
          -146.4,
          -76.8,
          -31.8,
          -31.8,
          -36.8,
          63.2,
          -76.8,
          -31.8,
          -31.8,
          -36.8,
          -76.8,
          -31.8,
          -31.8,
          -36.8,
          -56.8,
          -56.8,
          -56.8,
          -28.8,
          -44.7,
          -16.7,
          -16.7,
          162.3,
          175.2,
          -24.7,
          3.3,
          162.3,
          162.3,
          -24.7,
          -24.7,
          217.3,
          -6.7,
          95.3,
          0.3,
          -44.7,
          0.3,
          5.3,
          -184.7,
          0.3,
          -4.7,
          -44.7,
          -4.7,
          -24.7,
          -4.7,
          -44.7,
          4.5,
          -10.4,
          193.9,
          223.6,
          -10.4,
          -129.6,
          -30.4,
          -30.4,
          14.6,
          -30.4,
          129.2,
          24.2,
          24.2,
          12.2,
          12.2,
          31.2,
          31.2,
          -104.8,
          64.2,
          -15.8,
          -15.8,
          -76.5,
          12.5,
          52.5,
          132.5,
          12.5,
          59.5,
          52.5,
          12.5,
          132.5,
          107.5,
          222.5,
          132.5,
          132.5,
          32.5,
          198,
          46,
          297.8,
          296.6,
          378,
          138.1,
          99,
          47,
          199,
          55.9,
          127.2,
          45.9,
          4.2,
          -24.8,
          -10.8,
          -20.8,
          -24.1,
          55.9,
          -24.1,
          -24.1,
          -49.1,
          55.9,
          -24.1,
          -84.1,
          55.9,
          55.9,
          -84.1,
          -37.1,
          -37.1,
          -87.1,
          -77.1,
          107.9,
          107.9,
          -77.1,
          65.1,
          54.9,
          -206.2,
          -45.1,
          -17.1,
          42.9,
          -37.1,
          107.9,
          107.9,
          -206.2,
          -37.1,
          139.1,
          54.9,
          42.9,
          -52.1,
          212.9,
          -37.1,
          -37.1,
          -37.1,
          42.9,
          -37.1,
          -37.1,
          21.8,
          271.8,
          -213.2,
          21.8,
          101.8,
          21.8,
          51.8,
          41.8,
          271.8,
          171.8,
          41.8,
          41.8,
          271.8,
          21.8,
          21.8,
          -38.2,
          21.8,
          -32.7,
          -56.2,
          -92.2,
          -28.2,
          141.8,
          41.8,
          271.8,
          21.8,
          21.8,
          21.8,
          21.8,
          1.8,
          21.8,
          21.8,
          41.8,
          21.8,
          21.8
         ],
         "yaxis": "y"
        },
        {
         "customdata": [
          [
           "Uruguay",
           7020,
           600,
           4212,
           576.4,
           "luis a ducret y cia s a"
          ],
          [
           "Uruguay",
           2875460,
           400,
           1150184,
           576.4,
           "agrofertil s.r.l."
          ],
          [
           "Uruguay",
           290000,
           430,
           124700,
           578.3,
           "powertec comercio s.r.l"
          ],
          [
           "Uruguay",
           2999900,
           405,
           1214959.5,
           578.3,
           "agrofertil s.r.l."
          ],
          [
           "Uruguay",
           144800,
           430,
           62264,
           585.7,
           "powertec comercio s.r.l"
          ],
          [
           "Uruguay",
           435000,
           430,
           187050,
           585.7,
           "powertec comercio s.r.l"
          ],
          [
           "Uruguay",
           232320,
           430,
           99897.6,
           585.7,
           "powertec comercio s.r.l"
          ],
          [
           "Uruguay",
           199360,
           430,
           85724.8,
           585.7,
           "powertec comercio s.r.l"
          ],
          [
           "Uruguay",
           204220,
           430,
           87814.6,
           585.7,
           "powertec comercio s.r.l"
          ],
          [
           "Uruguay",
           2339600,
           400,
           935840,
           585.7,
           "agrofertil s.r.l."
          ],
          [
           "Uruguay",
           290000,
           430,
           124700,
           585.7,
           "powertec comercio s.r.l"
          ],
          [
           "Uruguay",
           290160,
           430,
           124768.8,
           597.1,
           "powertec comercio s.r.l"
          ],
          [
           "Uruguay",
           289940,
           399,
           115686.1,
           597.1,
           "j.a.l. s.r.l."
          ],
          [
           "Uruguay",
           145000,
           430,
           62350,
           597.1,
           "powertec comercio s.r.l"
          ],
          [
           "Uruguay",
           431420,
           430,
           185510.6,
           597.1,
           "powertec comercio s.r.l"
          ],
          [
           "Uruguay",
           3000000,
           474.5,
           1423500,
           597.1,
           "s & f global serv sociedad responsabilidad limitada"
          ],
          [
           "Uruguay",
           202700,
           430,
           87161,
           597.1,
           "powertec comercio s.r.l"
          ],
          [
           "Uruguay",
           87000,
           430,
           37410,
           646.8,
           "powertec comercio s.r.l"
          ],
          [
           "Uruguay",
           3090000,
           517,
           1597530,
           646.8,
           "s & f global serv sociedad responsabilidad limitada"
          ],
          [
           "Uruguay",
           304850,
           500,
           152425,
           646.8,
           "p & p expo impo s.r.l"
          ],
          [
           "Uruguay",
           145000,
           430,
           62350,
           646.8,
           "powertec comercio s.r.l"
          ],
          [
           "Uruguay",
           261000,
           430,
           112230,
           646.8,
           "powertec comercio s.r.l"
          ],
          [
           "Uruguay",
           203000,
           430,
           87290,
           646.8,
           "powertec comercio s.r.l"
          ],
          [
           "Uruguay",
           4500000,
           521,
           2344500,
           646.8,
           "j.a.l. s.r.l."
          ],
          [
           "Uruguay",
           146200,
           430,
           62866,
           646.8,
           "powertec comercio s.r.l"
          ],
          [
           "Uruguay",
           1500000,
           525,
           787500,
           646.8,
           "s & f global serv sociedad responsabilidad limitada"
          ],
          [
           "Uruguay",
           500000,
           500,
           250000,
           646.8,
           "p & p expo impo s.r.l"
          ],
          [
           "Uruguay",
           1500000,
           525,
           787500,
           646.8,
           "s & f global serv sociedad responsabilidad limitada"
          ],
          [
           "Uruguay",
           1500000,
           525,
           787500,
           646.8,
           "s & f global serv sociedad responsabilidad limitada"
          ],
          [
           "Uruguay",
           144160,
           430,
           61988.8,
           646.8,
           "powertec comercio s.r.l"
          ],
          [
           "Uruguay",
           500000,
           500,
           250000,
           646.8,
           "p & p expo impo s.r.l"
          ],
          [
           "Uruguay",
           493130,
           500,
           246565,
           646.8,
           "p & p expo impo s.r.l"
          ],
          [
           "Uruguay",
           288800,
           430,
           124184,
           614.7,
           "powertec comercio s.r.l"
          ],
          [
           "Uruguay",
           2500000,
           503,
           1257500,
           614.7,
           "s & f global serv sociedad responsabilidad limitada"
          ],
          [
           "Uruguay",
           499750,
           500,
           249875,
           614.7,
           "p & p expo impo s.r.l"
          ],
          [
           "Uruguay",
           142340,
           430,
           61206.2,
           614.7,
           "powertec comercio s.r.l"
          ],
          [
           "Uruguay",
           202520,
           430,
           87083.6,
           614.7,
           "powertec comercio s.r.l"
          ],
          [
           "Uruguay",
           111440,
           398,
           44353.1,
           614.7,
           "cagnoni walter ernesto"
          ],
          [
           "Uruguay",
           498940,
           500,
           249470,
           614.7,
           "p & p expo impo s.r.l"
          ],
          [
           "Uruguay",
           144520,
           430,
           62143.6,
           614.7,
           "powertec comercio s.r.l"
          ],
          [
           "Uruguay",
           143980,
           430,
           61911.4,
           614.7,
           "powertec comercio s.r.l"
          ],
          [
           "Uruguay",
           496960,
           500,
           248480,
           614.7,
           "p & p expo impo s.r.l"
          ],
          [
           "Uruguay",
           143580,
           430,
           61739.4,
           614.7,
           "powertec comercio s.r.l"
          ],
          [
           "Uruguay",
           140000,
           398,
           55720,
           614.7,
           "cagnoni walter ernesto"
          ],
          [
           "Uruguay",
           290000,
           430,
           124700,
           614.7,
           "powertec comercio s.r.l"
          ],
          [
           "Uruguay",
           483160,
           500,
           241580,
           614.7,
           "p & p expo impo s.r.l"
          ],
          [
           "Uruguay",
           138820,
           398,
           55250.4,
           614.7,
           "cagnoni walter ernesto"
          ],
          [
           "Uruguay",
           500000,
           500,
           250000,
           614.7,
           "p & p expo impo s.r.l"
          ],
          [
           "Uruguay",
           201200,
           430,
           86516,
           614.7,
           "powertec comercio s.r.l"
          ],
          [
           "Uruguay",
           143560,
           486,
           69770.2,
           600.4,
           "centro electro s.r.l."
          ],
          [
           "Uruguay",
           4445040,
           507,
           2253415.4,
           600.4,
           "s & f global serv sociedad responsabilidad limitada"
          ],
          [
           "Uruguay",
           140000,
           383,
           53620,
           600.4,
           "cagnoni walter ernesto"
          ],
          [
           "Uruguay",
           140000,
           383,
           53620,
           600.4,
           "cagnoni walter ernesto"
          ],
          [
           "Uruguay",
           140000,
           383,
           53620,
           600.4,
           "cagnoni walter ernesto"
          ],
          [
           "Uruguay",
           500000,
           500,
           250000,
           600.4,
           "p & p expo impo s.r.l"
          ],
          [
           "Uruguay",
           140000,
           385,
           53900,
           600.4,
           "cagnoni walter ernesto"
          ],
          [
           "Uruguay",
           172340,
           486,
           83757.2,
           600.4,
           "centro electro s.r.l."
          ],
          [
           "Uruguay",
           291140,
           500,
           145570,
           600.4,
           "p & p expo impo s.r.l"
          ],
          [
           "Uruguay",
           232000,
           500,
           116000,
           600.4,
           "centro electro s.r.l."
          ],
          [
           "Uruguay",
           1500000,
           471,
           706500,
           600.4,
           "s & f global serv sociedad responsabilidad limitada"
          ],
          [
           "Uruguay",
           288460,
           430,
           124037.8,
           600.4,
           "powertec comercio s.r.l"
          ],
          [
           "Uruguay",
           280000,
           385,
           107800,
           600.4,
           "cagnoni walter ernesto"
          ],
          [
           "Uruguay",
           1500000,
           471,
           706500,
           600.4,
           "s & f global serv sociedad responsabilidad limitada"
          ],
          [
           "Uruguay",
           564300,
           496.4,
           280103.5,
           600.4,
           "centro electro s.r.l."
          ],
          [
           "Uruguay",
           509680,
           500,
           254840,
           600.4,
           "centro electro s.r.l."
          ],
          [
           "Uruguay",
           292330,
           500,
           146165,
           600.4,
           "p & p expo impo s.r.l"
          ],
          [
           "Uruguay",
           86920,
           480,
           41721.6,
           600.4,
           "centro electro s.r.l."
          ],
          [
           "Uruguay",
           145000,
           385,
           55825,
           600.4,
           "cagnoni walter ernesto"
          ],
          [
           "Uruguay",
           142300,
           480,
           68304,
           600.4,
           "centro electro s.r.l."
          ],
          [
           "Uruguay",
           83940,
           430,
           36094.2,
           600.4,
           "powertec comercio s.r.l"
          ],
          [
           "Uruguay",
           171020,
           486,
           83115.7,
           585.8,
           "centro electro s.r.l."
          ],
          [
           "Uruguay",
           429160,
           390.3,
           167494.1,
           585.8,
           "cagnoni walter ernesto"
          ],
          [
           "Uruguay",
           145260,
           430,
           62461.8,
           585.8,
           "powertec comercio s.r.l"
          ],
          [
           "Uruguay",
           58980,
           430,
           25361.4,
           585.8,
           "powertec comercio s.r.l"
          ],
          [
           "Uruguay",
           602540,
           528,
           318141.1,
           585.8,
           "p & p expo impo s.r.l"
          ],
          [
           "Uruguay",
           143000,
           383,
           54769,
           585.8,
           "cagnoni walter ernesto"
          ],
          [
           "Uruguay",
           345420,
           486,
           167874.1,
           585.8,
           "centro electro s.r.l."
          ],
          [
           "Uruguay",
           975000,
           492.5,
           480150,
           585.8,
           "centro electro s.r.l."
          ],
          [
           "Uruguay",
           143840,
           430,
           61851.2,
           585.8,
           "powertec comercio s.r.l"
          ],
          [
           "Uruguay",
           145000,
           368,
           53360,
           585.8,
           "cagnoni walter ernesto"
          ],
          [
           "Uruguay",
           143620,
           430,
           61756.6,
           585.8,
           "powertec comercio s.r.l"
          ],
          [
           "Uruguay",
           282260,
           388,
           109516.9,
           585.8,
           "cagnoni walter ernesto"
          ],
          [
           "Uruguay",
           56000,
           440,
           24640,
           585.8,
           "acheron s.a."
          ],
          [
           "Uruguay",
           144940,
           505,
           73194.7,
           585.8,
           "ramone sas"
          ],
          [
           "Uruguay",
           84120,
           528,
           44415.4,
           585.8,
           "p & p expo impo s.r.l"
          ],
          [
           "Uruguay",
           141600,
           505,
           71508,
           585.8,
           "ramone sas"
          ],
          [
           "Uruguay",
           113740,
           505,
           57438.7,
           557.6,
           "ramone sas"
          ],
          [
           "Uruguay",
           570000,
           373,
           212610,
           557.6,
           "cagnoni walter ernesto"
          ],
          [
           "Uruguay",
           115880,
           430,
           49828.4,
           557.6,
           "powertec comercio s.r.l"
          ],
          [
           "Uruguay",
           413000,
           470,
           194110,
           557.6,
           "ramone sas"
          ],
          [
           "Uruguay",
           292360,
           505,
           147641.8,
           557.6,
           "ramone sas"
          ],
          [
           "Uruguay",
           2298820,
           516,
           1186191.1,
           557.6,
           "p & p expo impo s.r.l"
          ],
          [
           "Uruguay",
           300340,
           470,
           141159.8,
           557.6,
           "ramone sas"
          ],
          [
           "Uruguay",
           286540,
           505,
           144702.7,
           557.6,
           "ramone sas"
          ],
          [
           "Uruguay",
           142760,
           505,
           72093.8,
           557.6,
           "ramone sas"
          ],
          [
           "Uruguay",
           140300,
           505,
           70851.5,
           557.6,
           "ramone sas"
          ],
          [
           "Uruguay",
           116000,
           430,
           49880,
           557.6,
           "powertec comercio s.r.l"
          ],
          [
           "Uruguay",
           57640,
           430,
           24785.2,
           557.6,
           "powertec comercio s.r.l"
          ],
          [
           "Uruguay",
           557100,
           505,
           281335.5,
           557.6,
           "ramone sas"
          ],
          [
           "Uruguay",
           570000,
           373,
           212610,
           557.6,
           "cagnoni walter ernesto"
          ],
          [
           "Uruguay",
           497380,
           528,
           262616.6,
           557.6,
           "p & p expo impo s.r.l"
          ],
          [
           "Uruguay",
           344350,
           505,
           173896.8,
           557.6,
           "ramone sas"
          ],
          [
           "Uruguay",
           412370,
           505,
           208246.8,
           557.6,
           "ramone sas"
          ],
          [
           "Uruguay",
           233960,
           430,
           100602.8,
           552,
           "powertec comercio s.r.l"
          ],
          [
           "Uruguay",
           142960,
           505,
           72194.8,
           552,
           "ramone sas"
          ],
          [
           "Uruguay",
           592480,
           550,
           325864,
           552,
           "p & p expo impo s.r.l"
          ],
          [
           "Uruguay",
           144140,
           430,
           61980.2,
           552,
           "powertec comercio s.r.l"
          ],
          [
           "Uruguay",
           146260,
           505,
           73861.3,
           552,
           "ramone sas"
          ],
          [
           "Uruguay",
           145000,
           430,
           62350,
           552,
           "powertec comercio s.r.l"
          ],
          [
           "Uruguay",
           632020,
           377,
           238271.5,
           552,
           "cagnoni walter ernesto"
          ],
          [
           "Uruguay",
           144480,
           505,
           72962.4,
           552,
           "ramone sas"
          ],
          [
           "Uruguay",
           272220,
           440,
           119776.8,
           552,
           "acheron s.a."
          ],
          [
           "Uruguay",
           639920,
           379,
           242529.7,
           552,
           "cagnoni walter ernesto"
          ],
          [
           "Uruguay",
           299840,
           480,
           143923.2,
           552,
           "sialfa argentina s.r.l."
          ],
          [
           "Uruguay",
           495100,
           373,
           184672.3,
           552,
           "cagnoni walter ernesto"
          ],
          [
           "Uruguay",
           144800,
           505,
           73124,
           552,
           "ramone sas"
          ],
          [
           "Uruguay",
           534480,
           485.3,
           259385.9,
           551,
           "sialfa argentina s.r.l."
          ],
          [
           "Uruguay",
           387240,
           308,
           119269.9,
           551,
           "cagnoni walter ernesto"
          ],
          [
           "Uruguay",
           335880,
           373,
           125283.2,
           551,
           "cagnoni walter ernesto"
          ],
          [
           "Uruguay",
           337060,
           358,
           120667.5,
           551,
           "cagnoni walter ernesto"
          ],
          [
           "Uruguay",
           58680,
           364,
           21359.5,
           551,
           "cagnoni walter ernesto"
          ],
          [
           "Uruguay",
           91300,
           480,
           43824,
           551,
           "sialfa argentina s.r.l."
          ],
          [
           "Uruguay",
           487540,
           365.7,
           178300.3,
           554.1,
           "cagnoni walter ernesto"
          ],
          [
           "Uruguay",
           406800,
           363,
           147668.4,
           554.1,
           "cagnoni walter ernesto"
          ],
          [
           "Uruguay",
           497540,
           368,
           183094.7,
           554.1,
           "cagnoni walter ernesto"
          ],
          [
           "Uruguay",
           403820,
           389,
           157086,
           606.2,
           "cagnoni walter ernesto"
          ],
          [
           "Uruguay",
           141140,
           440,
           62101.6,
           661.6,
           "jm y cia s.a.s."
          ],
          [
           "Uruguay",
           60000,
           480,
           28800,
           661.6,
           "agrofertil s.r.l."
          ],
          [
           "Uruguay",
           146460,
           470,
           68836.2,
           724.1,
           "jm y cia s.a.s."
          ],
          [
           "Uruguay",
           28260,
           460,
           12999.6,
           737.1,
           "sfida s.a.s."
          ],
          [
           "Uruguay",
           12000,
           706,
           8472,
           678.2,
           "luis a ducret y cia s a"
          ],
          [
           "Uruguay",
           145000,
           460,
           66700,
           678.2,
           "sfida s.a.s."
          ]
         ],
         "hovertemplate": "Destino=%{customdata[0]}<br>Fecha=%{x}<br>Spread=%{y}<br>Kg=%{customdata[1]}<br>Precio=%{customdata[2]}<br>Fob=%{customdata[3]}<br>Precio de referencia=%{customdata[4]}<br>Exportador=%{customdata[5]}<extra></extra>",
         "legendgroup": "Uruguay",
         "marker": {
          "color": "#ab63fa",
          "line": {
           "color": "DarkSlateGrey",
           "width": 2
          },
          "size": 12,
          "symbol": "circle"
         },
         "mode": "markers",
         "name": "Uruguay",
         "showlegend": true,
         "type": "scattergl",
         "x": [
          "01-2021",
          "01-2021",
          "02-2021",
          "02-2021",
          "03-2021",
          "03-2021",
          "03-2021",
          "03-2021",
          "03-2021",
          "03-2021",
          "03-2021",
          "04-2021",
          "04-2021",
          "04-2021",
          "04-2021",
          "04-2021",
          "04-2021",
          "05-2021",
          "05-2021",
          "05-2021",
          "05-2021",
          "05-2021",
          "05-2021",
          "05-2021",
          "05-2021",
          "05-2021",
          "05-2021",
          "05-2021",
          "05-2021",
          "05-2021",
          "05-2021",
          "05-2021",
          "06-2021",
          "06-2021",
          "06-2021",
          "06-2021",
          "06-2021",
          "06-2021",
          "06-2021",
          "06-2021",
          "06-2021",
          "06-2021",
          "06-2021",
          "06-2021",
          "06-2021",
          "06-2021",
          "06-2021",
          "06-2021",
          "06-2021",
          "07-2021",
          "07-2021",
          "07-2021",
          "07-2021",
          "07-2021",
          "07-2021",
          "07-2021",
          "07-2021",
          "07-2021",
          "07-2021",
          "07-2021",
          "07-2021",
          "07-2021",
          "07-2021",
          "07-2021",
          "07-2021",
          "07-2021",
          "07-2021",
          "07-2021",
          "07-2021",
          "07-2021",
          "08-2021",
          "08-2021",
          "08-2021",
          "08-2021",
          "08-2021",
          "08-2021",
          "08-2021",
          "08-2021",
          "08-2021",
          "08-2021",
          "08-2021",
          "08-2021",
          "08-2021",
          "08-2021",
          "08-2021",
          "08-2021",
          "09-2021",
          "09-2021",
          "09-2021",
          "09-2021",
          "09-2021",
          "09-2021",
          "09-2021",
          "09-2021",
          "09-2021",
          "09-2021",
          "09-2021",
          "09-2021",
          "09-2021",
          "09-2021",
          "09-2021",
          "09-2021",
          "09-2021",
          "10-2021",
          "10-2021",
          "10-2021",
          "10-2021",
          "10-2021",
          "10-2021",
          "10-2021",
          "10-2021",
          "10-2021",
          "10-2021",
          "10-2021",
          "10-2021",
          "10-2021",
          "11-2021",
          "11-2021",
          "11-2021",
          "11-2021",
          "11-2021",
          "11-2021",
          "12-2021",
          "12-2021",
          "12-2021",
          "01-2022",
          "02-2022",
          "02-2022",
          "05-2022",
          "06-2022",
          "07-2022",
          "07-2022"
         ],
         "xaxis": "x",
         "y": [
          23.6,
          -176.4,
          -148.3,
          -173.3,
          -155.7,
          -155.7,
          -155.7,
          -155.7,
          -155.7,
          -185.7,
          -155.7,
          -167.1,
          -198.1,
          -167.1,
          -167.1,
          -122.6,
          -167.1,
          -216.8,
          -129.8,
          -146.8,
          -216.8,
          -216.8,
          -216.8,
          -125.8,
          -216.8,
          -121.8,
          -146.8,
          -121.8,
          -121.8,
          -216.8,
          -146.8,
          -146.8,
          -184.7,
          -111.7,
          -114.7,
          -184.7,
          -184.7,
          -216.7,
          -114.7,
          -184.7,
          -184.7,
          -114.7,
          -184.7,
          -216.7,
          -184.7,
          -114.7,
          -216.7,
          -114.7,
          -184.7,
          -114.4,
          -93.5,
          -217.4,
          -217.4,
          -217.4,
          -100.4,
          -215.4,
          -114.4,
          -100.4,
          -100.4,
          -129.4,
          -170.4,
          -215.4,
          -129.4,
          -104.1,
          -100.4,
          -100.4,
          -120.4,
          -215.4,
          -120.4,
          -170.4,
          -99.8,
          -195.5,
          -155.8,
          -155.8,
          -57.8,
          -202.8,
          -99.8,
          -93.3,
          -155.8,
          -217.8,
          -155.8,
          -197.8,
          -145.8,
          -80.8,
          -57.8,
          -80.8,
          -52.5,
          -184.5,
          -127.5,
          -87.5,
          -52.5,
          -41.5,
          -87.5,
          -52.5,
          -52.5,
          -52.5,
          -127.5,
          -127.5,
          -52.5,
          -184.5,
          -29.5,
          -52.5,
          -52.5,
          -122,
          -47,
          -2,
          -122,
          -47,
          -122,
          -175,
          -47,
          -112,
          -173,
          -71.9,
          -179,
          -47,
          -65.7,
          -243,
          -178,
          -193,
          -187,
          -71,
          -188.4,
          -191.1,
          -186.1,
          -217.2,
          -221.6,
          -181.6,
          -254.1,
          -277.1,
          27.8,
          -218.2
         ],
         "yaxis": "y"
        },
        {
         "customdata": [
          [
           "Peru",
           112000,
           320,
           35840,
           585.7,
           "e & m s.r.l."
          ],
          [
           "Peru",
           14310770,
           496.9,
           7111169,
           585.8,
           "aceitera general deheza s.a."
          ],
          [
           "Peru",
           13739280,
           522.3,
           7175590.4,
           557.6,
           "aceitera general deheza s.a."
          ],
          [
           "Peru",
           6800000,
           539.5,
           3668760,
           552,
           "bunge argentina s a"
          ],
          [
           "Peru",
           7000000,
           541,
           3787000,
           552,
           "chs de argentina s.a."
          ]
         ],
         "hovertemplate": "Destino=%{customdata[0]}<br>Fecha=%{x}<br>Spread=%{y}<br>Kg=%{customdata[1]}<br>Precio=%{customdata[2]}<br>Fob=%{customdata[3]}<br>Precio de referencia=%{customdata[4]}<br>Exportador=%{customdata[5]}<extra></extra>",
         "legendgroup": "Peru",
         "marker": {
          "color": "#FFA15A",
          "line": {
           "color": "DarkSlateGrey",
           "width": 2
          },
          "size": 12,
          "symbol": "circle"
         },
         "mode": "markers",
         "name": "Peru",
         "showlegend": true,
         "type": "scattergl",
         "x": [
          "03-2021",
          "08-2021",
          "09-2021",
          "10-2021",
          "10-2021"
         ],
         "xaxis": "x",
         "y": [
          -265.7,
          -88.9,
          -35.3,
          -12.4,
          -11
         ],
         "yaxis": "y"
        },
        {
         "customdata": [
          [
           "Venezuela",
           10996265,
           508,
           5586100.1,
           597.1,
           "cargill sociedad anonima comercial e industrial"
          ]
         ],
         "hovertemplate": "Destino=%{customdata[0]}<br>Fecha=%{x}<br>Spread=%{y}<br>Kg=%{customdata[1]}<br>Precio=%{customdata[2]}<br>Fob=%{customdata[3]}<br>Precio de referencia=%{customdata[4]}<br>Exportador=%{customdata[5]}<extra></extra>",
         "legendgroup": "Venezuela",
         "marker": {
          "color": "#19d3f3",
          "line": {
           "color": "DarkSlateGrey",
           "width": 2
          },
          "size": 12,
          "symbol": "circle"
         },
         "mode": "markers",
         "name": "Venezuela",
         "showlegend": true,
         "type": "scattergl",
         "x": [
          "04-2021"
         ],
         "xaxis": "x",
         "y": [
          -89.1
         ],
         "yaxis": "y"
        },
        {
         "customdata": [
          [
           "Egipto",
           42089990,
           509,
           21422214.9,
           597.1,
           "cargill sociedad anonima comercial e industrial"
          ],
          [
           "Egipto",
           44941000,
           507,
           22785087,
           597.1,
           "asociacion de cooperativas argentinas coop ltda"
          ],
          [
           "Egipto",
           11000000,
           536,
           5896000,
           597.1,
           "adm agro s r l"
          ],
          [
           "Egipto",
           26180000,
           509,
           13325133.7,
           597.1,
           "cargill sociedad anonima comercial e industrial"
          ],
          [
           "Egipto",
           16288000,
           487,
           7932256,
           597.1,
           "asociacion de cooperativas argentinas coop ltda"
          ],
          [
           "Egipto",
           33000000,
           512.7,
           16920000,
           597.1,
           "amaggi argentina s.a."
          ],
          [
           "Egipto",
           43195000,
           498,
           21509945,
           597.1,
           "asociacion de cooperativas argentinas coop ltda"
          ],
          [
           "Egipto",
           22805000,
           506.4,
           11547915,
           597.1,
           "asociacion de cooperativas argentinas coop ltda"
          ],
          [
           "Egipto",
           46734000,
           516,
           24114744,
           646.8,
           "chs de argentina s.a."
          ],
          [
           "Egipto",
           19820000,
           514,
           10187480,
           646.8,
           "ldc argentina s.a."
          ],
          [
           "Egipto",
           69240000,
           528.2,
           36569140,
           646.8,
           "adm agro s r l"
          ],
          [
           "Egipto",
           15920000,
           513,
           8166611,
           646.8,
           "chs de argentina s.a."
          ],
          [
           "Egipto",
           19266000,
           514.8,
           9918330.5,
           646.8,
           "chs de argentina s.a."
          ],
          [
           "Egipto",
           7000000,
           517.5,
           3622570,
           646.8,
           "los grobo agropecuaria sa"
          ],
          [
           "Egipto",
           14014000,
           515.6,
           7225610,
           646.8,
           "chs de argentina s.a."
          ],
          [
           "Egipto",
           24075000,
           520.4,
           12529825,
           646.8,
           "adm agro s r l"
          ],
          [
           "Egipto",
           43500000,
           515.6,
           22429000,
           614.7,
           "chs de argentina s.a."
          ],
          [
           "Egipto",
           20000000,
           537.3,
           10745600,
           614.7,
           "los grobo agropecuaria sa"
          ],
          [
           "Egipto",
           18000000,
           519.1,
           9343350,
           614.7,
           "viterra argentina s.a."
          ],
          [
           "Egipto",
           22500000,
           514.5,
           11576397.4,
           614.7,
           "cargill sociedad anonima comercial e industrial"
          ],
          [
           "Egipto",
           7400000,
           506.5,
           3748378,
           614.7,
           "ypf sociedad anonima"
          ],
          [
           "Egipto",
           3860000,
           553.4,
           2136248.5,
           614.7,
           "viterra argentina s.a."
          ],
          [
           "Egipto",
           24400000,
           479,
           11687600,
           614.7,
           "adm agro s r l"
          ],
          [
           "Egipto",
           33700000,
           472.5,
           15924005,
           600.4,
           "adm agro s r l"
          ],
          [
           "Egipto",
           48300000,
           560.1,
           27055200,
           600.4,
           "chs de argentina s.a."
          ],
          [
           "Egipto",
           21429000,
           490.5,
           10509883,
           600.4,
           "chs de argentina s.a."
          ],
          [
           "Egipto",
           37000000,
           537.3,
           19879440.5,
           585.8,
           "chs de argentina s.a."
          ],
          [
           "Egipto",
           28020000,
           533.4,
           14945035.1,
           585.8,
           "chs de argentina s.a."
          ]
         ],
         "hovertemplate": "Destino=%{customdata[0]}<br>Fecha=%{x}<br>Spread=%{y}<br>Kg=%{customdata[1]}<br>Precio=%{customdata[2]}<br>Fob=%{customdata[3]}<br>Precio de referencia=%{customdata[4]}<br>Exportador=%{customdata[5]}<extra></extra>",
         "legendgroup": "Egipto",
         "marker": {
          "color": "#FF6692",
          "line": {
           "color": "DarkSlateGrey",
           "width": 2
          },
          "size": 12,
          "symbol": "circle"
         },
         "mode": "markers",
         "name": "Egipto",
         "showlegend": true,
         "type": "scattergl",
         "x": [
          "04-2021",
          "04-2021",
          "04-2021",
          "04-2021",
          "04-2021",
          "04-2021",
          "04-2021",
          "04-2021",
          "05-2021",
          "05-2021",
          "05-2021",
          "05-2021",
          "05-2021",
          "05-2021",
          "05-2021",
          "05-2021",
          "06-2021",
          "06-2021",
          "06-2021",
          "06-2021",
          "06-2021",
          "06-2021",
          "06-2021",
          "07-2021",
          "07-2021",
          "07-2021",
          "08-2021",
          "08-2021"
         ],
         "xaxis": "x",
         "y": [
          -88.2,
          -90.1,
          -61.1,
          -88.1,
          -110.1,
          -84.4,
          -99.2,
          -90.8,
          -130.8,
          -132.8,
          -118.6,
          -133.8,
          -132,
          -129.3,
          -131.2,
          -126.4,
          -99.1,
          -77.4,
          -95.6,
          -100.2,
          -108.1,
          -61.2,
          -135.7,
          -127.9,
          -40.3,
          -110,
          -48.5,
          -52.4
         ],
         "yaxis": "y"
        },
        {
         "customdata": [
          [
           "Rumania",
           10153000,
           514,
           5218642,
           597.1,
           "amaggi argentina s.a."
          ]
         ],
         "hovertemplate": "Destino=%{customdata[0]}<br>Fecha=%{x}<br>Spread=%{y}<br>Kg=%{customdata[1]}<br>Precio=%{customdata[2]}<br>Fob=%{customdata[3]}<br>Precio de referencia=%{customdata[4]}<br>Exportador=%{customdata[5]}<extra></extra>",
         "legendgroup": "Rumania",
         "marker": {
          "color": "#B6E880",
          "line": {
           "color": "DarkSlateGrey",
           "width": 2
          },
          "size": 12,
          "symbol": "circle"
         },
         "mode": "markers",
         "name": "Rumania",
         "showlegend": true,
         "type": "scattergl",
         "x": [
          "04-2021"
         ],
         "xaxis": "x",
         "y": [
          -83.1
         ],
         "yaxis": "y"
        },
        {
         "customdata": [
          [
           "Rusia",
           24705000,
           488,
           12056040,
           597.1,
           "mirgor sa c i f i a"
          ],
          [
           "Rusia",
           26982010,
           478.9,
           12921376.8,
           614.7,
           "mirgor sa c i f i a"
          ],
          [
           "Rusia",
           23580000,
           490.1,
           11557592,
           600.4,
           "mirgor sa c i f i a"
          ],
          [
           "Rusia",
           25297000,
           522.4,
           13214895,
           585.8,
           "mirgor sa c i f i a"
          ],
          [
           "Rusia",
           15800000,
           540.7,
           8543145,
           557.6,
           "mirgor sa c i f i a"
          ],
          [
           "Rusia",
           14556300,
           513.5,
           7474681.5,
           557.6,
           "mirgor sa c i f i a"
          ],
          [
           "Rusia",
           28370000,
           634,
           17986580,
           737.1,
           "mirgor sa c i f i a"
          ]
         ],
         "hovertemplate": "Destino=%{customdata[0]}<br>Fecha=%{x}<br>Spread=%{y}<br>Kg=%{customdata[1]}<br>Precio=%{customdata[2]}<br>Fob=%{customdata[3]}<br>Precio de referencia=%{customdata[4]}<br>Exportador=%{customdata[5]}<extra></extra>",
         "legendgroup": "Rusia",
         "marker": {
          "color": "#FF97FF",
          "line": {
           "color": "DarkSlateGrey",
           "width": 2
          },
          "size": 12,
          "symbol": "circle"
         },
         "mode": "markers",
         "name": "Rusia",
         "showlegend": true,
         "type": "scattergl",
         "x": [
          "04-2021",
          "06-2021",
          "07-2021",
          "08-2021",
          "09-2021",
          "09-2021",
          "06-2022"
         ],
         "xaxis": "x",
         "y": [
          -109.1,
          -135.8,
          -110.3,
          -63.4,
          -16.8,
          -44,
          -103.1
         ],
         "yaxis": "y"
        },
        {
         "customdata": [
          [
           "China",
           44000000,
           508,
           22352000,
           597.1,
           "asociacion de cooperativas argentinas coop ltda"
          ],
          [
           "China",
           44966550,
           475,
           21360267.8,
           597.1,
           "chs de argentina s.a."
          ],
          [
           "China",
           10000000,
           508.5,
           5085000,
           597.1,
           "los grobo agropecuaria sa"
          ],
          [
           "China",
           32708965,
           500.4,
           16368264.8,
           597.1,
           "chs de argentina s.a."
          ],
          [
           "China",
           2456715,
           514,
           1262748.9,
           646.8,
           "cargill sociedad anonima comercial e industrial"
          ],
          [
           "China",
           45200000,
           507.1,
           22923025,
           646.8,
           "asociacion de cooperativas argentinas coop ltda"
          ],
          [
           "China",
           25300000,
           513.9,
           13001466.9,
           646.8,
           "cargill sociedad anonima comercial e industrial"
          ],
          [
           "China",
           48720116,
           526,
           25626783.1,
           646.8,
           "cofco international argentina s.a."
          ],
          [
           "China",
           19331000,
           551.4,
           10659785.5,
           646.8,
           "chs de argentina s.a."
          ],
          [
           "China",
           98021000,
           517.5,
           50722883,
           646.8,
           "asociacion de cooperativas argentinas coop ltda"
          ],
          [
           "China",
           34180000,
           514,
           17568520,
           646.8,
           "ldc argentina s.a."
          ],
          [
           "China",
           10000000,
           508.3,
           5083000,
           646.8,
           "los grobo agropecuaria sa"
          ],
          [
           "China",
           763285,
           510,
           389272.8,
           646.8,
           "cargill sociedad anonima comercial e industrial"
          ],
          [
           "China",
           13291035,
           520.7,
           6921127.3,
           646.8,
           "chs de argentina s.a."
          ],
          [
           "China",
           27207000,
           497,
           13521879,
           646.8,
           "asociacion de cooperativas argentinas coop ltda"
          ],
          [
           "China",
           18979880,
           530.1,
           10060813.7,
           646.8,
           "cofco international argentina s.a."
          ],
          [
           "China",
           66887000,
           513,
           34310583,
           646.8,
           "asociacion de cooperativas argentinas coop ltda"
          ],
          [
           "China",
           17829000,
           521,
           9288909,
           646.8,
           "asociacion de cooperativas argentinas coop ltda"
          ],
          [
           "China",
           34570000,
           516,
           17838120,
           646.8,
           "ldc argentina s.a."
          ],
          [
           "China",
           40000000,
           504,
           20160000,
           646.8,
           "asociacion de cooperativas argentinas coop ltda"
          ],
          [
           "China",
           16513000,
           509,
           8405117,
           646.8,
           "asociacion de cooperativas argentinas coop ltda"
          ],
          [
           "China",
           10000000,
           542.6,
           5425800,
           646.8,
           "los grobo agropecuaria sa"
          ],
          [
           "China",
           34553680,
           513.5,
           17743468.2,
           646.8,
           "chs de argentina s.a."
          ],
          [
           "China",
           40981000,
           512.2,
           20991551,
           614.7,
           "cargill sociedad anonima comercial e industrial"
          ],
          [
           "China",
           29300000,
           504,
           14767200,
           614.7,
           "asociacion de cooperativas argentinas coop ltda"
          ],
          [
           "China",
           47745530,
           551.1,
           26314864.6,
           614.7,
           "chs de argentina s.a."
          ],
          [
           "China",
           23852000,
           548.8,
           13090617.3,
           614.7,
           "chs de argentina s.a."
          ],
          [
           "China",
           5000000,
           537.2,
           2686100,
           614.7,
           "los grobo agropecuaria sa"
          ],
          [
           "China",
           19836000,
           546.7,
           10844541.2,
           614.7,
           "chs de argentina s.a."
          ],
          [
           "China",
           23000000,
           525.4,
           12084000,
           614.7,
           "amaggi argentina s.a."
          ],
          [
           "China",
           14246000,
           552,
           7863792,
           614.7,
           "chs de argentina s.a."
          ],
          [
           "China",
           35320000,
           527.6,
           18633455.8,
           614.7,
           "asociacion de cooperativas argentinas coop ltda"
          ],
          [
           "China",
           22500000,
           510,
           11474620,
           614.7,
           "adm agro s r l"
          ],
          [
           "China",
           29696000,
           543,
           16124928,
           600.4,
           "asociacion de cooperativas argentinas coop ltda"
          ],
          [
           "China",
           39950000,
           463.4,
           18512770,
           600.4,
           "adm agro s r l"
          ],
          [
           "China",
           35440000,
           525.8,
           18633024,
           600.4,
           "ldc argentina s.a."
          ],
          [
           "China",
           37224070,
           514.2,
           19142133.6,
           600.4,
           "asociacion de cooperativas argentinas coop ltda"
          ],
          [
           "China",
           38395705,
           485,
           18621919.4,
           600.4,
           "cargill sociedad anonima comercial e industrial"
          ],
          [
           "China",
           29350000,
           459.3,
           13480835,
           600.4,
           "adm agro s r l"
          ],
          [
           "China",
           40497925,
           515.6,
           20879837.5,
           600.4,
           "chs de argentina s.a."
          ],
          [
           "China",
           36867050,
           546.2,
           20136825.1,
           600.4,
           "viterra argentina s.a."
          ],
          [
           "China",
           32335000,
           538.4,
           17410704,
           600.4,
           "ldc argentina s.a."
          ],
          [
           "China",
           14046000,
           513,
           7205598,
           600.4,
           "asociacion de cooperativas argentinas coop ltda"
          ],
          [
           "China",
           15000000,
           541.5,
           8122605,
           600.4,
           "los grobo agropecuaria sa"
          ],
          [
           "China",
           37260000,
           488.4,
           18198360,
           600.4,
           "syngenta agro sociedad anonima"
          ],
          [
           "China",
           25000000,
           546.2,
           13654150,
           600.4,
           "los grobo agropecuaria sa"
          ],
          [
           "China",
           46100000,
           477.5,
           22014594,
           600.4,
           "viterra argentina s.a."
          ],
          [
           "China",
           43512000,
           514,
           22365168,
           600.4,
           "asociacion de cooperativas argentinas coop ltda"
          ],
          [
           "China",
           26510000,
           520.3,
           13793344.1,
           600.4,
           "chs de argentina s.a."
          ],
          [
           "China",
           48100000,
           513.6,
           24702400,
           600.4,
           "chs de argentina s.a."
          ],
          [
           "China",
           28440000,
           495.1,
           14080823.6,
           585.8,
           "cargill sociedad anonima comercial e industrial"
          ],
          [
           "China",
           15000000,
           509.6,
           7643250,
           585.8,
           "los grobo agropecuaria sa"
          ],
          [
           "China",
           31240000,
           508,
           15869540,
           585.8,
           "syngenta agro sociedad anonima"
          ],
          [
           "China",
           12835000,
           534.1,
           6855161.1,
           585.8,
           "viterra argentina s.a."
          ],
          [
           "China",
           41600000,
           537.7,
           22370043,
           585.8,
           "ldc argentina s.a."
          ],
          [
           "China",
           1555000,
           541,
           841317.2,
           585.8,
           "viterra argentina s.a."
          ],
          [
           "China",
           37647000,
           461,
           17355267,
           585.8,
           "adm agro s r l"
          ],
          [
           "China",
           41703900,
           515.8,
           21508921.6,
           585.8,
           "chs de argentina s.a."
          ],
          [
           "China",
           25788000,
           514,
           13255032,
           585.8,
           "asociacion de cooperativas argentinas coop ltda"
          ],
          [
           "China",
           37042000,
           562,
           20817604,
           585.8,
           "adm agro s r l"
          ],
          [
           "China",
           40000000,
           485,
           19400000,
           585.8,
           "amaggi argentina s.a."
          ],
          [
           "China",
           27950000,
           485,
           13555750,
           585.8,
           "ldc argentina s.a."
          ],
          [
           "China",
           39910000,
           503,
           20074730,
           585.8,
           "syngenta agro sociedad anonima"
          ],
          [
           "China",
           47126000,
           536.3,
           25273356.7,
           585.8,
           "chs de argentina s.a."
          ],
          [
           "China",
           37178290,
           522.9,
           19442043.4,
           585.8,
           "cargill sociedad anonima comercial e industrial"
          ],
          [
           "China",
           21834200,
           523.4,
           11427486.6,
           585.8,
           "chs de argentina s.a."
          ],
          [
           "China",
           35474000,
           510,
           18091740,
           585.8,
           "asociacion de cooperativas argentinas coop ltda"
          ],
          [
           "China",
           41300000,
           521.9,
           21556468,
           585.8,
           "ldc argentina s.a."
          ],
          [
           "China",
           36975000,
           552,
           20410200,
           585.8,
           "cofco international argentina s.a."
          ],
          [
           "China",
           30620000,
           531.8,
           16283196,
           585.8,
           "amaggi argentina s.a."
          ],
          [
           "China",
           17600000,
           538.2,
           9471800,
           585.8,
           "chs de argentina s.a."
          ],
          [
           "China",
           31430000,
           536,
           16846474.6,
           585.8,
           "cargill sociedad anonima comercial e industrial"
          ],
          [
           "China",
           29390000,
           503,
           14783170,
           585.8,
           "syngenta agro sociedad anonima"
          ],
          [
           "China",
           13001050,
           533.9,
           6941390.6,
           585.8,
           "viterra argentina s.a."
          ],
          [
           "China",
           36346000,
           525.6,
           19101810,
           585.8,
           "cofco international argentina s.a."
          ],
          [
           "China",
           36600000,
           531,
           19434600,
           585.8,
           "syngenta agro sociedad anonima"
          ],
          [
           "China",
           32325000,
           509.2,
           16459200,
           585.8,
           "cofco international argentina s.a."
          ],
          [
           "China",
           33679000,
           510,
           17176290,
           585.8,
           "asociacion de cooperativas argentinas coop ltda"
          ],
          [
           "China",
           37100000,
           496,
           18401354,
           585.8,
           "adm agro s r l"
          ],
          [
           "China",
           27502000,
           535.5,
           14728445,
           585.8,
           "ldc argentina s.a."
          ],
          [
           "China",
           20450000,
           549,
           11226200,
           585.8,
           "chs de argentina s.a."
          ],
          [
           "China",
           34419000,
           495,
           17037405,
           585.8,
           "asociacion de cooperativas argentinas coop ltda"
          ],
          [
           "China",
           34065000,
           531.6,
           18107591.4,
           585.8,
           "viterra argentina s.a."
          ],
          [
           "China",
           32700000,
           531,
           17363700,
           585.8,
           "syngenta agro sociedad anonima"
          ],
          [
           "China",
           18445000,
           533,
           9831185,
           585.8,
           "bunge argentina s a"
          ],
          [
           "China",
           32954000,
           510.4,
           16820365,
           585.8,
           "cofco international argentina s.a."
          ],
          [
           "China",
           36227000,
           541.8,
           19626072,
           585.8,
           "cofco international argentina s.a."
          ],
          [
           "China",
           66863000,
           498.7,
           33345936.2,
           585.8,
           "asociacion de cooperativas argentinas coop ltda"
          ],
          [
           "China",
           33068000,
           522.6,
           17281243,
           585.8,
           "ldc argentina s.a."
          ],
          [
           "China",
           27000000,
           485,
           13095000,
           585.8,
           "adm agro s r l"
          ],
          [
           "China",
           37062430,
           536,
           19865462.5,
           557.6,
           "cargill sociedad anonima comercial e industrial"
          ],
          [
           "China",
           35516000,
           501.7,
           17818910,
           557.6,
           "asociacion de cooperativas argentinas coop ltda"
          ],
          [
           "China",
           32186000,
           518.5,
           16687126,
           557.6,
           "cofco international argentina s.a."
          ],
          [
           "China",
           28720000,
           536,
           15393920,
           557.6,
           "adm agro s r l"
          ],
          [
           "China",
           31820000,
           544,
           17310080,
           557.6,
           "cargill sociedad anonima comercial e industrial"
          ],
          [
           "China",
           42941755,
           541.8,
           23267408.8,
           557.6,
           "cargill sociedad anonima comercial e industrial"
          ],
          [
           "China",
           26472000,
           528.9,
           14002266.6,
           557.6,
           "viterra argentina s.a."
          ],
          [
           "China",
           25000000,
           538.1,
           13453000,
           557.6,
           "lartirigoyen y cia s a"
          ],
          [
           "China",
           32180000,
           496.1,
           15963484,
           557.6,
           "adm agro s r l"
          ],
          [
           "China",
           6652000,
           541.1,
           3599622,
           557.6,
           "ldc argentina s.a."
          ],
          [
           "China",
           33000000,
           543.6,
           17938203,
           557.6,
           "amaggi argentina s.a."
          ],
          [
           "China",
           41397975,
           547.6,
           22668685.8,
           557.6,
           "cargill sociedad anonima comercial e industrial"
          ],
          [
           "China",
           8518000,
           530.4,
           4517629.9,
           557.6,
           "viterra argentina s.a."
          ],
          [
           "China",
           26800000,
           546.8,
           14654638.3,
           557.6,
           "cargill sociedad anonima comercial e industrial"
          ],
          [
           "China",
           40091000,
           533.2,
           21378048,
           557.6,
           "asociacion de cooperativas argentinas coop ltda"
          ],
          [
           "China",
           27200000,
           532.6,
           14487995,
           557.6,
           "ldc argentina s.a."
          ],
          [
           "China",
           24420000,
           539.1,
           13164523.8,
           557.6,
           "cargill sociedad anonima comercial e industrial"
          ],
          [
           "China",
           39982000,
           529.5,
           21170496,
           557.6,
           "asociacion de cooperativas argentinas coop ltda"
          ],
          [
           "China",
           33200000,
           536.1,
           17798400,
           557.6,
           "adm agro s r l"
          ],
          [
           "China",
           29074000,
           517.1,
           15032905.4,
           557.6,
           "asociacion de cooperativas argentinas coop ltda"
          ],
          [
           "China",
           38330000,
           536.7,
           20573614,
           557.6,
           "adm agro s r l"
          ],
          [
           "China",
           67361010,
           524.9,
           35358703.7,
           552,
           "asociacion de cooperativas argentinas coop ltda"
          ],
          [
           "China",
           70451000,
           524,
           36918135,
           552,
           "asociacion de cooperativas argentinas coop ltda"
          ],
          [
           "China",
           33184000,
           522,
           17322048,
           552,
           "asociacion de cooperativas argentinas coop ltda"
          ],
          [
           "China",
           38745000,
           533,
           20651085,
           552,
           "asociacion de cooperativas argentinas coop ltda"
          ],
          [
           "China",
           32110000,
           537,
           17242026,
           552,
           "adm agro s r l"
          ],
          [
           "China",
           37190000,
           525.6,
           19546974,
           552,
           "adm agro s r l"
          ],
          [
           "China",
           30756000,
           532,
           16361748,
           552,
           "asociacion de cooperativas argentinas coop ltda"
          ],
          [
           "China",
           9760000,
           652,
           6363520,
           724.1,
           "cargill sociedad anonima comercial e industrial"
          ],
          [
           "China",
           35707830,
           457.6,
           16341017.5,
           724.1,
           "chs de argentina s.a."
          ],
          [
           "China",
           7000000,
           632,
           4424140,
           724.1,
           "agrofina s a"
          ],
          [
           "China",
           22948000,
           583.9,
           13398504.6,
           724.1,
           "chs de argentina s.a."
          ],
          [
           "China",
           35680000,
           582,
           20765760,
           724.1,
           "ldc argentina s.a."
          ],
          [
           "China",
           28477000,
           595.1,
           16947819,
           724.1,
           "chs de argentina s.a."
          ],
          [
           "China",
           17942805,
           638.5,
           11456250,
           737.1,
           "chs de argentina s.a."
          ],
          [
           "China",
           10000000,
           639.7,
           6396600,
           737.1,
           "agrofina s a"
          ],
          [
           "China",
           20985000,
           656.8,
           13782127,
           737.1,
           "chs de argentina s.a."
          ],
          [
           "China",
           10000000,
           646.5,
           6465100,
           737.1,
           "los grobo agropecuaria sa"
          ],
          [
           "China",
           23250000,
           582,
           13531500,
           737.1,
           "ldc argentina s.a."
          ],
          [
           "China",
           5000000,
           657.3,
           3286650,
           737.1,
           "los grobo agropecuaria sa"
          ],
          [
           "China",
           36958000,
           651.9,
           24092178,
           737.1,
           "chs de argentina s.a."
          ],
          [
           "China",
           70283000,
           660.6,
           46427613.5,
           737.1,
           "syngenta agro sociedad anonima"
          ],
          [
           "China",
           21330000,
           656,
           13992480,
           678.2,
           "cargill sociedad anonima comercial e industrial"
          ],
          [
           "China",
           10000000,
           661.5,
           6615250,
           678.2,
           "los grobo agropecuaria sa"
          ],
          [
           "China",
           2500000,
           655.2,
           1637875,
           678.2,
           "curcija sociedad anonima"
          ],
          [
           "China",
           5000000,
           659,
           3295000,
           678.2,
           "los grobo agropecuaria sa"
          ],
          [
           "China",
           18754000,
           666.1,
           12491162,
           678.2,
           "cofco international argentina s.a."
          ],
          [
           "China",
           26648485,
           656,
           17481402.9,
           678.2,
           "ldc argentina s.a."
          ],
          [
           "China",
           10000000,
           655.6,
           6556400,
           678.2,
           "los grobo agropecuaria sa"
          ],
          [
           "China",
           5000000,
           626.2,
           3130850,
           678.2,
           "agrofina s a"
          ],
          [
           "China",
           8445000,
           657.6,
           5553261,
           678.2,
           "chs de argentina s.a."
          ],
          [
           "China",
           24000000,
           624.7,
           14992500,
           678.2,
           "asociacion de cooperativas argentinas coop ltda"
          ],
          [
           "China",
           24300000,
           631.1,
           15335712,
           678.2,
           "asociacion de cooperativas argentinas coop ltda"
          ],
          [
           "China",
           69300000,
           621.4,
           43063081.7,
           678.2,
           "syngenta agro sociedad anonima"
          ],
          [
           "China",
           24130000,
           592.5,
           14297100,
           678.2,
           "cargill sociedad anonima comercial e industrial"
          ],
          [
           "China",
           5000000,
           674.4,
           3372050,
           678.2,
           "los grobo agropecuaria sa"
          ],
          [
           "China",
           42772000,
           647,
           27673484,
           678.2,
           "asociacion de cooperativas argentinas coop ltda"
          ],
          [
           "China",
           21788000,
           644.2,
           14036151.3,
           678.2,
           "ldc argentina s.a."
          ],
          [
           "China",
           44800000,
           685.7,
           30718756,
           678.2,
           "asociacion de cooperativas argentinas coop ltda"
          ],
          [
           "China",
           9770000,
           575,
           5617750,
           678.2,
           "ldc argentina s.a."
          ]
         ],
         "hovertemplate": "Destino=%{customdata[0]}<br>Fecha=%{x}<br>Spread=%{y}<br>Kg=%{customdata[1]}<br>Precio=%{customdata[2]}<br>Fob=%{customdata[3]}<br>Precio de referencia=%{customdata[4]}<br>Exportador=%{customdata[5]}<extra></extra>",
         "legendgroup": "China",
         "marker": {
          "color": "#FECB52",
          "line": {
           "color": "DarkSlateGrey",
           "width": 2
          },
          "size": 12,
          "symbol": "circle"
         },
         "mode": "markers",
         "name": "China",
         "showlegend": true,
         "type": "scattergl",
         "x": [
          "04-2021",
          "04-2021",
          "04-2021",
          "04-2021",
          "05-2021",
          "05-2021",
          "05-2021",
          "05-2021",
          "05-2021",
          "05-2021",
          "05-2021",
          "05-2021",
          "05-2021",
          "05-2021",
          "05-2021",
          "05-2021",
          "05-2021",
          "05-2021",
          "05-2021",
          "05-2021",
          "05-2021",
          "05-2021",
          "05-2021",
          "06-2021",
          "06-2021",
          "06-2021",
          "06-2021",
          "06-2021",
          "06-2021",
          "06-2021",
          "06-2021",
          "06-2021",
          "06-2021",
          "07-2021",
          "07-2021",
          "07-2021",
          "07-2021",
          "07-2021",
          "07-2021",
          "07-2021",
          "07-2021",
          "07-2021",
          "07-2021",
          "07-2021",
          "07-2021",
          "07-2021",
          "07-2021",
          "07-2021",
          "07-2021",
          "07-2021",
          "08-2021",
          "08-2021",
          "08-2021",
          "08-2021",
          "08-2021",
          "08-2021",
          "08-2021",
          "08-2021",
          "08-2021",
          "08-2021",
          "08-2021",
          "08-2021",
          "08-2021",
          "08-2021",
          "08-2021",
          "08-2021",
          "08-2021",
          "08-2021",
          "08-2021",
          "08-2021",
          "08-2021",
          "08-2021",
          "08-2021",
          "08-2021",
          "08-2021",
          "08-2021",
          "08-2021",
          "08-2021",
          "08-2021",
          "08-2021",
          "08-2021",
          "08-2021",
          "08-2021",
          "08-2021",
          "08-2021",
          "08-2021",
          "08-2021",
          "08-2021",
          "08-2021",
          "08-2021",
          "09-2021",
          "09-2021",
          "09-2021",
          "09-2021",
          "09-2021",
          "09-2021",
          "09-2021",
          "09-2021",
          "09-2021",
          "09-2021",
          "09-2021",
          "09-2021",
          "09-2021",
          "09-2021",
          "09-2021",
          "09-2021",
          "09-2021",
          "09-2021",
          "09-2021",
          "09-2021",
          "09-2021",
          "10-2021",
          "10-2021",
          "10-2021",
          "10-2021",
          "10-2021",
          "10-2021",
          "10-2021",
          "05-2022",
          "05-2022",
          "05-2022",
          "05-2022",
          "05-2022",
          "05-2022",
          "06-2022",
          "06-2022",
          "06-2022",
          "06-2022",
          "06-2022",
          "06-2022",
          "06-2022",
          "06-2022",
          "07-2022",
          "07-2022",
          "07-2022",
          "07-2022",
          "07-2022",
          "07-2022",
          "07-2022",
          "07-2022",
          "07-2022",
          "07-2022",
          "07-2022",
          "07-2022",
          "07-2022",
          "07-2022",
          "07-2022",
          "07-2022",
          "07-2022",
          "07-2022"
         ],
         "xaxis": "x",
         "y": [
          -89.1,
          -122.1,
          -88.6,
          -96.7,
          -132.8,
          -139.7,
          -132.9,
          -120.8,
          -95.4,
          -129.3,
          -132.8,
          -138.5,
          -136.8,
          -126.1,
          -149.8,
          -116.7,
          -133.8,
          -125.8,
          -130.8,
          -142.8,
          -137.8,
          -104.2,
          -133.3,
          -102.5,
          -110.7,
          -63.5,
          -65.9,
          -77.5,
          -68,
          -89.3,
          -62.7,
          -87.1,
          -104.7,
          -57.4,
          -137,
          -74.7,
          -86.2,
          -115.4,
          -141.1,
          -84.9,
          -54.2,
          -62,
          -87.4,
          -58.9,
          -112,
          -54.3,
          -122.9,
          -86.4,
          -80.1,
          -86.9,
          -90.7,
          -76.2,
          -77.8,
          -51.7,
          -48.1,
          -44.8,
          -124.8,
          -70,
          -71.8,
          -23.8,
          -100.8,
          -100.8,
          -82.8,
          -49.5,
          -62.9,
          -62.4,
          -75.8,
          -63.9,
          -33.8,
          -54,
          -47.6,
          -49.8,
          -82.8,
          -51.9,
          -60.2,
          -54.8,
          -76.6,
          -75.8,
          -89.8,
          -50.3,
          -36.8,
          -90.8,
          -54.2,
          -54.8,
          -52.8,
          -75.4,
          -44,
          -87.1,
          -63.2,
          -100.8,
          -21.5,
          -55.8,
          -39.1,
          -21.5,
          -13.5,
          -15.7,
          -28.6,
          -19.4,
          -61.5,
          -16.4,
          -14,
          -10,
          -27.2,
          -10.7,
          -24.3,
          -24.9,
          -18.5,
          -28,
          -21.5,
          -40.5,
          -20.8,
          -27,
          -27.9,
          -30,
          -19,
          -15,
          -26.4,
          -20,
          -72.1,
          -266.5,
          -92.1,
          -140.2,
          -142.1,
          -128.9,
          -98.6,
          -97.4,
          -80.3,
          -90.5,
          -155.1,
          -79.7,
          -85.2,
          -76.5,
          -22.2,
          -16.7,
          -23.1,
          -19.2,
          -12.1,
          -22.2,
          -22.6,
          -52,
          -20.6,
          -53.5,
          -47.1,
          -56.8,
          -85.7,
          -3.8,
          -31.2,
          -34,
          7.5,
          -103.2
         ],
         "yaxis": "y"
        },
        {
         "customdata": [
          [
           "Jordania",
           11000000,
           510.4,
           5614100,
           597.1,
           "bunge argentina s a"
          ]
         ],
         "hovertemplate": "Destino=%{customdata[0]}<br>Fecha=%{x}<br>Spread=%{y}<br>Kg=%{customdata[1]}<br>Precio=%{customdata[2]}<br>Fob=%{customdata[3]}<br>Precio de referencia=%{customdata[4]}<br>Exportador=%{customdata[5]}<extra></extra>",
         "legendgroup": "Jordania",
         "marker": {
          "color": "#636efa",
          "line": {
           "color": "DarkSlateGrey",
           "width": 2
          },
          "size": 12,
          "symbol": "circle"
         },
         "mode": "markers",
         "name": "Jordania",
         "showlegend": true,
         "type": "scattergl",
         "x": [
          "04-2021"
         ],
         "xaxis": "x",
         "y": [
          -86.8
         ],
         "yaxis": "y"
        },
        {
         "customdata": [
          [
           "Tunez",
           5500000,
           517,
           2843500,
           646.8,
           "bunge argentina s a"
          ]
         ],
         "hovertemplate": "Destino=%{customdata[0]}<br>Fecha=%{x}<br>Spread=%{y}<br>Kg=%{customdata[1]}<br>Precio=%{customdata[2]}<br>Fob=%{customdata[3]}<br>Precio de referencia=%{customdata[4]}<br>Exportador=%{customdata[5]}<extra></extra>",
         "legendgroup": "Tunez",
         "marker": {
          "color": "#EF553B",
          "line": {
           "color": "DarkSlateGrey",
           "width": 2
          },
          "size": 12,
          "symbol": "circle"
         },
         "mode": "markers",
         "name": "Tunez",
         "showlegend": true,
         "type": "scattergl",
         "x": [
          "05-2021"
         ],
         "xaxis": "x",
         "y": [
          -129.8
         ],
         "yaxis": "y"
        },
        {
         "customdata": [
          [
           "Malasia",
           9570000,
           517,
           4947785.7,
           646.8,
           "viterra argentina s.a."
          ],
          [
           "Malasia",
           21846000,
           515.8,
           11267704,
           646.8,
           "ldc argentina s.a."
          ],
          [
           "Malasia",
           19828000,
           485,
           9616580,
           600.4,
           "amaggi argentina s.a."
          ],
          [
           "Malasia",
           20941000,
           537,
           11245317,
           585.8,
           "amaggi argentina s.a."
          ],
          [
           "Malasia",
           20316000,
           531,
           10787796,
           557.6,
           "ldc argentina s.a."
          ],
          [
           "Malasia",
           22000000,
           550,
           12098974,
           557.6,
           "amaggi argentina s.a."
          ]
         ],
         "hovertemplate": "Destino=%{customdata[0]}<br>Fecha=%{x}<br>Spread=%{y}<br>Kg=%{customdata[1]}<br>Precio=%{customdata[2]}<br>Fob=%{customdata[3]}<br>Precio de referencia=%{customdata[4]}<br>Exportador=%{customdata[5]}<extra></extra>",
         "legendgroup": "Malasia",
         "marker": {
          "color": "#00cc96",
          "line": {
           "color": "DarkSlateGrey",
           "width": 2
          },
          "size": 12,
          "symbol": "circle"
         },
         "mode": "markers",
         "name": "Malasia",
         "showlegend": true,
         "type": "scattergl",
         "x": [
          "05-2021",
          "05-2021",
          "07-2021",
          "08-2021",
          "09-2021",
          "09-2021"
         ],
         "xaxis": "x",
         "y": [
          -129.8,
          -131,
          -115.4,
          -48.8,
          -26.5,
          -7.6
         ],
         "yaxis": "y"
        },
        {
         "customdata": [
          [
           "Vietnam",
           10317000,
           547.9,
           5652597,
           646.8,
           "bunge argentina s a"
          ],
          [
           "Vietnam",
           300000,
           540,
           162000,
           600.4,
           "s & f global serv sociedad responsabilidad limitada"
          ],
          [
           "Vietnam",
           26500,
           766,
           20298.8,
           720.6,
           "bullmark srl"
          ]
         ],
         "hovertemplate": "Destino=%{customdata[0]}<br>Fecha=%{x}<br>Spread=%{y}<br>Kg=%{customdata[1]}<br>Precio=%{customdata[2]}<br>Fob=%{customdata[3]}<br>Precio de referencia=%{customdata[4]}<br>Exportador=%{customdata[5]}<extra></extra>",
         "legendgroup": "Vietnam",
         "marker": {
          "color": "#ab63fa",
          "line": {
           "color": "DarkSlateGrey",
           "width": 2
          },
          "size": 12,
          "symbol": "circle"
         },
         "mode": "markers",
         "name": "Vietnam",
         "showlegend": true,
         "type": "scattergl",
         "x": [
          "05-2021",
          "07-2021",
          "03-2022"
         ],
         "xaxis": "x",
         "y": [
          -98.9,
          -60.4,
          45.4
         ],
         "yaxis": "y"
        },
        {
         "customdata": [
          [
           "Indonesia",
           25000000,
           516,
           12900000,
           646.8,
           "amaggi argentina s.a."
          ],
          [
           "Indonesia",
           22000000,
           483.9,
           10646320,
           600.4,
           "adm agro s r l"
          ],
          [
           "Indonesia",
           10500000,
           540,
           5670000,
           557.6,
           "bunge argentina s a"
          ],
          [
           "Indonesia",
           10500000,
           542.3,
           5694000,
           552,
           "bunge argentina s a"
          ],
          [
           "Indonesia",
           21951000,
           530.9,
           11652750,
           551,
           "amaggi argentina s.a."
          ],
          [
           "Indonesia",
           19363000,
           593,
           11482259,
           724.1,
           "amaggi argentina s.a."
          ]
         ],
         "hovertemplate": "Destino=%{customdata[0]}<br>Fecha=%{x}<br>Spread=%{y}<br>Kg=%{customdata[1]}<br>Precio=%{customdata[2]}<br>Fob=%{customdata[3]}<br>Precio de referencia=%{customdata[4]}<br>Exportador=%{customdata[5]}<extra></extra>",
         "legendgroup": "Indonesia",
         "marker": {
          "color": "#FFA15A",
          "line": {
           "color": "DarkSlateGrey",
           "width": 2
          },
          "size": 12,
          "symbol": "circle"
         },
         "mode": "markers",
         "name": "Indonesia",
         "showlegend": true,
         "type": "scattergl",
         "x": [
          "05-2021",
          "07-2021",
          "09-2021",
          "10-2021",
          "11-2021",
          "05-2022"
         ],
         "xaxis": "x",
         "y": [
          -130.8,
          -116.5,
          -17.5,
          -9.7,
          -20.2,
          -131.1
         ],
         "yaxis": "y"
        },
        {
         "customdata": [
          [
           "Canada",
           244580,
           481,
           117643,
           646.8,
           "bro s.r.l."
          ],
          [
           "Canada",
           243000,
           481,
           116883,
           646.8,
           "bro s.r.l."
          ],
          [
           "Canada",
           513190,
           670,
           343837.3,
           614.7,
           "provinvest s.a."
          ],
          [
           "Canada",
           242080,
           481,
           116440.5,
           614.7,
           "bro s.r.l."
          ],
          [
           "Canada",
           244020,
           481,
           117373.6,
           614.7,
           "bro s.r.l."
          ],
          [
           "Canada",
           294000,
           570,
           167580,
           614.7,
           "campos verdes argentinos s.a."
          ],
          [
           "Canada",
           110920,
           935,
           103710.2,
           614.7,
           "roagro negocios s. a."
          ],
          [
           "Canada",
           527580,
           481,
           253766,
           614.7,
           "bro s.r.l."
          ],
          [
           "Canada",
           131840,
           935,
           123270.4,
           600.4,
           "roagro negocios s. a."
          ],
          [
           "Canada",
           294000,
           570,
           167580,
           600.4,
           "campos verdes argentinos s.a."
          ],
          [
           "Canada",
           296030,
           615,
           182058.4,
           600.4,
           "soyapampa s.a."
          ],
          [
           "Canada",
           203260,
           935,
           190048.1,
           600.4,
           "roagro negocios s. a."
          ],
          [
           "Canada",
           150500,
           570,
           85785,
           585.8,
           "conosur foods argentina sa"
          ],
          [
           "Canada",
           118320,
           590,
           69808.8,
           585.8,
           "edco grains s.a"
          ],
          [
           "Canada",
           430000,
           570,
           245100,
           585.8,
           "conosur foods argentina sa"
          ],
          [
           "Canada",
           107500,
           570,
           61275,
           585.8,
           "conosur foods argentina sa"
          ],
          [
           "Canada",
           193500,
           570,
           110295,
           585.8,
           "campos verdes argentinos s.a."
          ],
          [
           "Canada",
           129000,
           570,
           73530,
           585.8,
           "conosur foods argentina sa"
          ],
          [
           "Canada",
           645000,
           570,
           367650,
           585.8,
           "campos verdes argentinos s.a."
          ],
          [
           "Canada",
           104260,
           615,
           64119.9,
           557.6,
           "soyapampa s.a."
          ],
          [
           "Canada",
           177080,
           481,
           85175.5,
           557.6,
           "bro s.r.l."
          ],
          [
           "Canada",
           322500,
           690,
           222525,
           557.6,
           "delotte sa"
          ],
          [
           "Canada",
           269820,
           468.7,
           126464.5,
           557.6,
           "bro s.r.l."
          ],
          [
           "Canada",
           103460,
           882.4,
           91291.1,
           557.6,
           "delotte sa"
          ],
          [
           "Canada",
           104800,
           615,
           64452,
           557.6,
           "soyapampa s.a."
          ],
          [
           "Canada",
           189640,
           615,
           116628.6,
           557.6,
           "miska s.a."
          ],
          [
           "Canada",
           224100,
           481,
           107792.1,
           557.6,
           "bro s.r.l."
          ],
          [
           "Canada",
           483710,
           630,
           304737.3,
           557.6,
           "magno s.a."
          ],
          [
           "Canada",
           456360,
           481,
           219509.2,
           557.6,
           "bro s.r.l."
          ],
          [
           "Canada",
           343180,
           481,
           165069.6,
           552,
           "bro s.r.l."
          ],
          [
           "Canada",
           516000,
           650,
           335400,
           554.1,
           "special grains s a"
          ],
          [
           "Canada",
           258000,
           650,
           167700,
           606.2,
           "petroagro sociedad anonima"
          ],
          [
           "Canada",
           43000,
           650,
           27950,
           606.2,
           "petroagro sociedad anonima"
          ],
          [
           "Canada",
           86000,
           650,
           55900,
           606.2,
           "petroagro sociedad anonima"
          ],
          [
           "Canada",
           107440,
           650,
           69836,
           661.6,
           "petroagro sociedad anonima"
          ],
          [
           "Canada",
           180000,
           665,
           119700,
           661.6,
           "santa anita oil sa"
          ]
         ],
         "hovertemplate": "Destino=%{customdata[0]}<br>Fecha=%{x}<br>Spread=%{y}<br>Kg=%{customdata[1]}<br>Precio=%{customdata[2]}<br>Fob=%{customdata[3]}<br>Precio de referencia=%{customdata[4]}<br>Exportador=%{customdata[5]}<extra></extra>",
         "legendgroup": "Canada",
         "marker": {
          "color": "#19d3f3",
          "line": {
           "color": "DarkSlateGrey",
           "width": 2
          },
          "size": 12,
          "symbol": "circle"
         },
         "mode": "markers",
         "name": "Canada",
         "showlegend": true,
         "type": "scattergl",
         "x": [
          "05-2021",
          "05-2021",
          "06-2021",
          "06-2021",
          "06-2021",
          "06-2021",
          "06-2021",
          "06-2021",
          "07-2021",
          "07-2021",
          "07-2021",
          "07-2021",
          "08-2021",
          "08-2021",
          "08-2021",
          "08-2021",
          "08-2021",
          "08-2021",
          "08-2021",
          "09-2021",
          "09-2021",
          "09-2021",
          "09-2021",
          "09-2021",
          "09-2021",
          "09-2021",
          "09-2021",
          "09-2021",
          "09-2021",
          "10-2021",
          "12-2021",
          "01-2022",
          "01-2022",
          "01-2022",
          "02-2022",
          "02-2022"
         ],
         "xaxis": "x",
         "y": [
          -165.8,
          -165.8,
          55.3,
          -133.7,
          -133.7,
          -44.7,
          320.3,
          -133.7,
          334.6,
          -30.4,
          14.6,
          334.6,
          -15.8,
          4.2,
          -15.8,
          -15.8,
          -15.8,
          -15.8,
          -15.8,
          57.5,
          -76.5,
          132.5,
          -88.9,
          324.8,
          57.5,
          57.5,
          -76.5,
          72.5,
          -76.5,
          -71,
          95.9,
          43.8,
          43.8,
          43.8,
          -11.6,
          3.4
         ],
         "yaxis": "y"
        },
        {
         "customdata": [
          [
           "Polonia",
           9519670,
           544,
           5178510.1,
           614.7,
           "viterra argentina s.a."
          ]
         ],
         "hovertemplate": "Destino=%{customdata[0]}<br>Fecha=%{x}<br>Spread=%{y}<br>Kg=%{customdata[1]}<br>Precio=%{customdata[2]}<br>Fob=%{customdata[3]}<br>Precio de referencia=%{customdata[4]}<br>Exportador=%{customdata[5]}<extra></extra>",
         "legendgroup": "Polonia",
         "marker": {
          "color": "#FF6692",
          "line": {
           "color": "DarkSlateGrey",
           "width": 2
          },
          "size": 12,
          "symbol": "circle"
         },
         "mode": "markers",
         "name": "Polonia",
         "showlegend": true,
         "type": "scattergl",
         "x": [
          "06-2021"
         ],
         "xaxis": "x",
         "y": [
          -70.7
         ],
         "yaxis": "y"
        },
        {
         "customdata": [
          [
           "Arabia saudita",
           27400000,
           514,
           14083600,
           614.7,
           "fondomonte south america sa"
          ],
          [
           "Arabia saudita",
           4346420,
           548.6,
           2384241.7,
           614.7,
           "cargill sociedad anonima comercial e industrial"
          ],
          [
           "Arabia saudita",
           30250000,
           540.4,
           16347295,
           557.6,
           "bunge argentina s a"
          ],
          [
           "Arabia saudita",
           23650000,
           674,
           15940100,
           678.2,
           "fondomonte south america sa"
          ]
         ],
         "hovertemplate": "Destino=%{customdata[0]}<br>Fecha=%{x}<br>Spread=%{y}<br>Kg=%{customdata[1]}<br>Precio=%{customdata[2]}<br>Fob=%{customdata[3]}<br>Precio de referencia=%{customdata[4]}<br>Exportador=%{customdata[5]}<extra></extra>",
         "legendgroup": "Arabia saudita",
         "marker": {
          "color": "#B6E880",
          "line": {
           "color": "DarkSlateGrey",
           "width": 2
          },
          "size": 12,
          "symbol": "circle"
         },
         "mode": "markers",
         "name": "Arabia saudita",
         "showlegend": true,
         "type": "scattergl",
         "x": [
          "06-2021",
          "06-2021",
          "09-2021",
          "07-2022"
         ],
         "xaxis": "x",
         "y": [
          -100.7,
          -66.1,
          -17.1,
          -4.2
         ],
         "yaxis": "y"
        },
        {
         "customdata": [
          [
           "Taiwan",
           130720,
           361.8,
           47289.3,
           614.7,
           "cagnoni walter ernesto"
          ],
          [
           "Taiwan",
           250000,
           426,
           106500,
           600.4,
           "s & f global serv sociedad responsabilidad limitada"
          ],
          [
           "Taiwan",
           250000,
           426,
           106500,
           600.4,
           "s & f global serv sociedad responsabilidad limitada"
          ],
          [
           "Taiwan",
           250000,
           432,
           108000,
           585.8,
           "cagnoni walter ernesto"
          ],
          [
           "Taiwan",
           125000,
           431,
           53875,
           585.8,
           "s & f global serv sociedad responsabilidad limitada"
          ],
          [
           "Taiwan",
           250000,
           432,
           108000,
           557.6,
           "cagnoni walter ernesto"
          ],
          [
           "Taiwan",
           498360,
           427,
           212799.7,
           557.6,
           "cagnoni walter ernesto"
          ],
          [
           "Taiwan",
           250000,
           427,
           106750,
           552,
           "cagnoni walter ernesto"
          ],
          [
           "Taiwan",
           125000,
           421,
           52625,
           552,
           "cagnoni walter ernesto"
          ],
          [
           "Taiwan",
           375000,
           414.3,
           155375,
           552,
           "cagnoni walter ernesto"
          ],
          [
           "Taiwan",
           250000,
           421,
           105250,
           551,
           "cagnoni walter ernesto"
          ],
          [
           "Taiwan",
           250000,
           412,
           103000,
           551,
           "cagnoni walter ernesto"
          ],
          [
           "Taiwan",
           503300,
           412,
           207367.1,
           554.1,
           "cagnoni walter ernesto"
          ],
          [
           "Taiwan",
           19550000,
           677.7,
           13249231,
           737.1,
           "amaggi argentina s.a."
          ]
         ],
         "hovertemplate": "Destino=%{customdata[0]}<br>Fecha=%{x}<br>Spread=%{y}<br>Kg=%{customdata[1]}<br>Precio=%{customdata[2]}<br>Fob=%{customdata[3]}<br>Precio de referencia=%{customdata[4]}<br>Exportador=%{customdata[5]}<extra></extra>",
         "legendgroup": "Taiwan",
         "marker": {
          "color": "#FF97FF",
          "line": {
           "color": "DarkSlateGrey",
           "width": 2
          },
          "size": 12,
          "symbol": "circle"
         },
         "mode": "markers",
         "name": "Taiwan",
         "showlegend": true,
         "type": "scattergl",
         "x": [
          "06-2021",
          "07-2021",
          "07-2021",
          "08-2021",
          "08-2021",
          "09-2021",
          "09-2021",
          "10-2021",
          "10-2021",
          "10-2021",
          "11-2021",
          "11-2021",
          "12-2021",
          "06-2022"
         ],
         "xaxis": "x",
         "y": [
          -252.9,
          -174.4,
          -174.4,
          -153.8,
          -154.8,
          -125.5,
          -130.5,
          -125,
          -131,
          -137.6,
          -130,
          -139,
          -142.1,
          -59.3
         ],
         "yaxis": "y"
        },
        {
         "customdata": [
          [
           "Marruecos",
           9137000,
           528.8,
           4831237.2,
           600.4,
           "molinos agro s.a."
          ]
         ],
         "hovertemplate": "Destino=%{customdata[0]}<br>Fecha=%{x}<br>Spread=%{y}<br>Kg=%{customdata[1]}<br>Precio=%{customdata[2]}<br>Fob=%{customdata[3]}<br>Precio de referencia=%{customdata[4]}<br>Exportador=%{customdata[5]}<extra></extra>",
         "legendgroup": "Marruecos",
         "marker": {
          "color": "#FECB52",
          "line": {
           "color": "DarkSlateGrey",
           "width": 2
          },
          "size": 12,
          "symbol": "circle"
         },
         "mode": "markers",
         "name": "Marruecos",
         "showlegend": true,
         "type": "scattergl",
         "x": [
          "07-2021"
         ],
         "xaxis": "x",
         "y": [
          -71.7
         ],
         "yaxis": "y"
        },
        {
         "customdata": [
          [
           "Filipinas",
           9880000,
           533,
           5266040,
           600.4,
           "ldc argentina s.a."
          ],
          [
           "Filipinas",
           10070000,
           485,
           4883950,
           585.8,
           "ldc argentina s.a."
          ],
          [
           "Filipinas",
           10454000,
           669,
           6993726,
           724.1,
           "bunge argentina s a"
          ],
          [
           "Filipinas",
           5000000,
           657.7,
           3288600,
           724.1,
           "agrofina s a"
          ],
          [
           "Filipinas",
           5406000,
           637.9,
           3448617.8,
           724.1,
           "viterra argentina s.a."
          ]
         ],
         "hovertemplate": "Destino=%{customdata[0]}<br>Fecha=%{x}<br>Spread=%{y}<br>Kg=%{customdata[1]}<br>Precio=%{customdata[2]}<br>Fob=%{customdata[3]}<br>Precio de referencia=%{customdata[4]}<br>Exportador=%{customdata[5]}<extra></extra>",
         "legendgroup": "Filipinas",
         "marker": {
          "color": "#636efa",
          "line": {
           "color": "DarkSlateGrey",
           "width": 2
          },
          "size": 12,
          "symbol": "circle"
         },
         "mode": "markers",
         "name": "Filipinas",
         "showlegend": true,
         "type": "scattergl",
         "x": [
          "07-2021",
          "08-2021",
          "05-2022",
          "05-2022",
          "05-2022"
         ],
         "xaxis": "x",
         "y": [
          -67.4,
          -100.8,
          -55.1,
          -66.4,
          -86.2
         ],
         "yaxis": "y"
        },
        {
         "customdata": [
          [
           "Japon",
           51000,
           793,
           40443,
           585.8,
           "luis a ducret y cia s a"
          ]
         ],
         "hovertemplate": "Destino=%{customdata[0]}<br>Fecha=%{x}<br>Spread=%{y}<br>Kg=%{customdata[1]}<br>Precio=%{customdata[2]}<br>Fob=%{customdata[3]}<br>Precio de referencia=%{customdata[4]}<br>Exportador=%{customdata[5]}<extra></extra>",
         "legendgroup": "Japon",
         "marker": {
          "color": "#EF553B",
          "line": {
           "color": "DarkSlateGrey",
           "width": 2
          },
          "size": 12,
          "symbol": "circle"
         },
         "mode": "markers",
         "name": "Japon",
         "showlegend": true,
         "type": "scattergl",
         "x": [
          "08-2021"
         ],
         "xaxis": "x",
         "y": [
          207.2
         ],
         "yaxis": "y"
        },
        {
         "customdata": [
          [
           "Argelia",
           10000000,
           517.9,
           5178700,
           585.8,
           "lartirigoyen y cia s a"
          ],
          [
           "Argelia",
           34000000,
           532.9,
           18117690,
           585.8,
           "viterra argentina s.a."
          ],
          [
           "Argelia",
           46200000,
           536,
           24763200,
           557.6,
           "adm agro s r l"
          ]
         ],
         "hovertemplate": "Destino=%{customdata[0]}<br>Fecha=%{x}<br>Spread=%{y}<br>Kg=%{customdata[1]}<br>Precio=%{customdata[2]}<br>Fob=%{customdata[3]}<br>Precio de referencia=%{customdata[4]}<br>Exportador=%{customdata[5]}<extra></extra>",
         "legendgroup": "Argelia",
         "marker": {
          "color": "#00cc96",
          "line": {
           "color": "DarkSlateGrey",
           "width": 2
          },
          "size": 12,
          "symbol": "circle"
         },
         "mode": "markers",
         "name": "Argelia",
         "showlegend": true,
         "type": "scattergl",
         "x": [
          "08-2021",
          "08-2021",
          "09-2021"
         ],
         "xaxis": "x",
         "y": [
          -67.9,
          -52.9,
          -21.5
         ],
         "yaxis": "y"
        },
        {
         "customdata": [
          [
           "Paraguay",
           599360,
           410,
           245737.6,
           552,
           "ramone sas"
          ],
          [
           "Paraguay",
           114000,
           400,
           45600,
           661.6,
           "jm y cia s.a.s."
          ],
          [
           "Paraguay",
           28000,
           375,
           10500,
           661.6,
           "alimentos argentinos s.r.l."
          ],
          [
           "Paraguay",
           147860,
           400,
           59144,
           661.6,
           "jm y cia s.a.s."
          ],
          [
           "Paraguay",
           346420,
           400,
           138568,
           720.6,
           "jm y cia s.a.s."
          ],
          [
           "Paraguay",
           154260,
           430,
           66331.8,
           720.6,
           "jm y cia s.a.s."
          ],
          [
           "Paraguay",
           204800,
           450,
           92160,
           720.6,
           "jm y cia s.a.s."
          ],
          [
           "Paraguay",
           145000,
           450,
           65250,
           720.6,
           "jm y cia s.a.s."
          ],
          [
           "Paraguay",
           144680,
           460,
           66552.8,
           720.6,
           "jm y cia s.a.s."
          ],
          [
           "Paraguay",
           148900,
           460,
           68494,
           720.8,
           "jm y cia s.a.s."
          ],
          [
           "Paraguay",
           150000,
           460,
           69000,
           720.8,
           "jm y cia s.a.s."
          ],
          [
           "Paraguay",
           147240,
           450,
           66258,
           720.8,
           "jm y cia s.a.s."
          ],
          [
           "Paraguay",
           148580,
           450,
           66861,
           720.8,
           "jm y cia s.a.s."
          ],
          [
           "Paraguay",
           149960,
           460,
           68981.6,
           720.8,
           "jm y cia s.a.s."
          ],
          [
           "Paraguay",
           149880,
           465,
           69694.2,
           720.8,
           "jm y cia s.a.s."
          ],
          [
           "Paraguay",
           28000,
           350,
           9800,
           720.8,
           "c y g exportaciones s.r.l."
          ],
          [
           "Paraguay",
           120000,
           662,
           79440,
           724.1,
           "alimentos argentinos s.r.l."
          ],
          [
           "Paraguay",
           150000,
           460,
           69000,
           724.1,
           "jm y cia s.a.s."
          ],
          [
           "Paraguay",
           150000,
           460,
           69000,
           724.1,
           "jm y cia s.a.s."
          ],
          [
           "Paraguay",
           150000,
           460,
           69000,
           724.1,
           "jm y cia s.a.s."
          ],
          [
           "Paraguay",
           300000,
           320,
           96000,
           724.1,
           "c y g exportaciones s.r.l."
          ],
          [
           "Paraguay",
           300000,
           320,
           96000,
           737.1,
           "c y g exportaciones s.r.l."
          ],
          [
           "Paraguay",
           147280,
           460,
           67748.8,
           737.1,
           "del plata trading company"
          ],
          [
           "Paraguay",
           126500,
           658,
           83237,
           737.1,
           "alimentos argentinos s.r.l."
          ],
          [
           "Paraguay",
           150840,
           460,
           69386.4,
           737.1,
           "del plata trading company"
          ],
          [
           "Paraguay",
           80200,
           655,
           52531,
           737.1,
           "alimentos argentinos s.r.l."
          ],
          [
           "Paraguay",
           155000,
           450,
           69750,
           737.1,
           "del plata trading company"
          ],
          [
           "Paraguay",
           300000,
           320,
           96000,
           737.1,
           "c y g exportaciones s.r.l."
          ],
          [
           "Paraguay",
           157400,
           450,
           70830,
           678.2,
           "del plata trading company"
          ]
         ],
         "hovertemplate": "Destino=%{customdata[0]}<br>Fecha=%{x}<br>Spread=%{y}<br>Kg=%{customdata[1]}<br>Precio=%{customdata[2]}<br>Fob=%{customdata[3]}<br>Precio de referencia=%{customdata[4]}<br>Exportador=%{customdata[5]}<extra></extra>",
         "legendgroup": "Paraguay",
         "marker": {
          "color": "#ab63fa",
          "line": {
           "color": "DarkSlateGrey",
           "width": 2
          },
          "size": 12,
          "symbol": "circle"
         },
         "mode": "markers",
         "name": "Paraguay",
         "showlegend": true,
         "type": "scattergl",
         "x": [
          "10-2021",
          "02-2022",
          "02-2022",
          "02-2022",
          "03-2022",
          "03-2022",
          "03-2022",
          "03-2022",
          "03-2022",
          "04-2022",
          "04-2022",
          "04-2022",
          "04-2022",
          "04-2022",
          "04-2022",
          "04-2022",
          "05-2022",
          "05-2022",
          "05-2022",
          "05-2022",
          "05-2022",
          "06-2022",
          "06-2022",
          "06-2022",
          "06-2022",
          "06-2022",
          "06-2022",
          "06-2022",
          "07-2022"
         ],
         "xaxis": "x",
         "y": [
          -142,
          -261.6,
          -286.6,
          -261.6,
          -320.6,
          -290.6,
          -270.6,
          -270.6,
          -260.6,
          -260.8,
          -260.8,
          -270.8,
          -270.8,
          -260.8,
          -255.8,
          -370.8,
          -62.1,
          -264.1,
          -264.1,
          -264.1,
          -404.1,
          -417.1,
          -277.1,
          -79.1,
          -277.1,
          -82.1,
          -287.1,
          -417.1,
          -228.2
         ],
         "yaxis": "y"
        },
        {
         "customdata": [
          [
           "Turquia",
           29505000,
           634,
           18706170,
           724.1,
           "mirgor sa c i f i a"
          ]
         ],
         "hovertemplate": "Destino=%{customdata[0]}<br>Fecha=%{x}<br>Spread=%{y}<br>Kg=%{customdata[1]}<br>Precio=%{customdata[2]}<br>Fob=%{customdata[3]}<br>Precio de referencia=%{customdata[4]}<br>Exportador=%{customdata[5]}<extra></extra>",
         "legendgroup": "Turquia",
         "marker": {
          "color": "#FFA15A",
          "line": {
           "color": "DarkSlateGrey",
           "width": 2
          },
          "size": 12,
          "symbol": "circle"
         },
         "mode": "markers",
         "name": "Turquia",
         "showlegend": true,
         "type": "scattergl",
         "x": [
          "05-2022"
         ],
         "xaxis": "x",
         "y": [
          -90.1
         ],
         "yaxis": "y"
        }
       ],
       "layout": {
        "font": {
         "family": "Georgia",
         "size": 13
        },
        "height": 700,
        "legend": {
         "title": {
          "text": "Destino"
         },
         "tracegroupgap": 0
        },
        "margin": {
         "t": 60
        },
        "separators": ",.",
        "template": {
         "data": {
          "scatter": [
           {
            "type": "scatter"
           }
          ]
         }
        },
        "title": {
         "text": "Diferencia con precio de referencia en USD por tonelada exportada de soja <br> <sup> Precio de referencia del Banco Mundial"
        },
        "width": 900,
        "xaxis": {
         "anchor": "y",
         "domain": [
          0,
          1
         ],
         "title": {
          "text": ""
         }
        },
        "yaxis": {
         "anchor": "x",
         "domain": [
          0,
          1
         ],
         "range": [
          -517.06,
          478.04999999999995
         ],
         "title": {
          "text": "Diferencia en USD"
         }
        }
       }
      }
     },
     "metadata": {},
     "output_type": "display_data"
    }
   ],
   "source": [
    "plot_precio('diferencia_ref','pais_descri','soja')"
   ]
  },
  {
   "cell_type": "markdown",
   "metadata": {},
   "source": [
    "### Tabla 1\n",
    "Los valores son a precios capitalizados"
   ]
  },
  {
   "cell_type": "code",
   "execution_count": 208,
   "metadata": {},
   "outputs": [
    {
     "data": {
      "text/plain": [
       "array(['Chile', 'Estados unidos', 'China', 'Uruguay', 'Brasil', 'Canada',\n",
       "       'Paraguay', 'Egipto', 'Taiwan'], dtype=object)"
      ]
     },
     "execution_count": 208,
     "metadata": {},
     "output_type": "execute_result"
    }
   ],
   "source": [
    "def paises_interesantes(producto):\n",
    "    '''Producto='trigo','soja','maiz'''\n",
    "    if producto=='soja':\n",
    "        df=soja\n",
    "    elif producto=='trigo':\n",
    "        df=trigo\n",
    "    elif producto=='maiz':\n",
    "        df=maiz\n",
    "        \n",
    "    contar_paises=df.groupby('pais_descri').size().sort_values(ascending=False)\n",
    "    paises=pd.DataFrame(contar_paises).reset_index().pais_descri.unique()[:9]\n",
    "    return paises\n",
    "\n",
    "paises_interesantes(producto='soja')"
   ]
  },
  {
   "cell_type": "code",
   "execution_count": 209,
   "metadata": {},
   "outputs": [],
   "source": [
    "def datos_tabla_paises(pais, producto):\n",
    "    '''Producto='trigo','soja','maiz'''\n",
    "    if producto=='soja':\n",
    "        df=soja\n",
    "    elif producto=='trigo':\n",
    "        df=trigo\n",
    "    elif producto=='maiz':\n",
    "        df=maiz\n",
    "    return [len(df[df.pais_descri==pais]),round(df[df.pais_descri==pais].fob_unitario_ton_capit.min(),1), round(df[df.pais_descri==pais].fob_unitario_ton_capit.quantile(0.25),1),round(df[df.pais_descri==pais].fob_unitario_ton_capit.quantile(0.5),1),round(df[df.pais_descri==pais].fob_unitario_ton_capit.quantile(0.75),1),round(df[df.pais_descri==pais].fob_unitario_ton_capit.max(),1)]\n",
    "\n",
    "# A precios capitalizados\n",
    "\n",
    "def tabla_1(producto):\n",
    "    '''Producto='trigo','soja','maiz'''\n",
    "    if producto=='soja':\n",
    "        df=soja\n",
    "    elif producto=='trigo':\n",
    "        df=trigo\n",
    "    elif producto=='maiz':\n",
    "        df=maiz\n",
    "        \n",
    "    tabla_1_expo=pd.DataFrame({\n",
    "        '':['No. of trade records','Lowest price','Lower quartile price','Median price','Upper quartile price','Highest price'],\n",
    "        'Mundo':[len(df),round(df.fob_unitario_ton_capit.min(),1), round(df.fob_unitario_ton_capit.quantile(0.25),1),round(df.fob_unitario_ton_capit.quantile(0.5),1),round(df.fob_unitario_ton_capit.quantile(0.75),1),round(df.fob_unitario_ton_capit.max(),1)],\n",
    "        # paises_interesantes[0]:datos_tabla_paises(paises_interesantes[0]),\n",
    "        **{pais_interesante: datos_tabla_paises(pais_interesante, producto) for pais_interesante in paises_interesantes(producto)}\n",
    "        })\n",
    "    tabla_1_expo=tabla_1_expo.transpose().reset_index()\n",
    "    header=tabla_1_expo.iloc[0]\n",
    "    tabla_1_expo=tabla_1_expo[1:]\n",
    "    tabla_1_expo.columns=header\n",
    "    tabla_1_expo['No. of trade records']=tabla_1_expo['No. of trade records'].astype(int)\n",
    "    tabla_1_expo.rename(columns={'':'Paises'},inplace=True)\n",
    "    return tabla_1_expo\n",
    "\n"
   ]
  },
  {
   "cell_type": "markdown",
   "metadata": {},
   "source": [
    "### Tabla de las posibles falsificaciones"
   ]
  },
  {
   "cell_type": "code",
   "execution_count": 210,
   "metadata": {},
   "outputs": [],
   "source": [
    "def tabla_posibles_falsificaciones(producto):\n",
    "    '''Producto='trigo','soja','maiz'''\n",
    "    if producto=='soja':\n",
    "        df=soja\n",
    "    elif producto=='trigo':\n",
    "        df=trigo\n",
    "    elif producto=='maiz':\n",
    "        df=maiz\n",
    "    \n",
    "    posibles_falsificaciones=df[(df.fob_unitario_ton_capit<df.fob_unitario_ton_capit.quantile(.25)) |\n",
    "                (df.fob_unitario_ton_capit>df.fob_unitario_ton_capit.quantile(.75))]\n",
    "    # posibles_falsificaciones.drop('index',axis=1,inplace=)\n",
    "    return posibles_falsificaciones"
   ]
  },
  {
   "cell_type": "markdown",
   "metadata": {},
   "source": [
    "# Exportar"
   ]
  },
  {
   "cell_type": "code",
   "execution_count": 211,
   "metadata": {},
   "outputs": [],
   "source": [
    "plot_precio(y='diferencia_ref',color='pais_descri',producto='soja').write_html('../output/diferencia con ref soja pais.html')\n",
    "plot_precio(y='fob_unitario_ton',color='pais_descri',producto='soja').write_html('../output/fob unitario por ton soja pais.html')\n",
    "plot_precio(y='diferencia_ref',color='pais_descri',producto='trigo').write_html('../output/diferencia con ref trigo pais.html')\n",
    "plot_precio(y='diferencia_ref',color='pais_descri',producto='maiz').write_html('../output/diferencia con ref maiz pais.html')\n",
    "precio_boxplot('soja').write_html('../output/Expo soja boxplot sin capitalizar.html')\n",
    "precio_boxplot_capitalizado('trigo').write_html('../output/Expo trigo boxplot capitalizado.html')\n",
    "precio_boxplot_capitalizado('maiz').write_html('../output/Expo maiz boxplot capitalizado.html')\n",
    "precio_boxplot_capitalizado('soja').write_html('../output/Expo soja boxplot capitalizado.html')"
   ]
  },
  {
   "cell_type": "code",
   "execution_count": 212,
   "metadata": {},
   "outputs": [],
   "source": [
    "writer = pd.ExcelWriter(f'../output/exportaciones soja trigo maiz.xlsx', engine='xlsxwriter')\n",
    "tabla_1('soja').to_excel(writer, sheet_name='soja', index=False)\n",
    "tabla_1('trigo').to_excel(writer, sheet_name='trigo', index=False)\n",
    "tabla_1('maiz').to_excel(writer, sheet_name='maiz', index=False)\n",
    "writer.save()"
   ]
  },
  {
   "cell_type": "code",
   "execution_count": null,
   "metadata": {},
   "outputs": [],
   "source": [
    "writer = pd.ExcelWriter(f'../output/exportaciones soja.xlsx', engine='xlsxwriter')\n",
    "tabla_1('soja').to_excel(writer, sheet_name='tabla_1_expo', index=False)\n",
    "soja.to_excel(writer, sheet_name='desagregado', index=False)\n",
    "soja_outliers.head(10).to_excel(writer, sheet_name='outliers', index=False)\n",
    "tabla_posibles_falsificaciones('soja').to_excel(writer, sheet_name='posibles_falsificaciones')\n",
    "writer.save()"
   ]
  }
 ],
 "metadata": {
  "kernelspec": {
   "display_name": "Python 3.10.4 ('indec')",
   "language": "python",
   "name": "python3"
  },
  "language_info": {
   "codemirror_mode": {
    "name": "ipython",
    "version": 3
   },
   "file_extension": ".py",
   "mimetype": "text/x-python",
   "name": "python",
   "nbconvert_exporter": "python",
   "pygments_lexer": "ipython3",
   "version": "3.10.4"
  },
  "orig_nbformat": 4,
  "vscode": {
   "interpreter": {
    "hash": "8e76e384a9df139c1746ba138f5ce3f6d0babc035eebae6bb58adb8dce6b6867"
   }
  }
 },
 "nbformat": 4,
 "nbformat_minor": 2
}
