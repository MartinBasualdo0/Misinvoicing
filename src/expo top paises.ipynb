{
 "cells": [
  {
   "cell_type": "code",
   "execution_count": 54,
   "metadata": {},
   "outputs": [],
   "source": [
    "import pandas as pd\n",
    "import plotly.graph_objects as go\n",
    "import plotly.express as px"
   ]
  },
  {
   "cell_type": "code",
   "execution_count": 55,
   "metadata": {},
   "outputs": [],
   "source": [
    "#Importo\n",
    "df_producto=pd.read_csv('../data/EXPO_DOC.csv', encoding='latin-1', dtype={'CUIT':'str',\n",
    "                                                                                            'dia':'str',\n",
    "                                                                                            'mes':'str',\n",
    "                                                                                            'anio':'str'})\n",
    "\n",
    "#DF con las fechas\n",
    "inicio=df_producto.sort_values(['anio','mes'],ascending=True).reset_index(drop=True).mes[0]+'/01/'+df_producto.sort_values(['anio','mes'],ascending=True).reset_index(drop=True).anio[0]\n",
    "mes=int(df_producto.sort_values(['anio','mes'],ascending=True).reset_index(drop=True).mes.iloc[-1])+1\n",
    "fin=str(mes)+'/01/'+df_producto.sort_values(['anio','mes'],ascending=True).reset_index(drop=True).anio.iloc[-1]\n",
    "monthDates = pd.DataFrame({\n",
    "    'fecha': pd.date_range(start=inicio, end=fin, freq='M').strftime('%m-%Y')\n",
    "})\n",
    "\n",
    "# Correcciones de lectura\n",
    "df_producto.pais_descri=df_producto.pais_descri.apply(lambda x: x.capitalize())\n",
    "df_producto.empresa=df_producto.empresa.apply(lambda x: x.lower())\n",
    "\n",
    "#Fob por tonelada importada\n",
    "df_producto['fob_unitario_ton']=df_producto.fob/df_producto.pnet*1000\n",
    "\n",
    "#Importo datos de los precios de referencia del banco mundial\n",
    "bm=pd.read_excel('../data/CMO-Historical-Data-Monthly.xlsx',sheet_name='Monthly Prices',skiprows=6)\n",
    "\n",
    "bm=(bm[[bm.columns[0],bm.columns[24],bm.columns[25],bm.columns[26],bm.columns[30],bm.columns[37]]]\n",
    "    .rename(columns={'Unnamed: 0':'Fecha', 'SOYBEANS':'bm_soja',bm.columns[37]:'bm_trigo',bm.columns[30]:'bm_maiz', \n",
    "                     bm.columns[25]:'bm_aceitesoja', bm.columns[26]:'bm_harinasoja'}))\n",
    "bm['anio']=bm.Fecha.apply(lambda x: x[:4])\n",
    "bm['mes']=bm.Fecha.apply(lambda x: x[5:])\n",
    "bm.drop('Fecha',axis=1,inplace=True)\n",
    "\n",
    "# Separo las dataframes para cada producto, haciendolo mas facil de manipular\n",
    "dfs_producto=[i for x, i in df_producto.groupby('NOMEN', as_index=False)]\n",
    "\n",
    "def genero_df(df):\n",
    "    df=df.sort_values(['anio','mes','dia'], ascending=True).reset_index(drop=True)\n",
    "    df['fob_unitario_ton_capit']=df.fob_unitario_ton*df.fob_unitario_ton_ref.iloc[-1]/df.fob_unitario_ton_ref\n",
    "    df['diferencia_ref']=df.fob_unitario_ton-df.fob_unitario_ton_ref\n",
    "    df['diferencia_ref_capi']=df.fob_unitario_ton_capit-df.fob_unitario_ton_ref.iloc[-1]\n",
    "    df['fecha']=df[\"mes\"].astype(str)+'-'+df['anio'].astype(str)\n",
    "    df['fecha']=pd.to_datetime(df[\"fecha\"]).dt.strftime('%m-%Y')\n",
    "    return df\n",
    "\n",
    "trigo=pd.merge(left=dfs_producto[0],right=bm[['anio','mes','bm_trigo']], on=['anio','mes'],how='left').rename({'bm_trigo':'fob_unitario_ton_ref'},axis=1) #concat\n",
    "trigo=genero_df(trigo)\n",
    "\n",
    "maiz=pd.merge(left=dfs_producto[1],right=bm[['anio','mes','bm_maiz']], on=['anio','mes'],how='left').rename({'bm_maiz':'fob_unitario_ton_ref'},axis=1) #concat\n",
    "maiz=genero_df(maiz)\n",
    "\n",
    "soja=pd.merge(left=dfs_producto[2],right=bm[['anio','mes','bm_soja']], on=['anio','mes'],how='left').rename({'bm_soja':'fob_unitario_ton_ref'},axis=1) #concat\n",
    "soja=genero_df(soja)\n",
    "\n",
    "aceite=pd.merge(left=dfs_producto[3],right=bm[['anio','mes','bm_aceitesoja']], on=['anio','mes'],how='left').rename({'bm_aceitesoja':'fob_unitario_ton_ref'},axis=1) #concat\n",
    "aceite=genero_df(aceite)\n",
    "\n",
    "harina=pd.merge(left=dfs_producto[4],right=bm[['anio','mes','bm_harinasoja']], on=['anio','mes'],how='left').rename({'bm_harinasoja':'fob_unitario_ton_ref'},axis=1) #concat\n",
    "harina=genero_df(harina)\n",
    "\n",
    "#Biodisel no está en el BM, los p de referencia se determinan en base a los datos mensuales\n",
    "biodisel_mensual=dfs_producto[5].groupby(['mes','anio'],as_index=False).sum().sort_values(['anio','mes'])\n",
    "biodisel_mensual['fob_unitario_ton_ref']=biodisel_mensual.fob/biodisel_mensual.pnet*1000\n",
    "biodisel=pd.merge(left=dfs_producto[5],right=biodisel_mensual[['anio','mes','fob_unitario_ton_ref']], on=['anio','mes'],how='left') #concat\n",
    "biodisel=genero_df(biodisel)\n",
    "\n",
    "desde=df_producto.sort_values(['anio','mes','dia'], ascending=True)['anio'][0]\n",
    "hasta=df_producto.sort_values(['anio','mes','dia'], ascending=True)['anio'].iloc[-1]"
   ]
  },
  {
   "cell_type": "code",
   "execution_count": 56,
   "metadata": {},
   "outputs": [],
   "source": [
    "#Funciones\n",
    "def outliers(df):\n",
    "    outliers=df.sort_values('fob_unitario_ton',ascending=False)\n",
    "    return outliers[['anio','dia','mes','NOMEN','CUIT','empresa','pais_descri','fob','pnet','fob_unitario_ton','fob_unitario_ton_ref']]\n",
    "\n",
    "def elimina_outliers(df,fob_unit_max): \n",
    "    return df[df.fob_unitario_ton<fob_unit_max].reset_index(drop=True)\n",
    "\n",
    "n_paises=int(input('cuantos paises: '))\n",
    "\n",
    "def get_top_paises(df, n_paises=n_paises):\n",
    "    top_df=df.groupby(['pais','pais_descri'],as_index=False).sum().sort_values('fob',ascending=False).pais_descri.unique()[:n_paises]\n",
    "    return df[df.pais_descri.isin(top_df)]\n",
    "\n",
    "\n",
    "# Trigo\n",
    "trigo_outliers=outliers(trigo) #Para observar outliers\n",
    "trigo=elimina_outliers(trigo, 1000) #Precios de 1000 usd para abajo\n",
    "df_top_trigo=get_top_paises(trigo,n_paises) #Top paises, para evitar colapso de los colores\n",
    "\n",
    "# Maiz\n",
    "maiz_outliers=outliers(maiz)\n",
    "maiz=elimina_outliers(maiz,1000)\n",
    "df_top_maiz=get_top_paises(maiz,n_paises)\n",
    "\n",
    "# Soja\n",
    "soja_outliers=outliers(soja)\n",
    "soja=elimina_outliers(soja,1000)\n",
    "df_top_soja=get_top_paises(soja,n_paises)\n",
    "\n",
    "# Biodisel\n",
    "biodisel_outliers=outliers(biodisel)\n",
    "biodisel=elimina_outliers(biodisel,2000)\n",
    "df_top_biodisel=get_top_paises(biodisel,n_paises)\n",
    "\n",
    "# Aceite de soja: no hay outliers\n",
    "aceite_outliers=outliers(biodisel)\n",
    "aceite=elimina_outliers(aceite,2500)\n",
    "df_top_aceite=get_top_paises(aceite,n_paises)\n",
    "\n",
    "# Harina de soja: creo que no hay outliers\n",
    "harina_outliers=outliers(harina)\n",
    "# harina=elimina_outliers(harina,2000)\n",
    "df_top_harina=get_top_paises(harina,n_paises)"
   ]
  },
  {
   "cell_type": "code",
   "execution_count": 57,
   "metadata": {},
   "outputs": [],
   "source": [
    "def precio_boxplot_mes(producto):\n",
    "     '''Producto='trigo','soja','maiz, biodisel, aceite soja, harina soja'''\n",
    "     if producto=='soja':\n",
    "          df=soja\n",
    "          title_text=f'FOB por tonelada exportada de {producto} <br> <sup> Precio de referencia del Banco Mundial'\n",
    "     elif producto=='trigo':\n",
    "          df=trigo\n",
    "          title_text=f'FOB por tonelada exportada de {producto} <br> <sup> Precio de referencia del Banco Mundial'\n",
    "     elif producto=='maiz':\n",
    "          df=maiz\n",
    "          title_text=f'FOB por tonelada exportada de {producto} <br> <sup> Precio de referencia del Banco Mundial'\n",
    "     elif producto=='biodisel':\n",
    "          df=biodisel\n",
    "          title_text=f'FOB por tonelada exportada de {producto} <br> <sup> Precio de referencia a partir de datos agrupados mensualmente'\n",
    "     elif producto=='aceite soja':\n",
    "          df=aceite\n",
    "          title_text=f'FOB por tonelada exportada de {producto} <br> <sup> Precio de referencia del Banco Mundial'\n",
    "     elif producto=='harina soja':\n",
    "          df=harina\n",
    "          title_text=f'FOB por tonelada exportada de {producto} <br> <sup> Precio de referencia del Banco Mundial'\n",
    "     \n",
    "     precio_soja_boxplot=px.box(\n",
    "     df.round(1),\n",
    "     x='fecha',\n",
    "     y='fob_unitario_ton',\n",
    "     color='fecha',\n",
    "     labels={\n",
    "          \"pais_descri\": \"Destino\",\n",
    "          'fob_unitario_ton': 'Precio',\n",
    "          'fob':'Fob',\n",
    "          'pnet':'Kg',\n",
    "          'fecha':'Fecha',\n",
    "          'fob_unitario_ton_ref': 'Precio de referencia',\n",
    "          'diferencia_ref':'Spread',\n",
    "          'empresa':'Exportador'\n",
    "          },\n",
    "     hover_data={'pais_descri',\n",
    "                    'fob_unitario_ton',\n",
    "                    'fob_unitario_ton_ref',\n",
    "                    'diferencia_ref',\n",
    "                    'empresa',\n",
    "                    'fob',\n",
    "                    'pnet'        \n",
    "                                   }\n",
    "     )\n",
    "\n",
    "     precio_soja_boxplot.update_yaxes(title_text= 'Fob unitario', \n",
    "                                   range=[df['fob_unitario_ton'].min()-100,df['fob_unitario_ton'].max()+100]\n",
    "                                   )\n",
    "     precio_soja_boxplot.update_xaxes(title_text='')\n",
    "\n",
    "     precio_soja_boxplot.update_layout(separators=',.', font_family='Georgia', font_size=13,\n",
    "                                   height=700, width=900,\n",
    "                                   template = 'none',\n",
    "                                   title_text=title_text,\n",
    "                                   showlegend=False)\n",
    "\n",
    "     return precio_soja_boxplot\n",
    "\n",
    "def precio_boxplot_capitalizado(producto):\n",
    "     '''Producto='trigo','soja','maiz, biodisel, aceite soja, harina soja'''\n",
    "     if producto=='soja':\n",
    "          df=soja\n",
    "          title_text=f'FOB por tonelada exportada de {producto} {desde}-{hasta} <br> <sup> Capitalizado al último precio disponible. Precio de referencia del Banco Mundial'\n",
    "     elif producto=='trigo':\n",
    "          df=trigo\n",
    "          title_text=f'FOB por tonelada exportada de {producto} {desde}-{hasta} <br> <sup> Capitalizado al último precio disponible. Precio de referencia del Banco Mundial'\n",
    "     elif producto=='maiz':\n",
    "          df=maiz\n",
    "          title_text=f'FOB por tonelada exportada de {producto} {desde}-{hasta} <br> <sup> Capitalizado al último precio disponible. Precio de referencia del Banco Mundial'\n",
    "     elif producto=='biodisel':\n",
    "          df=biodisel\n",
    "          title_text=f'FOB por tonelada exportada de {producto} {desde}-{hasta} <br> <sup> Capitalizado al último precio disponible. Precio de referencia a partir de datos agrupados mensualmente'\n",
    "     elif producto=='aceite soja':\n",
    "          df=aceite\n",
    "          title_text=f'FOB por tonelada exportada de {producto} {desde}-{hasta} <br> <sup> Capitalizado al último precio disponible. Precio de referencia del Banco Mundial'\n",
    "     elif producto=='harina soja':\n",
    "          df=harina\n",
    "          title_text=f'FOB por tonelada exportada de {producto} {desde}-{hasta} <br> <sup> Capitalizado al último precio disponible. Precio de referencia del Banco Mundial'\n",
    "     \n",
    "     precio_soja_boxplot=px.box(\n",
    "     df.round(1),\n",
    "     # x='fecha',\n",
    "     x='fob_unitario_ton_capit',\n",
    "     # color='fecha',\n",
    "     labels={\n",
    "          \"pais_descri\": \"Destino\",\n",
    "          'fob_unitario_ton': 'Precio',\n",
    "          'fob_unitario_ton_capit':'Precio capitalizado',\n",
    "          'fob':'Fob',\n",
    "          'pnet':'Kg',\n",
    "          'fecha':'Fecha',\n",
    "          'fob_unitario_ton_ref': 'Precio de referencia',\n",
    "          'diferencia_ref':'Spread',\n",
    "          'empresa':'Exportador'\n",
    "          },\n",
    "     hover_data={'pais_descri',\n",
    "                 'fecha',\n",
    "                    'fob_unitario_ton',\n",
    "                    'fob_unitario_ton_capit',\n",
    "                    'fob_unitario_ton_ref',\n",
    "                    'diferencia_ref',\n",
    "                    'empresa',\n",
    "                    'fob',\n",
    "                    'pnet'        \n",
    "                                   }\n",
    "     )\n",
    "\n",
    "     precio_soja_boxplot.update_yaxes(title_text= '', \n",
    "                                   # range=[producto['fob_unitario_ton_capit'].min()-100,producto['fob_unitario_ton_capit'].max()+100]\n",
    "                                   )\n",
    "     precio_soja_boxplot.update_xaxes(title_text='Fob unitario')\n",
    "\n",
    "     precio_soja_boxplot.update_layout(separators=',.', font_family='Georgia', font_size=13,\n",
    "                                   height=400, width=700,\n",
    "                                   template = 'none',\n",
    "                                   title_text=title_text,\n",
    "                                   showlegend=False)\n",
    "     \n",
    "     precio_soja_boxplot.add_vline(x=df.fob_unitario_ton_ref.iloc[-1],line_dash=\"dash\",line_color=\"blue\")\n",
    "\n",
    "     return precio_soja_boxplot\n",
    "\n",
    "def precio_boxplot(producto):\n",
    "     '''Producto='trigo','soja','maiz, biodisel, aceite soja, harina soja'''\n",
    "     if producto=='soja':\n",
    "          df=soja\n",
    "          title_text=f'FOB por tonelada exportada de {producto} {desde}-{hasta} <br> <sup> Capitalizado al último precio disponible. Precio de referencia del Banco Mundial'\n",
    "     elif producto=='trigo':\n",
    "          df=trigo\n",
    "          title_text=f'FOB por tonelada exportada de {producto} {desde}-{hasta} <br> <sup> Capitalizado al último precio disponible. Precio de referencia del Banco Mundial'\n",
    "     elif producto=='maiz':\n",
    "          df=maiz\n",
    "          title_text=f'FOB por tonelada exportada de {producto} {desde}-{hasta} <br> <sup> Capitalizado al último precio disponible. Precio de referencia del Banco Mundial'\n",
    "     elif producto=='biodisel':\n",
    "          df=biodisel\n",
    "          title_text=f'FOB por tonelada exportada de {producto} {desde}-{hasta} <br> <sup> Capitalizado al último precio disponible. Precio de referencia a partir de datos agrupados mensualmente'\n",
    "     elif producto=='aceite soja':\n",
    "          df=aceite\n",
    "          title_text=f'FOB por tonelada exportada de {producto} {desde}-{hasta} <br> <sup> Capitalizado al último precio disponible. Precio de referencia del Banco Mundial'\n",
    "     elif producto=='harina soja':\n",
    "          df=harina\n",
    "          title_text=f'FOB por tonelada exportada de {producto} {desde}-{hasta} <br> <sup> Capitalizado al último precio disponible. Precio de referencia del Banco Mundial'\n",
    "          \n",
    "     precio_soja_boxplot=px.box(\n",
    "     df.round(1),\n",
    "     # x='fecha',\n",
    "     x='fob_unitario_ton',\n",
    "     # color='fecha',\n",
    "     labels={\n",
    "          \"pais_descri\": \"Destino\",\n",
    "          'fob_unitario_ton': 'Precio',\n",
    "          'fob':'Fob',\n",
    "          'pnet':'Kg',\n",
    "          'fecha':'Fecha',\n",
    "          'fob_unitario_ton_ref': 'Precio de referencia',\n",
    "          'diferencia_ref':'Spread',\n",
    "          'empresa':'Exportador'\n",
    "          },\n",
    "     hover_data={'pais_descri',\n",
    "                    'fob_unitario_ton',\n",
    "                    'fob_unitario_ton_ref',\n",
    "                    'diferencia_ref',\n",
    "                    'empresa',\n",
    "                    'fob',\n",
    "                    'pnet'        \n",
    "                                   }\n",
    "     )\n",
    "\n",
    "     precio_soja_boxplot.update_yaxes(title_text= '', \n",
    "                                   # range=[df['fob_unitario_ton'].min()-100,df['fob_unitario_ton'].max()+100]\n",
    "                                   )\n",
    "     precio_soja_boxplot.update_xaxes(title_text='Fob unitario')\n",
    "\n",
    "     precio_soja_boxplot.update_layout(separators=',.', font_family='Georgia', font_size=13,\n",
    "                                   height=400, width=700,\n",
    "                                   template = 'none',\n",
    "                                   title_text=title_text,\n",
    "                                   showlegend=False)\n",
    "\n",
    "     return precio_soja_boxplot\n",
    "\n",
    "def plot_precio(y, color, producto, pais='nan'):\n",
    "     '''y='fob_unitario_ton', 'diferencia_ref'\n",
    "     color='pais_descri','empresa'     \n",
    "     Producto='trigo','soja','maiz\n",
    "     Pais='Estados unidos'''\n",
    "     if pais != 'nan':\n",
    "          if producto=='soja':\n",
    "               df=soja[soja['pais_descri']==pais.capitalize()].sort_values(['anio','mes','dia'],ascending=True).reset_index(drop=True)\n",
    "          elif producto=='trigo':\n",
    "               df=trigo[trigo['pais_descri']==pais.capitalize()].sort_values(['anio','mes','dia'],ascending=True).reset_index(drop=True)\n",
    "          elif producto=='maiz':\n",
    "               df=maiz[maiz['pais_descri']==pais.capitalize()].sort_values(['anio','mes','dia'],ascending=True).reset_index(drop=True)\n",
    "          if producto=='biodisel':\n",
    "               df=biodisel[biodisel['pais_descri']==pais.capitalize()].sort_values(['anio','mes','dia'],ascending=True).reset_index(drop=True)\n",
    "          if producto=='aceite soja':\n",
    "               df=aceite[aceite['pais_descri']==pais.capitalize()].sort_values(['anio','mes','dia'],ascending=True).reset_index(drop=True)\n",
    "          if producto=='harina soja':\n",
    "               df=harina[harina['pais_descri']==pais.capitalize()].sort_values(['anio','mes','dia'],ascending=True).reset_index(drop=True)\n",
    "     else:\n",
    "          if producto=='soja':\n",
    "               df=df_top_soja\n",
    "          elif producto=='trigo':\n",
    "               df=df_top_trigo\n",
    "          elif producto=='maiz':\n",
    "               df=df_top_maiz\n",
    "          elif producto=='biodisel':\n",
    "               df=df_top_biodisel\n",
    "          elif producto=='aceite soja':\n",
    "               df=df_top_aceite\n",
    "          elif producto=='harina soja':\n",
    "               df=df_top_harina\n",
    "          \n",
    "     \n",
    "     if y=='fob_unitario_ton' and pais == 'nan':\n",
    "          title_1= 'Fob unitario'\n",
    "          title_2= f'FOB por tonelada exportada de {producto} <br> <sup> Precio de referencia del Banco Mundial o a partir de datos mensuales'\n",
    "     elif y=='diferencia_ref' and pais == 'nan':\n",
    "          title_1= 'Diferencia en USD'\n",
    "          title_2= f'Diferencia con precio de referencia en USD por tonelada exportada de {producto} <br> <sup> Precio de referencia del Banco Mundial o a partir de datos mensuales'\n",
    "     elif y=='fob_unitario_ton' and pais != 'nan':\n",
    "          title_1= 'Fob unitario'\n",
    "          title_2= f'FOB por tonelada exportada de {producto} <br> <sup> Destino: {pais.capitalize()}. Precio de referencia del Banco Mundial o a partir de datos mensuales'\n",
    "     elif y=='diferencia_ref' and pais != 'nan':\n",
    "          title_1= 'Diferencia en USD'\n",
    "          title_2= f'Diferencia con precio de referencia en USD por tonelada exportada de {producto} <br> <sup> Destino: {pais.capitalize()}. Precio de referencia del Banco Mundial o a partir de datos mensuales'\n",
    "\n",
    "          \n",
    "     precio_soja_plot=px.scatter(\n",
    "     df.round(1),\n",
    "     x='fecha',\n",
    "     y=y,\n",
    "     color=color,\n",
    "     category_orders={\"fecha\": monthDates.fecha},\n",
    "     labels={\n",
    "          \"pais_descri\": \"Destino\",\n",
    "          'fob_unitario_ton': 'Precio',\n",
    "          'fob':'Fob',\n",
    "          'pnet':'Kg',\n",
    "          'fecha':'Fecha',\n",
    "          'fob_unitario_ton_ref': 'Precio de referencia',\n",
    "          'diferencia_ref':'Spread',\n",
    "          'empresa':'Exportador'\n",
    "          },\n",
    "     hover_data={'pais_descri',\n",
    "                    'fob_unitario_ton',\n",
    "                    'fob_unitario_ton_ref',\n",
    "                    'diferencia_ref',\n",
    "                    'empresa',\n",
    "                    'fob',\n",
    "                    'pnet'        \n",
    "                                   }\n",
    "     )\n",
    "\n",
    "     precio_soja_plot.update_yaxes(title_text= title_1, \n",
    "                                   range=[df[y].min()-100,df[y].max()+100]\n",
    "                                   )\n",
    "     precio_soja_plot.update_xaxes(title_text='',type='category')\n",
    "\n",
    "     precio_soja_plot.update_traces(marker=dict(size=12,\n",
    "                                   line=dict(width=2,\n",
    "                                             color='DarkSlateGrey')),\n",
    "                    selector=dict(mode='markers'))\n",
    "\n",
    "     precio_soja_plot.update_layout(separators=',.', font_family='Georgia', font_size=13,\n",
    "                                   height=700, width=900,\n",
    "                                   template = 'none',\n",
    "                                   title_text=title_2)\n",
    "\n",
    "     return precio_soja_plot\n"
   ]
  },
  {
   "cell_type": "code",
   "execution_count": 58,
   "metadata": {},
   "outputs": [
    {
     "data": {
      "application/vnd.plotly.v1+json": {
       "config": {
        "plotlyServerURL": "https://plot.ly"
       },
       "data": [
        {
         "customdata": [
          [
           "Chile",
           69798.9,
           576.4,
           141580,
           "auqui s.a.",
           493
          ],
          [
           "Chile",
           164172.5,
           576.4,
           338500,
           "a.c.b. alimentos coronel baigorria s.a.",
           485
          ],
          [
           "Chile",
           57400,
           576.4,
           140000,
           "carolina vasquetto y elio marinelli sociedad simple",
           410
          ],
          [
           "Chile",
           69720.1,
           576.4,
           141420,
           "auqui s.a.",
           493
          ],
          [
           "Chile",
           151979.6,
           576.4,
           313360,
           "a.c.b. alimentos coronel baigorria s.a.",
           485
          ],
          [
           "Chile",
           33472,
           576.4,
           83680,
           "carolina vasquetto y elio marinelli sociedad simple",
           400
          ],
          [
           "Chile",
           150960.3,
           576.4,
           283760,
           "a.c.b. alimentos coronel baigorria s.a.",
           532
          ],
          [
           "Chile",
           69828.5,
           576.4,
           141640,
           "auqui s.a.",
           493
          ],
          [
           "Chile",
           63412.5,
           576.4,
           142500,
           "alimentos tancacha s.a.",
           445
          ],
          [
           "Chile",
           57400,
           576.4,
           140000,
           "carolina vasquetto y elio marinelli sociedad simple",
           410
          ],
          [
           "Chile",
           301032.2,
           576.4,
           565850,
           "a.c.b. alimentos coronel baigorria s.a.",
           532
          ],
          [
           "Chile",
           67200,
           576.4,
           168000,
           "carolina vasquetto y elio marinelli sociedad simple",
           400
          ],
          [
           "Chile",
           44761.4,
           576.4,
           113320,
           "alfatrans s.a.s. s. a. s.",
           395
          ],
          [
           "Chile",
           172569.6,
           576.4,
           479360,
           "agrofertil s.r.l.",
           360
          ],
          [
           "Chile",
           150119.8,
           576.4,
           282180,
           "a.c.b. alimentos coronel baigorria s.a.",
           532
          ],
          [
           "Chile",
           69976.4,
           576.4,
           141940,
           "auqui s.a.",
           493
          ],
          [
           "Chile",
           159298.2,
           576.4,
           284970,
           "a.c.b. alimentos coronel baigorria s.a.",
           559
          ],
          [
           "Chile",
           45920,
           576.4,
           112000,
           "carolina vasquetto y elio marinelli sociedad simple",
           410
          ],
          [
           "Chile",
           40869,
           576.4,
           85500,
           "alimentos tancacha s.a.",
           478
          ],
          [
           "Chile",
           179992.8,
           576.4,
           499980,
           "agrofertil s.r.l.",
           360
          ],
          [
           "Chile",
           156872.2,
           576.4,
           280630,
           "a.c.b. alimentos coronel baigorria s.a.",
           559
          ],
          [
           "Chile",
           156113.6,
           576.4,
           284360,
           "a.c.b. alimentos coronel baigorria s.a.",
           549
          ],
          [
           "Chile",
           69986.3,
           576.4,
           141960,
           "auqui s.a.",
           493
          ],
          [
           "Chile",
           158683.3,
           576.4,
           283870,
           "a.c.b. alimentos coronel baigorria s.a.",
           559
          ],
          [
           "Chile",
           104227.2,
           576.4,
           224000,
           "sociedad agricola e inmobiliaria las piedras limitada",
           465.3
          ],
          [
           "Chile",
           69345.4,
           576.4,
           140660,
           "auqui s.a.",
           493
          ],
          [
           "Chile",
           129873.2,
           576.4,
           252000,
           "sociedad agricola e inmobiliaria las piedras limitada",
           515.4
          ],
          [
           "Chile",
           252504,
           576.4,
           504000,
           "sociedad agricola e inmobiliaria las piedras limitada",
           501
          ],
          [
           "Chile",
           179992.8,
           576.4,
           499980,
           "agrofertil s.r.l.",
           360
          ],
          [
           "Chile",
           44832,
           576.4,
           112080,
           "alfatrans s.a.s. s. a. s.",
           400
          ],
          [
           "Chile",
           158805.5,
           578.3,
           281570,
           "a.c.b. alimentos coronel baigorria s.a.",
           564
          ],
          [
           "Chile",
           11842.2,
           578.3,
           27540,
           "carolina vasquetto y elio marinelli sociedad simple",
           430
          ],
          [
           "Chile",
           156421.1,
           578.3,
           284920,
           "a.c.b. alimentos coronel baigorria s.a.",
           549
          ],
          [
           "Chile",
           11600,
           578.3,
           29000,
           "alfatrans s.a.s. s. a. s.",
           400
          ],
          [
           "Chile",
           68880,
           578.3,
           168000,
           "carolina vasquetto y elio marinelli sociedad simple",
           410
          ],
          [
           "Chile",
           252504,
           578.3,
           504000,
           "sociedad agricola e inmobiliaria las piedras limitada",
           501
          ],
          [
           "Chile",
           160339.6,
           578.3,
           284290,
           "a.c.b. alimentos coronel baigorria s.a.",
           564
          ],
          [
           "Chile",
           79800,
           578.3,
           142500,
           "auqui s.a.",
           560
          ],
          [
           "Chile",
           157700,
           578.3,
           279610,
           "a.c.b. alimentos coronel baigorria s.a.",
           564
          ],
          [
           "Chile",
           45448,
           578.3,
           113620,
           "alfatrans s.a.s. s. a. s.",
           400
          ],
          [
           "Chile",
           20440,
           578.3,
           28000,
           "ronalb s r l",
           730
          ],
          [
           "Chile",
           95100,
           578.3,
           225000,
           "carolina vasquetto y elio marinelli sociedad simple",
           422.7
          ],
          [
           "Chile",
           235980,
           578.3,
           513000,
           "alimentos tancacha s.a.",
           460
          ],
          [
           "Chile",
           20440,
           578.3,
           28000,
           "ronalb s r l",
           730
          ],
          [
           "Chile",
           129873.2,
           578.3,
           252000,
           "sociedad agricola e inmobiliaria las piedras limitada",
           515.4
          ],
          [
           "Chile",
           179906.4,
           578.3,
           499740,
           "agrofertil s.r.l.",
           360
          ],
          [
           "Chile",
           60552.6,
           578.3,
           140820,
           "alfatrans s.a.s. s. a. s.",
           430
          ],
          [
           "Chile",
           61386.8,
           578.3,
           142760,
           "alfatrans s.a.s. s. a. s.",
           430
          ],
          [
           "Chile",
           54119.2,
           578.3,
           113220,
           "alimentos tancacha s.a.",
           478
          ],
          [
           "Chile",
           49196,
           578.3,
           112490,
           "carolina vasquetto y elio marinelli sociedad simple",
           437.3
          ],
          [
           "Chile",
           68880,
           578.3,
           168000,
           "carolina vasquetto y elio marinelli sociedad simple",
           410
          ],
          [
           "Chile",
           79307.2,
           578.3,
           141620,
           "auqui s.a.",
           560
          ],
          [
           "Chile",
           152437.7,
           578.3,
           279190,
           "fg importaciones srl",
           546
          ],
          [
           "Chile",
           61619,
           578.3,
           143300,
           "alfatrans s.a.s. s. a. s.",
           430
          ],
          [
           "Chile",
           303947.3,
           578.3,
           556680,
           "fg importaciones srl",
           546
          ],
          [
           "Chile",
           247968,
           578.3,
           504000,
           "sociedad agricola e inmobiliaria las piedras limitada",
           492
          ],
          [
           "Chile",
           79318.4,
           578.3,
           141640,
           "auqui s.a.",
           560
          ],
          [
           "Chile",
           159163.2,
           585.7,
           284220,
           "auqui s.a.",
           560
          ],
          [
           "Chile",
           153218.5,
           585.7,
           280620,
           "fg importaciones srl",
           546
          ],
          [
           "Chile",
           61163.2,
           585.7,
           142240,
           "alfatrans s.a.s. s. a. s.",
           430
          ],
          [
           "Chile",
           232812,
           585.7,
           522000,
           "alimentos tancacha s.a.",
           446
          ],
          [
           "Chile",
           34440,
           585.7,
           84000,
           "carolina vasquetto y elio marinelli sociedad simple",
           410
          ],
          [
           "Chile",
           155599.1,
           585.7,
           284980,
           "fg importaciones srl",
           546
          ],
          [
           "Chile",
           247968,
           585.7,
           504000,
           "sociedad agricola e inmobiliaria las piedras limitada",
           492
          ],
          [
           "Chile",
           79609.6,
           585.7,
           142160,
           "auqui s.a.",
           560
          ],
          [
           "Chile",
           155599.1,
           585.7,
           284980,
           "fg importaciones srl",
           546
          ],
          [
           "Chile",
           79609.6,
           585.7,
           142160,
           "auqui s.a.",
           560
          ],
          [
           "Chile",
           296648.3,
           585.7,
           562900,
           "fg importaciones srl",
           527
          ],
          [
           "Chile",
           35690,
           585.7,
           83000,
           "alfatrans s.a.s. s. a. s.",
           430
          ],
          [
           "Chile",
           74385,
           585.7,
           171000,
           "carolina vasquetto y elio marinelli sociedad simple",
           435
          ],
          [
           "Chile",
           248920,
           585.7,
           508000,
           "sociedad agricola e inmobiliaria las piedras limitada",
           490
          ],
          [
           "Chile",
           143711.8,
           585.7,
           280140,
           "fg importaciones srl",
           513
          ],
          [
           "Chile",
           79766.4,
           585.7,
           142440,
           "auqui s.a.",
           560
          ],
          [
           "Chile",
           145240.6,
           585.7,
           283120,
           "fg importaciones srl",
           513
          ],
          [
           "Chile",
           63672,
           585.7,
           113700,
           "auqui s.a.",
           560
          ],
          [
           "Chile",
           74940,
           585.7,
           169000,
           "carolina vasquetto y elio marinelli sociedad simple",
           443.4
          ],
          [
           "Chile",
           229680,
           585.7,
           522000,
           "alimentos tancacha s.a.",
           440
          ],
          [
           "Chile",
           61249.2,
           585.7,
           142440,
           "alfatrans s.a.s. s. a. s.",
           430
          ],
          [
           "Chile",
           72975.6,
           585.7,
           167760,
           "carolina vasquetto y elio marinelli sociedad simple",
           435
          ],
          [
           "Chile",
           26100,
           585.7,
           58000,
           "alimentos tancacha s.a.",
           450
          ],
          [
           "Chile",
           284730.4,
           585.7,
           555030,
           "fg importaciones srl",
           513
          ],
          [
           "Chile",
           12320,
           585.7,
           28000,
           "carolina vasquetto y elio marinelli sociedad simple",
           440
          ],
          [
           "Chile",
           13050,
           585.7,
           29000,
           "alimentos tancacha s.a.",
           450
          ],
          [
           "Chile",
           144489.9,
           585.7,
           284990,
           "fg importaciones srl",
           507
          ],
          [
           "Chile",
           24940,
           585.7,
           58000,
           "alfatrans s.a.s. s. a. s.",
           430
          ],
          [
           "Chile",
           74385,
           585.7,
           171000,
           "carolina vasquetto y elio marinelli sociedad simple",
           435
          ],
          [
           "Chile",
           248920,
           585.7,
           508000,
           "sociedad agricola e inmobiliaria las piedras limitada",
           490
          ],
          [
           "Chile",
           144444.3,
           585.7,
           284900,
           "fg importaciones srl",
           507
          ],
          [
           "Chile",
           47997.9,
           585.7,
           110340,
           "del sur agroexportadora s.a.s.",
           435
          ],
          [
           "Chile",
           62229.6,
           585.7,
           144720,
           "alfatrans s.a.s. s. a. s.",
           430
          ],
          [
           "Chile",
           26100,
           585.7,
           58000,
           "alimentos tancacha s.a.",
           450
          ],
          [
           "Chile",
           167986,
           585.7,
           338000,
           "sociedad agricola e inmobiliaria las piedras limitada",
           497
          ],
          [
           "Chile",
           80159.9,
           585.7,
           142380,
           "auqui s.a.",
           563
          ],
          [
           "Chile",
           144398.7,
           585.7,
           284810,
           "fg importaciones srl",
           507
          ],
          [
           "Chile",
           80205,
           585.7,
           142460,
           "auqui s.a.",
           563
          ],
          [
           "Chile",
           144484.9,
           585.7,
           284980,
           "fg importaciones srl",
           507
          ],
          [
           "Chile",
           48476.4,
           585.7,
           111440,
           "del sur agroexportadora s.a.s.",
           435
          ],
          [
           "Chile",
           48720,
           585.7,
           112000,
           "carolina vasquetto y elio marinelli sociedad simple",
           435
          ],
          [
           "Chile",
           13110,
           585.7,
           28500,
           "alimentos tancacha s.a.",
           460
          ],
          [
           "Chile",
           76522.5,
           585.7,
           142500,
           "auqui s.a.",
           537
          ],
          [
           "Chile",
           12544,
           585.7,
           28000,
           "barbale agropecuaria s.r.l.",
           448
          ],
          [
           "Chile",
           124549.2,
           585.7,
           286320,
           "alfatrans s.a.s. s. a. s.",
           435
          ],
          [
           "Chile",
           248920,
           585.7,
           508000,
           "sociedad agricola e inmobiliaria las piedras limitada",
           490
          ],
          [
           "Chile",
           25934.8,
           585.7,
           56380,
           "alimentos tancacha s.a.",
           460
          ],
          [
           "Chile",
           24299.1,
           585.7,
           55860,
           "del sur agroexportadora s.a.s.",
           435
          ],
          [
           "Chile",
           125280,
           597.1,
           290000,
           "alfatrans s.a.s. s. a. s.",
           432
          ],
          [
           "Chile",
           27832,
           597.1,
           56000,
           "sociedad agricola e inmobiliaria las piedras limitada",
           497
          ],
          [
           "Chile",
           398289.8,
           597.1,
           989540,
           "j.a.l. s.r.l.",
           402.5
          ],
          [
           "Chile",
           229680,
           597.1,
           522000,
           "alimentos tancacha s.a.",
           440
          ],
          [
           "Chile",
           76092.9,
           597.1,
           141700,
           "auqui s.a.",
           537
          ],
          [
           "Chile",
           61145.3,
           597.1,
           141540,
           "del sur agroexportadora s.a.s.",
           432
          ],
          [
           "Chile",
           504560.8,
           597.1,
           1025530,
           "s & f global serv sociedad responsabilidad limitada",
           492
          ],
          [
           "Chile",
           25249.3,
           597.1,
           56740,
           "del sur agroexportadora s.a.s.",
           445
          ],
          [
           "Chile",
           124031.5,
           597.1,
           287110,
           "alfatrans s.a.s. s. a. s.",
           432
          ],
          [
           "Chile",
           517004.2,
           597.1,
           1011750,
           "s & f global serv sociedad responsabilidad limitada",
           511
          ],
          [
           "Chile",
           61249,
           597.1,
           141780,
           "del sur agroexportadora s.a.s.",
           432
          ],
          [
           "Chile",
           27837.6,
           597.1,
           56000,
           "sociedad agricola e inmobiliaria las piedras limitada",
           497.1
          ],
          [
           "Chile",
           12420,
           597.1,
           27000,
           "alimentos tancacha s.a.",
           460
          ],
          [
           "Chile",
           245872,
           597.1,
           508000,
           "sociedad agricola e inmobiliaria las piedras limitada",
           484
          ],
          [
           "Chile",
           25089.1,
           597.1,
           56380,
           "del sur agroexportadora s.a.s.",
           445
          ],
          [
           "Chile",
           257060.8,
           597.1,
           575080,
           "alimentos tancacha s.a.",
           447
          ],
          [
           "Chile",
           61516.8,
           597.1,
           142400,
           "del sur agroexportadora s.a.s.",
           432
          ],
          [
           "Chile",
           61380,
           597.1,
           139500,
           "insumos y acopios del sur s.a.",
           440
          ],
          [
           "Chile",
           37940.7,
           597.1,
           85260,
           "del sur agroexportadora s.a.s.",
           445
          ],
          [
           "Chile",
           129775.4,
           597.1,
           286480,
           "alfatrans s.a.s. s. a. s.",
           453
          ],
          [
           "Chile",
           148028.8,
           597.1,
           283580,
           "auqui s.a.",
           522
          ],
          [
           "Chile",
           386026,
           597.1,
           790000,
           "sociedad agricola e inmobiliaria las piedras limitada",
           488.6
          ],
          [
           "Chile",
           74207.5,
           597.1,
           142160,
           "auqui s.a.",
           522
          ],
          [
           "Chile",
           61369.9,
           597.1,
           142060,
           "del sur agroexportadora s.a.s.",
           432
          ],
          [
           "Chile",
           248920,
           597.1,
           508000,
           "sociedad agricola e inmobiliaria las piedras limitada",
           490
          ],
          [
           "Chile",
           78122.7,
           597.1,
           142300,
           "auqui s.a.",
           549
          ],
          [
           "Chile",
           12682.5,
           597.1,
           28500,
           "del sur agroexportadora s.a.s.",
           445
          ],
          [
           "Chile",
           77870.2,
           646.8,
           141840,
           "auqui s.a.",
           549
          ],
          [
           "Chile",
           61622.1,
           646.8,
           141660,
           "del sur agroexportadora s.a.s.",
           435
          ],
          [
           "Chile",
           61600,
           646.8,
           140000,
           "insumos y acopios del sur s.a.",
           440
          ],
          [
           "Chile",
           400399,
           646.8,
           994780,
           "s & f global serv sociedad responsabilidad limitada",
           402.5
          ],
          [
           "Chile",
           61822.2,
           646.8,
           142120,
           "del sur agroexportadora s.a.s.",
           435
          ],
          [
           "Chile",
           248920,
           646.8,
           508000,
           "sociedad agricola e inmobiliaria las piedras limitada",
           490
          ],
          [
           "Chile",
           128401,
           646.8,
           282200,
           "alfatrans s.a.s. s. a. s.",
           455
          ],
          [
           "Chile",
           592399.1,
           646.8,
           1168440,
           "s & f global serv sociedad responsabilidad limitada",
           507
          ],
          [
           "Chile",
           38047.5,
           646.8,
           85500,
           "del sur agroexportadora s.a.s.",
           445
          ],
          [
           "Chile",
           61743.9,
           646.8,
           141940,
           "del sur agroexportadora s.a.s.",
           435
          ],
          [
           "Chile",
           124914.6,
           646.8,
           287160,
           "alfatrans s.a.s. s. a. s.",
           435
          ],
          [
           "Chile",
           12544,
           646.8,
           28000,
           "barbale agropecuaria s.r.l.",
           448
          ],
          [
           "Chile",
           560141.4,
           646.8,
           1025900,
           "s & f global serv sociedad responsabilidad limitada",
           546
          ],
          [
           "Chile",
           125628,
           646.8,
           288800,
           "alfatrans s.a.s. s. a. s.",
           435
          ],
          [
           "Chile",
           61909.2,
           646.8,
           142320,
           "del sur agroexportadora s.a.s.",
           435
          ],
          [
           "Chile",
           76950,
           646.8,
           171000,
           "centro electro s.r.l.",
           450
          ],
          [
           "Chile",
           247904,
           646.8,
           508000,
           "sociedad agricola e inmobiliaria las piedras limitada",
           488
          ],
          [
           "Chile",
           61665.6,
           646.8,
           141760,
           "del sur agroexportadora s.a.s.",
           435
          ],
          [
           "Chile",
           124758,
           646.8,
           286800,
           "alfatrans s.a.s. s. a. s.",
           435
          ],
          [
           "Chile",
           38047.5,
           646.8,
           85500,
           "del sur agroexportadora s.a.s.",
           445
          ],
          [
           "Chile",
           61622.1,
           646.8,
           141660,
           "del sur agroexportadora s.a.s.",
           435
          ],
          [
           "Chile",
           47281.5,
           646.8,
           85500,
           "auqui s.a.",
           553
          ],
          [
           "Chile",
           50400,
           646.8,
           112000,
           "del sur agroexportadora s.a.s.",
           450
          ],
          [
           "Chile",
           24368.7,
           646.8,
           56020,
           "alfatrans s.a.s. s. a. s.",
           435
          ],
          [
           "Chile",
           123824.8,
           646.8,
           281420,
           "insumos y acopios del sur s.a.",
           440
          ],
          [
           "Chile",
           560157.8,
           646.8,
           1025930,
           "s & f global serv sociedad responsabilidad limitada",
           546
          ],
          [
           "Chile",
           68880,
           646.8,
           168000,
           "lopez ibarra jorge daniel",
           410
          ],
          [
           "Chile",
           138744,
           646.8,
           282000,
           "sociedad agricola e inmobiliaria las piedras limitada",
           492
          ],
          [
           "Chile",
           77903.1,
           646.8,
           141900,
           "auqui s.a.",
           549
          ],
          [
           "Chile",
           24360,
           646.8,
           56000,
           "alfatrans s.a.s. s. a. s.",
           435
          ],
          [
           "Chile",
           247904,
           614.7,
           508000,
           "sociedad agricola e inmobiliaria las piedras limitada",
           488
          ],
          [
           "Chile",
           37620,
           614.7,
           83600,
           "del sur agroexportadora s.a.s.",
           450
          ],
          [
           "Chile",
           37800,
           614.7,
           84000,
           "del sur agroexportadora s.a.s.",
           450
          ],
          [
           "Chile",
           13328,
           614.7,
           28000,
           "barbale agropecuaria s.r.l.",
           476
          ],
          [
           "Chile",
           309394.3,
           614.7,
           709620,
           "alfatrans s.a.s. s. a. s.",
           436
          ],
          [
           "Chile",
           538666.1,
           614.7,
           1024080,
           "s & f global serv sociedad responsabilidad limitada",
           526
          ],
          [
           "Chile",
           59890.2,
           614.7,
           141920,
           "del sur agroexportadora s.a.s.",
           422
          ],
          [
           "Chile",
           89451,
           614.7,
           198780,
           "centro electro s.r.l.",
           450
          ],
          [
           "Chile",
           49442.1,
           614.7,
           113660,
           "centro electro s.r.l.",
           435
          ],
          [
           "Chile",
           118539.8,
           614.7,
           280900,
           "del sur agroexportadora s.a.s.",
           422
          ],
          [
           "Chile",
           157764.7,
           614.7,
           283240,
           "auqui s.a.",
           557
          ],
          [
           "Chile",
           71825,
           614.7,
           169000,
           "centro electro s.r.l.",
           425
          ],
          [
           "Chile",
           244856,
           614.7,
           508000,
           "sociedad agricola e inmobiliaria las piedras limitada",
           482
          ],
          [
           "Chile",
           157892.8,
           614.7,
           283470,
           "auqui s.a.",
           557
          ],
          [
           "Chile",
           666247.4,
           614.7,
           1266630,
           "s & f global serv sociedad responsabilidad limitada",
           526
          ],
          [
           "Chile",
           59907.1,
           614.7,
           141960,
           "del sur agroexportadora s.a.s.",
           422
          ],
          [
           "Chile",
           59772.1,
           600.4,
           141640,
           "del sur agroexportadora s.a.s.",
           422
          ],
          [
           "Chile",
           46654.3,
           600.4,
           112420,
           "del sur agroexportadora s.a.s.",
           415
          ],
          [
           "Chile",
           37128,
           600.4,
           84000,
           "carolina vasquetto y elio marinelli sociedad simple",
           442
          ],
          [
           "Chile",
           59881.8,
           600.4,
           141900,
           "del sur agroexportadora s.a.s.",
           422
          ],
          [
           "Chile",
           58988.2,
           600.4,
           141120,
           "alimentos tancacha s.a.",
           418
          ],
          [
           "Chile",
           111192,
           600.4,
           226000,
           "sociedad agricola e inmobiliaria las piedras limitada",
           492
          ],
          [
           "Chile",
           244856,
           600.4,
           508000,
           "sociedad agricola e inmobiliaria las piedras limitada",
           482
          ],
          [
           "Chile",
           188604.9,
           600.4,
           432580,
           "alfatrans s.a.s. s. a. s.",
           436
          ],
          [
           "Chile",
           126773.1,
           600.4,
           313020,
           "centro electro s.r.l.",
           405
          ],
          [
           "Chile",
           60050.6,
           600.4,
           142300,
           "del sur agroexportadora s.a.s.",
           422
          ],
          [
           "Chile",
           13860,
           600.4,
           28000,
           "sociedad agricola e inmobiliaria las piedras limitada",
           495
          ],
          [
           "Chile",
           59565,
           600.4,
           142500,
           "alimentos tancacha s.a.",
           418
          ],
          [
           "Chile",
           36618.8,
           600.4,
           85160,
           "badaloni y asociados s.r.l",
           430
          ],
          [
           "Chile",
           314439.3,
           600.4,
           653720,
           "s & f global serv sociedad responsabilidad limitada",
           481
          ],
          [
           "Chile",
           56872,
           600.4,
           142180,
           "del sur agroexportadora s.a.s.",
           400
          ],
          [
           "Chile",
           247800,
           600.4,
           600000,
           "alimentos tancacha s.a.",
           413
          ],
          [
           "Chile",
           56784,
           600.4,
           141960,
           "del sur agroexportadora s.a.s.",
           400
          ],
          [
           "Chile",
           23109.3,
           600.4,
           57060,
           "centro electro s.r.l.",
           405
          ],
          [
           "Chile",
           56760,
           600.4,
           141900,
           "del sur agroexportadora s.a.s.",
           400
          ],
          [
           "Chile",
           257989.9,
           600.4,
           591720,
           "alfatrans s.a.s. s. a. s.",
           436
          ],
          [
           "Chile",
           71478,
           600.4,
           171000,
           "alimentos tancacha s.a.",
           418
          ],
          [
           "Chile",
           58530.6,
           600.4,
           144520,
           "centro electro s.r.l.",
           405
          ],
          [
           "Chile",
           57000,
           600.4,
           142500,
           "del sur agroexportadora s.a.s.",
           400
          ],
          [
           "Chile",
           56368,
           600.4,
           140920,
           "del sur agroexportadora s.a.s.",
           400
          ],
          [
           "Chile",
           487503.1,
           585.8,
           1013520,
           "s & f global serv sociedad responsabilidad limitada",
           481
          ],
          [
           "Chile",
           156825,
           585.8,
           365340,
           "centro electro s.r.l.",
           429.3
          ],
          [
           "Chile",
           76665,
           585.8,
           142500,
           "coingra sa",
           538
          ],
          [
           "Chile",
           76678.1,
           585.8,
           142260,
           "coingra sa",
           539
          ],
          [
           "Chile",
           12112.5,
           585.8,
           28500,
           "carolina vasquetto y elio marinelli sociedad simple",
           425
          ],
          [
           "Chile",
           163930,
           585.8,
           338000,
           "sociedad agricola e inmobiliaria las piedras limitada",
           485
          ],
          [
           "Chile",
           178196.1,
           585.8,
           370470,
           "s & f global serv sociedad responsabilidad limitada",
           481
          ],
          [
           "Chile",
           59220.5,
           585.8,
           142700,
           "centro electro s.r.l.",
           415
          ],
          [
           "Chile",
           56800,
           585.8,
           142000,
           "carolina vasquetto y elio marinelli sociedad simple",
           400
          ],
          [
           "Chile",
           56456,
           585.8,
           141140,
           "del sur agroexportadora s.a.s.",
           400
          ],
          [
           "Chile",
           57753,
           585.8,
           142600,
           "centro electro s.r.l.",
           405
          ],
          [
           "Chile",
           76525.1,
           585.8,
           142240,
           "coingra sa",
           538
          ],
          [
           "Chile",
           20440,
           585.8,
           28000,
           "ronalb s r l",
           730
          ],
          [
           "Chile",
           3800,
           585.8,
           9500,
           "carolina vasquetto y elio marinelli sociedad simple",
           400
          ],
          [
           "Chile",
           76439,
           585.8,
           142080,
           "coingra sa",
           538
          ],
          [
           "Chile",
           250865.7,
           557.6,
           575380,
           "alfatrans s.a.s. s. a. s.",
           436
          ],
          [
           "Chile",
           20440,
           557.6,
           28000,
           "ronalb s r l",
           730
          ],
          [
           "Chile",
           131670,
           557.6,
           285000,
           "alimentos tancacha s.a.",
           462
          ],
          [
           "Chile",
           49293.7,
           557.6,
           113580,
           "carolina vasquetto y elio marinelli sociedad simple",
           434
          ],
          [
           "Chile",
           59029.6,
           557.6,
           142240,
           "carolina vasquetto y elio marinelli sociedad simple",
           415
          ],
          [
           "Chile",
           14112,
           557.6,
           28000,
           "barbale agropecuaria s.r.l.",
           504
          ],
          [
           "Chile",
           131670,
           557.6,
           285000,
           "alimentos tancacha s.a.",
           462
          ],
          [
           "Chile",
           190087.3,
           557.6,
           435980,
           "alfatrans s.a.s. s. a. s.",
           436
          ],
          [
           "Chile",
           76854.5,
           557.6,
           142060,
           "coingra sa",
           541
          ],
          [
           "Chile",
           131670,
           557.6,
           285000,
           "alimentos tancacha s.a.",
           462
          ],
          [
           "Chile",
           11512.8,
           557.6,
           28080,
           "ramone sas",
           410
          ],
          [
           "Chile",
           56924.4,
           557.6,
           138840,
           "ramone sas",
           410
          ],
          [
           "Chile",
           123190,
           557.6,
           254000,
           "sociedad agricola e inmobiliaria las piedras limitada",
           485
          ],
          [
           "Chile",
           24140.2,
           557.6,
           56140,
           "carolina vasquetto y elio marinelli sociedad simple",
           430
          ],
          [
           "Chile",
           269697.6,
           557.6,
           561870,
           "argen-time sas",
           480
          ],
          [
           "Chile",
           153395.1,
           557.6,
           283540,
           "coingra sa",
           541
          ],
          [
           "Chile",
           59062.8,
           557.6,
           142320,
           "carolina vasquetto y elio marinelli sociedad simple",
           415
          ],
          [
           "Chile",
           131632.2,
           557.6,
           283080,
           "alimentos tancacha s.a.",
           465
          ],
          [
           "Chile",
           49023.8,
           557.6,
           112440,
           "alfatrans s.a.s. s. a. s.",
           436
          ],
          [
           "Chile",
           69864,
           557.6,
           170400,
           "ramone sas",
           410
          ],
          [
           "Chile",
           70757.8,
           557.6,
           172580,
           "ramone sas",
           410
          ],
          [
           "Chile",
           70766,
           557.6,
           172600,
           "ramone sas",
           410
          ],
          [
           "Chile",
           58490.6,
           557.6,
           142660,
           "ramone sas",
           410
          ],
          [
           "Chile",
           135660,
           557.6,
           285000,
           "alimentos tancacha s.a.",
           476
          ],
          [
           "Chile",
           59079.4,
           557.6,
           142360,
           "carolina vasquetto y elio marinelli sociedad simple",
           415
          ],
          [
           "Chile",
           157508,
           557.6,
           338000,
           "sociedad agricola e inmobiliaria las piedras limitada",
           466
          ],
          [
           "Chile",
           130691.2,
           557.6,
           315250,
           "ramone sas",
           414.6
          ],
          [
           "Chile",
           58498.8,
           552,
           142680,
           "ramone sas",
           410
          ],
          [
           "Chile",
           252912,
           552,
           574800,
           "alfatrans s.a.s. s. a. s.",
           440
          ],
          [
           "Chile",
           78934.7,
           552,
           141460,
           "coingra sa",
           558
          ],
          [
           "Chile",
           237236,
           552,
           508000,
           "sociedad agricola e inmobiliaria las piedras limitada",
           467
          ],
          [
           "Chile",
           158382.7,
           552,
           283840,
           "coingra sa",
           558
          ],
          [
           "Chile",
           23447.5,
           552,
           56500,
           "carolina vasquetto y elio marinelli sociedad simple",
           415
          ],
          [
           "Chile",
           162578,
           552,
           338000,
           "sociedad agricola e inmobiliaria las piedras limitada",
           481
          ],
          [
           "Chile",
           128873.4,
           552,
           310900,
           "ramone sas",
           414.5
          ],
          [
           "Chile",
           126456,
           552,
           287400,
           "alfatrans s.a.s. s. a. s.",
           440
          ],
          [
           "Chile",
           62568,
           552,
           142200,
           "alfatrans s.a.s. s. a. s.",
           440
          ],
          [
           "Chile",
           24329.4,
           552,
           56580,
           "carolina vasquetto y elio marinelli sociedad simple",
           430
          ],
          [
           "Chile",
           13972,
           552,
           28000,
           "barbale agropecuaria s.r.l.",
           499
          ],
          [
           "Chile",
           237236,
           552,
           508000,
           "sociedad agricola e inmobiliaria las piedras limitada",
           467
          ],
          [
           "Chile",
           126974.6,
           552,
           254000,
           "sociedad agricola e inmobiliaria las piedras limitada",
           499.9
          ],
          [
           "Chile",
           37107,
           552,
           85500,
           "carolina vasquetto y elio marinelli sociedad simple",
           434
          ],
          [
           "Chile",
           37046.2,
           552,
           85360,
           "carolina vasquetto y elio marinelli sociedad simple",
           434
          ],
          [
           "Chile",
           69052.2,
           552,
           168420,
           "sialfa argentina s.r.l.",
           410
          ],
          [
           "Chile",
           71184.2,
           552,
           173620,
           "sialfa argentina s.r.l.",
           410
          ],
          [
           "Chile",
           24577.5,
           552,
           56500,
           "carolina vasquetto y elio marinelli sociedad simple",
           435
          ],
          [
           "Chile",
           135375,
           552,
           285000,
           "alimentos tancacha s.a.",
           475
          ],
          [
           "Chile",
           60664.5,
           552,
           139780,
           "carolina vasquetto y elio marinelli sociedad simple",
           434
          ],
          [
           "Chile",
           126974.6,
           552,
           254000,
           "sociedad agricola e inmobiliaria las piedras limitada",
           499.9
          ],
          [
           "Chile",
           41211,
           552,
           85500,
           "alimentos tancacha s.a.",
           482
          ],
          [
           "Chile",
           364490,
           552,
           762000,
           "sociedad agricola e inmobiliaria las piedras limitada",
           478.3
          ],
          [
           "Chile",
           71167.8,
           552,
           173580,
           "sialfa argentina s.r.l.",
           410
          ],
          [
           "Chile",
           163248.8,
           552,
           371020,
           "alfatrans s.a.s. s. a. s.",
           440
          ],
          [
           "Chile",
           36864,
           551,
           84940,
           "carolina vasquetto y elio marinelli sociedad simple",
           434
          ],
          [
           "Chile",
           127833.2,
           551,
           308380,
           "sialfa argentina s.r.l.",
           414.5
          ],
          [
           "Chile",
           41211,
           551,
           85500,
           "alimentos tancacha s.a.",
           482
          ],
          [
           "Chile",
           242316,
           551,
           508000,
           "sociedad agricola e inmobiliaria las piedras limitada",
           477
          ],
          [
           "Chile",
           77816.2,
           551,
           142260,
           "coingra sa",
           547
          ],
          [
           "Chile",
           282397.4,
           551,
           559760,
           "bunbury s.a.",
           504.5
          ],
          [
           "Chile",
           28730.2,
           551,
           56400,
           "sociedad agricola e inmobiliaria las piedras limitada",
           509.4
          ],
          [
           "Chile",
           259136,
           551,
           536000,
           "sociedad agricola e inmobiliaria las piedras limitada",
           483.5
          ],
          [
           "Chile",
           62700,
           551,
           142500,
           "cagnoni walter ernesto",
           440
          ],
          [
           "Chile",
           172042,
           551,
           338000,
           "sociedad agricola e inmobiliaria las piedras limitada",
           509
          ],
          [
           "Chile",
           13972,
           551,
           28000,
           "barbale agropecuaria s.r.l.",
           499
          ],
          [
           "Chile",
           244856,
           554.1,
           508000,
           "sociedad agricola e inmobiliaria las piedras limitada",
           482
          ],
          [
           "Chile",
           58105.2,
           554.1,
           141720,
           "sialfa argentina s.r.l.",
           410
          ],
          [
           "Chile",
           41211,
           554.1,
           85500,
           "alimentos tancacha s.a.",
           482
          ],
          [
           "Chile",
           115825,
           554.1,
           282500,
           "cagnoni walter ernesto",
           410
          ],
          [
           "Chile",
           41211,
           554.1,
           85500,
           "alimentos tancacha s.a.",
           482
          ],
          [
           "Chile",
           457712.8,
           554.1,
           929500,
           "sociedad agricola e inmobiliaria las piedras limitada",
           492.4
          ],
          [
           "Chile",
           131316,
           554.1,
           282400,
           "insumos y acopios del sur s.a.",
           465
          ],
          [
           "Chile",
           115464.2,
           554.1,
           281620,
           "cagnoni walter ernesto",
           410
          ],
          [
           "Chile",
           237268.5,
           554.1,
           574500,
           "cagnoni walter ernesto",
           413
          ],
          [
           "Chile",
           245872,
           554.1,
           508000,
           "sociedad agricola e inmobiliaria las piedras limitada",
           484
          ],
          [
           "Chile",
           41211,
           554.1,
           85500,
           "alimentos tancacha s.a.",
           482
          ],
          [
           "Chile",
           60900,
           554.1,
           142880,
           "agrofertil s.r.l.",
           426.2
          ],
          [
           "Chile",
           132525,
           554.1,
           285000,
           "insumos y acopios del sur s.a.",
           465
          ],
          [
           "Chile",
           41211,
           554.1,
           85500,
           "alimentos tancacha s.a.",
           482
          ],
          [
           "Chile",
           120555,
           554.1,
           256500,
           "carolina vasquetto y elio marinelli sociedad simple",
           470
          ],
          [
           "Chile",
           121800,
           554.1,
           284150,
           "agrofertil s.r.l.",
           428.6
          ],
          [
           "Chile",
           26790,
           554.1,
           57000,
           "carolina vasquetto y elio marinelli sociedad simple",
           470
          ],
          [
           "Chile",
           77531.8,
           606.2,
           141740,
           "coingra sa",
           547
          ],
          [
           "Chile",
           247396,
           606.2,
           508000,
           "sociedad agricola e inmobiliaria las piedras limitada",
           487
          ],
          [
           "Chile",
           235112.6,
           606.2,
           569280,
           "cagnoni walter ernesto",
           413
          ],
          [
           "Chile",
           120555,
           606.2,
           256500,
           "carolina vasquetto y elio marinelli sociedad simple",
           470
          ],
          [
           "Chile",
           60900,
           606.2,
           144160,
           "agrofertil s.r.l.",
           422.4
          ],
          [
           "Chile",
           131927.6,
           606.2,
           254000,
           "sociedad agricola e inmobiliaria las piedras limitada",
           519.4
          ],
          [
           "Chile",
           141035,
           606.2,
           282070,
           "costantini y asociados s.a.",
           500
          ],
          [
           "Chile",
           60900,
           606.2,
           140740,
           "agrofertil s.r.l.",
           432.7
          ],
          [
           "Chile",
           62181,
           606.2,
           147000,
           "cagnoni walter ernesto",
           423
          ],
          [
           "Chile",
           37800,
           606.2,
           85160,
           "agrofertil s.r.l.",
           443.9
          ],
          [
           "Chile",
           60599,
           606.2,
           143260,
           "cagnoni walter ernesto",
           423
          ],
          [
           "Chile",
           121121.8,
           606.2,
           286340,
           "cagnoni walter ernesto",
           423
          ],
          [
           "Chile",
           60900,
           606.2,
           143500,
           "agrofertil s.r.l.",
           424.4
          ],
          [
           "Chile",
           121604,
           606.2,
           287480,
           "cagnoni walter ernesto",
           423
          ],
          [
           "Chile",
           142490,
           661.6,
           284980,
           "costantini y asociados s.a.",
           500
          ],
          [
           "Chile",
           120648,
           661.6,
           284560,
           "cagnoni walter ernesto",
           424
          ],
          [
           "Chile",
           123480,
           661.6,
           252000,
           "carolina vasquetto y elio marinelli sociedad simple",
           490
          ],
          [
           "Chile",
           60913.8,
           661.6,
           141660,
           "jm y cia s.a.s.",
           430
          ],
          [
           "Chile",
           63800,
           661.6,
           145000,
           "jm y cia s.a.s.",
           440
          ],
          [
           "Chile",
           59704,
           661.6,
           140480,
           "cagnoni walter ernesto",
           425
          ],
          [
           "Chile",
           60698.5,
           661.6,
           142820,
           "cagnoni walter ernesto",
           425
          ],
          [
           "Chile",
           247396,
           661.6,
           508000,
           "sociedad agricola e inmobiliaria las piedras limitada",
           487
          ],
          [
           "Chile",
           66000,
           661.6,
           143240,
           "agrofertil s.r.l.",
           460.8
          ],
          [
           "Chile",
           14532,
           661.6,
           28000,
           "barbale agropecuaria s.r.l.",
           519
          ],
          [
           "Chile",
           109760,
           661.6,
           224000,
           "carolina vasquetto y elio marinelli sociedad simple",
           490
          ],
          [
           "Chile",
           295152,
           661.6,
           567600,
           "costantini y asociados s.a.",
           520
          ],
          [
           "Chile",
           62350,
           661.6,
           145000,
           "jm y cia s.a.s.",
           430
          ],
          [
           "Chile",
           179555.6,
           661.6,
           338000,
           "sociedad agricola e inmobiliaria las piedras limitada",
           531.2
          ],
          [
           "Chile",
           50160,
           661.6,
           111420,
           "agrofertil s.r.l.",
           450.2
          ],
          [
           "Chile",
           148896,
           661.6,
           282000,
           "sociedad agricola e inmobiliaria las piedras limitada",
           528
          ],
          [
           "Chile",
           62700,
           661.6,
           140940,
           "agrofertil s.r.l.",
           444.9
          ],
          [
           "Chile",
           315421.3,
           661.6,
           564260,
           "costantini y asociados s.a.",
           559
          ],
          [
           "Chile",
           257556,
           661.6,
           508000,
           "sociedad agricola e inmobiliaria las piedras limitada",
           507
          ],
          [
           "Chile",
           83482,
           720.6,
           140000,
           "sociedad agricola e inmobiliaria las piedras limitada",
           596.3
          ],
          [
           "Chile",
           83700,
           720.6,
           174840,
           "agrofertil s.r.l.",
           478.7
          ],
          [
           "Chile",
           756008,
           720.6,
           1326000,
           "sociedad agricola e inmobiliaria las piedras limitada",
           570.1
          ],
          [
           "Chile",
           126850,
           720.6,
           278020,
           "jm y cia s.a.s.",
           456.3
          ],
          [
           "Chile",
           63900,
           720.6,
           142000,
           "jm y cia s.a.s.",
           450
          ],
          [
           "Chile",
           183825,
           720.6,
           285000,
           "insumos y acopios del sur s.a.",
           645
          ],
          [
           "Chile",
           77850,
           720.6,
           167320,
           "jm y cia s.a.s.",
           465.3
          ],
          [
           "Chile",
           15885,
           720.6,
           35300,
           "jm y cia s.a.s.",
           450
          ],
          [
           "Chile",
           15.9,
           720.6,
           30,
           "anta expo s.a",
           530
          ],
          [
           "Chile",
           181554.6,
           720.6,
           281480,
           "insumos y acopios del sur s.a.",
           645
          ],
          [
           "Chile",
           221390,
           720.6,
           338000,
           "sociedad agricola e inmobiliaria las piedras limitada",
           655
          ],
          [
           "Chile",
           661921,
           720.6,
           1018340,
           "costantini y asociados s.a.",
           650
          ],
          [
           "Chile",
           180924.2,
           720.8,
           284920,
           "insumos y acopios del sur s.a.",
           635
          ],
          [
           "Chile",
           59360,
           720.8,
           112000,
           "carolina vasquetto y elio marinelli sociedad simple",
           530
          ],
          [
           "Chile",
           319024,
           720.8,
           508000,
           "sociedad agricola e inmobiliaria las piedras limitada",
           628
          ],
          [
           "Chile",
           546790.4,
           720.8,
           881920,
           "costantini y asociados s.a.",
           620
          ],
          [
           "Chile",
           74200,
           720.8,
           140000,
           "carolina vasquetto y elio marinelli sociedad simple",
           530
          ],
          [
           "Chile",
           171348.1,
           720.8,
           283220,
           "insumos y acopios del sur s.a.",
           605
          ],
          [
           "Chile",
           78200,
           720.8,
           169080,
           "jm y cia s.a.s.",
           462.5
          ],
          [
           "Chile",
           71022,
           720.8,
           114000,
           "alimentos tancacha s.a.",
           623
          ],
          [
           "Chile",
           19600,
           720.8,
           28000,
           "barbale agropecuaria s.r.l.",
           700
          ],
          [
           "Chile",
           53266.5,
           720.8,
           85500,
           "alimentos tancacha s.a.",
           623
          ],
          [
           "Chile",
           71022,
           720.8,
           114000,
           "alimentos tancacha s.a.",
           623
          ],
          [
           "Chile",
           303276,
           720.8,
           508000,
           "sociedad agricola e inmobiliaria las piedras limitada",
           597
          ],
          [
           "Chile",
           74200,
           720.8,
           140000,
           "carolina vasquetto y elio marinelli sociedad simple",
           530
          ],
          [
           "Chile",
           65250,
           720.8,
           143980,
           "jm y cia s.a.s.",
           453.2
          ],
          [
           "Chile",
           81780,
           720.8,
           174000,
           "jm y cia s.a.s.",
           470
          ],
          [
           "Chile",
           74200,
           720.8,
           140000,
           "carolina vasquetto y elio marinelli sociedad simple",
           530
          ],
          [
           "Chile",
           303276,
           720.8,
           508000,
           "sociedad agricola e inmobiliaria las piedras limitada",
           597
          ],
          [
           "Chile",
           264877.6,
           720.8,
           417130,
           "insumos y acopios del sur s.a.",
           635
          ],
          [
           "Chile",
           80040,
           720.8,
           174000,
           "jm y cia s.a.s.",
           460
          ],
          [
           "Chile",
           85616.4,
           724.1,
           142220,
           "costantini y asociados s.a.",
           602
          ],
          [
           "Chile",
           358986,
           724.1,
           564000,
           "sociedad agricola e inmobiliaria las piedras limitada",
           636.5
          ],
          [
           "Chile",
           44520,
           724.1,
           84000,
           "carolina vasquetto y elio marinelli sociedad simple",
           530
          ],
          [
           "Chile",
           318516,
           724.1,
           508000,
           "sociedad agricola e inmobiliaria las piedras limitada",
           627
          ],
          [
           "Chile",
           262912.5,
           724.1,
           427500,
           "insumos y acopios del sur s.a.",
           615
          ],
          [
           "Chile",
           54520,
           724.1,
           114440,
           "jm y cia s.a.s.",
           476.4
          ],
          [
           "Chile",
           109850,
           724.1,
           169000,
           "sociedad agricola e inmobiliaria las piedras limitada",
           650
          ],
          [
           "Chile",
           318516,
           724.1,
           508000,
           "sociedad agricola e inmobiliaria las piedras limitada",
           627
          ],
          [
           "Chile",
           71400,
           724.1,
           140000,
           "carolina vasquetto y elio marinelli sociedad simple",
           510
          ],
          [
           "Chile",
           12780,
           724.1,
           28400,
           "jm y cia s.a.s.",
           450
          ],
          [
           "Chile",
           158708.5,
           724.1,
           280900,
           "insumos y acopios del sur s.a.",
           565
          ],
          [
           "Chile",
           85680,
           724.1,
           168000,
           "carolina vasquetto y elio marinelli sociedad simple",
           510
          ],
          [
           "Chile",
           23800,
           724.1,
           28000,
           "ronalb s r l",
           850
          ],
          [
           "Chile",
           91000,
           724.1,
           140000,
           "sociedad agricola e inmobiliaria las piedras limitada",
           650
          ],
          [
           "Chile",
           86856,
           724.1,
           168000,
           "carolina vasquetto y elio marinelli sociedad simple",
           517
          ],
          [
           "Chile",
           304292,
           724.1,
           508000,
           "sociedad agricola e inmobiliaria las piedras limitada",
           599
          ],
          [
           "Chile",
           552085.2,
           724.1,
           1022380,
           "costantini y asociados s.a.",
           540
          ],
          [
           "Chile",
           72380,
           737.1,
           140000,
           "carolina vasquetto y elio marinelli sociedad simple",
           517
          ],
          [
           "Chile",
           304292,
           737.1,
           508000,
           "sociedad agricola e inmobiliaria las piedras limitada",
           599
          ],
          [
           "Chile",
           23800,
           737.1,
           28000,
           "ronalb s r l",
           850
          ],
          [
           "Chile",
           20720,
           737.1,
           28000,
           "barbale agropecuaria s.r.l.",
           740
          ],
          [
           "Chile",
           145600,
           737.1,
           280000,
           "carolina vasquetto y elio marinelli sociedad simple",
           520
          ],
          [
           "Chile",
           103880,
           737.1,
           196000,
           "carolina vasquetto y elio marinelli sociedad simple",
           530
          ],
          [
           "Chile",
           117480.8,
           737.1,
           199120,
           "insumos y acopios del sur s.a.",
           590
          ],
          [
           "Chile",
           303276,
           737.1,
           508000,
           "sociedad agricola e inmobiliaria las piedras limitada",
           597
          ],
          [
           "Chile",
           83100.6,
           678.2,
           167880,
           "del plata trading company",
           495
          ],
          [
           "Chile",
           117044.2,
           678.2,
           198380,
           "insumos y acopios del sur s.a.",
           590
          ],
          [
           "Chile",
           148400,
           678.2,
           280000,
           "carolina vasquetto y elio marinelli sociedad simple",
           530
          ],
          [
           "Chile",
           281842,
           678.2,
           512440,
           "costantini y asociados s.a.",
           550
          ],
          [
           "Chile",
           115498.4,
           678.2,
           195760,
           "insumos y acopios del sur s.a.",
           590
          ],
          [
           "Chile",
           111137.6,
           678.2,
           198460,
           "insumos y acopios del sur s.a.",
           560
          ],
          [
           "Chile",
           29680,
           678.2,
           56000,
           "carolina vasquetto y elio marinelli sociedad simple",
           530
          ],
          [
           "Chile",
           31920,
           678.2,
           57000,
           "alimentos tancacha s.a.",
           560
          ],
          [
           "Chile",
           71400,
           678.2,
           140000,
           "carolina vasquetto y elio marinelli sociedad simple",
           510
          ],
          [
           "Chile",
           106808,
           678.2,
           169000,
           "sociedad agricola e inmobiliaria las piedras limitada",
           632
          ],
          [
           "Chile",
           111809.6,
           678.2,
           199660,
           "insumos y acopios del sur s.a.",
           560
          ],
          [
           "Chile",
           141624,
           678.2,
           252000,
           "sociedad agricola e inmobiliaria las piedras limitada",
           562
          ],
          [
           "Chile",
           270957.2,
           678.2,
           511240,
           "costantini y asociados s.a.",
           530
          ],
          [
           "Chile",
           30979.2,
           671.1,
           55320,
           "alimentos tancacha s.a.",
           560
          ],
          [
           "Chile",
           216213.5,
           671.1,
           395640,
           "insumos y acopios del sur s.a.",
           546.5
          ],
          [
           "Chile",
           303276,
           671.1,
           508000,
           "sociedad agricola e inmobiliaria las piedras limitada",
           597
          ],
          [
           "Chile",
           124425,
           671.1,
           197500,
           "sociedad agricola e inmobiliaria las piedras limitada",
           630
          ],
          [
           "Chile",
           135563.4,
           671.1,
           255780,
           "alimentos tancacha s.a.",
           530
          ],
          [
           "Chile",
           105384.8,
           671.1,
           197720,
           "insumos y acopios del sur s.a.",
           533
          ],
          [
           "Chile",
           282150,
           671.1,
           513000,
           "desactivar s.a.s.",
           550
          ],
          [
           "Chile",
           142800,
           671.1,
           280000,
           "carolina vasquetto y elio marinelli sociedad simple",
           510
          ],
          [
           "Chile",
           105907.1,
           671.1,
           198700,
           "insumos y acopios del sur s.a.",
           533
          ],
          [
           "Chile",
           175560,
           671.1,
           313500,
           "carolina vasquetto y elio marinelli sociedad simple",
           560
          ],
          [
           "Chile",
           284480,
           671.1,
           508000,
           "sociedad agricola e inmobiliaria las piedras limitada",
           560
          ],
          [
           "Chile",
           106397.5,
           671.1,
           199620,
           "insumos y acopios del sur s.a.",
           533
          ],
          [
           "Chile",
           87561,
           671.1,
           141000,
           "sociedad agricola e inmobiliaria las piedras limitada",
           621
          ],
          [
           "Chile",
           26676,
           671.1,
           56160,
           "cuatro granos s.a.s.",
           475
          ],
          [
           "Chile",
           71250,
           671.1,
           142500,
           "desactivar s.a.s.",
           500
          ],
          [
           "Chile",
           14840,
           671.1,
           28000,
           "carolina vasquetto y elio marinelli sociedad simple",
           530
          ],
          [
           "Chile",
           6933.6,
           671.1,
           9630,
           "barbale agropecuaria s.r.l.",
           720
          ],
          [
           "Chile",
           99960,
           671.1,
           196000,
           "carolina vasquetto y elio marinelli sociedad simple",
           510
          ],
          [
           "Chile",
           47880,
           671.1,
           85500,
           "alimentos tancacha s.a.",
           560
          ],
          [
           "Chile",
           103864.9,
           671.1,
           194140,
           "insumos y acopios del sur s.a.",
           535
          ],
          [
           "Chile",
           124425,
           671.1,
           197500,
           "sociedad agricola e inmobiliaria las piedras limitada",
           630
          ],
          [
           "Chile",
           135796.6,
           671.1,
           256220,
           "alimentos tancacha s.a.",
           530
          ],
          [
           "Chile",
           106251,
           671.1,
           198600,
           "insumos y acopios del sur s.a.",
           535
          ],
          [
           "Chile",
           44460,
           671.1,
           85500,
           "carolina vasquetto y elio marinelli sociedad simple",
           520
          ],
          [
           "Chile",
           117310,
           671.1,
           224500,
           "carolina vasquetto y elio marinelli sociedad simple",
           522.5
          ],
          [
           "Chile",
           282150,
           671.1,
           513000,
           "desactivar s.a.s.",
           550
          ],
          [
           "Chile",
           394290,
           671.1,
           705500,
           "sociedad agricola e inmobiliaria las piedras limitada",
           558.9
          ],
          [
           "Chile",
           58940,
           671.1,
           112000,
           "carolina vasquetto y elio marinelli sociedad simple",
           526.2
          ],
          [
           "Chile",
           106689.7,
           671.1,
           199420,
           "insumos y acopios del sur s.a.",
           535
          ],
          [
           "Chile",
           74812.5,
           671.1,
           142500,
           "desactivar s.a.s.",
           525
          ]
         ],
         "hovertemplate": "Destino=%{customdata[0]}<br>Fecha=%{x}<br>Spread=%{y}<br>Fob=%{customdata[1]}<br>Precio de referencia=%{customdata[2]}<br>Kg=%{customdata[3]}<br>Exportador=%{customdata[4]}<br>Precio=%{customdata[5]}<extra></extra>",
         "legendgroup": "Chile",
         "marker": {
          "color": "#636efa",
          "line": {
           "color": "DarkSlateGrey",
           "width": 2
          },
          "size": 12,
          "symbol": "circle"
         },
         "mode": "markers",
         "name": "Chile",
         "orientation": "v",
         "showlegend": true,
         "type": "scatter",
         "x": [
          "01-2021",
          "01-2021",
          "01-2021",
          "01-2021",
          "01-2021",
          "01-2021",
          "01-2021",
          "01-2021",
          "01-2021",
          "01-2021",
          "01-2021",
          "01-2021",
          "01-2021",
          "01-2021",
          "01-2021",
          "01-2021",
          "01-2021",
          "01-2021",
          "01-2021",
          "01-2021",
          "01-2021",
          "01-2021",
          "01-2021",
          "01-2021",
          "01-2021",
          "01-2021",
          "01-2021",
          "01-2021",
          "01-2021",
          "01-2021",
          "02-2021",
          "02-2021",
          "02-2021",
          "02-2021",
          "02-2021",
          "02-2021",
          "02-2021",
          "02-2021",
          "02-2021",
          "02-2021",
          "02-2021",
          "02-2021",
          "02-2021",
          "02-2021",
          "02-2021",
          "02-2021",
          "02-2021",
          "02-2021",
          "02-2021",
          "02-2021",
          "02-2021",
          "02-2021",
          "02-2021",
          "02-2021",
          "02-2021",
          "02-2021",
          "02-2021",
          "03-2021",
          "03-2021",
          "03-2021",
          "03-2021",
          "03-2021",
          "03-2021",
          "03-2021",
          "03-2021",
          "03-2021",
          "03-2021",
          "03-2021",
          "03-2021",
          "03-2021",
          "03-2021",
          "03-2021",
          "03-2021",
          "03-2021",
          "03-2021",
          "03-2021",
          "03-2021",
          "03-2021",
          "03-2021",
          "03-2021",
          "03-2021",
          "03-2021",
          "03-2021",
          "03-2021",
          "03-2021",
          "03-2021",
          "03-2021",
          "03-2021",
          "03-2021",
          "03-2021",
          "03-2021",
          "03-2021",
          "03-2021",
          "03-2021",
          "03-2021",
          "03-2021",
          "03-2021",
          "03-2021",
          "03-2021",
          "03-2021",
          "03-2021",
          "03-2021",
          "03-2021",
          "03-2021",
          "03-2021",
          "04-2021",
          "04-2021",
          "04-2021",
          "04-2021",
          "04-2021",
          "04-2021",
          "04-2021",
          "04-2021",
          "04-2021",
          "04-2021",
          "04-2021",
          "04-2021",
          "04-2021",
          "04-2021",
          "04-2021",
          "04-2021",
          "04-2021",
          "04-2021",
          "04-2021",
          "04-2021",
          "04-2021",
          "04-2021",
          "04-2021",
          "04-2021",
          "04-2021",
          "04-2021",
          "04-2021",
          "05-2021",
          "05-2021",
          "05-2021",
          "05-2021",
          "05-2021",
          "05-2021",
          "05-2021",
          "05-2021",
          "05-2021",
          "05-2021",
          "05-2021",
          "05-2021",
          "05-2021",
          "05-2021",
          "05-2021",
          "05-2021",
          "05-2021",
          "05-2021",
          "05-2021",
          "05-2021",
          "05-2021",
          "05-2021",
          "05-2021",
          "05-2021",
          "05-2021",
          "05-2021",
          "05-2021",
          "05-2021",
          "05-2021",
          "05-2021",
          "06-2021",
          "06-2021",
          "06-2021",
          "06-2021",
          "06-2021",
          "06-2021",
          "06-2021",
          "06-2021",
          "06-2021",
          "06-2021",
          "06-2021",
          "06-2021",
          "06-2021",
          "06-2021",
          "06-2021",
          "06-2021",
          "07-2021",
          "07-2021",
          "07-2021",
          "07-2021",
          "07-2021",
          "07-2021",
          "07-2021",
          "07-2021",
          "07-2021",
          "07-2021",
          "07-2021",
          "07-2021",
          "07-2021",
          "07-2021",
          "07-2021",
          "07-2021",
          "07-2021",
          "07-2021",
          "07-2021",
          "07-2021",
          "07-2021",
          "07-2021",
          "07-2021",
          "07-2021",
          "08-2021",
          "08-2021",
          "08-2021",
          "08-2021",
          "08-2021",
          "08-2021",
          "08-2021",
          "08-2021",
          "08-2021",
          "08-2021",
          "08-2021",
          "08-2021",
          "08-2021",
          "08-2021",
          "08-2021",
          "09-2021",
          "09-2021",
          "09-2021",
          "09-2021",
          "09-2021",
          "09-2021",
          "09-2021",
          "09-2021",
          "09-2021",
          "09-2021",
          "09-2021",
          "09-2021",
          "09-2021",
          "09-2021",
          "09-2021",
          "09-2021",
          "09-2021",
          "09-2021",
          "09-2021",
          "09-2021",
          "09-2021",
          "09-2021",
          "09-2021",
          "09-2021",
          "09-2021",
          "09-2021",
          "09-2021",
          "10-2021",
          "10-2021",
          "10-2021",
          "10-2021",
          "10-2021",
          "10-2021",
          "10-2021",
          "10-2021",
          "10-2021",
          "10-2021",
          "10-2021",
          "10-2021",
          "10-2021",
          "10-2021",
          "10-2021",
          "10-2021",
          "10-2021",
          "10-2021",
          "10-2021",
          "10-2021",
          "10-2021",
          "10-2021",
          "10-2021",
          "10-2021",
          "10-2021",
          "10-2021",
          "11-2021",
          "11-2021",
          "11-2021",
          "11-2021",
          "11-2021",
          "11-2021",
          "11-2021",
          "11-2021",
          "11-2021",
          "11-2021",
          "11-2021",
          "12-2021",
          "12-2021",
          "12-2021",
          "12-2021",
          "12-2021",
          "12-2021",
          "12-2021",
          "12-2021",
          "12-2021",
          "12-2021",
          "12-2021",
          "12-2021",
          "12-2021",
          "12-2021",
          "12-2021",
          "12-2021",
          "12-2021",
          "01-2022",
          "01-2022",
          "01-2022",
          "01-2022",
          "01-2022",
          "01-2022",
          "01-2022",
          "01-2022",
          "01-2022",
          "01-2022",
          "01-2022",
          "01-2022",
          "01-2022",
          "01-2022",
          "02-2022",
          "02-2022",
          "02-2022",
          "02-2022",
          "02-2022",
          "02-2022",
          "02-2022",
          "02-2022",
          "02-2022",
          "02-2022",
          "02-2022",
          "02-2022",
          "02-2022",
          "02-2022",
          "02-2022",
          "02-2022",
          "02-2022",
          "02-2022",
          "02-2022",
          "03-2022",
          "03-2022",
          "03-2022",
          "03-2022",
          "03-2022",
          "03-2022",
          "03-2022",
          "03-2022",
          "03-2022",
          "03-2022",
          "03-2022",
          "03-2022",
          "04-2022",
          "04-2022",
          "04-2022",
          "04-2022",
          "04-2022",
          "04-2022",
          "04-2022",
          "04-2022",
          "04-2022",
          "04-2022",
          "04-2022",
          "04-2022",
          "04-2022",
          "04-2022",
          "04-2022",
          "04-2022",
          "04-2022",
          "04-2022",
          "04-2022",
          "05-2022",
          "05-2022",
          "05-2022",
          "05-2022",
          "05-2022",
          "05-2022",
          "05-2022",
          "05-2022",
          "05-2022",
          "05-2022",
          "05-2022",
          "05-2022",
          "05-2022",
          "05-2022",
          "05-2022",
          "05-2022",
          "05-2022",
          "06-2022",
          "06-2022",
          "06-2022",
          "06-2022",
          "06-2022",
          "06-2022",
          "06-2022",
          "06-2022",
          "07-2022",
          "07-2022",
          "07-2022",
          "07-2022",
          "07-2022",
          "07-2022",
          "07-2022",
          "07-2022",
          "07-2022",
          "07-2022",
          "07-2022",
          "07-2022",
          "07-2022",
          "08-2022",
          "08-2022",
          "08-2022",
          "08-2022",
          "08-2022",
          "08-2022",
          "08-2022",
          "08-2022",
          "08-2022",
          "08-2022",
          "08-2022",
          "08-2022",
          "08-2022",
          "08-2022",
          "08-2022",
          "08-2022",
          "08-2022",
          "08-2022",
          "08-2022",
          "08-2022",
          "08-2022",
          "08-2022",
          "08-2022",
          "08-2022",
          "08-2022",
          "08-2022",
          "08-2022",
          "08-2022",
          "08-2022",
          "08-2022"
         ],
         "xaxis": "x",
         "y": [
          -83.4,
          -91.4,
          -166.4,
          -83.4,
          -91.4,
          -176.4,
          -44.4,
          -83.4,
          -131.4,
          -166.4,
          -44.4,
          -176.4,
          -181.4,
          -216.4,
          -44.4,
          -83.4,
          -17.4,
          -166.4,
          -98.4,
          -216.4,
          -17.4,
          -27.4,
          -83.4,
          -17.4,
          -111.1,
          -83.4,
          -61,
          -75.4,
          -216.4,
          -176.4,
          -14.3,
          -148.3,
          -29.3,
          -178.3,
          -168.3,
          -77.3,
          -14.3,
          -18.3,
          -14.3,
          -178.3,
          151.7,
          -155.6,
          -118.3,
          151.7,
          -62.9,
          -218.3,
          -148.3,
          -148.3,
          -100.3,
          -140.9,
          -168.3,
          -18.3,
          -32.3,
          -148.3,
          -32.3,
          -86.3,
          -18.3,
          -25.7,
          -39.7,
          -155.7,
          -139.7,
          -175.7,
          -39.7,
          -93.7,
          -25.7,
          -39.7,
          -25.7,
          -58.7,
          -155.7,
          -150.7,
          -95.7,
          -72.7,
          -25.7,
          -72.7,
          -25.7,
          -142.3,
          -145.7,
          -155.7,
          -150.7,
          -135.7,
          -72.7,
          -145.7,
          -135.7,
          -78.7,
          -155.7,
          -150.7,
          -95.7,
          -78.7,
          -150.7,
          -155.7,
          -135.7,
          -88.7,
          -22.7,
          -78.7,
          -22.7,
          -78.7,
          -150.7,
          -150.7,
          -125.7,
          -48.7,
          -137.7,
          -150.7,
          -95.7,
          -125.7,
          -150.7,
          -165.1,
          -100.1,
          -194.6,
          -157.1,
          -60.1,
          -165.1,
          -105.1,
          -152.1,
          -165.1,
          -86.1,
          -165.1,
          -100,
          -137.1,
          -113.1,
          -152.1,
          -150.1,
          -165.1,
          -157.1,
          -152.1,
          -144.1,
          -75.1,
          -108.5,
          -75.1,
          -165.1,
          -107.1,
          -48.1,
          -152.1,
          -97.8,
          -211.8,
          -206.8,
          -244.3,
          -211.8,
          -156.8,
          -191.8,
          -139.8,
          -201.8,
          -211.8,
          -211.8,
          -198.8,
          -100.8,
          -211.8,
          -211.8,
          -196.8,
          -158.8,
          -211.8,
          -211.8,
          -201.8,
          -211.8,
          -93.8,
          -196.8,
          -211.8,
          -206.8,
          -100.8,
          -236.8,
          -154.8,
          -97.8,
          -211.8,
          -126.7,
          -164.7,
          -164.7,
          -138.7,
          -178.7,
          -88.7,
          -192.7,
          -164.7,
          -179.7,
          -192.7,
          -57.7,
          -189.7,
          -132.7,
          -57.7,
          -88.7,
          -192.7,
          -178.4,
          -185.4,
          -158.4,
          -178.4,
          -182.4,
          -108.4,
          -118.4,
          -164.4,
          -195.4,
          -178.4,
          -105.4,
          -182.4,
          -170.4,
          -119.4,
          -200.4,
          -187.4,
          -200.4,
          -195.4,
          -200.4,
          -164.4,
          -182.4,
          -195.4,
          -200.4,
          -200.4,
          -104.8,
          -156.5,
          -47.8,
          -46.8,
          -160.8,
          -100.8,
          -104.8,
          -170.8,
          -185.8,
          -185.8,
          -180.8,
          -47.8,
          144.2,
          -185.8,
          -47.8,
          -121.5,
          172.5,
          -95.5,
          -123.5,
          -142.5,
          -53.5,
          -95.5,
          -121.5,
          -16.5,
          -95.5,
          -147.5,
          -147.5,
          -72.5,
          -127.5,
          -77.5,
          -16.5,
          -142.5,
          -92.5,
          -121.6,
          -147.5,
          -147.5,
          -147.5,
          -147.5,
          -81.5,
          -142.5,
          -91.5,
          -143,
          -142,
          -112,
          6,
          -85,
          6,
          -137,
          -71,
          -137.4,
          -112,
          -112,
          -122,
          -53,
          -85,
          -52.1,
          -118,
          -118,
          -142,
          -142,
          -117,
          -77,
          -118,
          -52.1,
          -70,
          -73.6,
          -142,
          -112,
          -117,
          -136.5,
          -69,
          -74,
          -4,
          -46.5,
          -41.6,
          -67.6,
          -111,
          -42,
          -52,
          -72.1,
          -144.1,
          -72.1,
          -144.1,
          -72.1,
          -61.7,
          -89.1,
          -144.1,
          -141.1,
          -70.1,
          -72.1,
          -127.9,
          -89.1,
          -72.1,
          -84.1,
          -125.5,
          -84.1,
          -59.2,
          -119.2,
          -193.2,
          -136.2,
          -183.8,
          -86.8,
          -106.2,
          -173.5,
          -183.2,
          -162.3,
          -183.2,
          -183.2,
          -181.8,
          -183.2,
          -161.6,
          -237.6,
          -171.6,
          -231.6,
          -221.6,
          -236.6,
          -236.6,
          -174.6,
          -200.9,
          -142.6,
          -171.6,
          -141.6,
          -231.6,
          -130.4,
          -211.4,
          -133.6,
          -216.8,
          -102.6,
          -154.6,
          -124.3,
          -241.9,
          -150.5,
          -264.3,
          -270.6,
          -75.6,
          -255.3,
          -270.6,
          -190.6,
          -75.6,
          -65.6,
          -70.6,
          -85.8,
          -190.8,
          -92.8,
          -100.8,
          -190.8,
          -115.8,
          -258.3,
          -97.8,
          -20.8,
          -97.8,
          -97.8,
          -123.8,
          -190.8,
          -267.6,
          -250.8,
          -190.8,
          -123.8,
          -85.8,
          -260.8,
          -122.1,
          -87.6,
          -194.1,
          -97.1,
          -109.1,
          -247.7,
          -74.1,
          -97.1,
          -214.1,
          -274.1,
          -159.1,
          -214.1,
          125.9,
          -74.1,
          -207.1,
          -125.1,
          -184.1,
          -220.1,
          -138.1,
          112.9,
          2.9,
          -217.1,
          -207.1,
          -147.1,
          -140.1,
          -183.2,
          -88.2,
          -148.2,
          -128.2,
          -88.2,
          -118.2,
          -148.2,
          -118.2,
          -168.2,
          -46.2,
          -118.2,
          -116.2,
          -148.2,
          -111.1,
          -124.6,
          -74.1,
          -41.1,
          -141.1,
          -138.1,
          -121.1,
          -161.1,
          -138.1,
          -111.1,
          -111.1,
          -138.1,
          -50.1,
          -196.1,
          -171.1,
          -141.1,
          48.9,
          -161.1,
          -111.1,
          -136.1,
          -41.1,
          -141.1,
          -136.1,
          -151.1,
          -148.6,
          -121.1,
          -112.2,
          -144.9,
          -136.1,
          -146.1
         ],
         "yaxis": "y"
        },
        {
         "customdata": [
          [
           "Estados unidos",
           25662.4,
           576.4,
           59680,
           "bro s.r.l.",
           430
          ],
          [
           "Estados unidos",
           281865,
           646.8,
           494500,
           "campos verdes argentinos s.a.",
           570
          ],
          [
           "Estados unidos",
           207673.2,
           646.8,
           337680,
           "soyapampa s.a.",
           615
          ],
          [
           "Estados unidos",
           209715,
           646.8,
           341000,
           "miska s.a.",
           615
          ],
          [
           "Estados unidos",
           66111.8,
           646.8,
           108380,
           "lancopinto sa",
           610
          ],
          [
           "Estados unidos",
           148603,
           646.8,
           209300,
           "luis a ducret y cia s a",
           710
          ],
          [
           "Estados unidos",
           250800,
           646.8,
           440000,
           "campos verdes argentinos s.a.",
           570
          ],
          [
           "Estados unidos",
           555750.9,
           646.8,
           903660,
           "soyapampa s.a.",
           615
          ],
          [
           "Estados unidos",
           420475.5,
           646.8,
           683700,
           "miska s.a.",
           615
          ],
          [
           "Estados unidos",
           80428.5,
           646.8,
           131850,
           "lancopinto sa",
           610
          ],
          [
           "Estados unidos",
           281865,
           646.8,
           494500,
           "campos verdes argentinos s.a.",
           570
          ],
          [
           "Estados unidos",
           417240.6,
           646.8,
           678440,
           "soyapampa s.a.",
           615
          ],
          [
           "Estados unidos",
           210366.9,
           646.8,
           342060,
           "miska s.a.",
           615
          ],
          [
           "Estados unidos",
           136932.8,
           646.8,
           224480,
           "verk food trade s.a.",
           610
          ],
          [
           "Estados unidos",
           89774.4,
           646.8,
           152160,
           "lancopinto sa",
           590
          ],
          [
           "Estados unidos",
           332240.8,
           646.8,
           563125,
           "edco grains s.a",
           590
          ],
          [
           "Estados unidos",
           181767.2,
           646.8,
           308080,
           "lancopinto sa",
           590
          ],
          [
           "Estados unidos",
           104837.5,
           646.8,
           169640,
           "izco",
           618
          ],
          [
           "Estados unidos",
           85785,
           614.7,
           150500,
           "campos verdes argentinos s.a.",
           570
          ],
          [
           "Estados unidos",
           3237572,
           614.7,
           5414000,
           "special grains s a",
           598
          ],
          [
           "Estados unidos",
           4135170,
           614.7,
           6915000,
           "petroagro sociedad anonima",
           598
          ],
          [
           "Estados unidos",
           404040,
           614.7,
           520000,
           "la tranquera verde sa",
           777
          ],
          [
           "Estados unidos",
           2308034,
           614.7,
           2922000,
           "pradera natural sa",
           789.9
          ],
          [
           "Estados unidos",
           234336.2,
           614.7,
           397180,
           "argen peanuts s a",
           590
          ],
          [
           "Estados unidos",
           268199.6,
           614.7,
           433980,
           "izco",
           618
          ],
          [
           "Estados unidos",
           6148898.3,
           614.7,
           7913645,
           "la tranquera verde sa",
           777
          ],
          [
           "Estados unidos",
           1614606,
           614.7,
           2078000,
           "pradera natural sa",
           777
          ],
          [
           "Estados unidos",
           117740.4,
           614.7,
           199560,
           "argen peanuts s a",
           590
          ],
          [
           "Estados unidos",
           78434.6,
           614.7,
           132940,
           "nutpro s a",
           590
          ],
          [
           "Estados unidos",
           156074.9,
           614.7,
           187590,
           "roagro negocios s. a.",
           832
          ],
          [
           "Estados unidos",
           351554.8,
           614.7,
           578240,
           "edco grains s.a",
           608
          ],
          [
           "Estados unidos",
           151017,
           614.7,
           212700,
           "luis a ducret y cia s a",
           710
          ],
          [
           "Estados unidos",
           69027.6,
           614.7,
           112240,
           "soyapampa s.a.",
           615
          ],
          [
           "Estados unidos",
           187963.2,
           614.7,
           329760,
           "campos verdes argentinos s.a.",
           570
          ],
          [
           "Estados unidos",
           487928.7,
           614.7,
           793380,
           "soyapampa s.a.",
           615
          ],
          [
           "Estados unidos",
           215846.8,
           614.7,
           348140,
           "edco grains s.a",
           620
          ],
          [
           "Estados unidos",
           45941.2,
           614.7,
           106840,
           "bro s.r.l.",
           430
          ],
          [
           "Estados unidos",
           140306.1,
           614.7,
           228140,
           "miska s.a.",
           615
          ],
          [
           "Estados unidos",
           129881.2,
           614.7,
           212920,
           "verk food trade s.a.",
           610
          ],
          [
           "Estados unidos",
           287690.4,
           614.7,
           504720,
           "campos verdes argentinos s.a.",
           570
          ],
          [
           "Estados unidos",
           195407.4,
           614.7,
           320340,
           "verk food trade s.a.",
           610
          ],
          [
           "Estados unidos",
           208848.2,
           614.7,
           353980,
           "cultivos la indiana s.a.",
           590
          ],
          [
           "Estados unidos",
           127246,
           614.7,
           208600,
           "south american grain s.a.",
           610
          ],
          [
           "Estados unidos",
           61560,
           614.7,
           108000,
           "conosur foods argentina sa",
           570
          ],
          [
           "Estados unidos",
           277699.6,
           600.4,
           459080,
           "edco grains s.a",
           604.9
          ],
          [
           "Estados unidos",
           202122.2,
           600.4,
           342580,
           "cultivos la indiana s.a.",
           590
          ],
          [
           "Estados unidos",
           6837749.2,
           600.4,
           8608120,
           "la tranquera verde sa",
           794.3
          ],
          [
           "Estados unidos",
           2768795.2,
           600.4,
           3359880,
           "pradera natural sa",
           824.1
          ],
          [
           "Estados unidos",
           133351.8,
           600.4,
           226020,
           "nutpro s a",
           590
          ],
          [
           "Estados unidos",
           257980.6,
           600.4,
           547910,
           "bro s.r.l.",
           470.8
          ],
          [
           "Estados unidos",
           163020,
           600.4,
           286000,
           "campos verdes argentinos s.a.",
           570
          ],
          [
           "Estados unidos",
           163020,
           600.4,
           286000,
           "campos verdes argentinos s.a.",
           570
          ],
          [
           "Estados unidos",
           209961,
           600.4,
           341400,
           "miska s.a.",
           615
          ],
          [
           "Estados unidos",
           61480.2,
           600.4,
           107860,
           "conosur foods argentina sa",
           570
          ],
          [
           "Estados unidos",
           376998,
           585.8,
           527270,
           "bullmark srl",
           715
          ],
          [
           "Estados unidos",
           130308.2,
           585.8,
           213620,
           "verk food trade s.a.",
           610
          ],
          [
           "Estados unidos",
           254016.2,
           585.8,
           416420,
           "south american grain s.a.",
           610
          ],
          [
           "Estados unidos",
           4712598.8,
           585.8,
           7880600,
           "special grains s a",
           598
          ],
          [
           "Estados unidos",
           2726282,
           585.8,
           4559000,
           "petroagro sociedad anonima",
           598
          ],
          [
           "Estados unidos",
           139096.5,
           585.8,
           225440,
           "soyapampa s.a.",
           617
          ],
          [
           "Estados unidos",
           139528.4,
           585.8,
           226140,
           "miska s.a.",
           617
          ],
          [
           "Estados unidos",
           10707.1,
           585.8,
           22260,
           "bro s.r.l.",
           481
          ],
          [
           "Estados unidos",
           43173,
           585.8,
           66420,
           "argen peanuts s a",
           650
          ],
          [
           "Estados unidos",
           120270,
           585.8,
           211000,
           "conosur foods argentina sa",
           570
          ],
          [
           "Estados unidos",
           59850,
           585.8,
           105000,
           "campos verdes argentinos s.a.",
           570
          ],
          [
           "Estados unidos",
           105473.7,
           557.6,
           219280,
           "bro s.r.l.",
           481
          ],
          [
           "Estados unidos",
           61275,
           557.6,
           107500,
           "campos verdes argentinos s.a.",
           570
          ],
          [
           "Estados unidos",
           133785.2,
           557.6,
           219320,
           "south american grain s.a.",
           610
          ],
          [
           "Estados unidos",
           289800,
           557.6,
           420000,
           "delotte sa",
           690
          ],
          [
           "Estados unidos",
           61275,
           557.6,
           107500,
           "conosur foods argentina sa",
           570
          ],
          [
           "Estados unidos",
           280698,
           557.6,
           454940,
           "miska s.a.",
           617
          ],
          [
           "Estados unidos",
           142459.4,
           557.6,
           233540,
           "south american grain s.a.",
           610
          ],
          [
           "Estados unidos",
           60135,
           557.6,
           105500,
           "conosur foods argentina sa",
           570
          ],
          [
           "Estados unidos",
           74175,
           557.6,
           107500,
           "delotte sa",
           690
          ],
          [
           "Estados unidos",
           152950,
           557.6,
           230000,
           "bullmark srl",
           665
          ],
          [
           "Estados unidos",
           167466,
           557.6,
           214700,
           "south american grain s.a.",
           780
          ],
          [
           "Estados unidos",
           72450,
           557.6,
           105000,
           "delotte sa",
           690
          ],
          [
           "Estados unidos",
           72450,
           557.6,
           105000,
           "delotte sa",
           690
          ],
          [
           "Estados unidos",
           150910.2,
           557.6,
           255780,
           "verk food trade s.a.",
           590
          ],
          [
           "Estados unidos",
           77580,
           552,
           103440,
           "south american grain s.a.",
           750
          ],
          [
           "Estados unidos",
           1960842,
           552,
           3279000,
           "petroagro sociedad anonima",
           598
          ],
          [
           "Estados unidos",
           2184238.5,
           552,
           2570500,
           "la tranquera verde sa",
           849.7
          ],
          [
           "Estados unidos",
           2758308.5,
           552,
           3250500,
           "pradera natural sa",
           848.6
          ],
          [
           "Estados unidos",
           92628,
           552,
           99600,
           "delotte sa",
           930
          ],
          [
           "Estados unidos",
           162619.2,
           552,
           235680,
           "delotte sa",
           690
          ],
          [
           "Estados unidos",
           56485,
           551,
           86900,
           "argen peanuts s a",
           650
          ],
          [
           "Estados unidos",
           2927383.4,
           551,
           4895290,
           "petroagro sociedad anonima",
           598
          ],
          [
           "Estados unidos",
           190830,
           551,
           254440,
           "south american grain s.a.",
           750
          ],
          [
           "Estados unidos",
           142569.2,
           554.1,
           233720,
           "verk food trade s.a.",
           610
          ],
          [
           "Estados unidos",
           188844.2,
           554.1,
           277180,
           "bullmark srl",
           681.3
          ],
          [
           "Estados unidos",
           65964,
           554.1,
           109940,
           "edco grains s.a",
           600
          ],
          [
           "Estados unidos",
           107856,
           720.6,
           148800,
           "special grains s a",
           724.8
          ],
          [
           "Estados unidos",
           70393.4,
           720.8,
           101140,
           "santa anita oil sa",
           696
          ],
          [
           "Estados unidos",
           34080,
           720.8,
           48000,
           "espar sociedad de responsabilidad limitada",
           710
          ],
          [
           "Estados unidos",
           179046,
           720.8,
           255780,
           "soyapampa s.a.",
           700
          ],
          [
           "Estados unidos",
           179172,
           724.1,
           255960,
           "miska s.a.",
           700
          ],
          [
           "Estados unidos",
           165406.8,
           724.1,
           212060,
           "south american grain s.a.",
           780
          ],
          [
           "Estados unidos",
           173348,
           724.1,
           247640,
           "soyapampa s.a.",
           700
          ],
          [
           "Estados unidos",
           350154,
           724.1,
           500220,
           "miska s.a.",
           700
          ],
          [
           "Estados unidos",
           105772.5,
           724.1,
           156700,
           "santa anita oil sa",
           675
          ],
          [
           "Estados unidos",
           165750,
           724.1,
           212500,
           "south american grain s.a.",
           780
          ],
          [
           "Estados unidos",
           302652,
           724.1,
           432360,
           "miska s.a.",
           700
          ],
          [
           "Estados unidos",
           166041.6,
           724.1,
           259440,
           "santa anita oil sa",
           640
          ],
          [
           "Estados unidos",
           50154,
           724.1,
           64300,
           "south american grain s.a.",
           780
          ],
          [
           "Estados unidos",
           161038.8,
           724.1,
           206460,
           "south american grain s.a.",
           780
          ],
          [
           "Estados unidos",
           27712,
           724.1,
           43300,
           "santa anita oil sa",
           640
          ],
          [
           "Estados unidos",
           383642,
           737.1,
           548060,
           "soyapampa s.a.",
           700
          ],
          [
           "Estados unidos",
           63784,
           737.1,
           91120,
           "miska s.a.",
           700
          ],
          [
           "Estados unidos",
           48750,
           737.1,
           75000,
           "espar sociedad de responsabilidad limitada",
           650
          ],
          [
           "Estados unidos",
           89562,
           737.1,
           135700,
           "soyapampa s.a.",
           660
          ],
          [
           "Estados unidos",
           2247700,
           737.1,
           2660000,
           "special grains s a",
           845
          ],
          [
           "Estados unidos",
           2247700,
           737.1,
           2660000,
           "petroagro sociedad anonima",
           845
          ],
          [
           "Estados unidos",
           89628,
           737.1,
           135800,
           "soyapampa s.a.",
           660
          ],
          [
           "Estados unidos",
           4042880,
           737.1,
           5040000,
           "la tranquera verde sa",
           802.2
          ],
          [
           "Estados unidos",
           5593104,
           737.1,
           7062000,
           "pradera natural sa",
           792
          ],
          [
           "Estados unidos",
           61639.5,
           737.1,
           116120,
           "bullmark srl",
           530.8
          ],
          [
           "Estados unidos",
           147645.1,
           737.1,
           213360,
           "santa anita oil sa",
           692
          ],
          [
           "Estados unidos",
           177595.2,
           737.1,
           246660,
           "campos verdes argentinos s.a.",
           720
          ],
          [
           "Estados unidos",
           166701.6,
           737.1,
           213720,
           "south american grain s.a.",
           780
          ],
          [
           "Estados unidos",
           118944,
           737.1,
           169920,
           "izco",
           700
          ],
          [
           "Estados unidos",
           2482660.7,
           737.1,
           2938060,
           "special grains s a",
           845
          ],
          [
           "Estados unidos",
           2539225,
           737.1,
           3005000,
           "petroagro sociedad anonima",
           845
          ],
          [
           "Estados unidos",
           184833.6,
           737.1,
           348200,
           "bullmark srl",
           530.8
          ],
          [
           "Estados unidos",
           285922,
           737.1,
           408460,
           "soyapampa s.a.",
           700
          ],
          [
           "Estados unidos",
           4731396.5,
           737.1,
           5400240,
           "la tranquera verde sa",
           876.1
          ],
          [
           "Estados unidos",
           2773013.8,
           737.1,
           3501280,
           "pradera natural sa",
           792
          ],
          [
           "Estados unidos",
           450824.4,
           737.1,
           577980,
           "south american grain s.a.",
           780
          ],
          [
           "Estados unidos",
           82535.6,
           737.1,
           120490,
           "espar sociedad de responsabilidad limitada",
           685
          ],
          [
           "Estados unidos",
           224276,
           737.1,
           236080,
           "petroagro sociedad anonima",
           950
          ],
          [
           "Estados unidos",
           315140,
           737.1,
           450200,
           "soyapampa s.a.",
           700
          ],
          [
           "Estados unidos",
           398902,
           737.1,
           569860,
           "miska s.a.",
           700
          ],
          [
           "Estados unidos",
           78120,
           737.1,
           111600,
           "izco",
           700
          ],
          [
           "Estados unidos",
           167684.4,
           737.1,
           214980,
           "south american grain s.a.",
           780
          ],
          [
           "Estados unidos",
           119280,
           737.1,
           170400,
           "izco",
           700
          ],
          [
           "Estados unidos",
           87724,
           737.1,
           125320,
           "soyapampa s.a.",
           700
          ],
          [
           "Estados unidos",
           118762,
           678.2,
           169660,
           "izco",
           700
          ],
          [
           "Estados unidos",
           142642.5,
           678.2,
           150150,
           "petroagro sociedad anonima",
           950
          ],
          [
           "Estados unidos",
           226631.7,
           678.2,
           487380,
           "bro s.r.l.",
           465
          ],
          [
           "Estados unidos",
           37548,
           678.2,
           53640,
           "izco",
           700
          ],
          [
           "Estados unidos",
           167232,
           678.2,
           214400,
           "south american grain s.a.",
           780
          ],
          [
           "Estados unidos",
           56350,
           678.2,
           80500,
           "miska s.a.",
           700
          ],
          [
           "Estados unidos",
           525629.2,
           678.2,
           720040,
           "bullmark srl",
           730
          ],
          [
           "Estados unidos",
           174499.2,
           678.2,
           242360,
           "campos verdes argentinos s.a.",
           720
          ],
          [
           "Estados unidos",
           7298983,
           678.2,
           7683140,
           "petroagro sociedad anonima",
           950
          ],
          [
           "Estados unidos",
           198050,
           678.2,
           233000,
           "grupo ckoos srl",
           850
          ],
          [
           "Estados unidos",
           1385280,
           678.2,
           1924000,
           "conosur foods argentina sa",
           720
          ],
          [
           "Estados unidos",
           1530000,
           678.2,
           2125000,
           "campos verdes argentinos s.a.",
           720
          ],
          [
           "Estados unidos",
           244530,
           678.2,
           257400,
           "petroagro sociedad anonima",
           950
          ],
          [
           "Estados unidos",
           54642,
           678.2,
           78060,
           "soyapampa s.a.",
           700
          ],
          [
           "Estados unidos",
           67004,
           678.2,
           95720,
           "miska s.a.",
           700
          ],
          [
           "Estados unidos",
           1331200,
           678.2,
           2080000,
           "bro s.r.l.",
           640
          ],
          [
           "Estados unidos",
           78302,
           678.2,
           111860,
           "izco",
           700
          ],
          [
           "Estados unidos",
           5551600,
           678.2,
           8600000,
           "bro s.r.l.",
           645.5
          ],
          [
           "Estados unidos",
           186575.1,
           678.2,
           299960,
           "santa anita oil sa",
           622
          ],
          [
           "Estados unidos",
           1778920.2,
           678.2,
           3035700,
           "bro s.r.l.",
           586
          ],
          [
           "Estados unidos",
           55250,
           678.2,
           85000,
           "luis a ducret y cia s a",
           650
          ],
          [
           "Estados unidos",
           137399.2,
           678.2,
           167560,
           "going natural srl",
           820
          ],
          [
           "Estados unidos",
           175910.4,
           678.2,
           244320,
           "campos verdes argentinos s.a.",
           720
          ],
          [
           "Estados unidos",
           244311.5,
           678.2,
           257170,
           "petroagro sociedad anonima",
           950
          ],
          [
           "Estados unidos",
           85344,
           678.2,
           121920,
           "soyapampa s.a.",
           700
          ],
          [
           "Estados unidos",
           126420,
           678.2,
           180600,
           "miska s.a.",
           700
          ],
          [
           "Estados unidos",
           31794,
           678.2,
           45420,
           "izco",
           700
          ],
          [
           "Estados unidos",
           175672,
           678.2,
           250960,
           "soyapampa s.a.",
           700
          ],
          [
           "Estados unidos",
           122352.4,
           678.2,
           179930,
           "jewell especialidades sa",
           680
          ],
          [
           "Estados unidos",
           284158,
           678.2,
           405940,
           "miska s.a.",
           700
          ],
          [
           "Estados unidos",
           93548,
           678.2,
           133640,
           "izco",
           700
          ],
          [
           "Estados unidos",
           46440,
           678.2,
           64500,
           "campos verdes argentinos s.a.",
           720
          ],
          [
           "Estados unidos",
           31822,
           678.2,
           45460,
           "soyapampa s.a.",
           700
          ],
          [
           "Estados unidos",
           141288,
           678.2,
           201840,
           "miska s.a.",
           700
          ],
          [
           "Estados unidos",
           77350,
           671.1,
           119000,
           "luis a ducret y cia s a",
           650
          ],
          [
           "Estados unidos",
           262497.6,
           671.1,
           364580,
           "campos verdes argentinos s.a.",
           720
          ],
          [
           "Estados unidos",
           281092,
           671.1,
           401560,
           "soyapampa s.a.",
           700
          ],
          [
           "Estados unidos",
           303786,
           671.1,
           433980,
           "miska s.a.",
           700
          ],
          [
           "Estados unidos",
           71386.8,
           671.1,
           115140,
           "edco grains s.a",
           620
          ],
          [
           "Estados unidos",
           74175,
           671.1,
           107500,
           "natural food s.r.l.",
           690
          ],
          [
           "Estados unidos",
           207942,
           671.1,
           297060,
           "izco",
           700
          ],
          [
           "Estados unidos",
           108360,
           671.1,
           150500,
           "campos verdes argentinos s.a.",
           720
          ],
          [
           "Estados unidos",
           61824,
           671.1,
           96000,
           "espar sociedad de responsabilidad limitada",
           644
          ],
          [
           "Estados unidos",
           2775168,
           671.1,
           3504000,
           "special grains s a",
           792
          ],
          [
           "Estados unidos",
           2775168,
           671.1,
           3504000,
           "petroagro sociedad anonima",
           792
          ],
          [
           "Estados unidos",
           260928,
           671.1,
           362400,
           "campos verdes argentinos s.a.",
           720
          ],
          [
           "Estados unidos",
           122236.5,
           671.1,
           128670,
           "petroagro sociedad anonima",
           950
          ],
          [
           "Estados unidos",
           83737.2,
           671.1,
           135060,
           "edco grains s.a",
           620
          ],
          [
           "Estados unidos",
           2732431.7,
           671.1,
           3450040,
           "pradera natural sa",
           792
          ],
          [
           "Estados unidos",
           61920,
           671.1,
           86000,
           "campos verdes argentinos s.a.",
           720
          ],
          [
           "Estados unidos",
           46326,
           671.1,
           66180,
           "soyapampa s.a.",
           700
          ],
          [
           "Estados unidos",
           108360,
           671.1,
           150500,
           "campos verdes argentinos s.a.",
           720
          ],
          [
           "Estados unidos",
           79730,
           671.1,
           119000,
           "luis a ducret y cia s a",
           670
          ]
         ],
         "hovertemplate": "Destino=%{customdata[0]}<br>Fecha=%{x}<br>Spread=%{y}<br>Fob=%{customdata[1]}<br>Precio de referencia=%{customdata[2]}<br>Kg=%{customdata[3]}<br>Exportador=%{customdata[4]}<br>Precio=%{customdata[5]}<extra></extra>",
         "legendgroup": "Estados unidos",
         "marker": {
          "color": "#EF553B",
          "line": {
           "color": "DarkSlateGrey",
           "width": 2
          },
          "size": 12,
          "symbol": "circle"
         },
         "mode": "markers",
         "name": "Estados unidos",
         "orientation": "v",
         "showlegend": true,
         "type": "scatter",
         "x": [
          "01-2021",
          "05-2021",
          "05-2021",
          "05-2021",
          "05-2021",
          "05-2021",
          "05-2021",
          "05-2021",
          "05-2021",
          "05-2021",
          "05-2021",
          "05-2021",
          "05-2021",
          "05-2021",
          "05-2021",
          "05-2021",
          "05-2021",
          "05-2021",
          "06-2021",
          "06-2021",
          "06-2021",
          "06-2021",
          "06-2021",
          "06-2021",
          "06-2021",
          "06-2021",
          "06-2021",
          "06-2021",
          "06-2021",
          "06-2021",
          "06-2021",
          "06-2021",
          "06-2021",
          "06-2021",
          "06-2021",
          "06-2021",
          "06-2021",
          "06-2021",
          "06-2021",
          "06-2021",
          "06-2021",
          "06-2021",
          "06-2021",
          "06-2021",
          "07-2021",
          "07-2021",
          "07-2021",
          "07-2021",
          "07-2021",
          "07-2021",
          "07-2021",
          "07-2021",
          "07-2021",
          "07-2021",
          "08-2021",
          "08-2021",
          "08-2021",
          "08-2021",
          "08-2021",
          "08-2021",
          "08-2021",
          "08-2021",
          "08-2021",
          "08-2021",
          "08-2021",
          "09-2021",
          "09-2021",
          "09-2021",
          "09-2021",
          "09-2021",
          "09-2021",
          "09-2021",
          "09-2021",
          "09-2021",
          "09-2021",
          "09-2021",
          "09-2021",
          "09-2021",
          "09-2021",
          "10-2021",
          "10-2021",
          "10-2021",
          "10-2021",
          "10-2021",
          "10-2021",
          "11-2021",
          "11-2021",
          "11-2021",
          "12-2021",
          "12-2021",
          "12-2021",
          "03-2022",
          "04-2022",
          "04-2022",
          "04-2022",
          "05-2022",
          "05-2022",
          "05-2022",
          "05-2022",
          "05-2022",
          "05-2022",
          "05-2022",
          "05-2022",
          "05-2022",
          "05-2022",
          "05-2022",
          "06-2022",
          "06-2022",
          "06-2022",
          "06-2022",
          "06-2022",
          "06-2022",
          "06-2022",
          "06-2022",
          "06-2022",
          "06-2022",
          "06-2022",
          "06-2022",
          "06-2022",
          "06-2022",
          "06-2022",
          "06-2022",
          "06-2022",
          "06-2022",
          "06-2022",
          "06-2022",
          "06-2022",
          "06-2022",
          "06-2022",
          "06-2022",
          "06-2022",
          "06-2022",
          "06-2022",
          "06-2022",
          "06-2022",
          "07-2022",
          "07-2022",
          "07-2022",
          "07-2022",
          "07-2022",
          "07-2022",
          "07-2022",
          "07-2022",
          "07-2022",
          "07-2022",
          "07-2022",
          "07-2022",
          "07-2022",
          "07-2022",
          "07-2022",
          "07-2022",
          "07-2022",
          "07-2022",
          "07-2022",
          "07-2022",
          "07-2022",
          "07-2022",
          "07-2022",
          "07-2022",
          "07-2022",
          "07-2022",
          "07-2022",
          "07-2022",
          "07-2022",
          "07-2022",
          "07-2022",
          "07-2022",
          "07-2022",
          "07-2022",
          "08-2022",
          "08-2022",
          "08-2022",
          "08-2022",
          "08-2022",
          "08-2022",
          "08-2022",
          "08-2022",
          "08-2022",
          "08-2022",
          "08-2022",
          "08-2022",
          "08-2022",
          "08-2022",
          "08-2022",
          "08-2022",
          "08-2022",
          "08-2022",
          "08-2022"
         ],
         "xaxis": "x",
         "y": [
          -146.4,
          -76.8,
          -31.8,
          -31.8,
          -36.8,
          63.2,
          -76.8,
          -31.8,
          -31.8,
          -36.8,
          -76.8,
          -31.8,
          -31.8,
          -36.8,
          -56.8,
          -56.8,
          -56.8,
          -28.8,
          -44.7,
          -16.7,
          -16.7,
          162.3,
          175.2,
          -24.7,
          3.3,
          162.3,
          162.3,
          -24.7,
          -24.7,
          217.3,
          -6.7,
          95.3,
          0.3,
          -44.7,
          0.3,
          5.3,
          -184.7,
          0.3,
          -4.7,
          -44.7,
          -4.7,
          -24.7,
          -4.7,
          -44.7,
          4.5,
          -10.4,
          193.9,
          223.6,
          -10.4,
          -129.6,
          -30.4,
          -30.4,
          14.6,
          -30.4,
          129.2,
          24.2,
          24.2,
          12.2,
          12.2,
          31.2,
          31.2,
          -104.8,
          64.2,
          -15.8,
          -15.8,
          -76.5,
          12.5,
          52.5,
          132.5,
          12.5,
          59.5,
          52.5,
          12.5,
          132.5,
          107.5,
          222.5,
          132.5,
          132.5,
          32.5,
          198,
          46,
          297.8,
          296.6,
          378,
          138.1,
          99,
          47,
          199,
          55.9,
          127.2,
          45.9,
          4.2,
          -24.8,
          -10.8,
          -20.8,
          -24.1,
          55.9,
          -24.1,
          -24.1,
          -49.1,
          55.9,
          -24.1,
          -84.1,
          55.9,
          55.9,
          -84.1,
          -37.1,
          -37.1,
          -87.1,
          -77.1,
          107.9,
          107.9,
          -77.1,
          65.1,
          54.9,
          -206.2,
          -45.1,
          -17.1,
          42.9,
          -37.1,
          107.9,
          107.9,
          -206.2,
          -37.1,
          139.1,
          54.9,
          42.9,
          -52.1,
          212.9,
          -37.1,
          -37.1,
          -37.1,
          42.9,
          -37.1,
          -37.1,
          21.8,
          271.8,
          -213.2,
          21.8,
          101.8,
          21.8,
          51.8,
          41.8,
          271.8,
          171.8,
          41.8,
          41.8,
          271.8,
          21.8,
          21.8,
          -38.2,
          21.8,
          -32.7,
          -56.2,
          -92.2,
          -28.2,
          141.8,
          41.8,
          271.8,
          21.8,
          21.8,
          21.8,
          21.8,
          1.8,
          21.8,
          21.8,
          41.8,
          21.8,
          21.8,
          -21.1,
          48.9,
          28.9,
          28.9,
          -51.1,
          18.9,
          28.9,
          48.9,
          -27.1,
          120.9,
          120.9,
          48.9,
          278.9,
          -51.1,
          120.9,
          48.9,
          28.9,
          48.9,
          -1.1
         ],
         "yaxis": "y"
        },
        {
         "customdata": [
          [
           "Uruguay",
           4212,
           576.4,
           7020,
           "luis a ducret y cia s a",
           600
          ],
          [
           "Uruguay",
           1150184,
           576.4,
           2875460,
           "agrofertil s.r.l.",
           400
          ],
          [
           "Uruguay",
           124700,
           578.3,
           290000,
           "powertec comercio s.r.l",
           430
          ],
          [
           "Uruguay",
           1214959.5,
           578.3,
           2999900,
           "agrofertil s.r.l.",
           405
          ],
          [
           "Uruguay",
           62264,
           585.7,
           144800,
           "powertec comercio s.r.l",
           430
          ],
          [
           "Uruguay",
           187050,
           585.7,
           435000,
           "powertec comercio s.r.l",
           430
          ],
          [
           "Uruguay",
           99897.6,
           585.7,
           232320,
           "powertec comercio s.r.l",
           430
          ],
          [
           "Uruguay",
           85724.8,
           585.7,
           199360,
           "powertec comercio s.r.l",
           430
          ],
          [
           "Uruguay",
           87814.6,
           585.7,
           204220,
           "powertec comercio s.r.l",
           430
          ],
          [
           "Uruguay",
           935840,
           585.7,
           2339600,
           "agrofertil s.r.l.",
           400
          ],
          [
           "Uruguay",
           124700,
           585.7,
           290000,
           "powertec comercio s.r.l",
           430
          ],
          [
           "Uruguay",
           124768.8,
           597.1,
           290160,
           "powertec comercio s.r.l",
           430
          ],
          [
           "Uruguay",
           115686.1,
           597.1,
           289940,
           "j.a.l. s.r.l.",
           399
          ],
          [
           "Uruguay",
           62350,
           597.1,
           145000,
           "powertec comercio s.r.l",
           430
          ],
          [
           "Uruguay",
           185510.6,
           597.1,
           431420,
           "powertec comercio s.r.l",
           430
          ],
          [
           "Uruguay",
           1423500,
           597.1,
           3000000,
           "s & f global serv sociedad responsabilidad limitada",
           474.5
          ],
          [
           "Uruguay",
           87161,
           597.1,
           202700,
           "powertec comercio s.r.l",
           430
          ],
          [
           "Uruguay",
           37410,
           646.8,
           87000,
           "powertec comercio s.r.l",
           430
          ],
          [
           "Uruguay",
           1597530,
           646.8,
           3090000,
           "s & f global serv sociedad responsabilidad limitada",
           517
          ],
          [
           "Uruguay",
           152425,
           646.8,
           304850,
           "p & p expo impo s.r.l",
           500
          ],
          [
           "Uruguay",
           62350,
           646.8,
           145000,
           "powertec comercio s.r.l",
           430
          ],
          [
           "Uruguay",
           112230,
           646.8,
           261000,
           "powertec comercio s.r.l",
           430
          ],
          [
           "Uruguay",
           87290,
           646.8,
           203000,
           "powertec comercio s.r.l",
           430
          ],
          [
           "Uruguay",
           2344500,
           646.8,
           4500000,
           "j.a.l. s.r.l.",
           521
          ],
          [
           "Uruguay",
           62866,
           646.8,
           146200,
           "powertec comercio s.r.l",
           430
          ],
          [
           "Uruguay",
           787500,
           646.8,
           1500000,
           "s & f global serv sociedad responsabilidad limitada",
           525
          ],
          [
           "Uruguay",
           250000,
           646.8,
           500000,
           "p & p expo impo s.r.l",
           500
          ],
          [
           "Uruguay",
           787500,
           646.8,
           1500000,
           "s & f global serv sociedad responsabilidad limitada",
           525
          ],
          [
           "Uruguay",
           787500,
           646.8,
           1500000,
           "s & f global serv sociedad responsabilidad limitada",
           525
          ],
          [
           "Uruguay",
           61988.8,
           646.8,
           144160,
           "powertec comercio s.r.l",
           430
          ],
          [
           "Uruguay",
           250000,
           646.8,
           500000,
           "p & p expo impo s.r.l",
           500
          ],
          [
           "Uruguay",
           246565,
           646.8,
           493130,
           "p & p expo impo s.r.l",
           500
          ],
          [
           "Uruguay",
           124184,
           614.7,
           288800,
           "powertec comercio s.r.l",
           430
          ],
          [
           "Uruguay",
           1257500,
           614.7,
           2500000,
           "s & f global serv sociedad responsabilidad limitada",
           503
          ],
          [
           "Uruguay",
           249875,
           614.7,
           499750,
           "p & p expo impo s.r.l",
           500
          ],
          [
           "Uruguay",
           61206.2,
           614.7,
           142340,
           "powertec comercio s.r.l",
           430
          ],
          [
           "Uruguay",
           87083.6,
           614.7,
           202520,
           "powertec comercio s.r.l",
           430
          ],
          [
           "Uruguay",
           44353.1,
           614.7,
           111440,
           "cagnoni walter ernesto",
           398
          ],
          [
           "Uruguay",
           249470,
           614.7,
           498940,
           "p & p expo impo s.r.l",
           500
          ],
          [
           "Uruguay",
           62143.6,
           614.7,
           144520,
           "powertec comercio s.r.l",
           430
          ],
          [
           "Uruguay",
           61911.4,
           614.7,
           143980,
           "powertec comercio s.r.l",
           430
          ],
          [
           "Uruguay",
           248480,
           614.7,
           496960,
           "p & p expo impo s.r.l",
           500
          ],
          [
           "Uruguay",
           61739.4,
           614.7,
           143580,
           "powertec comercio s.r.l",
           430
          ],
          [
           "Uruguay",
           55720,
           614.7,
           140000,
           "cagnoni walter ernesto",
           398
          ],
          [
           "Uruguay",
           124700,
           614.7,
           290000,
           "powertec comercio s.r.l",
           430
          ],
          [
           "Uruguay",
           241580,
           614.7,
           483160,
           "p & p expo impo s.r.l",
           500
          ],
          [
           "Uruguay",
           55250.4,
           614.7,
           138820,
           "cagnoni walter ernesto",
           398
          ],
          [
           "Uruguay",
           250000,
           614.7,
           500000,
           "p & p expo impo s.r.l",
           500
          ],
          [
           "Uruguay",
           86516,
           614.7,
           201200,
           "powertec comercio s.r.l",
           430
          ],
          [
           "Uruguay",
           69770.2,
           600.4,
           143560,
           "centro electro s.r.l.",
           486
          ],
          [
           "Uruguay",
           2253415.4,
           600.4,
           4445040,
           "s & f global serv sociedad responsabilidad limitada",
           507
          ],
          [
           "Uruguay",
           53620,
           600.4,
           140000,
           "cagnoni walter ernesto",
           383
          ],
          [
           "Uruguay",
           53620,
           600.4,
           140000,
           "cagnoni walter ernesto",
           383
          ],
          [
           "Uruguay",
           53620,
           600.4,
           140000,
           "cagnoni walter ernesto",
           383
          ],
          [
           "Uruguay",
           250000,
           600.4,
           500000,
           "p & p expo impo s.r.l",
           500
          ],
          [
           "Uruguay",
           53900,
           600.4,
           140000,
           "cagnoni walter ernesto",
           385
          ],
          [
           "Uruguay",
           83757.2,
           600.4,
           172340,
           "centro electro s.r.l.",
           486
          ],
          [
           "Uruguay",
           145570,
           600.4,
           291140,
           "p & p expo impo s.r.l",
           500
          ],
          [
           "Uruguay",
           116000,
           600.4,
           232000,
           "centro electro s.r.l.",
           500
          ],
          [
           "Uruguay",
           706500,
           600.4,
           1500000,
           "s & f global serv sociedad responsabilidad limitada",
           471
          ],
          [
           "Uruguay",
           124037.8,
           600.4,
           288460,
           "powertec comercio s.r.l",
           430
          ],
          [
           "Uruguay",
           107800,
           600.4,
           280000,
           "cagnoni walter ernesto",
           385
          ],
          [
           "Uruguay",
           706500,
           600.4,
           1500000,
           "s & f global serv sociedad responsabilidad limitada",
           471
          ],
          [
           "Uruguay",
           280103.5,
           600.4,
           564300,
           "centro electro s.r.l.",
           496.4
          ],
          [
           "Uruguay",
           254840,
           600.4,
           509680,
           "centro electro s.r.l.",
           500
          ],
          [
           "Uruguay",
           146165,
           600.4,
           292330,
           "p & p expo impo s.r.l",
           500
          ],
          [
           "Uruguay",
           41721.6,
           600.4,
           86920,
           "centro electro s.r.l.",
           480
          ],
          [
           "Uruguay",
           55825,
           600.4,
           145000,
           "cagnoni walter ernesto",
           385
          ],
          [
           "Uruguay",
           68304,
           600.4,
           142300,
           "centro electro s.r.l.",
           480
          ],
          [
           "Uruguay",
           36094.2,
           600.4,
           83940,
           "powertec comercio s.r.l",
           430
          ],
          [
           "Uruguay",
           83115.7,
           585.8,
           171020,
           "centro electro s.r.l.",
           486
          ],
          [
           "Uruguay",
           167494.1,
           585.8,
           429160,
           "cagnoni walter ernesto",
           390.3
          ],
          [
           "Uruguay",
           62461.8,
           585.8,
           145260,
           "powertec comercio s.r.l",
           430
          ],
          [
           "Uruguay",
           25361.4,
           585.8,
           58980,
           "powertec comercio s.r.l",
           430
          ],
          [
           "Uruguay",
           318141.1,
           585.8,
           602540,
           "p & p expo impo s.r.l",
           528
          ],
          [
           "Uruguay",
           54769,
           585.8,
           143000,
           "cagnoni walter ernesto",
           383
          ],
          [
           "Uruguay",
           167874.1,
           585.8,
           345420,
           "centro electro s.r.l.",
           486
          ],
          [
           "Uruguay",
           480150,
           585.8,
           975000,
           "centro electro s.r.l.",
           492.5
          ],
          [
           "Uruguay",
           61851.2,
           585.8,
           143840,
           "powertec comercio s.r.l",
           430
          ],
          [
           "Uruguay",
           53360,
           585.8,
           145000,
           "cagnoni walter ernesto",
           368
          ],
          [
           "Uruguay",
           61756.6,
           585.8,
           143620,
           "powertec comercio s.r.l",
           430
          ],
          [
           "Uruguay",
           109516.9,
           585.8,
           282260,
           "cagnoni walter ernesto",
           388
          ],
          [
           "Uruguay",
           24640,
           585.8,
           56000,
           "acheron s.a.",
           440
          ],
          [
           "Uruguay",
           73194.7,
           585.8,
           144940,
           "ramone sas",
           505
          ],
          [
           "Uruguay",
           44415.4,
           585.8,
           84120,
           "p & p expo impo s.r.l",
           528
          ],
          [
           "Uruguay",
           71508,
           585.8,
           141600,
           "ramone sas",
           505
          ],
          [
           "Uruguay",
           57438.7,
           557.6,
           113740,
           "ramone sas",
           505
          ],
          [
           "Uruguay",
           212610,
           557.6,
           570000,
           "cagnoni walter ernesto",
           373
          ],
          [
           "Uruguay",
           49828.4,
           557.6,
           115880,
           "powertec comercio s.r.l",
           430
          ],
          [
           "Uruguay",
           194110,
           557.6,
           413000,
           "ramone sas",
           470
          ],
          [
           "Uruguay",
           147641.8,
           557.6,
           292360,
           "ramone sas",
           505
          ],
          [
           "Uruguay",
           1186191.1,
           557.6,
           2298820,
           "p & p expo impo s.r.l",
           516
          ],
          [
           "Uruguay",
           141159.8,
           557.6,
           300340,
           "ramone sas",
           470
          ],
          [
           "Uruguay",
           144702.7,
           557.6,
           286540,
           "ramone sas",
           505
          ],
          [
           "Uruguay",
           72093.8,
           557.6,
           142760,
           "ramone sas",
           505
          ],
          [
           "Uruguay",
           70851.5,
           557.6,
           140300,
           "ramone sas",
           505
          ],
          [
           "Uruguay",
           49880,
           557.6,
           116000,
           "powertec comercio s.r.l",
           430
          ],
          [
           "Uruguay",
           24785.2,
           557.6,
           57640,
           "powertec comercio s.r.l",
           430
          ],
          [
           "Uruguay",
           281335.5,
           557.6,
           557100,
           "ramone sas",
           505
          ],
          [
           "Uruguay",
           212610,
           557.6,
           570000,
           "cagnoni walter ernesto",
           373
          ],
          [
           "Uruguay",
           262616.6,
           557.6,
           497380,
           "p & p expo impo s.r.l",
           528
          ],
          [
           "Uruguay",
           173896.8,
           557.6,
           344350,
           "ramone sas",
           505
          ],
          [
           "Uruguay",
           208246.8,
           557.6,
           412370,
           "ramone sas",
           505
          ],
          [
           "Uruguay",
           100602.8,
           552,
           233960,
           "powertec comercio s.r.l",
           430
          ],
          [
           "Uruguay",
           72194.8,
           552,
           142960,
           "ramone sas",
           505
          ],
          [
           "Uruguay",
           325864,
           552,
           592480,
           "p & p expo impo s.r.l",
           550
          ],
          [
           "Uruguay",
           61980.2,
           552,
           144140,
           "powertec comercio s.r.l",
           430
          ],
          [
           "Uruguay",
           73861.3,
           552,
           146260,
           "ramone sas",
           505
          ],
          [
           "Uruguay",
           62350,
           552,
           145000,
           "powertec comercio s.r.l",
           430
          ],
          [
           "Uruguay",
           238271.5,
           552,
           632020,
           "cagnoni walter ernesto",
           377
          ],
          [
           "Uruguay",
           72962.4,
           552,
           144480,
           "ramone sas",
           505
          ],
          [
           "Uruguay",
           119776.8,
           552,
           272220,
           "acheron s.a.",
           440
          ],
          [
           "Uruguay",
           242529.7,
           552,
           639920,
           "cagnoni walter ernesto",
           379
          ],
          [
           "Uruguay",
           143923.2,
           552,
           299840,
           "sialfa argentina s.r.l.",
           480
          ],
          [
           "Uruguay",
           184672.3,
           552,
           495100,
           "cagnoni walter ernesto",
           373
          ],
          [
           "Uruguay",
           73124,
           552,
           144800,
           "ramone sas",
           505
          ],
          [
           "Uruguay",
           259385.9,
           551,
           534480,
           "sialfa argentina s.r.l.",
           485.3
          ],
          [
           "Uruguay",
           119269.9,
           551,
           387240,
           "cagnoni walter ernesto",
           308
          ],
          [
           "Uruguay",
           125283.2,
           551,
           335880,
           "cagnoni walter ernesto",
           373
          ],
          [
           "Uruguay",
           120667.5,
           551,
           337060,
           "cagnoni walter ernesto",
           358
          ],
          [
           "Uruguay",
           21359.5,
           551,
           58680,
           "cagnoni walter ernesto",
           364
          ],
          [
           "Uruguay",
           43824,
           551,
           91300,
           "sialfa argentina s.r.l.",
           480
          ],
          [
           "Uruguay",
           178300.3,
           554.1,
           487540,
           "cagnoni walter ernesto",
           365.7
          ],
          [
           "Uruguay",
           147668.4,
           554.1,
           406800,
           "cagnoni walter ernesto",
           363
          ],
          [
           "Uruguay",
           183094.7,
           554.1,
           497540,
           "cagnoni walter ernesto",
           368
          ],
          [
           "Uruguay",
           157086,
           606.2,
           403820,
           "cagnoni walter ernesto",
           389
          ],
          [
           "Uruguay",
           62101.6,
           661.6,
           141140,
           "jm y cia s.a.s.",
           440
          ],
          [
           "Uruguay",
           28800,
           661.6,
           60000,
           "agrofertil s.r.l.",
           480
          ],
          [
           "Uruguay",
           68836.2,
           724.1,
           146460,
           "jm y cia s.a.s.",
           470
          ],
          [
           "Uruguay",
           12999.6,
           737.1,
           28260,
           "sfida s.a.s.",
           460
          ],
          [
           "Uruguay",
           8472,
           678.2,
           12000,
           "luis a ducret y cia s a",
           706
          ],
          [
           "Uruguay",
           66700,
           678.2,
           145000,
           "sfida s.a.s.",
           460
          ],
          [
           "Uruguay",
           56000,
           671.1,
           112000,
           "alimentos tancacha s.a.",
           500
          ]
         ],
         "hovertemplate": "Destino=%{customdata[0]}<br>Fecha=%{x}<br>Spread=%{y}<br>Fob=%{customdata[1]}<br>Precio de referencia=%{customdata[2]}<br>Kg=%{customdata[3]}<br>Exportador=%{customdata[4]}<br>Precio=%{customdata[5]}<extra></extra>",
         "legendgroup": "Uruguay",
         "marker": {
          "color": "#00cc96",
          "line": {
           "color": "DarkSlateGrey",
           "width": 2
          },
          "size": 12,
          "symbol": "circle"
         },
         "mode": "markers",
         "name": "Uruguay",
         "orientation": "v",
         "showlegend": true,
         "type": "scatter",
         "x": [
          "01-2021",
          "01-2021",
          "02-2021",
          "02-2021",
          "03-2021",
          "03-2021",
          "03-2021",
          "03-2021",
          "03-2021",
          "03-2021",
          "03-2021",
          "04-2021",
          "04-2021",
          "04-2021",
          "04-2021",
          "04-2021",
          "04-2021",
          "05-2021",
          "05-2021",
          "05-2021",
          "05-2021",
          "05-2021",
          "05-2021",
          "05-2021",
          "05-2021",
          "05-2021",
          "05-2021",
          "05-2021",
          "05-2021",
          "05-2021",
          "05-2021",
          "05-2021",
          "06-2021",
          "06-2021",
          "06-2021",
          "06-2021",
          "06-2021",
          "06-2021",
          "06-2021",
          "06-2021",
          "06-2021",
          "06-2021",
          "06-2021",
          "06-2021",
          "06-2021",
          "06-2021",
          "06-2021",
          "06-2021",
          "06-2021",
          "07-2021",
          "07-2021",
          "07-2021",
          "07-2021",
          "07-2021",
          "07-2021",
          "07-2021",
          "07-2021",
          "07-2021",
          "07-2021",
          "07-2021",
          "07-2021",
          "07-2021",
          "07-2021",
          "07-2021",
          "07-2021",
          "07-2021",
          "07-2021",
          "07-2021",
          "07-2021",
          "07-2021",
          "08-2021",
          "08-2021",
          "08-2021",
          "08-2021",
          "08-2021",
          "08-2021",
          "08-2021",
          "08-2021",
          "08-2021",
          "08-2021",
          "08-2021",
          "08-2021",
          "08-2021",
          "08-2021",
          "08-2021",
          "08-2021",
          "09-2021",
          "09-2021",
          "09-2021",
          "09-2021",
          "09-2021",
          "09-2021",
          "09-2021",
          "09-2021",
          "09-2021",
          "09-2021",
          "09-2021",
          "09-2021",
          "09-2021",
          "09-2021",
          "09-2021",
          "09-2021",
          "09-2021",
          "10-2021",
          "10-2021",
          "10-2021",
          "10-2021",
          "10-2021",
          "10-2021",
          "10-2021",
          "10-2021",
          "10-2021",
          "10-2021",
          "10-2021",
          "10-2021",
          "10-2021",
          "11-2021",
          "11-2021",
          "11-2021",
          "11-2021",
          "11-2021",
          "11-2021",
          "12-2021",
          "12-2021",
          "12-2021",
          "01-2022",
          "02-2022",
          "02-2022",
          "05-2022",
          "06-2022",
          "07-2022",
          "07-2022",
          "08-2022"
         ],
         "xaxis": "x",
         "y": [
          23.6,
          -176.4,
          -148.3,
          -173.3,
          -155.7,
          -155.7,
          -155.7,
          -155.7,
          -155.7,
          -185.7,
          -155.7,
          -167.1,
          -198.1,
          -167.1,
          -167.1,
          -122.6,
          -167.1,
          -216.8,
          -129.8,
          -146.8,
          -216.8,
          -216.8,
          -216.8,
          -125.8,
          -216.8,
          -121.8,
          -146.8,
          -121.8,
          -121.8,
          -216.8,
          -146.8,
          -146.8,
          -184.7,
          -111.7,
          -114.7,
          -184.7,
          -184.7,
          -216.7,
          -114.7,
          -184.7,
          -184.7,
          -114.7,
          -184.7,
          -216.7,
          -184.7,
          -114.7,
          -216.7,
          -114.7,
          -184.7,
          -114.4,
          -93.5,
          -217.4,
          -217.4,
          -217.4,
          -100.4,
          -215.4,
          -114.4,
          -100.4,
          -100.4,
          -129.4,
          -170.4,
          -215.4,
          -129.4,
          -104.1,
          -100.4,
          -100.4,
          -120.4,
          -215.4,
          -120.4,
          -170.4,
          -99.8,
          -195.5,
          -155.8,
          -155.8,
          -57.8,
          -202.8,
          -99.8,
          -93.3,
          -155.8,
          -217.8,
          -155.8,
          -197.8,
          -145.8,
          -80.8,
          -57.8,
          -80.8,
          -52.5,
          -184.5,
          -127.5,
          -87.5,
          -52.5,
          -41.5,
          -87.5,
          -52.5,
          -52.5,
          -52.5,
          -127.5,
          -127.5,
          -52.5,
          -184.5,
          -29.5,
          -52.5,
          -52.5,
          -122,
          -47,
          -2,
          -122,
          -47,
          -122,
          -175,
          -47,
          -112,
          -173,
          -71.9,
          -179,
          -47,
          -65.7,
          -243,
          -178,
          -193,
          -187,
          -71,
          -188.4,
          -191.1,
          -186.1,
          -217.2,
          -221.6,
          -181.6,
          -254.1,
          -277.1,
          27.8,
          -218.2,
          -171.1
         ],
         "yaxis": "y"
        },
        {
         "customdata": [
          [
           "Egipto",
           21422214.9,
           597.1,
           42089990,
           "cargill sociedad anonima comercial e industrial",
           509
          ],
          [
           "Egipto",
           22785087,
           597.1,
           44941000,
           "asociacion de cooperativas argentinas coop ltda",
           507
          ],
          [
           "Egipto",
           5896000,
           597.1,
           11000000,
           "adm agro s r l",
           536
          ],
          [
           "Egipto",
           13325133.7,
           597.1,
           26180000,
           "cargill sociedad anonima comercial e industrial",
           509
          ],
          [
           "Egipto",
           7932256,
           597.1,
           16288000,
           "asociacion de cooperativas argentinas coop ltda",
           487
          ],
          [
           "Egipto",
           16920000,
           597.1,
           33000000,
           "amaggi argentina s.a.",
           512.7
          ],
          [
           "Egipto",
           21509945,
           597.1,
           43195000,
           "asociacion de cooperativas argentinas coop ltda",
           498
          ],
          [
           "Egipto",
           11547915,
           597.1,
           22805000,
           "asociacion de cooperativas argentinas coop ltda",
           506.4
          ],
          [
           "Egipto",
           24114744,
           646.8,
           46734000,
           "chs de argentina s.a.",
           516
          ],
          [
           "Egipto",
           10187480,
           646.8,
           19820000,
           "ldc argentina s.a.",
           514
          ],
          [
           "Egipto",
           36569140,
           646.8,
           69240000,
           "adm agro s r l",
           528.2
          ],
          [
           "Egipto",
           8166611,
           646.8,
           15920000,
           "chs de argentina s.a.",
           513
          ],
          [
           "Egipto",
           9918330.5,
           646.8,
           19266000,
           "chs de argentina s.a.",
           514.8
          ],
          [
           "Egipto",
           3622570,
           646.8,
           7000000,
           "los grobo agropecuaria sa",
           517.5
          ],
          [
           "Egipto",
           7225610,
           646.8,
           14014000,
           "chs de argentina s.a.",
           515.6
          ],
          [
           "Egipto",
           12529825,
           646.8,
           24075000,
           "adm agro s r l",
           520.4
          ],
          [
           "Egipto",
           22429000,
           614.7,
           43500000,
           "chs de argentina s.a.",
           515.6
          ],
          [
           "Egipto",
           10745600,
           614.7,
           20000000,
           "los grobo agropecuaria sa",
           537.3
          ],
          [
           "Egipto",
           9343350,
           614.7,
           18000000,
           "viterra argentina s.a.",
           519.1
          ],
          [
           "Egipto",
           11576397.4,
           614.7,
           22500000,
           "cargill sociedad anonima comercial e industrial",
           514.5
          ],
          [
           "Egipto",
           3748378,
           614.7,
           7400000,
           "ypf sociedad anonima",
           506.5
          ],
          [
           "Egipto",
           2136248.5,
           614.7,
           3860000,
           "viterra argentina s.a.",
           553.4
          ],
          [
           "Egipto",
           11687600,
           614.7,
           24400000,
           "adm agro s r l",
           479
          ],
          [
           "Egipto",
           15924005,
           600.4,
           33700000,
           "adm agro s r l",
           472.5
          ],
          [
           "Egipto",
           27055200,
           600.4,
           48300000,
           "chs de argentina s.a.",
           560.1
          ],
          [
           "Egipto",
           10509883,
           600.4,
           21429000,
           "chs de argentina s.a.",
           490.5
          ],
          [
           "Egipto",
           19879440.5,
           585.8,
           37000000,
           "chs de argentina s.a.",
           537.3
          ],
          [
           "Egipto",
           14945035.1,
           585.8,
           28020000,
           "chs de argentina s.a.",
           533.4
          ],
          [
           "Egipto",
           9306400,
           671.1,
           16000000,
           "chs de argentina s.a.",
           581.6
          ],
          [
           "Egipto",
           11980443,
           671.1,
           19989000,
           "chs de argentina s.a.",
           599.4
          ]
         ],
         "hovertemplate": "Destino=%{customdata[0]}<br>Fecha=%{x}<br>Spread=%{y}<br>Fob=%{customdata[1]}<br>Precio de referencia=%{customdata[2]}<br>Kg=%{customdata[3]}<br>Exportador=%{customdata[4]}<br>Precio=%{customdata[5]}<extra></extra>",
         "legendgroup": "Egipto",
         "marker": {
          "color": "#ab63fa",
          "line": {
           "color": "DarkSlateGrey",
           "width": 2
          },
          "size": 12,
          "symbol": "circle"
         },
         "mode": "markers",
         "name": "Egipto",
         "orientation": "v",
         "showlegend": true,
         "type": "scatter",
         "x": [
          "04-2021",
          "04-2021",
          "04-2021",
          "04-2021",
          "04-2021",
          "04-2021",
          "04-2021",
          "04-2021",
          "05-2021",
          "05-2021",
          "05-2021",
          "05-2021",
          "05-2021",
          "05-2021",
          "05-2021",
          "05-2021",
          "06-2021",
          "06-2021",
          "06-2021",
          "06-2021",
          "06-2021",
          "06-2021",
          "06-2021",
          "07-2021",
          "07-2021",
          "07-2021",
          "08-2021",
          "08-2021",
          "08-2022",
          "08-2022"
         ],
         "xaxis": "x",
         "y": [
          -88.2,
          -90.1,
          -61.1,
          -88.1,
          -110.1,
          -84.4,
          -99.2,
          -90.8,
          -130.8,
          -132.8,
          -118.6,
          -133.8,
          -132,
          -129.3,
          -131.2,
          -126.4,
          -99.1,
          -77.4,
          -95.6,
          -100.2,
          -108.1,
          -61.2,
          -135.7,
          -127.9,
          -40.3,
          -110,
          -48.5,
          -52.4,
          -89.5,
          -71.8
         ],
         "yaxis": "y"
        },
        {
         "customdata": [
          [
           "Rusia",
           12056040,
           597.1,
           24705000,
           "mirgor sa c i f i a",
           488
          ],
          [
           "Rusia",
           12921376.8,
           614.7,
           26982010,
           "mirgor sa c i f i a",
           478.9
          ],
          [
           "Rusia",
           11557592,
           600.4,
           23580000,
           "mirgor sa c i f i a",
           490.1
          ],
          [
           "Rusia",
           13214895,
           585.8,
           25297000,
           "mirgor sa c i f i a",
           522.4
          ],
          [
           "Rusia",
           8543145,
           557.6,
           15800000,
           "mirgor sa c i f i a",
           540.7
          ],
          [
           "Rusia",
           7474681.5,
           557.6,
           14556300,
           "mirgor sa c i f i a",
           513.5
          ],
          [
           "Rusia",
           17986580,
           737.1,
           28370000,
           "mirgor sa c i f i a",
           634
          ]
         ],
         "hovertemplate": "Destino=%{customdata[0]}<br>Fecha=%{x}<br>Spread=%{y}<br>Fob=%{customdata[1]}<br>Precio de referencia=%{customdata[2]}<br>Kg=%{customdata[3]}<br>Exportador=%{customdata[4]}<br>Precio=%{customdata[5]}<extra></extra>",
         "legendgroup": "Rusia",
         "marker": {
          "color": "#FFA15A",
          "line": {
           "color": "DarkSlateGrey",
           "width": 2
          },
          "size": 12,
          "symbol": "circle"
         },
         "mode": "markers",
         "name": "Rusia",
         "orientation": "v",
         "showlegend": true,
         "type": "scatter",
         "x": [
          "04-2021",
          "06-2021",
          "07-2021",
          "08-2021",
          "09-2021",
          "09-2021",
          "06-2022"
         ],
         "xaxis": "x",
         "y": [
          -109.1,
          -135.8,
          -110.3,
          -63.4,
          -16.8,
          -44,
          -103.1
         ],
         "yaxis": "y"
        },
        {
         "customdata": [
          [
           "China",
           22352000,
           597.1,
           44000000,
           "asociacion de cooperativas argentinas coop ltda",
           508
          ],
          [
           "China",
           21360267.8,
           597.1,
           44966550,
           "chs de argentina s.a.",
           475
          ],
          [
           "China",
           5085000,
           597.1,
           10000000,
           "los grobo agropecuaria sa",
           508.5
          ],
          [
           "China",
           16368264.8,
           597.1,
           32708965,
           "chs de argentina s.a.",
           500.4
          ],
          [
           "China",
           1262748.9,
           646.8,
           2456715,
           "cargill sociedad anonima comercial e industrial",
           514
          ],
          [
           "China",
           22923025,
           646.8,
           45200000,
           "asociacion de cooperativas argentinas coop ltda",
           507.1
          ],
          [
           "China",
           13001466.9,
           646.8,
           25300000,
           "cargill sociedad anonima comercial e industrial",
           513.9
          ],
          [
           "China",
           25626783.1,
           646.8,
           48720116,
           "cofco international argentina s.a.",
           526
          ],
          [
           "China",
           10659785.5,
           646.8,
           19331000,
           "chs de argentina s.a.",
           551.4
          ],
          [
           "China",
           50722883,
           646.8,
           98021000,
           "asociacion de cooperativas argentinas coop ltda",
           517.5
          ],
          [
           "China",
           17568520,
           646.8,
           34180000,
           "ldc argentina s.a.",
           514
          ],
          [
           "China",
           5083000,
           646.8,
           10000000,
           "los grobo agropecuaria sa",
           508.3
          ],
          [
           "China",
           389272.8,
           646.8,
           763285,
           "cargill sociedad anonima comercial e industrial",
           510
          ],
          [
           "China",
           6921127.3,
           646.8,
           13291035,
           "chs de argentina s.a.",
           520.7
          ],
          [
           "China",
           13521879,
           646.8,
           27207000,
           "asociacion de cooperativas argentinas coop ltda",
           497
          ],
          [
           "China",
           10060813.7,
           646.8,
           18979880,
           "cofco international argentina s.a.",
           530.1
          ],
          [
           "China",
           34310583,
           646.8,
           66887000,
           "asociacion de cooperativas argentinas coop ltda",
           513
          ],
          [
           "China",
           9288909,
           646.8,
           17829000,
           "asociacion de cooperativas argentinas coop ltda",
           521
          ],
          [
           "China",
           17838120,
           646.8,
           34570000,
           "ldc argentina s.a.",
           516
          ],
          [
           "China",
           20160000,
           646.8,
           40000000,
           "asociacion de cooperativas argentinas coop ltda",
           504
          ],
          [
           "China",
           8405117,
           646.8,
           16513000,
           "asociacion de cooperativas argentinas coop ltda",
           509
          ],
          [
           "China",
           5425800,
           646.8,
           10000000,
           "los grobo agropecuaria sa",
           542.6
          ],
          [
           "China",
           17743468.2,
           646.8,
           34553680,
           "chs de argentina s.a.",
           513.5
          ],
          [
           "China",
           20991551,
           614.7,
           40981000,
           "cargill sociedad anonima comercial e industrial",
           512.2
          ],
          [
           "China",
           14767200,
           614.7,
           29300000,
           "asociacion de cooperativas argentinas coop ltda",
           504
          ],
          [
           "China",
           26314864.6,
           614.7,
           47745530,
           "chs de argentina s.a.",
           551.1
          ],
          [
           "China",
           13090617.3,
           614.7,
           23852000,
           "chs de argentina s.a.",
           548.8
          ],
          [
           "China",
           2686100,
           614.7,
           5000000,
           "los grobo agropecuaria sa",
           537.2
          ],
          [
           "China",
           10844541.2,
           614.7,
           19836000,
           "chs de argentina s.a.",
           546.7
          ],
          [
           "China",
           12084000,
           614.7,
           23000000,
           "amaggi argentina s.a.",
           525.4
          ],
          [
           "China",
           7863792,
           614.7,
           14246000,
           "chs de argentina s.a.",
           552
          ],
          [
           "China",
           18633455.8,
           614.7,
           35320000,
           "asociacion de cooperativas argentinas coop ltda",
           527.6
          ],
          [
           "China",
           11474620,
           614.7,
           22500000,
           "adm agro s r l",
           510
          ],
          [
           "China",
           16124928,
           600.4,
           29696000,
           "asociacion de cooperativas argentinas coop ltda",
           543
          ],
          [
           "China",
           18512770,
           600.4,
           39950000,
           "adm agro s r l",
           463.4
          ],
          [
           "China",
           18633024,
           600.4,
           35440000,
           "ldc argentina s.a.",
           525.8
          ],
          [
           "China",
           19142133.6,
           600.4,
           37224070,
           "asociacion de cooperativas argentinas coop ltda",
           514.2
          ],
          [
           "China",
           18621919.4,
           600.4,
           38395705,
           "cargill sociedad anonima comercial e industrial",
           485
          ],
          [
           "China",
           13480835,
           600.4,
           29350000,
           "adm agro s r l",
           459.3
          ],
          [
           "China",
           20879837.5,
           600.4,
           40497925,
           "chs de argentina s.a.",
           515.6
          ],
          [
           "China",
           20136825.1,
           600.4,
           36867050,
           "viterra argentina s.a.",
           546.2
          ],
          [
           "China",
           17410704,
           600.4,
           32335000,
           "ldc argentina s.a.",
           538.4
          ],
          [
           "China",
           7205598,
           600.4,
           14046000,
           "asociacion de cooperativas argentinas coop ltda",
           513
          ],
          [
           "China",
           8122605,
           600.4,
           15000000,
           "los grobo agropecuaria sa",
           541.5
          ],
          [
           "China",
           18198360,
           600.4,
           37260000,
           "syngenta agro sociedad anonima",
           488.4
          ],
          [
           "China",
           13654150,
           600.4,
           25000000,
           "los grobo agropecuaria sa",
           546.2
          ],
          [
           "China",
           22014594,
           600.4,
           46100000,
           "viterra argentina s.a.",
           477.5
          ],
          [
           "China",
           22365168,
           600.4,
           43512000,
           "asociacion de cooperativas argentinas coop ltda",
           514
          ],
          [
           "China",
           13793344.1,
           600.4,
           26510000,
           "chs de argentina s.a.",
           520.3
          ],
          [
           "China",
           24702400,
           600.4,
           48100000,
           "chs de argentina s.a.",
           513.6
          ],
          [
           "China",
           14080823.6,
           585.8,
           28440000,
           "cargill sociedad anonima comercial e industrial",
           495.1
          ],
          [
           "China",
           7643250,
           585.8,
           15000000,
           "los grobo agropecuaria sa",
           509.6
          ],
          [
           "China",
           15869540,
           585.8,
           31240000,
           "syngenta agro sociedad anonima",
           508
          ],
          [
           "China",
           6855161.1,
           585.8,
           12835000,
           "viterra argentina s.a.",
           534.1
          ],
          [
           "China",
           22370043,
           585.8,
           41600000,
           "ldc argentina s.a.",
           537.7
          ],
          [
           "China",
           841317.2,
           585.8,
           1555000,
           "viterra argentina s.a.",
           541
          ],
          [
           "China",
           17355267,
           585.8,
           37647000,
           "adm agro s r l",
           461
          ],
          [
           "China",
           21508921.6,
           585.8,
           41703900,
           "chs de argentina s.a.",
           515.8
          ],
          [
           "China",
           13255032,
           585.8,
           25788000,
           "asociacion de cooperativas argentinas coop ltda",
           514
          ],
          [
           "China",
           20817604,
           585.8,
           37042000,
           "adm agro s r l",
           562
          ],
          [
           "China",
           19400000,
           585.8,
           40000000,
           "amaggi argentina s.a.",
           485
          ],
          [
           "China",
           13555750,
           585.8,
           27950000,
           "ldc argentina s.a.",
           485
          ],
          [
           "China",
           20074730,
           585.8,
           39910000,
           "syngenta agro sociedad anonima",
           503
          ],
          [
           "China",
           25273356.7,
           585.8,
           47126000,
           "chs de argentina s.a.",
           536.3
          ],
          [
           "China",
           19442043.4,
           585.8,
           37178290,
           "cargill sociedad anonima comercial e industrial",
           522.9
          ],
          [
           "China",
           11427486.6,
           585.8,
           21834200,
           "chs de argentina s.a.",
           523.4
          ],
          [
           "China",
           18091740,
           585.8,
           35474000,
           "asociacion de cooperativas argentinas coop ltda",
           510
          ],
          [
           "China",
           21556468,
           585.8,
           41300000,
           "ldc argentina s.a.",
           521.9
          ],
          [
           "China",
           20410200,
           585.8,
           36975000,
           "cofco international argentina s.a.",
           552
          ],
          [
           "China",
           16283196,
           585.8,
           30620000,
           "amaggi argentina s.a.",
           531.8
          ],
          [
           "China",
           9471800,
           585.8,
           17600000,
           "chs de argentina s.a.",
           538.2
          ],
          [
           "China",
           16846474.6,
           585.8,
           31430000,
           "cargill sociedad anonima comercial e industrial",
           536
          ],
          [
           "China",
           14783170,
           585.8,
           29390000,
           "syngenta agro sociedad anonima",
           503
          ],
          [
           "China",
           6941390.6,
           585.8,
           13001050,
           "viterra argentina s.a.",
           533.9
          ],
          [
           "China",
           19101810,
           585.8,
           36346000,
           "cofco international argentina s.a.",
           525.6
          ],
          [
           "China",
           19434600,
           585.8,
           36600000,
           "syngenta agro sociedad anonima",
           531
          ],
          [
           "China",
           16459200,
           585.8,
           32325000,
           "cofco international argentina s.a.",
           509.2
          ],
          [
           "China",
           17176290,
           585.8,
           33679000,
           "asociacion de cooperativas argentinas coop ltda",
           510
          ],
          [
           "China",
           18401354,
           585.8,
           37100000,
           "adm agro s r l",
           496
          ],
          [
           "China",
           14728445,
           585.8,
           27502000,
           "ldc argentina s.a.",
           535.5
          ],
          [
           "China",
           11226200,
           585.8,
           20450000,
           "chs de argentina s.a.",
           549
          ],
          [
           "China",
           17037405,
           585.8,
           34419000,
           "asociacion de cooperativas argentinas coop ltda",
           495
          ],
          [
           "China",
           18107591.4,
           585.8,
           34065000,
           "viterra argentina s.a.",
           531.6
          ],
          [
           "China",
           17363700,
           585.8,
           32700000,
           "syngenta agro sociedad anonima",
           531
          ],
          [
           "China",
           9831185,
           585.8,
           18445000,
           "bunge argentina s a",
           533
          ],
          [
           "China",
           16820365,
           585.8,
           32954000,
           "cofco international argentina s.a.",
           510.4
          ],
          [
           "China",
           19626072,
           585.8,
           36227000,
           "cofco international argentina s.a.",
           541.8
          ],
          [
           "China",
           33345936.2,
           585.8,
           66863000,
           "asociacion de cooperativas argentinas coop ltda",
           498.7
          ],
          [
           "China",
           17281243,
           585.8,
           33068000,
           "ldc argentina s.a.",
           522.6
          ],
          [
           "China",
           13095000,
           585.8,
           27000000,
           "adm agro s r l",
           485
          ],
          [
           "China",
           19865462.5,
           557.6,
           37062430,
           "cargill sociedad anonima comercial e industrial",
           536
          ],
          [
           "China",
           17818910,
           557.6,
           35516000,
           "asociacion de cooperativas argentinas coop ltda",
           501.7
          ],
          [
           "China",
           16687126,
           557.6,
           32186000,
           "cofco international argentina s.a.",
           518.5
          ],
          [
           "China",
           15393920,
           557.6,
           28720000,
           "adm agro s r l",
           536
          ],
          [
           "China",
           17310080,
           557.6,
           31820000,
           "cargill sociedad anonima comercial e industrial",
           544
          ],
          [
           "China",
           23267408.8,
           557.6,
           42941755,
           "cargill sociedad anonima comercial e industrial",
           541.8
          ],
          [
           "China",
           14002266.6,
           557.6,
           26472000,
           "viterra argentina s.a.",
           528.9
          ],
          [
           "China",
           13453000,
           557.6,
           25000000,
           "lartirigoyen y cia s a",
           538.1
          ],
          [
           "China",
           15963484,
           557.6,
           32180000,
           "adm agro s r l",
           496.1
          ],
          [
           "China",
           3599622,
           557.6,
           6652000,
           "ldc argentina s.a.",
           541.1
          ],
          [
           "China",
           17938203,
           557.6,
           33000000,
           "amaggi argentina s.a.",
           543.6
          ],
          [
           "China",
           22668685.8,
           557.6,
           41397975,
           "cargill sociedad anonima comercial e industrial",
           547.6
          ],
          [
           "China",
           4517629.9,
           557.6,
           8518000,
           "viterra argentina s.a.",
           530.4
          ],
          [
           "China",
           14654638.3,
           557.6,
           26800000,
           "cargill sociedad anonima comercial e industrial",
           546.8
          ],
          [
           "China",
           21378048,
           557.6,
           40091000,
           "asociacion de cooperativas argentinas coop ltda",
           533.2
          ],
          [
           "China",
           14487995,
           557.6,
           27200000,
           "ldc argentina s.a.",
           532.6
          ],
          [
           "China",
           13164523.8,
           557.6,
           24420000,
           "cargill sociedad anonima comercial e industrial",
           539.1
          ],
          [
           "China",
           21170496,
           557.6,
           39982000,
           "asociacion de cooperativas argentinas coop ltda",
           529.5
          ],
          [
           "China",
           17798400,
           557.6,
           33200000,
           "adm agro s r l",
           536.1
          ],
          [
           "China",
           15032905.4,
           557.6,
           29074000,
           "asociacion de cooperativas argentinas coop ltda",
           517.1
          ],
          [
           "China",
           20573614,
           557.6,
           38330000,
           "adm agro s r l",
           536.7
          ],
          [
           "China",
           35358703.7,
           552,
           67361010,
           "asociacion de cooperativas argentinas coop ltda",
           524.9
          ],
          [
           "China",
           36918135,
           552,
           70451000,
           "asociacion de cooperativas argentinas coop ltda",
           524
          ],
          [
           "China",
           17322048,
           552,
           33184000,
           "asociacion de cooperativas argentinas coop ltda",
           522
          ],
          [
           "China",
           20651085,
           552,
           38745000,
           "asociacion de cooperativas argentinas coop ltda",
           533
          ],
          [
           "China",
           17242026,
           552,
           32110000,
           "adm agro s r l",
           537
          ],
          [
           "China",
           19546974,
           552,
           37190000,
           "adm agro s r l",
           525.6
          ],
          [
           "China",
           16361748,
           552,
           30756000,
           "asociacion de cooperativas argentinas coop ltda",
           532
          ],
          [
           "China",
           6363520,
           724.1,
           9760000,
           "cargill sociedad anonima comercial e industrial",
           652
          ],
          [
           "China",
           16341017.5,
           724.1,
           35707830,
           "chs de argentina s.a.",
           457.6
          ],
          [
           "China",
           4424140,
           724.1,
           7000000,
           "agrofina s a",
           632
          ],
          [
           "China",
           13398504.6,
           724.1,
           22948000,
           "chs de argentina s.a.",
           583.9
          ],
          [
           "China",
           20765760,
           724.1,
           35680000,
           "ldc argentina s.a.",
           582
          ],
          [
           "China",
           16947819,
           724.1,
           28477000,
           "chs de argentina s.a.",
           595.1
          ],
          [
           "China",
           11456250,
           737.1,
           17942805,
           "chs de argentina s.a.",
           638.5
          ],
          [
           "China",
           6396600,
           737.1,
           10000000,
           "agrofina s a",
           639.7
          ],
          [
           "China",
           13782127,
           737.1,
           20985000,
           "chs de argentina s.a.",
           656.8
          ],
          [
           "China",
           6465100,
           737.1,
           10000000,
           "los grobo agropecuaria sa",
           646.5
          ],
          [
           "China",
           13531500,
           737.1,
           23250000,
           "ldc argentina s.a.",
           582
          ],
          [
           "China",
           3286650,
           737.1,
           5000000,
           "los grobo agropecuaria sa",
           657.3
          ],
          [
           "China",
           24092178,
           737.1,
           36958000,
           "chs de argentina s.a.",
           651.9
          ],
          [
           "China",
           46427613.5,
           737.1,
           70283000,
           "syngenta agro sociedad anonima",
           660.6
          ],
          [
           "China",
           13992480,
           678.2,
           21330000,
           "cargill sociedad anonima comercial e industrial",
           656
          ],
          [
           "China",
           6615250,
           678.2,
           10000000,
           "los grobo agropecuaria sa",
           661.5
          ],
          [
           "China",
           1637875,
           678.2,
           2500000,
           "curcija sociedad anonima",
           655.2
          ],
          [
           "China",
           3295000,
           678.2,
           5000000,
           "los grobo agropecuaria sa",
           659
          ],
          [
           "China",
           12491162,
           678.2,
           18754000,
           "cofco international argentina s.a.",
           666.1
          ],
          [
           "China",
           17481402.9,
           678.2,
           26648485,
           "ldc argentina s.a.",
           656
          ],
          [
           "China",
           6556400,
           678.2,
           10000000,
           "los grobo agropecuaria sa",
           655.6
          ],
          [
           "China",
           3130850,
           678.2,
           5000000,
           "agrofina s a",
           626.2
          ],
          [
           "China",
           5553261,
           678.2,
           8445000,
           "chs de argentina s.a.",
           657.6
          ],
          [
           "China",
           14992500,
           678.2,
           24000000,
           "asociacion de cooperativas argentinas coop ltda",
           624.7
          ],
          [
           "China",
           15335712,
           678.2,
           24300000,
           "asociacion de cooperativas argentinas coop ltda",
           631.1
          ],
          [
           "China",
           43063081.7,
           678.2,
           69300000,
           "syngenta agro sociedad anonima",
           621.4
          ],
          [
           "China",
           14297100,
           678.2,
           24130000,
           "cargill sociedad anonima comercial e industrial",
           592.5
          ],
          [
           "China",
           3372050,
           678.2,
           5000000,
           "los grobo agropecuaria sa",
           674.4
          ],
          [
           "China",
           27673484,
           678.2,
           42772000,
           "asociacion de cooperativas argentinas coop ltda",
           647
          ],
          [
           "China",
           14036151.3,
           678.2,
           21788000,
           "ldc argentina s.a.",
           644.2
          ],
          [
           "China",
           30718756,
           678.2,
           44800000,
           "asociacion de cooperativas argentinas coop ltda",
           685.7
          ],
          [
           "China",
           5617750,
           678.2,
           9770000,
           "ldc argentina s.a.",
           575
          ],
          [
           "China",
           12094149,
           671.1,
           20989705,
           "ldc argentina s.a.",
           576.2
          ],
          [
           "China",
           3004750,
           671.1,
           5000000,
           "agrofina s a",
           600.9
          ],
          [
           "China",
           1705320,
           671.1,
           3000000,
           "curcija sociedad anonima",
           568.4
          ],
          [
           "China",
           15503320,
           671.1,
           26992000,
           "cargill sociedad anonima comercial e industrial",
           574.4
          ],
          [
           "China",
           13501556.1,
           671.1,
           22504000,
           "ldc argentina s.a.",
           600
          ],
          [
           "China",
           1856640,
           671.1,
           3000000,
           "agrofina s a",
           618.9
          ],
          [
           "China",
           3342500,
           671.1,
           5000000,
           "los grobo agropecuaria sa",
           668.5
          ],
          [
           "China",
           28415162,
           671.1,
           44950000,
           "chs de argentina s.a.",
           632.2
          ],
          [
           "China",
           3269380,
           671.1,
           5000000,
           "rural ceres s a",
           653.9
          ],
          [
           "China",
           11178074,
           671.1,
           17438000,
           "cofco international argentina s.a.",
           641
          ],
          [
           "China",
           2974450,
           671.1,
           5000000,
           "los grobo agropecuaria sa",
           594.9
          ],
          [
           "China",
           9630546,
           671.1,
           16350000,
           "chs de argentina s.a.",
           589
          ],
          [
           "China",
           21723500,
           671.1,
           37780000,
           "adm agro s r l",
           575
          ],
          [
           "China",
           15652624,
           671.1,
           27102000,
           "cargill sociedad anonima comercial e industrial",
           577.5
          ]
         ],
         "hovertemplate": "Destino=%{customdata[0]}<br>Fecha=%{x}<br>Spread=%{y}<br>Fob=%{customdata[1]}<br>Precio de referencia=%{customdata[2]}<br>Kg=%{customdata[3]}<br>Exportador=%{customdata[4]}<br>Precio=%{customdata[5]}<extra></extra>",
         "legendgroup": "China",
         "marker": {
          "color": "#19d3f3",
          "line": {
           "color": "DarkSlateGrey",
           "width": 2
          },
          "size": 12,
          "symbol": "circle"
         },
         "mode": "markers",
         "name": "China",
         "orientation": "v",
         "showlegend": true,
         "type": "scatter",
         "x": [
          "04-2021",
          "04-2021",
          "04-2021",
          "04-2021",
          "05-2021",
          "05-2021",
          "05-2021",
          "05-2021",
          "05-2021",
          "05-2021",
          "05-2021",
          "05-2021",
          "05-2021",
          "05-2021",
          "05-2021",
          "05-2021",
          "05-2021",
          "05-2021",
          "05-2021",
          "05-2021",
          "05-2021",
          "05-2021",
          "05-2021",
          "06-2021",
          "06-2021",
          "06-2021",
          "06-2021",
          "06-2021",
          "06-2021",
          "06-2021",
          "06-2021",
          "06-2021",
          "06-2021",
          "07-2021",
          "07-2021",
          "07-2021",
          "07-2021",
          "07-2021",
          "07-2021",
          "07-2021",
          "07-2021",
          "07-2021",
          "07-2021",
          "07-2021",
          "07-2021",
          "07-2021",
          "07-2021",
          "07-2021",
          "07-2021",
          "07-2021",
          "08-2021",
          "08-2021",
          "08-2021",
          "08-2021",
          "08-2021",
          "08-2021",
          "08-2021",
          "08-2021",
          "08-2021",
          "08-2021",
          "08-2021",
          "08-2021",
          "08-2021",
          "08-2021",
          "08-2021",
          "08-2021",
          "08-2021",
          "08-2021",
          "08-2021",
          "08-2021",
          "08-2021",
          "08-2021",
          "08-2021",
          "08-2021",
          "08-2021",
          "08-2021",
          "08-2021",
          "08-2021",
          "08-2021",
          "08-2021",
          "08-2021",
          "08-2021",
          "08-2021",
          "08-2021",
          "08-2021",
          "08-2021",
          "08-2021",
          "08-2021",
          "08-2021",
          "08-2021",
          "09-2021",
          "09-2021",
          "09-2021",
          "09-2021",
          "09-2021",
          "09-2021",
          "09-2021",
          "09-2021",
          "09-2021",
          "09-2021",
          "09-2021",
          "09-2021",
          "09-2021",
          "09-2021",
          "09-2021",
          "09-2021",
          "09-2021",
          "09-2021",
          "09-2021",
          "09-2021",
          "09-2021",
          "10-2021",
          "10-2021",
          "10-2021",
          "10-2021",
          "10-2021",
          "10-2021",
          "10-2021",
          "05-2022",
          "05-2022",
          "05-2022",
          "05-2022",
          "05-2022",
          "05-2022",
          "06-2022",
          "06-2022",
          "06-2022",
          "06-2022",
          "06-2022",
          "06-2022",
          "06-2022",
          "06-2022",
          "07-2022",
          "07-2022",
          "07-2022",
          "07-2022",
          "07-2022",
          "07-2022",
          "07-2022",
          "07-2022",
          "07-2022",
          "07-2022",
          "07-2022",
          "07-2022",
          "07-2022",
          "07-2022",
          "07-2022",
          "07-2022",
          "07-2022",
          "07-2022",
          "08-2022",
          "08-2022",
          "08-2022",
          "08-2022",
          "08-2022",
          "08-2022",
          "08-2022",
          "08-2022",
          "08-2022",
          "08-2022",
          "08-2022",
          "08-2022",
          "08-2022",
          "08-2022"
         ],
         "xaxis": "x",
         "y": [
          -89.1,
          -122.1,
          -88.6,
          -96.7,
          -132.8,
          -139.7,
          -132.9,
          -120.8,
          -95.4,
          -129.3,
          -132.8,
          -138.5,
          -136.8,
          -126.1,
          -149.8,
          -116.7,
          -133.8,
          -125.8,
          -130.8,
          -142.8,
          -137.8,
          -104.2,
          -133.3,
          -102.5,
          -110.7,
          -63.5,
          -65.9,
          -77.5,
          -68,
          -89.3,
          -62.7,
          -87.1,
          -104.7,
          -57.4,
          -137,
          -74.7,
          -86.2,
          -115.4,
          -141.1,
          -84.9,
          -54.2,
          -62,
          -87.4,
          -58.9,
          -112,
          -54.3,
          -122.9,
          -86.4,
          -80.1,
          -86.9,
          -90.7,
          -76.2,
          -77.8,
          -51.7,
          -48.1,
          -44.8,
          -124.8,
          -70,
          -71.8,
          -23.8,
          -100.8,
          -100.8,
          -82.8,
          -49.5,
          -62.9,
          -62.4,
          -75.8,
          -63.9,
          -33.8,
          -54,
          -47.6,
          -49.8,
          -82.8,
          -51.9,
          -60.2,
          -54.8,
          -76.6,
          -75.8,
          -89.8,
          -50.3,
          -36.8,
          -90.8,
          -54.2,
          -54.8,
          -52.8,
          -75.4,
          -44,
          -87.1,
          -63.2,
          -100.8,
          -21.5,
          -55.8,
          -39.1,
          -21.5,
          -13.5,
          -15.7,
          -28.6,
          -19.4,
          -61.5,
          -16.4,
          -14,
          -10,
          -27.2,
          -10.7,
          -24.3,
          -24.9,
          -18.5,
          -28,
          -21.5,
          -40.5,
          -20.8,
          -27,
          -27.9,
          -30,
          -19,
          -15,
          -26.4,
          -20,
          -72.1,
          -266.5,
          -92.1,
          -140.2,
          -142.1,
          -128.9,
          -98.6,
          -97.4,
          -80.3,
          -90.5,
          -155.1,
          -79.7,
          -85.2,
          -76.5,
          -22.2,
          -16.7,
          -23.1,
          -19.2,
          -12.1,
          -22.2,
          -22.6,
          -52,
          -20.6,
          -53.5,
          -47.1,
          -56.8,
          -85.7,
          -3.8,
          -31.2,
          -34,
          7.5,
          -103.2,
          -94.9,
          -70.2,
          -102.7,
          -96.7,
          -71.1,
          -52.2,
          -2.6,
          -39,
          -17.2,
          -30.1,
          -76.2,
          -82.1,
          -96.1,
          -93.6
         ],
         "yaxis": "y"
        },
        {
         "customdata": [
          [
           "Malasia",
           4947785.7,
           646.8,
           9570000,
           "viterra argentina s.a.",
           517
          ],
          [
           "Malasia",
           11267704,
           646.8,
           21846000,
           "ldc argentina s.a.",
           515.8
          ],
          [
           "Malasia",
           9616580,
           600.4,
           19828000,
           "amaggi argentina s.a.",
           485
          ],
          [
           "Malasia",
           11245317,
           585.8,
           20941000,
           "amaggi argentina s.a.",
           537
          ],
          [
           "Malasia",
           10787796,
           557.6,
           20316000,
           "ldc argentina s.a.",
           531
          ],
          [
           "Malasia",
           12098974,
           557.6,
           22000000,
           "amaggi argentina s.a.",
           550
          ]
         ],
         "hovertemplate": "Destino=%{customdata[0]}<br>Fecha=%{x}<br>Spread=%{y}<br>Fob=%{customdata[1]}<br>Precio de referencia=%{customdata[2]}<br>Kg=%{customdata[3]}<br>Exportador=%{customdata[4]}<br>Precio=%{customdata[5]}<extra></extra>",
         "legendgroup": "Malasia",
         "marker": {
          "color": "#FF6692",
          "line": {
           "color": "DarkSlateGrey",
           "width": 2
          },
          "size": 12,
          "symbol": "circle"
         },
         "mode": "markers",
         "name": "Malasia",
         "orientation": "v",
         "showlegend": true,
         "type": "scatter",
         "x": [
          "05-2021",
          "05-2021",
          "07-2021",
          "08-2021",
          "09-2021",
          "09-2021"
         ],
         "xaxis": "x",
         "y": [
          -129.8,
          -131,
          -115.4,
          -48.8,
          -26.5,
          -7.6
         ],
         "yaxis": "y"
        },
        {
         "customdata": [
          [
           "Indonesia",
           12900000,
           646.8,
           25000000,
           "amaggi argentina s.a.",
           516
          ],
          [
           "Indonesia",
           10646320,
           600.4,
           22000000,
           "adm agro s r l",
           483.9
          ],
          [
           "Indonesia",
           5670000,
           557.6,
           10500000,
           "bunge argentina s a",
           540
          ],
          [
           "Indonesia",
           5694000,
           552,
           10500000,
           "bunge argentina s a",
           542.3
          ],
          [
           "Indonesia",
           11652750,
           551,
           21951000,
           "amaggi argentina s.a.",
           530.9
          ],
          [
           "Indonesia",
           11482259,
           724.1,
           19363000,
           "amaggi argentina s.a.",
           593
          ]
         ],
         "hovertemplate": "Destino=%{customdata[0]}<br>Fecha=%{x}<br>Spread=%{y}<br>Fob=%{customdata[1]}<br>Precio de referencia=%{customdata[2]}<br>Kg=%{customdata[3]}<br>Exportador=%{customdata[4]}<br>Precio=%{customdata[5]}<extra></extra>",
         "legendgroup": "Indonesia",
         "marker": {
          "color": "#B6E880",
          "line": {
           "color": "DarkSlateGrey",
           "width": 2
          },
          "size": 12,
          "symbol": "circle"
         },
         "mode": "markers",
         "name": "Indonesia",
         "orientation": "v",
         "showlegend": true,
         "type": "scatter",
         "x": [
          "05-2021",
          "07-2021",
          "09-2021",
          "10-2021",
          "11-2021",
          "05-2022"
         ],
         "xaxis": "x",
         "y": [
          -130.8,
          -116.5,
          -17.5,
          -9.7,
          -20.2,
          -131.1
         ],
         "yaxis": "y"
        },
        {
         "customdata": [
          [
           "Arabia saudita",
           14083600,
           614.7,
           27400000,
           "fondomonte south america sa",
           514
          ],
          [
           "Arabia saudita",
           2384241.7,
           614.7,
           4346420,
           "cargill sociedad anonima comercial e industrial",
           548.6
          ],
          [
           "Arabia saudita",
           16347295,
           557.6,
           30250000,
           "bunge argentina s a",
           540.4
          ],
          [
           "Arabia saudita",
           15940100,
           678.2,
           23650000,
           "fondomonte south america sa",
           674
          ]
         ],
         "hovertemplate": "Destino=%{customdata[0]}<br>Fecha=%{x}<br>Spread=%{y}<br>Fob=%{customdata[1]}<br>Precio de referencia=%{customdata[2]}<br>Kg=%{customdata[3]}<br>Exportador=%{customdata[4]}<br>Precio=%{customdata[5]}<extra></extra>",
         "legendgroup": "Arabia saudita",
         "marker": {
          "color": "#FF97FF",
          "line": {
           "color": "DarkSlateGrey",
           "width": 2
          },
          "size": 12,
          "symbol": "circle"
         },
         "mode": "markers",
         "name": "Arabia saudita",
         "orientation": "v",
         "showlegend": true,
         "type": "scatter",
         "x": [
          "06-2021",
          "06-2021",
          "09-2021",
          "07-2022"
         ],
         "xaxis": "x",
         "y": [
          -100.7,
          -66.1,
          -17.1,
          -4.2
         ],
         "yaxis": "y"
        },
        {
         "customdata": [
          [
           "Argelia",
           5178700,
           585.8,
           10000000,
           "lartirigoyen y cia s a",
           517.9
          ],
          [
           "Argelia",
           18117690,
           585.8,
           34000000,
           "viterra argentina s.a.",
           532.9
          ],
          [
           "Argelia",
           24763200,
           557.6,
           46200000,
           "adm agro s r l",
           536
          ]
         ],
         "hovertemplate": "Destino=%{customdata[0]}<br>Fecha=%{x}<br>Spread=%{y}<br>Fob=%{customdata[1]}<br>Precio de referencia=%{customdata[2]}<br>Kg=%{customdata[3]}<br>Exportador=%{customdata[4]}<br>Precio=%{customdata[5]}<extra></extra>",
         "legendgroup": "Argelia",
         "marker": {
          "color": "#FECB52",
          "line": {
           "color": "DarkSlateGrey",
           "width": 2
          },
          "size": 12,
          "symbol": "circle"
         },
         "mode": "markers",
         "name": "Argelia",
         "orientation": "v",
         "showlegend": true,
         "type": "scatter",
         "x": [
          "08-2021",
          "08-2021",
          "09-2021"
         ],
         "xaxis": "x",
         "y": [
          -67.9,
          -52.9,
          -21.5
         ],
         "yaxis": "y"
        }
       ],
       "layout": {
        "font": {
         "family": "Georgia",
         "size": 13
        },
        "height": 700,
        "legend": {
         "title": {
          "text": "Destino"
         },
         "tracegroupgap": 0
        },
        "margin": {
         "t": 60
        },
        "separators": ",.",
        "template": {
         "data": {
          "scatter": [
           {
            "type": "scatter"
           }
          ]
         }
        },
        "title": {
         "text": "Diferencia con precio de referencia en USD por tonelada exportada de soja <br> <sup> Precio de referencia del Banco Mundial o a partir de datos mensuales"
        },
        "width": 900,
        "xaxis": {
         "anchor": "y",
         "categoryarray": [
          "01-2021",
          "02-2021",
          "03-2021",
          "04-2021",
          "05-2021",
          "06-2021",
          "07-2021",
          "08-2021",
          "09-2021",
          "10-2021",
          "11-2021",
          "12-2021",
          "01-2022",
          "02-2022",
          "03-2022",
          "04-2022",
          "05-2022",
          "06-2022",
          "07-2022",
          "08-2022"
         ],
         "categoryorder": "array",
         "domain": [
          0,
          1
         ],
         "title": {
          "text": ""
         },
         "type": "category"
        },
        "yaxis": {
         "anchor": "x",
         "domain": [
          0,
          1
         ],
         "range": [
          -377.05999999999995,
          478.04999999999995
         ],
         "title": {
          "text": "Diferencia en USD"
         }
        }
       }
      }
     },
     "metadata": {},
     "output_type": "display_data"
    }
   ],
   "source": [
    "plot_precio(y='diferencia_ref',\n",
    "            color='pais_descri',\n",
    "            producto='soja',\n",
    "            # pais='chile'\n",
    "            )\n",
    "# precio_boxplot_capitalizado('biodisel')\n"
   ]
  },
  {
   "cell_type": "markdown",
   "metadata": {},
   "source": [
    "### Tabla 1\n",
    "Los valores son a precios capitalizados"
   ]
  },
  {
   "cell_type": "code",
   "execution_count": 59,
   "metadata": {},
   "outputs": [
    {
     "data": {
      "text/plain": [
       "array(['Chile', 'Estados unidos', 'China', 'Uruguay', 'Brasil', 'Canada',\n",
       "       'Paraguay', 'Egipto', 'Taiwan'], dtype=object)"
      ]
     },
     "execution_count": 59,
     "metadata": {},
     "output_type": "execute_result"
    }
   ],
   "source": [
    "def paises_interesantes(producto):\n",
    "    '''Producto='trigo','soja','maiz'''\n",
    "    if producto=='soja':\n",
    "        df=soja\n",
    "    elif producto=='trigo':\n",
    "        df=trigo\n",
    "    elif producto=='maiz':\n",
    "        df=maiz\n",
    "        \n",
    "    contar_paises=df.groupby('pais_descri').size().sort_values(ascending=False)\n",
    "    paises=pd.DataFrame(contar_paises).reset_index().pais_descri.unique()[:9]\n",
    "    return paises\n",
    "\n",
    "paises_interesantes(producto='soja')"
   ]
  },
  {
   "cell_type": "code",
   "execution_count": 60,
   "metadata": {},
   "outputs": [],
   "source": [
    "def datos_tabla_paises(pais, producto):\n",
    "    '''Producto='trigo','soja','maiz'''\n",
    "    if producto=='soja':\n",
    "        df=soja\n",
    "    elif producto=='trigo':\n",
    "        df=trigo\n",
    "    elif producto=='maiz':\n",
    "        df=maiz\n",
    "    return [len(df[df.pais_descri==pais]),round(df[df.pais_descri==pais].fob_unitario_ton_capit.min(),1), round(df[df.pais_descri==pais].fob_unitario_ton_capit.quantile(0.25),1),round(df[df.pais_descri==pais].fob_unitario_ton_capit.quantile(0.5),1),round(df[df.pais_descri==pais].fob_unitario_ton_capit.quantile(0.75),1),round(df[df.pais_descri==pais].fob_unitario_ton_capit.max(),1)]\n",
    "\n",
    "# A precios capitalizados\n",
    "\n",
    "def tabla_1(producto):\n",
    "    '''Producto='trigo','soja','maiz'''\n",
    "    if producto=='soja':\n",
    "        df=soja\n",
    "    elif producto=='trigo':\n",
    "        df=trigo\n",
    "    elif producto=='maiz':\n",
    "        df=maiz\n",
    "        \n",
    "    tabla_1_expo=pd.DataFrame({\n",
    "        '':['No. of trade records','Lowest price','Lower quartile price','Median price','Upper quartile price','Highest price'],\n",
    "        'Mundo':[len(df),round(df.fob_unitario_ton_capit.min(),1), round(df.fob_unitario_ton_capit.quantile(0.25),1),round(df.fob_unitario_ton_capit.quantile(0.5),1),round(df.fob_unitario_ton_capit.quantile(0.75),1),round(df.fob_unitario_ton_capit.max(),1)],\n",
    "        # paises_interesantes[0]:datos_tabla_paises(paises_interesantes[0]),\n",
    "        **{pais_interesante: datos_tabla_paises(pais_interesante, producto) for pais_interesante in paises_interesantes(producto)}\n",
    "        })\n",
    "    tabla_1_expo=tabla_1_expo.transpose().reset_index()\n",
    "    header=tabla_1_expo.iloc[0]\n",
    "    tabla_1_expo=tabla_1_expo[1:]\n",
    "    tabla_1_expo.columns=header\n",
    "    tabla_1_expo['No. of trade records']=tabla_1_expo['No. of trade records'].astype(int)\n",
    "    tabla_1_expo.rename(columns={'':'Paises'},inplace=True)\n",
    "    return tabla_1_expo\n",
    "\n"
   ]
  },
  {
   "cell_type": "markdown",
   "metadata": {},
   "source": [
    "### Tabla de las posibles falsificaciones"
   ]
  },
  {
   "cell_type": "code",
   "execution_count": 61,
   "metadata": {},
   "outputs": [],
   "source": [
    "def tabla_posibles_falsificaciones(producto):\n",
    "    '''Producto='trigo','soja','maiz'''\n",
    "    if producto=='soja':\n",
    "        df=soja\n",
    "    elif producto=='trigo':\n",
    "        df=trigo\n",
    "    elif producto=='maiz':\n",
    "        df=maiz\n",
    "    \n",
    "    posibles_falsificaciones=df[(df.fob_unitario_ton_capit<df.fob_unitario_ton_capit.quantile(.25)) |\n",
    "                (df.fob_unitario_ton_capit>df.fob_unitario_ton_capit.quantile(.75))]\n",
    "    # posibles_falsificaciones.drop('index',axis=1,inplace=)\n",
    "    return posibles_falsificaciones"
   ]
  },
  {
   "cell_type": "markdown",
   "metadata": {},
   "source": [
    "# Exportar"
   ]
  },
  {
   "cell_type": "code",
   "execution_count": 62,
   "metadata": {},
   "outputs": [],
   "source": [
    "plot_precio(y='diferencia_ref',color='pais_descri',producto='soja').write_html('../output/diferencia con ref soja pais.html')\n",
    "plot_precio(y='fob_unitario_ton',color='pais_descri',producto='soja').write_html('../output/fob unitario por ton soja pais.html')\n",
    "plot_precio(y='diferencia_ref',color='pais_descri',producto='trigo').write_html('../output/diferencia con ref trigo pais.html')\n",
    "plot_precio(y='diferencia_ref',color='pais_descri',producto='maiz').write_html('../output/diferencia con ref maiz pais.html')\n",
    "plot_precio(y='diferencia_ref',color='pais_descri',producto='biodisel').write_html('../output/diferencia con ref biodisel pais.html')\n",
    "plot_precio(y='diferencia_ref',color='pais_descri',producto='aceite soja').write_html('../output/diferencia con ref aceite pais.html')\n",
    "plot_precio(y='diferencia_ref',color='pais_descri',producto='harina soja').write_html('../output/diferencia con ref harina pais.html')\n",
    "\n",
    "\n",
    "plot_precio(y='diferencia_ref',color='empresa',producto='soja',pais='estados unidos').write_html('../output/expo soja eeuu empresa.html')\n",
    "precio_boxplot('soja').write_html('../output/Expo soja boxplot sin capitalizar.html')\n",
    "precio_boxplot_capitalizado('trigo').write_html('../output/Expo trigo boxplot capitalizado.html')\n",
    "precio_boxplot_capitalizado('maiz').write_html('../output/Expo maiz boxplot capitalizado.html')\n",
    "precio_boxplot_capitalizado('soja').write_html('../output/Expo soja boxplot capitalizado.html')\n",
    "precio_boxplot_capitalizado('biodisel').write_html('../output/Expo biodisel boxplot capitalizado.html')\n",
    "precio_boxplot_capitalizado('aceite soja').write_html('../output/Expo aceite boxplot capitalizado.html')\n",
    "precio_boxplot_capitalizado('harina soja').write_html('../output/Expo harina boxplot capitalizado.html')"
   ]
  },
  {
   "cell_type": "code",
   "execution_count": 63,
   "metadata": {},
   "outputs": [],
   "source": [
    "writer = pd.ExcelWriter(f'../output/exportaciones soja trigo maiz.xlsx', engine='xlsxwriter')\n",
    "tabla_1('soja').to_excel(writer, sheet_name='soja', index=False)\n",
    "tabla_1('trigo').to_excel(writer, sheet_name='trigo', index=False)\n",
    "tabla_1('maiz').to_excel(writer, sheet_name='maiz', index=False)\n",
    "writer.save()"
   ]
  },
  {
   "cell_type": "code",
   "execution_count": 64,
   "metadata": {},
   "outputs": [],
   "source": [
    "writer = pd.ExcelWriter(f'../output/exportaciones soja.xlsx', engine='xlsxwriter')\n",
    "tabla_1('soja').to_excel(writer, sheet_name='tabla_1_expo', index=False)\n",
    "soja.to_excel(writer, sheet_name='desagregado', index=False)\n",
    "soja_outliers.to_excel(writer, sheet_name='soja outliers', index=False)\n",
    "trigo_outliers.to_excel(writer, sheet_name='trigo outliers', index=False)\n",
    "maiz_outliers.to_excel(writer, sheet_name='maiz outliers', index=False)\n",
    "biodisel_outliers.to_excel(writer, sheet_name='biodisel outliers', index=False)\n",
    "aceite_outliers.to_excel(writer, sheet_name='aceite outliers', index=False)\n",
    "harina_outliers.to_excel(writer, sheet_name='harina outliers', index=False)\n",
    "tabla_posibles_falsificaciones('soja').to_excel(writer, sheet_name='posibles_falsificaciones')\n",
    "writer.save()"
   ]
  }
 ],
 "metadata": {
  "kernelspec": {
   "display_name": "Python 3.10.4 ('indec')",
   "language": "python",
   "name": "python3"
  },
  "language_info": {
   "codemirror_mode": {
    "name": "ipython",
    "version": 3
   },
   "file_extension": ".py",
   "mimetype": "text/x-python",
   "name": "python",
   "nbconvert_exporter": "python",
   "pygments_lexer": "ipython3",
   "version": "3.10.4"
  },
  "orig_nbformat": 4,
  "vscode": {
   "interpreter": {
    "hash": "8e76e384a9df139c1746ba138f5ce3f6d0babc035eebae6bb58adb8dce6b6867"
   }
  }
 },
 "nbformat": 4,
 "nbformat_minor": 2
}
