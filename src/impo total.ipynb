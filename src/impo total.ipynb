{
 "cells": [
  {
   "cell_type": "code",
   "execution_count": 1,
   "metadata": {},
   "outputs": [],
   "source": [
    "import pandas as pd\n",
    "import plotly.express as px"
   ]
  },
  {
   "cell_type": "code",
   "execution_count": 2,
   "metadata": {},
   "outputs": [],
   "source": [
    "df_producto=pd.read_csv('../data/impo_doc_total.csv',\n",
    "                        dtype={'ncm':'str','CUIT':'str','empresa':'str','enmienda':'str','ncm_descri':'str','sim':'str','pais':'str','pais_descri':'str','dia':'str','mes':'str','anio':'str'})"
   ]
  },
  {
   "cell_type": "code",
   "execution_count": 3,
   "metadata": {},
   "outputs": [],
   "source": [
    "# Correcciones de lectura\n",
    "df_producto.pais_descri=df_producto.pais_descri.apply(lambda x: x.capitalize())\n",
    "df_producto.empresa=df_producto.empresa.apply(lambda x: x.lower())\n",
    "\n",
    "#Fob por tonelada importada\n",
    "df_producto['fob_unitario_ton']=df_producto.fob/df_producto.pnet*1000\n",
    "\n",
    "# #Crear columna que una ncm con su descri\n",
    "# def recortar_descri_ncm(ncm_con_descri, caracteres=75):\n",
    "#     '''Recortar la descripcion de las ncm, como para que en el dropdown aparezcan bien. Sino puede ser muy largo'''\n",
    "#     if len(ncm_con_descri) > caracteres:\n",
    "#         return ncm_con_descri[:caracteres-3]+'...'\n",
    "#     else:\n",
    "#         return ncm_con_descri\n",
    "    \n",
    "# df_producto['ncm_con_descri']=(df_producto.ncm.astype(str)+' - '+df_producto.ncm_descri).apply(recortar_descri_ncm)\n",
    "\n",
    "# Fechas para usarlas en los graficos\n",
    "desde=df_producto.sort_values(['anio','mes','dia'], ascending=True)['anio'][0]\n",
    "hasta=df_producto.sort_values(['anio','mes','dia'], ascending=True)['anio'].iloc[-1]\n",
    "\n",
    "\n",
    "inicio=df_producto.sort_values(['anio','mes'],ascending=True).reset_index(drop=True).mes[0]+'/01/'+df_producto.sort_values(['anio','mes'],ascending=True).reset_index(drop=True).anio[0]\n",
    "mes=int(df_producto.sort_values(['anio','mes'],ascending=True).reset_index(drop=True).mes.iloc[-1])+1\n",
    "fin=str(mes)+'/01/'+df_producto.sort_values(['anio','mes'],ascending=True).reset_index(drop=True).anio.iloc[-1]\n",
    "monthDates = pd.DataFrame({\n",
    "    'fecha': pd.date_range(start=inicio, end=fin, freq='M').strftime('%m-%Y')\n",
    "})"
   ]
  },
  {
   "cell_type": "code",
   "execution_count": 4,
   "metadata": {},
   "outputs": [
    {
     "data": {
      "text/plain": [
       "0               China\n",
       "1            Paraguay\n",
       "2            Paraguay\n",
       "3          Eslovaquia\n",
       "4              Italia\n",
       "              ...    \n",
       "4242761        Brasil\n",
       "4242762        Brasil\n",
       "4242763        Brasil\n",
       "4242764        Brasil\n",
       "4242765        Brasil\n",
       "Name: pais_descri, Length: 4242766, dtype: object"
      ]
     },
     "execution_count": 4,
     "metadata": {},
     "output_type": "execute_result"
    }
   ],
   "source": [
    "#Funcion para precio de referencia (endogeno)\n",
    "\n",
    "def precio_ref(df):\n",
    "    df_mensual=df.groupby(['mes','anio'],as_index=False).sum().sort_values(['anio','mes'])\n",
    "    df_mensual['fob_unitario_ton_ref']=df_mensual.fob/df_mensual.pnet*1000\n",
    "    df=pd.merge(left=df,right=df_mensual[['anio','mes','fob_unitario_ton_ref']], on=['anio','mes'],how='left')\n",
    "    df['fob_unitario_ton_capit']=df.fob_unitario_ton*df.fob_unitario_ton_ref.iloc[-1]/df.fob_unitario_ton_ref\n",
    "    df['diferencia_ref']=df.fob_unitario_ton-df.fob_unitario_ton_ref\n",
    "    df['diferencia_ref_capi']=df.fob_unitario_ton_capit-df.fob_unitario_ton_ref.iloc[-1]\n",
    "    return df\n",
    "\n",
    "# Primer filtro está dado por la ncm\n",
    "\n",
    "def ncm_filtro(df,ncm):\n",
    "    df=df.loc[df.ncm==ncm].reset_index(drop=True)\n",
    "    df['fecha']=df.mes+'-'+df.anio\n",
    "    # df['fecha']=pd.to_datetime(df[\"fecha\"]).dt.strftime('%m-%Y')\n",
    "    df=df.sort_values(['anio','mes','dia'],ascending=True).reset_index(drop=True)\n",
    "    return precio_ref(df)\n",
    "\n",
    "def sim_unique(ncm):\n",
    "    # return df.sim.unique()\n",
    "    return df_producto[df_producto.ncm==ncm].sim.unique()\n",
    "\n",
    "def recortar_descri(pais,largo=15):\n",
    "    if len(pais)<=largo:\n",
    "        return pais\n",
    "    else: return str(pais[:largo]+'...')\n",
    "    \n",
    "df_producto.pais_descri.apply(recortar_descri)"
   ]
  },
  {
   "cell_type": "code",
   "execution_count": 5,
   "metadata": {},
   "outputs": [],
   "source": [
    "#Segundo filtro dado por el codigo sim. En caso de dafualt, no hacer filtro\n",
    "\n",
    "def sim_filtro(df,ncm, sim='default', pais='default'):\n",
    "    if sim=='default' and pais=='default':\n",
    "        return ncm_filtro(df,ncm)\n",
    "    elif sim=='default' and pais!='default':\n",
    "        pais=pais.capitalize()\n",
    "        return ncm_filtro(df,ncm)[ncm_filtro(df,ncm).pais_descri==pais].reset_index(drop=True)\n",
    "    elif sim!='default' and pais=='default':\n",
    "        return ncm_filtro(df,ncm)[ncm_filtro(df,ncm).sim==sim].reset_index(drop=True)\n",
    "    else:\n",
    "        pais=pais.capitalize()\n",
    "        return ncm_filtro(df,ncm)[(ncm_filtro(df,ncm).sim==sim)&(ncm_filtro(df,ncm).pais_descri==pais)].reset_index(drop=True)\n",
    "\n",
    "    \n",
    "def get_top_paises(df, n_paises='default'):\n",
    "    if n_paises=='default': return df\n",
    "    else:\n",
    "        top_df=df.groupby(['pais','pais_descri'],as_index=False).sum().sort_values('fob',ascending=False).pais_descri.unique()[:n_paises]\n",
    "        return df[df.pais_descri.isin(top_df)].reset_index(drop=True)\n"
   ]
  },
  {
   "cell_type": "code",
   "execution_count": 6,
   "metadata": {},
   "outputs": [],
   "source": [
    "def get_descri_nomen(df, palabras:int = 15):\n",
    "    '''Entra lista de dataFrames y numero maximo de palabras'''\n",
    "    for d in df.ncm_descri.unique():\n",
    "        if type(d)!=float:\n",
    "            if len(d.split(' '))>palabras:\n",
    "                a=' '.join(d.split(' ')[:palabras])\n",
    "                return a+'...'\n",
    "            else: \n",
    "                return d"
   ]
  },
  {
   "cell_type": "code",
   "execution_count": 12,
   "metadata": {},
   "outputs": [],
   "source": [
    "def precio_boxplot_capitalizado(df,ncm,sim='default', n_paises='default', pais='default'):\n",
    "     ncm=str(ncm)\n",
    "     df=sim_filtro(df,ncm,sim)\n",
    "     df=get_top_paises(df,n_paises)\n",
    "     producto=df.ncm_descri.unique()[0][:40]\n",
    "     ncm=df.ncm.unique()[0]\n",
    "     if sim=='default' and n_paises=='default':\n",
    "          title_text=f'FOB por tonelada importada {desde}-{hasta} de: <br>\"{get_descri_nomen(df,9)}\"<br>NCM:{ncm}<br> <sup> Capitalizado al último precio disponible. Precio de referencia a partir de datos mensuales'     \n",
    "     elif sim=='default' and n_paises!='default':\n",
    "          title_text=f'FOB por tonelada importada {desde}-{hasta} de: <br>\"{get_descri_nomen(df,12)}\"<br>NCM:{ncm}<br> <sup> Capitalizado al último precio disponible. Precio de referencia a partir de datos mensuales, top {n_paises}'\n",
    "     elif sim!='default' and n_paises=='default':\n",
    "          title_text=f'FOB por tonelada importada {desde}-{hasta} de: <br>\"{get_descri_nomen(df,12)}\"<br>NCM:{ncm}-{sim}<br> <sup> Capitalizado al último precio disponible. Precio de referencia a partir de datos mensuales'\n",
    "     elif sim!='default' and n_paises!='default':\n",
    "          title_text=f'FOB por tonelada importada {desde}-{hasta} de: <br>\"{get_descri_nomen(df,12)}\"<br>NCM:{ncm}-{sim}<br> <sup> Capitalizado al último precio disponible. Precio de referencia a partir de datos mensuales, top {n_paises}'\n",
    "            \n",
    "     precio_soja_boxplot=px.box(\n",
    "     df.round(1),\n",
    "     # x='fecha',\n",
    "     x='fob_unitario_ton_capit',\n",
    "     # color='fecha',\n",
    "     labels={\n",
    "          \"pais_descri\": \"Destino\",\n",
    "          'fob_unitario_ton': 'Precio',\n",
    "          'fob_unitario_ton_capit':'Precio capitalizado',\n",
    "          'fob':'Fob',\n",
    "          'pnet':'Kg',\n",
    "          'fecha':'Fecha',\n",
    "          'fob_unitario_ton_ref': 'Precio de referencia',\n",
    "          'diferencia_ref':'Spread',\n",
    "          'empresa':'Exportador'\n",
    "          },\n",
    "     hover_data={'pais_descri',\n",
    "                 'fecha',\n",
    "                    'fob_unitario_ton',\n",
    "                    'fob_unitario_ton_capit',\n",
    "                    'fob_unitario_ton_ref',\n",
    "                    'diferencia_ref',\n",
    "                    'empresa',\n",
    "                    'fob',\n",
    "                    'pnet'        \n",
    "                                   }\n",
    "     )\n",
    "\n",
    "     precio_soja_boxplot.update_yaxes(title_text= '', \n",
    "                                   # range=[producto['fob_unitario_ton_capit'].min()-100,producto['fob_unitario_ton_capit'].max()+100]\n",
    "                                   )\n",
    "     precio_soja_boxplot.update_xaxes(title_text='Fob unitario')\n",
    "\n",
    "     precio_soja_boxplot.update_layout(separators=',.', font_family='Georgia', font_size=13,\n",
    "                                   height=400, width=750,\n",
    "                                   template = 'none',\n",
    "                                   title=dict(text=title_text,\n",
    "                                              y=0.95),\n",
    "                                   # title_text=title_text,\n",
    "                                   showlegend=False,\n",
    "                                   margin=dict(t=150))\n",
    "     \n",
    "     precio_soja_boxplot.add_vline(x=df.fob_unitario_ton_ref.iloc[-1],line_dash=\"dash\",line_color=\"blue\")\n",
    "\n",
    "     return precio_soja_boxplot\n",
    "\n",
    "def plot_precio(df,ncm,sim='default', n_paises='default', color='pais_descri', pais='default'):\n",
    "     '''color=pais_descri o empresa'''\n",
    "     ncm=str(ncm)\n",
    "     df=sim_filtro(df,ncm,sim,pais)\n",
    "     df=get_top_paises(df,n_paises)\n",
    "     df.pais_descri=df.pais_descri.apply(recortar_descri)\n",
    "     df.empresa=df.empresa.apply(recortar_descri)\n",
    "     producto=df.ncm_descri.unique()[0][:40]\n",
    "     ncm=df.ncm.unique()[0]\n",
    "     if sim=='default' and n_paises=='default':\n",
    "          title_text=f'FOB por tonelada importada {desde}-{hasta} de: <br>\"{get_descri_nomen(df,9)}\"<br>NCM:{ncm}<br> <sup> Precio de referencia a partir de datos mensuales'     \n",
    "     elif sim=='default' and n_paises!='default':\n",
    "          title_text=f'FOB por tonelada importada {desde}-{hasta} de: <br>\"{get_descri_nomen(df,12)}\"<br>NCM:{ncm}<br> <sup> Precio de referencia a partir de datos mensuales, top {n_paises} paises'\n",
    "     elif sim!='default' and n_paises=='default':\n",
    "          title_text=f'FOB por tonelada importada {desde}-{hasta} de: <br>\"{get_descri_nomen(df,12)}\"<br>NCM:{ncm}-{sim}<br> <sup> Precio de referencia a partir de datos mensuales'\n",
    "     elif sim!='default' and n_paises!='default':\n",
    "          title_text=f'FOB por tonelada importada {desde}-{hasta} de: <br>\"{get_descri_nomen(df,12)}\"<br>NCM:{ncm}-{sim}<br> <sup> Precio de referencia a partir de datos mensuales, top {n_paises} paises'\n",
    "                 \n",
    "     precio_soja_plot=px.scatter(\n",
    "     df.round(1),\n",
    "     x='fecha',\n",
    "     y='diferencia_ref',\n",
    "     color=color,\n",
    "     category_orders={\"fecha\": monthDates.fecha,\n",
    "                      'empresa': df.empresa.sort_values(ascending=True),\n",
    "                           },\n",
    "     labels={\n",
    "          \"pais_descri\": \"Origen\",\n",
    "          'fob_unitario_ton': 'Precio',\n",
    "          'fob':'Fob',\n",
    "          'pnet':'Kg',\n",
    "          'fecha':'Fecha',\n",
    "          'fob_unitario_ton_ref': 'Precio de referencia',\n",
    "          'diferencia_ref':'Spread',\n",
    "          'empresa':'Exportador'\n",
    "          },\n",
    "     hover_data={'pais_descri',\n",
    "                    'fob_unitario_ton',\n",
    "                    'fob_unitario_ton_ref',\n",
    "                    'diferencia_ref',\n",
    "                    'empresa',\n",
    "                    'fob',\n",
    "                    'pnet'        \n",
    "                                   }\n",
    "     )\n",
    "\n",
    "     precio_soja_plot.update_yaxes(title_text= 'Diferencia en USD', \n",
    "                                   range=[df['diferencia_ref'].min()-100,df['diferencia_ref'].max()+100]\n",
    "                                   )\n",
    "     precio_soja_plot.update_xaxes(title_text='',type='category')\n",
    "\n",
    "     precio_soja_plot.update_traces(marker=dict(size=12,\n",
    "                                   line=dict(width=2,\n",
    "                                             color='DarkSlateGrey')),\n",
    "                    selector=dict(mode='markers'))\n",
    "\n",
    "     precio_soja_plot.update_layout(separators=',.', font_family='Georgia', font_size=13,\n",
    "                                   height=700, width=900,\n",
    "                                   template = 'none',\n",
    "                                   title=dict(text=title_text,\n",
    "                                              y=0.95),\n",
    "                                   # title_text=title_text,\n",
    "                                   # showlegend=False,\n",
    "                                   margin=dict(t=150))\n",
    "                                   \n",
    "\n",
    "     return precio_soja_plot\n"
   ]
  },
  {
   "cell_type": "code",
   "execution_count": 8,
   "metadata": {},
   "outputs": [
    {
     "data": {
      "text/plain": [
       "array(['volkswagen argentina s a', 'biggi santiago fernando',\n",
       "       'mazzarella hernan ariel', ..., 'harinas bajo hondo s a c i',\n",
       "       'faurecia sistemas de escape argentina s.a.', 'macroplast sa'],\n",
       "      dtype=object)"
      ]
     },
     "execution_count": 8,
     "metadata": {},
     "output_type": "execute_result"
    }
   ],
   "source": [
    "sim_filtro(df_producto,'84798999').empresa.unique()"
   ]
  },
  {
   "cell_type": "code",
   "execution_count": 13,
   "metadata": {},
   "outputs": [
    {
     "data": {
      "application/vnd.plotly.v1+json": {
       "config": {
        "plotlyServerURL": "https://plot.ly"
       },
       "data": [
        {
         "customdata": [
          [
           60,
           933219.7,
           797716.7,
           47863,
           "2gtech electron...",
           "China"
          ]
         ],
         "hovertemplate": "Exportador=%{customdata[4]}<br>Fecha=%{x}<br>Spread=%{y}<br>Kg=%{customdata[0]}<br>Precio de referencia=%{customdata[1]}<br>Precio=%{customdata[2]}<br>Fob=%{customdata[3]}<br>Origen=%{customdata[5]}<extra></extra>",
         "legendgroup": "2gtech electron...",
         "marker": {
          "color": "#636efa",
          "line": {
           "color": "DarkSlateGrey",
           "width": 2
          },
          "size": 12,
          "symbol": "circle"
         },
         "mode": "markers",
         "name": "2gtech electron...",
         "orientation": "v",
         "showlegend": true,
         "type": "scatter",
         "x": [
          "04-2022"
         ],
         "xaxis": "x",
         "y": [
          -135503
         ],
         "yaxis": "y"
        },
        {
         "customdata": [
          [
           1.1,
           834502.8,
           1122169.8,
           1189.5,
           "agimed srl",
           "China"
          ],
          [
           0,
           647791.1,
           11114500,
           444.6,
           "agimed srl",
           "China"
          ]
         ],
         "hovertemplate": "Exportador=%{customdata[4]}<br>Fecha=%{x}<br>Spread=%{y}<br>Kg=%{customdata[0]}<br>Precio de referencia=%{customdata[1]}<br>Precio=%{customdata[2]}<br>Fob=%{customdata[3]}<br>Origen=%{customdata[5]}<extra></extra>",
         "legendgroup": "agimed srl",
         "marker": {
          "color": "#EF553B",
          "line": {
           "color": "DarkSlateGrey",
           "width": 2
          },
          "size": 12,
          "symbol": "circle"
         },
         "mode": "markers",
         "name": "agimed srl",
         "orientation": "v",
         "showlegend": true,
         "type": "scatter",
         "x": [
          "12-2021",
          "01-2022"
         ],
         "xaxis": "x",
         "y": [
          287667,
          10466708.9
         ],
         "yaxis": "y"
        },
        {
         "customdata": [
          [
           141.6,
           819259.5,
           1243376.9,
           176000,
           "aires del sur s...",
           "China"
          ],
          [
           224,
           647791.1,
           1000000,
           224000,
           "aires del sur s...",
           "China"
          ],
          [
           120,
           909418.8,
           1700000,
           204000,
           "aires del sur s...",
           "China"
          ]
         ],
         "hovertemplate": "Exportador=%{customdata[4]}<br>Fecha=%{x}<br>Spread=%{y}<br>Kg=%{customdata[0]}<br>Precio de referencia=%{customdata[1]}<br>Precio=%{customdata[2]}<br>Fob=%{customdata[3]}<br>Origen=%{customdata[5]}<extra></extra>",
         "legendgroup": "aires del sur s...",
         "marker": {
          "color": "#00cc96",
          "line": {
           "color": "DarkSlateGrey",
           "width": 2
          },
          "size": 12,
          "symbol": "circle"
         },
         "mode": "markers",
         "name": "aires del sur s...",
         "orientation": "v",
         "showlegend": true,
         "type": "scatter",
         "x": [
          "11-2021",
          "01-2022",
          "02-2022"
         ],
         "xaxis": "x",
         "y": [
          424117.4,
          352208.9,
          790581.2
         ],
         "yaxis": "y"
        },
        {
         "customdata": [
          [
           84,
           709121.9,
           1202142.9,
           100980,
           "alam-co s.a.",
           "China"
          ],
          [
           38,
           836007.5,
           1255263.2,
           47700,
           "alam-co s.a.",
           "China"
          ],
          [
           105,
           543842.5,
           865142.9,
           90840,
           "alam-co s.a.",
           "China"
          ]
         ],
         "hovertemplate": "Exportador=%{customdata[4]}<br>Fecha=%{x}<br>Spread=%{y}<br>Kg=%{customdata[0]}<br>Precio de referencia=%{customdata[1]}<br>Precio=%{customdata[2]}<br>Fob=%{customdata[3]}<br>Origen=%{customdata[5]}<extra></extra>",
         "legendgroup": "alam-co s.a.",
         "marker": {
          "color": "#ab63fa",
          "line": {
           "color": "DarkSlateGrey",
           "width": 2
          },
          "size": 12,
          "symbol": "circle"
         },
         "mode": "markers",
         "name": "alam-co s.a.",
         "orientation": "v",
         "showlegend": true,
         "type": "scatter",
         "x": [
          "05-2021",
          "08-2021",
          "10-2021"
         ],
         "xaxis": "x",
         "y": [
          493020.9,
          419255.7,
          321300.4
         ],
         "yaxis": "y"
        },
        {
         "customdata": [
          [
           31,
           543842.5,
           873935.5,
           27092,
           "amaro juan manu...",
           "China"
          ]
         ],
         "hovertemplate": "Exportador=%{customdata[4]}<br>Fecha=%{x}<br>Spread=%{y}<br>Kg=%{customdata[0]}<br>Precio de referencia=%{customdata[1]}<br>Precio=%{customdata[2]}<br>Fob=%{customdata[3]}<br>Origen=%{customdata[5]}<extra></extra>",
         "legendgroup": "amaro juan manu...",
         "marker": {
          "color": "#FFA15A",
          "line": {
           "color": "DarkSlateGrey",
           "width": 2
          },
          "size": 12,
          "symbol": "circle"
         },
         "mode": "markers",
         "name": "amaro juan manu...",
         "orientation": "v",
         "showlegend": true,
         "type": "scatter",
         "x": [
          "10-2021"
         ],
         "xaxis": "x",
         "y": [
          330093
         ],
         "yaxis": "y"
        },
        {
         "customdata": [
          [
           79.5,
           823762.5,
           792905.7,
           63036,
           "atlant s.a.s.",
           "China"
          ],
          [
           95,
           836007.5,
           432978.9,
           41133,
           "atlant s.a.s.",
           "China"
          ],
          [
           32.8,
           933219.7,
           1087793.7,
           35647,
           "atlant s.a.s.",
           "China"
          ]
         ],
         "hovertemplate": "Exportador=%{customdata[4]}<br>Fecha=%{x}<br>Spread=%{y}<br>Kg=%{customdata[0]}<br>Precio de referencia=%{customdata[1]}<br>Precio=%{customdata[2]}<br>Fob=%{customdata[3]}<br>Origen=%{customdata[5]}<extra></extra>",
         "legendgroup": "atlant s.a.s.",
         "marker": {
          "color": "#19d3f3",
          "line": {
           "color": "DarkSlateGrey",
           "width": 2
          },
          "size": 12,
          "symbol": "circle"
         },
         "mode": "markers",
         "name": "atlant s.a.s.",
         "orientation": "v",
         "showlegend": true,
         "type": "scatter",
         "x": [
          "07-2021",
          "08-2021",
          "04-2022"
         ],
         "xaxis": "x",
         "y": [
          -30856.8,
          -403028.5,
          154574
         ],
         "yaxis": "y"
        },
        {
         "customdata": [
          [
           45,
           675447.9,
           395000,
           17775,
           "bacigalupo luci...",
           "China"
          ],
          [
           89,
           709121.9,
           479595.5,
           42684,
           "bacigalupo luci...",
           "China"
          ],
          [
           70,
           823762.5,
           753771.4,
           52764,
           "bacigalupo luci...",
           "China"
          ],
          [
           70,
           543842.5,
           878571.4,
           61500,
           "bacigalupo luci...",
           "China"
          ]
         ],
         "hovertemplate": "Exportador=%{customdata[4]}<br>Fecha=%{x}<br>Spread=%{y}<br>Kg=%{customdata[0]}<br>Precio de referencia=%{customdata[1]}<br>Precio=%{customdata[2]}<br>Fob=%{customdata[3]}<br>Origen=%{customdata[5]}<extra></extra>",
         "legendgroup": "bacigalupo luci...",
         "marker": {
          "color": "#FF6692",
          "line": {
           "color": "DarkSlateGrey",
           "width": 2
          },
          "size": 12,
          "symbol": "circle"
         },
         "mode": "markers",
         "name": "bacigalupo luci...",
         "orientation": "v",
         "showlegend": true,
         "type": "scatter",
         "x": [
          "03-2021",
          "05-2021",
          "07-2021",
          "10-2021"
         ],
         "xaxis": "x",
         "y": [
          -280447.9,
          -229526.4,
          -69991.1,
          334729
         ],
         "yaxis": "y"
        },
        {
         "customdata": [
          [
           70,
           675447.9,
           952571.4,
           66680,
           "c t m evergreen...",
           "China"
          ],
          [
           20,
           626437.1,
           2725000,
           54500,
           "c t m evergreen...",
           "China"
          ],
          [
           39,
           709121.9,
           2051282.1,
           80000,
           "c t m evergreen...",
           "China"
          ],
          [
           145,
           1148816.3,
           1749655.2,
           253700,
           "c t m evergreen...",
           "China"
          ],
          [
           96,
           1148816.3,
           1291666.7,
           124000,
           "c t m evergreen...",
           "China"
          ],
          [
           49.7,
           823762.5,
           1255130.8,
           62380,
           "c t m evergreen...",
           "China"
          ],
          [
           124,
           836007.5,
           1060483.9,
           131500,
           "c t m evergreen...",
           "China"
          ],
          [
           58,
           687841.9,
           687931,
           39900,
           "c t m evergreen...",
           "China"
          ],
          [
           41,
           543842.5,
           910975.6,
           37350,
           "c t m evergreen...",
           "China"
          ],
          [
           48,
           834502.8,
           885937.5,
           42525,
           "c t m evergreen...",
           "China"
          ],
          [
           83,
           834502.8,
           862265.1,
           71568,
           "c t m evergreen...",
           "China"
          ]
         ],
         "hovertemplate": "Exportador=%{customdata[4]}<br>Fecha=%{x}<br>Spread=%{y}<br>Kg=%{customdata[0]}<br>Precio de referencia=%{customdata[1]}<br>Precio=%{customdata[2]}<br>Fob=%{customdata[3]}<br>Origen=%{customdata[5]}<extra></extra>",
         "legendgroup": "c t m evergreen...",
         "marker": {
          "color": "#B6E880",
          "line": {
           "color": "DarkSlateGrey",
           "width": 2
          },
          "size": 12,
          "symbol": "circle"
         },
         "mode": "markers",
         "name": "c t m evergreen...",
         "orientation": "v",
         "showlegend": true,
         "type": "scatter",
         "x": [
          "03-2021",
          "04-2021",
          "05-2021",
          "06-2021",
          "06-2021",
          "07-2021",
          "08-2021",
          "09-2021",
          "10-2021",
          "12-2021",
          "12-2021"
         ],
         "xaxis": "x",
         "y": [
          277123.5,
          2098562.9,
          1342160.1,
          600838.9,
          142850.4,
          431368.3,
          224476.4,
          89.1,
          367133.1,
          51434.7,
          27762.3
         ],
         "yaxis": "y"
        },
        {
         "customdata": [
          [
           13,
           543842.5,
           646153.8,
           8400,
           "carre?o manuel",
           "China"
          ]
         ],
         "hovertemplate": "Exportador=%{customdata[4]}<br>Fecha=%{x}<br>Spread=%{y}<br>Kg=%{customdata[0]}<br>Precio de referencia=%{customdata[1]}<br>Precio=%{customdata[2]}<br>Fob=%{customdata[3]}<br>Origen=%{customdata[5]}<extra></extra>",
         "legendgroup": "carre?o manuel",
         "marker": {
          "color": "#FF97FF",
          "line": {
           "color": "DarkSlateGrey",
           "width": 2
          },
          "size": 12,
          "symbol": "circle"
         },
         "mode": "markers",
         "name": "carre?o manuel",
         "orientation": "v",
         "showlegend": true,
         "type": "scatter",
         "x": [
          "10-2021"
         ],
         "xaxis": "x",
         "y": [
          102311.4
         ],
         "yaxis": "y"
        },
        {
         "customdata": [
          [
           36,
           909418.8,
           570833.3,
           20550,
           "carreras tomas ...",
           "China"
          ]
         ],
         "hovertemplate": "Exportador=%{customdata[4]}<br>Fecha=%{x}<br>Spread=%{y}<br>Kg=%{customdata[0]}<br>Precio de referencia=%{customdata[1]}<br>Precio=%{customdata[2]}<br>Fob=%{customdata[3]}<br>Origen=%{customdata[5]}<extra></extra>",
         "legendgroup": "carreras tomas ...",
         "marker": {
          "color": "#FECB52",
          "line": {
           "color": "DarkSlateGrey",
           "width": 2
          },
          "size": 12,
          "symbol": "circle"
         },
         "mode": "markers",
         "name": "carreras tomas ...",
         "orientation": "v",
         "showlegend": true,
         "type": "scatter",
         "x": [
          "02-2022"
         ],
         "xaxis": "x",
         "y": [
          -338585.5
         ],
         "yaxis": "y"
        },
        {
         "customdata": [
          [
           20,
           687841.9,
           1445000,
           28900,
           "chavez david fa...",
           "China"
          ]
         ],
         "hovertemplate": "Exportador=%{customdata[4]}<br>Fecha=%{x}<br>Spread=%{y}<br>Kg=%{customdata[0]}<br>Precio de referencia=%{customdata[1]}<br>Precio=%{customdata[2]}<br>Fob=%{customdata[3]}<br>Origen=%{customdata[5]}<extra></extra>",
         "legendgroup": "chavez david fa...",
         "marker": {
          "color": "#636efa",
          "line": {
           "color": "DarkSlateGrey",
           "width": 2
          },
          "size": 12,
          "symbol": "circle"
         },
         "mode": "markers",
         "name": "chavez david fa...",
         "orientation": "v",
         "showlegend": true,
         "type": "scatter",
         "x": [
          "09-2021"
         ],
         "xaxis": "x",
         "y": [
          757158.1
         ],
         "yaxis": "y"
        },
        {
         "customdata": [
          [
           39.3,
           834502.8,
           130608.9,
           5129,
           "chb argentina s...",
           "China"
          ]
         ],
         "hovertemplate": "Exportador=%{customdata[4]}<br>Fecha=%{x}<br>Spread=%{y}<br>Kg=%{customdata[0]}<br>Precio de referencia=%{customdata[1]}<br>Precio=%{customdata[2]}<br>Fob=%{customdata[3]}<br>Origen=%{customdata[5]}<extra></extra>",
         "legendgroup": "chb argentina s...",
         "marker": {
          "color": "#EF553B",
          "line": {
           "color": "DarkSlateGrey",
           "width": 2
          },
          "size": 12,
          "symbol": "circle"
         },
         "mode": "markers",
         "name": "chb argentina s...",
         "orientation": "v",
         "showlegend": true,
         "type": "scatter",
         "x": [
          "12-2021"
         ],
         "xaxis": "x",
         "y": [
          -703893.9
         ],
         "yaxis": "y"
        },
        {
         "customdata": [
          [
           24.3,
           647791.1,
           71832.1,
           1745.5,
           "clover imaging ...",
           "China"
          ],
          [
           1,
           492952.7,
           90607.8,
           92.4,
           "clover imaging ...",
           "China"
          ],
          [
           6,
           750514,
           92519.9,
           557,
           "clover imaging ...",
           "China"
          ]
         ],
         "hovertemplate": "Exportador=%{customdata[4]}<br>Fecha=%{x}<br>Spread=%{y}<br>Kg=%{customdata[0]}<br>Precio de referencia=%{customdata[1]}<br>Precio=%{customdata[2]}<br>Fob=%{customdata[3]}<br>Origen=%{customdata[5]}<extra></extra>",
         "legendgroup": "clover imaging ...",
         "marker": {
          "color": "#00cc96",
          "line": {
           "color": "DarkSlateGrey",
           "width": 2
          },
          "size": 12,
          "symbol": "circle"
         },
         "mode": "markers",
         "name": "clover imaging ...",
         "orientation": "v",
         "showlegend": true,
         "type": "scatter",
         "x": [
          "01-2022",
          "06-2022",
          "07-2022"
         ],
         "xaxis": "x",
         "y": [
          -575959,
          -402344.9,
          -657994.1
         ],
         "yaxis": "y"
        },
        {
         "customdata": [
          [
           30,
           543842.5,
           860000,
           25800,
           "com & log sa",
           "China"
          ],
          [
           110,
           662290.9,
           613636.4,
           67500,
           "com & log sa",
           "China"
          ]
         ],
         "hovertemplate": "Exportador=%{customdata[4]}<br>Fecha=%{x}<br>Spread=%{y}<br>Kg=%{customdata[0]}<br>Precio de referencia=%{customdata[1]}<br>Precio=%{customdata[2]}<br>Fob=%{customdata[3]}<br>Origen=%{customdata[5]}<extra></extra>",
         "legendgroup": "com & log sa",
         "marker": {
          "color": "#ab63fa",
          "line": {
           "color": "DarkSlateGrey",
           "width": 2
          },
          "size": 12,
          "symbol": "circle"
         },
         "mode": "markers",
         "name": "com & log sa",
         "orientation": "v",
         "showlegend": true,
         "type": "scatter",
         "x": [
          "10-2021",
          "03-2022"
         ],
         "xaxis": "x",
         "y": [
          316157.5,
          -48654.6
         ],
         "yaxis": "y"
        },
        {
         "customdata": [
          [
           18.7,
           834502.8,
           668342.2,
           12498,
           "comex consultor...",
           "China"
          ]
         ],
         "hovertemplate": "Exportador=%{customdata[4]}<br>Fecha=%{x}<br>Spread=%{y}<br>Kg=%{customdata[0]}<br>Precio de referencia=%{customdata[1]}<br>Precio=%{customdata[2]}<br>Fob=%{customdata[3]}<br>Origen=%{customdata[5]}<extra></extra>",
         "legendgroup": "comex consultor...",
         "marker": {
          "color": "#FFA15A",
          "line": {
           "color": "DarkSlateGrey",
           "width": 2
          },
          "size": 12,
          "symbol": "circle"
         },
         "mode": "markers",
         "name": "comex consultor...",
         "orientation": "v",
         "showlegend": true,
         "type": "scatter",
         "x": [
          "12-2021"
         ],
         "xaxis": "x",
         "y": [
          -166160.5
         ],
         "yaxis": "y"
        },
        {
         "customdata": [
          [
           12.1,
           675447.9,
           614049.6,
           7430,
           "coral investmen...",
           "China"
          ]
         ],
         "hovertemplate": "Exportador=%{customdata[4]}<br>Fecha=%{x}<br>Spread=%{y}<br>Kg=%{customdata[0]}<br>Precio de referencia=%{customdata[1]}<br>Precio=%{customdata[2]}<br>Fob=%{customdata[3]}<br>Origen=%{customdata[5]}<extra></extra>",
         "legendgroup": "coral investmen...",
         "marker": {
          "color": "#19d3f3",
          "line": {
           "color": "DarkSlateGrey",
           "width": 2
          },
          "size": 12,
          "symbol": "circle"
         },
         "mode": "markers",
         "name": "coral investmen...",
         "orientation": "v",
         "showlegend": true,
         "type": "scatter",
         "x": [
          "03-2021"
         ],
         "xaxis": "x",
         "y": [
          -61398.4
         ],
         "yaxis": "y"
        },
        {
         "customdata": [
          [
           4.2,
           836007.5,
           548463.4,
           2320,
           "cosenza constru...",
           "China"
          ]
         ],
         "hovertemplate": "Exportador=%{customdata[4]}<br>Fecha=%{x}<br>Spread=%{y}<br>Kg=%{customdata[0]}<br>Precio de referencia=%{customdata[1]}<br>Precio=%{customdata[2]}<br>Fob=%{customdata[3]}<br>Origen=%{customdata[5]}<extra></extra>",
         "legendgroup": "cosenza constru...",
         "marker": {
          "color": "#FF6692",
          "line": {
           "color": "DarkSlateGrey",
           "width": 2
          },
          "size": 12,
          "symbol": "circle"
         },
         "mode": "markers",
         "name": "cosenza constru...",
         "orientation": "v",
         "showlegend": true,
         "type": "scatter",
         "x": [
          "08-2021"
         ],
         "xaxis": "x",
         "y": [
          -287544.1
         ],
         "yaxis": "y"
        },
        {
         "customdata": [
          [
           4,
           687841.9,
           2595000,
           10380,
           "d angelo matias",
           "China"
          ]
         ],
         "hovertemplate": "Exportador=%{customdata[4]}<br>Fecha=%{x}<br>Spread=%{y}<br>Kg=%{customdata[0]}<br>Precio de referencia=%{customdata[1]}<br>Precio=%{customdata[2]}<br>Fob=%{customdata[3]}<br>Origen=%{customdata[5]}<extra></extra>",
         "legendgroup": "d angelo matias",
         "marker": {
          "color": "#B6E880",
          "line": {
           "color": "DarkSlateGrey",
           "width": 2
          },
          "size": 12,
          "symbol": "circle"
         },
         "mode": "markers",
         "name": "d angelo matias",
         "orientation": "v",
         "showlegend": true,
         "type": "scatter",
         "x": [
          "09-2021"
         ],
         "xaxis": "x",
         "y": [
          1907158.1
         ],
         "yaxis": "y"
        },
        {
         "customdata": [
          [
           15.8,
           647791.1,
           769835.4,
           12163.4,
           "delbre s r l",
           "China"
          ]
         ],
         "hovertemplate": "Exportador=%{customdata[4]}<br>Fecha=%{x}<br>Spread=%{y}<br>Kg=%{customdata[0]}<br>Precio de referencia=%{customdata[1]}<br>Precio=%{customdata[2]}<br>Fob=%{customdata[3]}<br>Origen=%{customdata[5]}<extra></extra>",
         "legendgroup": "delbre s r l",
         "marker": {
          "color": "#FF97FF",
          "line": {
           "color": "DarkSlateGrey",
           "width": 2
          },
          "size": 12,
          "symbol": "circle"
         },
         "mode": "markers",
         "name": "delbre s r l",
         "orientation": "v",
         "showlegend": true,
         "type": "scatter",
         "x": [
          "01-2022"
         ],
         "xaxis": "x",
         "y": [
          122044.3
         ],
         "yaxis": "y"
        },
        {
         "customdata": [
          [
           8.1,
           543842.5,
           208614.8,
           1689.8,
           "dell america la...",
           "China"
          ],
          [
           3.2,
           834502.8,
           347691.4,
           1126.5,
           "dell america la...",
           "China"
          ],
          [
           21.6,
           933219.7,
           181053.7,
           3910.8,
           "dell america la...",
           "China"
          ]
         ],
         "hovertemplate": "Exportador=%{customdata[4]}<br>Fecha=%{x}<br>Spread=%{y}<br>Kg=%{customdata[0]}<br>Precio de referencia=%{customdata[1]}<br>Precio=%{customdata[2]}<br>Fob=%{customdata[3]}<br>Origen=%{customdata[5]}<extra></extra>",
         "legendgroup": "dell america la...",
         "marker": {
          "color": "#FECB52",
          "line": {
           "color": "DarkSlateGrey",
           "width": 2
          },
          "size": 12,
          "symbol": "circle"
         },
         "mode": "markers",
         "name": "dell america la...",
         "orientation": "v",
         "showlegend": true,
         "type": "scatter",
         "x": [
          "10-2021",
          "12-2021",
          "04-2022"
         ],
         "xaxis": "x",
         "y": [
          -335227.7,
          -486811.4,
          -752166
         ],
         "yaxis": "y"
        },
        {
         "customdata": [
          [
           21.7,
           712964.7,
           293754,
           6377.4,
           "delsat group s....",
           "China"
          ]
         ],
         "hovertemplate": "Exportador=%{customdata[4]}<br>Fecha=%{x}<br>Spread=%{y}<br>Kg=%{customdata[0]}<br>Precio de referencia=%{customdata[1]}<br>Precio=%{customdata[2]}<br>Fob=%{customdata[3]}<br>Origen=%{customdata[5]}<extra></extra>",
         "legendgroup": "delsat group s....",
         "marker": {
          "color": "#636efa",
          "line": {
           "color": "DarkSlateGrey",
           "width": 2
          },
          "size": 12,
          "symbol": "circle"
         },
         "mode": "markers",
         "name": "delsat group s....",
         "orientation": "v",
         "showlegend": true,
         "type": "scatter",
         "x": [
          "01-2021"
         ],
         "xaxis": "x",
         "y": [
          -419210.7
         ],
         "yaxis": "y"
        },
        {
         "customdata": [
          [
           30,
           687841.9,
           2950000,
           88500,
           "di gregorio cri...",
           "China"
          ]
         ],
         "hovertemplate": "Exportador=%{customdata[4]}<br>Fecha=%{x}<br>Spread=%{y}<br>Kg=%{customdata[0]}<br>Precio de referencia=%{customdata[1]}<br>Precio=%{customdata[2]}<br>Fob=%{customdata[3]}<br>Origen=%{customdata[5]}<extra></extra>",
         "legendgroup": "di gregorio cri...",
         "marker": {
          "color": "#EF553B",
          "line": {
           "color": "DarkSlateGrey",
           "width": 2
          },
          "size": 12,
          "symbol": "circle"
         },
         "mode": "markers",
         "name": "di gregorio cri...",
         "orientation": "v",
         "showlegend": true,
         "type": "scatter",
         "x": [
          "09-2021"
         ],
         "xaxis": "x",
         "y": [
          2262158.1
         ],
         "yaxis": "y"
        },
        {
         "customdata": [
          [
           2.9,
           712964.7,
           1483802.1,
           4273.4,
           "diaverum  argen...",
           "China"
          ]
         ],
         "hovertemplate": "Exportador=%{customdata[4]}<br>Fecha=%{x}<br>Spread=%{y}<br>Kg=%{customdata[0]}<br>Precio de referencia=%{customdata[1]}<br>Precio=%{customdata[2]}<br>Fob=%{customdata[3]}<br>Origen=%{customdata[5]}<extra></extra>",
         "legendgroup": "diaverum  argen...",
         "marker": {
          "color": "#00cc96",
          "line": {
           "color": "DarkSlateGrey",
           "width": 2
          },
          "size": 12,
          "symbol": "circle"
         },
         "mode": "markers",
         "name": "diaverum  argen...",
         "orientation": "v",
         "showlegend": true,
         "type": "scatter",
         "x": [
          "01-2021"
         ],
         "xaxis": "x",
         "y": [
          770837.4
         ],
         "yaxis": "y"
        },
        {
         "customdata": [
          [
           15.7,
           1148816.3,
           924840.8,
           14520,
           "distri-clau s.r...",
           "China"
          ]
         ],
         "hovertemplate": "Exportador=%{customdata[4]}<br>Fecha=%{x}<br>Spread=%{y}<br>Kg=%{customdata[0]}<br>Precio de referencia=%{customdata[1]}<br>Precio=%{customdata[2]}<br>Fob=%{customdata[3]}<br>Origen=%{customdata[5]}<extra></extra>",
         "legendgroup": "distri-clau s.r...",
         "marker": {
          "color": "#ab63fa",
          "line": {
           "color": "DarkSlateGrey",
           "width": 2
          },
          "size": 12,
          "symbol": "circle"
         },
         "mode": "markers",
         "name": "distri-clau s.r...",
         "orientation": "v",
         "showlegend": true,
         "type": "scatter",
         "x": [
          "06-2021"
         ],
         "xaxis": "x",
         "y": [
          -223975.5
         ],
         "yaxis": "y"
        },
        {
         "customdata": [
          [
           7.6,
           1148816.3,
           718684.2,
           5462,
           "eace estudio ad...",
           "China"
          ],
          [
           121.1,
           836007.5,
           367679.4,
           44537,
           "eace estudio ad...",
           "China"
          ],
          [
           124.4,
           836007.5,
           452993.2,
           56375,
           "eace estudio ad...",
           "China"
          ]
         ],
         "hovertemplate": "Exportador=%{customdata[4]}<br>Fecha=%{x}<br>Spread=%{y}<br>Kg=%{customdata[0]}<br>Precio de referencia=%{customdata[1]}<br>Precio=%{customdata[2]}<br>Fob=%{customdata[3]}<br>Origen=%{customdata[5]}<extra></extra>",
         "legendgroup": "eace estudio ad...",
         "marker": {
          "color": "#FFA15A",
          "line": {
           "color": "DarkSlateGrey",
           "width": 2
          },
          "size": 12,
          "symbol": "circle"
         },
         "mode": "markers",
         "name": "eace estudio ad...",
         "orientation": "v",
         "showlegend": true,
         "type": "scatter",
         "x": [
          "06-2021",
          "08-2021",
          "08-2021"
         ],
         "xaxis": "x",
         "y": [
          -430132.1,
          -468328.1,
          -383014.3
         ],
         "yaxis": "y"
        },
        {
         "customdata": [
          [
           31,
           709121.9,
           1090271,
           33798.4,
           "eis export impo...",
           "China"
          ]
         ],
         "hovertemplate": "Exportador=%{customdata[4]}<br>Fecha=%{x}<br>Spread=%{y}<br>Kg=%{customdata[0]}<br>Precio de referencia=%{customdata[1]}<br>Precio=%{customdata[2]}<br>Fob=%{customdata[3]}<br>Origen=%{customdata[5]}<extra></extra>",
         "legendgroup": "eis export impo...",
         "marker": {
          "color": "#19d3f3",
          "line": {
           "color": "DarkSlateGrey",
           "width": 2
          },
          "size": 12,
          "symbol": "circle"
         },
         "mode": "markers",
         "name": "eis export impo...",
         "orientation": "v",
         "showlegend": true,
         "type": "scatter",
         "x": [
          "05-2021"
         ],
         "xaxis": "x",
         "y": [
          381149
         ],
         "yaxis": "y"
        },
        {
         "customdata": [
          [
           0.8,
           709121.9,
           340443,
           269,
           "eltech  srl",
           "China"
          ]
         ],
         "hovertemplate": "Exportador=%{customdata[4]}<br>Fecha=%{x}<br>Spread=%{y}<br>Kg=%{customdata[0]}<br>Precio de referencia=%{customdata[1]}<br>Precio=%{customdata[2]}<br>Fob=%{customdata[3]}<br>Origen=%{customdata[5]}<extra></extra>",
         "legendgroup": "eltech  srl",
         "marker": {
          "color": "#FF6692",
          "line": {
           "color": "DarkSlateGrey",
           "width": 2
          },
          "size": 12,
          "symbol": "circle"
         },
         "mode": "markers",
         "name": "eltech  srl",
         "orientation": "v",
         "showlegend": true,
         "type": "scatter",
         "x": [
          "05-2021"
         ],
         "xaxis": "x",
         "y": [
          -368678.9
         ],
         "yaxis": "y"
        },
        {
         "customdata": [
          [
           290,
           1148816.3,
           741862.1,
           215140,
           "expar sa",
           "China"
          ]
         ],
         "hovertemplate": "Exportador=%{customdata[4]}<br>Fecha=%{x}<br>Spread=%{y}<br>Kg=%{customdata[0]}<br>Precio de referencia=%{customdata[1]}<br>Precio=%{customdata[2]}<br>Fob=%{customdata[3]}<br>Origen=%{customdata[5]}<extra></extra>",
         "legendgroup": "expar sa",
         "marker": {
          "color": "#B6E880",
          "line": {
           "color": "DarkSlateGrey",
           "width": 2
          },
          "size": 12,
          "symbol": "circle"
         },
         "mode": "markers",
         "name": "expar sa",
         "orientation": "v",
         "showlegend": true,
         "type": "scatter",
         "x": [
          "06-2021"
         ],
         "xaxis": "x",
         "y": [
          -406954.2
         ],
         "yaxis": "y"
        },
        {
         "customdata": [
          [
           59,
           933219.7,
           497118.6,
           29330,
           "fenex s.a.s.",
           "China"
          ]
         ],
         "hovertemplate": "Exportador=%{customdata[4]}<br>Fecha=%{x}<br>Spread=%{y}<br>Kg=%{customdata[0]}<br>Precio de referencia=%{customdata[1]}<br>Precio=%{customdata[2]}<br>Fob=%{customdata[3]}<br>Origen=%{customdata[5]}<extra></extra>",
         "legendgroup": "fenex s.a.s.",
         "marker": {
          "color": "#FF97FF",
          "line": {
           "color": "DarkSlateGrey",
           "width": 2
          },
          "size": 12,
          "symbol": "circle"
         },
         "mode": "markers",
         "name": "fenex s.a.s.",
         "orientation": "v",
         "showlegend": true,
         "type": "scatter",
         "x": [
          "04-2022"
         ],
         "xaxis": "x",
         "y": [
          -436101
         ],
         "yaxis": "y"
        },
        {
         "customdata": [
          [
           6,
           933219.7,
           487500,
           2925,
           "ferpamar sa",
           "China"
          ],
          [
           20,
           1235237,
           146250,
           2925,
           "ferpamar sa",
           "China"
          ]
         ],
         "hovertemplate": "Exportador=%{customdata[4]}<br>Fecha=%{x}<br>Spread=%{y}<br>Kg=%{customdata[0]}<br>Precio de referencia=%{customdata[1]}<br>Precio=%{customdata[2]}<br>Fob=%{customdata[3]}<br>Origen=%{customdata[5]}<extra></extra>",
         "legendgroup": "ferpamar sa",
         "marker": {
          "color": "#FECB52",
          "line": {
           "color": "DarkSlateGrey",
           "width": 2
          },
          "size": 12,
          "symbol": "circle"
         },
         "mode": "markers",
         "name": "ferpamar sa",
         "orientation": "v",
         "showlegend": true,
         "type": "scatter",
         "x": [
          "04-2022",
          "05-2022"
         ],
         "xaxis": "x",
         "y": [
          -445719.7,
          -1088987
         ],
         "yaxis": "y"
        },
        {
         "customdata": [
          [
           67,
           543842.5,
           827783.8,
           55469.8,
           "frappa mauricio...",
           "China"
          ]
         ],
         "hovertemplate": "Exportador=%{customdata[4]}<br>Fecha=%{x}<br>Spread=%{y}<br>Kg=%{customdata[0]}<br>Precio de referencia=%{customdata[1]}<br>Precio=%{customdata[2]}<br>Fob=%{customdata[3]}<br>Origen=%{customdata[5]}<extra></extra>",
         "legendgroup": "frappa mauricio...",
         "marker": {
          "color": "#636efa",
          "line": {
           "color": "DarkSlateGrey",
           "width": 2
          },
          "size": 12,
          "symbol": "circle"
         },
         "mode": "markers",
         "name": "frappa mauricio...",
         "orientation": "v",
         "showlegend": true,
         "type": "scatter",
         "x": [
          "10-2021"
         ],
         "xaxis": "x",
         "y": [
          283941.3
         ],
         "yaxis": "y"
        },
        {
         "customdata": [
          [
           0.9,
           1305132.5,
           15350000,
           13815,
           "funcion de x in...",
           "China"
          ]
         ],
         "hovertemplate": "Exportador=%{customdata[4]}<br>Fecha=%{x}<br>Spread=%{y}<br>Kg=%{customdata[0]}<br>Precio de referencia=%{customdata[1]}<br>Precio=%{customdata[2]}<br>Fob=%{customdata[3]}<br>Origen=%{customdata[5]}<extra></extra>",
         "legendgroup": "funcion de x in...",
         "marker": {
          "color": "#EF553B",
          "line": {
           "color": "DarkSlateGrey",
           "width": 2
          },
          "size": 12,
          "symbol": "circle"
         },
         "mode": "markers",
         "name": "funcion de x in...",
         "orientation": "v",
         "showlegend": true,
         "type": "scatter",
         "x": [
          "08-2022"
         ],
         "xaxis": "x",
         "y": [
          14044867.5
         ],
         "yaxis": "y"
        },
        {
         "customdata": [
          [
           16,
           834502.8,
           590625,
           9450,
           "g y g sociedad ...",
           "China"
          ]
         ],
         "hovertemplate": "Exportador=%{customdata[4]}<br>Fecha=%{x}<br>Spread=%{y}<br>Kg=%{customdata[0]}<br>Precio de referencia=%{customdata[1]}<br>Precio=%{customdata[2]}<br>Fob=%{customdata[3]}<br>Origen=%{customdata[5]}<extra></extra>",
         "legendgroup": "g y g sociedad ...",
         "marker": {
          "color": "#00cc96",
          "line": {
           "color": "DarkSlateGrey",
           "width": 2
          },
          "size": 12,
          "symbol": "circle"
         },
         "mode": "markers",
         "name": "g y g sociedad ...",
         "orientation": "v",
         "showlegend": true,
         "type": "scatter",
         "x": [
          "12-2021"
         ],
         "xaxis": "x",
         "y": [
          -243877.8
         ],
         "yaxis": "y"
        },
        {
         "customdata": [
          [
           10,
           1235237,
           3774000,
           37740,
           "galber s.a.",
           "China"
          ]
         ],
         "hovertemplate": "Exportador=%{customdata[4]}<br>Fecha=%{x}<br>Spread=%{y}<br>Kg=%{customdata[0]}<br>Precio de referencia=%{customdata[1]}<br>Precio=%{customdata[2]}<br>Fob=%{customdata[3]}<br>Origen=%{customdata[5]}<extra></extra>",
         "legendgroup": "galber s.a.",
         "marker": {
          "color": "#ab63fa",
          "line": {
           "color": "DarkSlateGrey",
           "width": 2
          },
          "size": 12,
          "symbol": "circle"
         },
         "mode": "markers",
         "name": "galber s.a.",
         "orientation": "v",
         "showlegend": true,
         "type": "scatter",
         "x": [
          "05-2022"
         ],
         "xaxis": "x",
         "y": [
          2538763
         ],
         "yaxis": "y"
        },
        {
         "customdata": [
          [
           20,
           834502.8,
           730378,
           14607.6,
           "galoppo fernand...",
           "China"
          ]
         ],
         "hovertemplate": "Exportador=%{customdata[4]}<br>Fecha=%{x}<br>Spread=%{y}<br>Kg=%{customdata[0]}<br>Precio de referencia=%{customdata[1]}<br>Precio=%{customdata[2]}<br>Fob=%{customdata[3]}<br>Origen=%{customdata[5]}<extra></extra>",
         "legendgroup": "galoppo fernand...",
         "marker": {
          "color": "#FFA15A",
          "line": {
           "color": "DarkSlateGrey",
           "width": 2
          },
          "size": 12,
          "symbol": "circle"
         },
         "mode": "markers",
         "name": "galoppo fernand...",
         "orientation": "v",
         "showlegend": true,
         "type": "scatter",
         "x": [
          "12-2021"
         ],
         "xaxis": "x",
         "y": [
          -104124.8
         ],
         "yaxis": "y"
        },
        {
         "customdata": [
          [
           3.1,
           712964.7,
           73051.9,
           225,
           "garcia gonzalo ...",
           "China"
          ]
         ],
         "hovertemplate": "Exportador=%{customdata[4]}<br>Fecha=%{x}<br>Spread=%{y}<br>Kg=%{customdata[0]}<br>Precio de referencia=%{customdata[1]}<br>Precio=%{customdata[2]}<br>Fob=%{customdata[3]}<br>Origen=%{customdata[5]}<extra></extra>",
         "legendgroup": "garcia gonzalo ...",
         "marker": {
          "color": "#19d3f3",
          "line": {
           "color": "DarkSlateGrey",
           "width": 2
          },
          "size": 12,
          "symbol": "circle"
         },
         "mode": "markers",
         "name": "garcia gonzalo ...",
         "orientation": "v",
         "showlegend": true,
         "type": "scatter",
         "x": [
          "01-2021"
         ],
         "xaxis": "x",
         "y": [
          -639912.8
         ],
         "yaxis": "y"
        },
        {
         "customdata": [
          [
           95,
           709121.9,
           585000,
           55575,
           "gonzalez lucas ...",
           "China"
          ]
         ],
         "hovertemplate": "Exportador=%{customdata[4]}<br>Fecha=%{x}<br>Spread=%{y}<br>Kg=%{customdata[0]}<br>Precio de referencia=%{customdata[1]}<br>Precio=%{customdata[2]}<br>Fob=%{customdata[3]}<br>Origen=%{customdata[5]}<extra></extra>",
         "legendgroup": "gonzalez lucas ...",
         "marker": {
          "color": "#FF6692",
          "line": {
           "color": "DarkSlateGrey",
           "width": 2
          },
          "size": 12,
          "symbol": "circle"
         },
         "mode": "markers",
         "name": "gonzalez lucas ...",
         "orientation": "v",
         "showlegend": true,
         "type": "scatter",
         "x": [
          "05-2021"
         ],
         "xaxis": "x",
         "y": [
          -124121.9
         ],
         "yaxis": "y"
        },
        {
         "customdata": [
          [
           60,
           819259.5,
           1066666.7,
           64000,
           "gra-ca s.a.",
           "China"
          ]
         ],
         "hovertemplate": "Exportador=%{customdata[4]}<br>Fecha=%{x}<br>Spread=%{y}<br>Kg=%{customdata[0]}<br>Precio de referencia=%{customdata[1]}<br>Precio=%{customdata[2]}<br>Fob=%{customdata[3]}<br>Origen=%{customdata[5]}<extra></extra>",
         "legendgroup": "gra-ca s.a.",
         "marker": {
          "color": "#B6E880",
          "line": {
           "color": "DarkSlateGrey",
           "width": 2
          },
          "size": 12,
          "symbol": "circle"
         },
         "mode": "markers",
         "name": "gra-ca s.a.",
         "orientation": "v",
         "showlegend": true,
         "type": "scatter",
         "x": [
          "11-2021"
         ],
         "xaxis": "x",
         "y": [
          247407.2
         ],
         "yaxis": "y"
        },
        {
         "customdata": [
          [
           3,
           834502.8,
           891059.6,
           2691,
           "grupo cuattro  ...",
           "China"
          ]
         ],
         "hovertemplate": "Exportador=%{customdata[4]}<br>Fecha=%{x}<br>Spread=%{y}<br>Kg=%{customdata[0]}<br>Precio de referencia=%{customdata[1]}<br>Precio=%{customdata[2]}<br>Fob=%{customdata[3]}<br>Origen=%{customdata[5]}<extra></extra>",
         "legendgroup": "grupo cuattro  ...",
         "marker": {
          "color": "#FF97FF",
          "line": {
           "color": "DarkSlateGrey",
           "width": 2
          },
          "size": 12,
          "symbol": "circle"
         },
         "mode": "markers",
         "name": "grupo cuattro  ...",
         "orientation": "v",
         "showlegend": true,
         "type": "scatter",
         "x": [
          "12-2021"
         ],
         "xaxis": "x",
         "y": [
          56556.8
         ],
         "yaxis": "y"
        },
        {
         "customdata": [
          [
           20,
           662290.9,
           1036750,
           20735,
           "grupo sentire",
           "China"
          ]
         ],
         "hovertemplate": "Exportador=%{customdata[4]}<br>Fecha=%{x}<br>Spread=%{y}<br>Kg=%{customdata[0]}<br>Precio de referencia=%{customdata[1]}<br>Precio=%{customdata[2]}<br>Fob=%{customdata[3]}<br>Origen=%{customdata[5]}<extra></extra>",
         "legendgroup": "grupo sentire",
         "marker": {
          "color": "#FECB52",
          "line": {
           "color": "DarkSlateGrey",
           "width": 2
          },
          "size": 12,
          "symbol": "circle"
         },
         "mode": "markers",
         "name": "grupo sentire",
         "orientation": "v",
         "showlegend": true,
         "type": "scatter",
         "x": [
          "03-2022"
         ],
         "xaxis": "x",
         "y": [
          374459.1
         ],
         "yaxis": "y"
        },
        {
         "customdata": [
          [
           74,
           675447.9,
           63378.4,
           4690,
           "h.d.c. internat...",
           "China"
          ],
          [
           7.5,
           543842.5,
           185000,
           1387.5,
           "h.d.c. internat...",
           "China"
          ]
         ],
         "hovertemplate": "Exportador=%{customdata[4]}<br>Fecha=%{x}<br>Spread=%{y}<br>Kg=%{customdata[0]}<br>Precio de referencia=%{customdata[1]}<br>Precio=%{customdata[2]}<br>Fob=%{customdata[3]}<br>Origen=%{customdata[5]}<extra></extra>",
         "legendgroup": "h.d.c. internat...",
         "marker": {
          "color": "#636efa",
          "line": {
           "color": "DarkSlateGrey",
           "width": 2
          },
          "size": 12,
          "symbol": "circle"
         },
         "mode": "markers",
         "name": "h.d.c. internat...",
         "orientation": "v",
         "showlegend": true,
         "type": "scatter",
         "x": [
          "03-2021",
          "10-2021"
         ],
         "xaxis": "x",
         "y": [
          -612069.6,
          -358842.5
         ],
         "yaxis": "y"
        },
        {
         "customdata": [
          [
           0.5,
           909418.8,
           360000,
           180,
           "herramar s r l",
           "China"
          ]
         ],
         "hovertemplate": "Exportador=%{customdata[4]}<br>Fecha=%{x}<br>Spread=%{y}<br>Kg=%{customdata[0]}<br>Precio de referencia=%{customdata[1]}<br>Precio=%{customdata[2]}<br>Fob=%{customdata[3]}<br>Origen=%{customdata[5]}<extra></extra>",
         "legendgroup": "herramar s r l",
         "marker": {
          "color": "#EF553B",
          "line": {
           "color": "DarkSlateGrey",
           "width": 2
          },
          "size": 12,
          "symbol": "circle"
         },
         "mode": "markers",
         "name": "herramar s r l",
         "orientation": "v",
         "showlegend": true,
         "type": "scatter",
         "x": [
          "02-2022"
         ],
         "xaxis": "x",
         "y": [
          -549418.8
         ],
         "yaxis": "y"
        },
        {
         "customdata": [
          [
           98,
           819259.5,
           1306122.4,
           128000,
           "high tech solut...",
           "China"
          ],
          [
           38,
           834502.8,
           2361578.9,
           89740,
           "high tech solut...",
           "China"
          ]
         ],
         "hovertemplate": "Exportador=%{customdata[4]}<br>Fecha=%{x}<br>Spread=%{y}<br>Kg=%{customdata[0]}<br>Precio de referencia=%{customdata[1]}<br>Precio=%{customdata[2]}<br>Fob=%{customdata[3]}<br>Origen=%{customdata[5]}<extra></extra>",
         "legendgroup": "high tech solut...",
         "marker": {
          "color": "#00cc96",
          "line": {
           "color": "DarkSlateGrey",
           "width": 2
          },
          "size": 12,
          "symbol": "circle"
         },
         "mode": "markers",
         "name": "high tech solut...",
         "orientation": "v",
         "showlegend": true,
         "type": "scatter",
         "x": [
          "11-2021",
          "12-2021"
         ],
         "xaxis": "x",
         "y": [
          486863,
          1527076.2
         ],
         "yaxis": "y"
        },
        {
         "customdata": [
          [
           11.1,
           909418.8,
           63585.2,
           705.2,
           "inbox technolog...",
           "China"
          ]
         ],
         "hovertemplate": "Exportador=%{customdata[4]}<br>Fecha=%{x}<br>Spread=%{y}<br>Kg=%{customdata[0]}<br>Precio de referencia=%{customdata[1]}<br>Precio=%{customdata[2]}<br>Fob=%{customdata[3]}<br>Origen=%{customdata[5]}<extra></extra>",
         "legendgroup": "inbox technolog...",
         "marker": {
          "color": "#ab63fa",
          "line": {
           "color": "DarkSlateGrey",
           "width": 2
          },
          "size": 12,
          "symbol": "circle"
         },
         "mode": "markers",
         "name": "inbox technolog...",
         "orientation": "v",
         "showlegend": true,
         "type": "scatter",
         "x": [
          "02-2022"
         ],
         "xaxis": "x",
         "y": [
          -845833.6
         ],
         "yaxis": "y"
        },
        {
         "customdata": [
          [
           8,
           675447.9,
           889875,
           7119,
           "interactive inv...",
           "China"
          ]
         ],
         "hovertemplate": "Exportador=%{customdata[4]}<br>Fecha=%{x}<br>Spread=%{y}<br>Kg=%{customdata[0]}<br>Precio de referencia=%{customdata[1]}<br>Precio=%{customdata[2]}<br>Fob=%{customdata[3]}<br>Origen=%{customdata[5]}<extra></extra>",
         "legendgroup": "interactive inv...",
         "marker": {
          "color": "#FFA15A",
          "line": {
           "color": "DarkSlateGrey",
           "width": 2
          },
          "size": 12,
          "symbol": "circle"
         },
         "mode": "markers",
         "name": "interactive inv...",
         "orientation": "v",
         "showlegend": true,
         "type": "scatter",
         "x": [
          "03-2021"
         ],
         "xaxis": "x",
         "y": [
          214427.1
         ],
         "yaxis": "y"
        },
        {
         "customdata": [
          [
           4,
           909418.8,
           3686868.7,
           14600,
           "internacional b...",
           "China"
          ],
          [
           10,
           1235237,
           2835000,
           28350,
           "internacional b...",
           "China"
          ]
         ],
         "hovertemplate": "Exportador=%{customdata[4]}<br>Fecha=%{x}<br>Spread=%{y}<br>Kg=%{customdata[0]}<br>Precio de referencia=%{customdata[1]}<br>Precio=%{customdata[2]}<br>Fob=%{customdata[3]}<br>Origen=%{customdata[5]}<extra></extra>",
         "legendgroup": "internacional b...",
         "marker": {
          "color": "#19d3f3",
          "line": {
           "color": "DarkSlateGrey",
           "width": 2
          },
          "size": 12,
          "symbol": "circle"
         },
         "mode": "markers",
         "name": "internacional b...",
         "orientation": "v",
         "showlegend": true,
         "type": "scatter",
         "x": [
          "02-2022",
          "05-2022"
         ],
         "xaxis": "x",
         "y": [
          2777449.9,
          1599763
         ],
         "yaxis": "y"
        },
        {
         "customdata": [
          [
           200,
           834502.8,
           1304000,
           260800,
           "k.m.g. fueguina...",
           "China"
          ],
          [
           1140,
           1235237,
           1249122.8,
           1424000,
           "k.m.g. fueguina...",
           "China"
          ]
         ],
         "hovertemplate": "Exportador=%{customdata[4]}<br>Fecha=%{x}<br>Spread=%{y}<br>Kg=%{customdata[0]}<br>Precio de referencia=%{customdata[1]}<br>Precio=%{customdata[2]}<br>Fob=%{customdata[3]}<br>Origen=%{customdata[5]}<extra></extra>",
         "legendgroup": "k.m.g. fueguina...",
         "marker": {
          "color": "#FF6692",
          "line": {
           "color": "DarkSlateGrey",
           "width": 2
          },
          "size": 12,
          "symbol": "circle"
         },
         "mode": "markers",
         "name": "k.m.g. fueguina...",
         "orientation": "v",
         "showlegend": true,
         "type": "scatter",
         "x": [
          "12-2021",
          "05-2022"
         ],
         "xaxis": "x",
         "y": [
          469497.2,
          13885.8
         ],
         "yaxis": "y"
        },
        {
         "customdata": [
          [
           80.5,
           823762.5,
           588000,
           47334,
           "led tv technolo...",
           "China"
          ]
         ],
         "hovertemplate": "Exportador=%{customdata[4]}<br>Fecha=%{x}<br>Spread=%{y}<br>Kg=%{customdata[0]}<br>Precio de referencia=%{customdata[1]}<br>Precio=%{customdata[2]}<br>Fob=%{customdata[3]}<br>Origen=%{customdata[5]}<extra></extra>",
         "legendgroup": "led tv technolo...",
         "marker": {
          "color": "#B6E880",
          "line": {
           "color": "DarkSlateGrey",
           "width": 2
          },
          "size": 12,
          "symbol": "circle"
         },
         "mode": "markers",
         "name": "led tv technolo...",
         "orientation": "v",
         "showlegend": true,
         "type": "scatter",
         "x": [
          "07-2021"
         ],
         "xaxis": "x",
         "y": [
          -235762.5
         ],
         "yaxis": "y"
        },
        {
         "customdata": [
          [
           39,
           492952.7,
           516147.7,
           20129.8,
           "madruga marcelo...",
           "China"
          ]
         ],
         "hovertemplate": "Exportador=%{customdata[4]}<br>Fecha=%{x}<br>Spread=%{y}<br>Kg=%{customdata[0]}<br>Precio de referencia=%{customdata[1]}<br>Precio=%{customdata[2]}<br>Fob=%{customdata[3]}<br>Origen=%{customdata[5]}<extra></extra>",
         "legendgroup": "madruga marcelo...",
         "marker": {
          "color": "#FF97FF",
          "line": {
           "color": "DarkSlateGrey",
           "width": 2
          },
          "size": 12,
          "symbol": "circle"
         },
         "mode": "markers",
         "name": "madruga marcelo...",
         "orientation": "v",
         "showlegend": true,
         "type": "scatter",
         "x": [
          "06-2022"
         ],
         "xaxis": "x",
         "y": [
          23195
         ],
         "yaxis": "y"
        },
        {
         "customdata": [
          [
           6,
           750514,
           442450,
           2654.7,
           "manin alexis em...",
           "China"
          ]
         ],
         "hovertemplate": "Exportador=%{customdata[4]}<br>Fecha=%{x}<br>Spread=%{y}<br>Kg=%{customdata[0]}<br>Precio de referencia=%{customdata[1]}<br>Precio=%{customdata[2]}<br>Fob=%{customdata[3]}<br>Origen=%{customdata[5]}<extra></extra>",
         "legendgroup": "manin alexis em...",
         "marker": {
          "color": "#FECB52",
          "line": {
           "color": "DarkSlateGrey",
           "width": 2
          },
          "size": 12,
          "symbol": "circle"
         },
         "mode": "markers",
         "name": "manin alexis em...",
         "orientation": "v",
         "showlegend": true,
         "type": "scatter",
         "x": [
          "07-2022"
         ],
         "xaxis": "x",
         "y": [
          -308064
         ],
         "yaxis": "y"
        },
        {
         "customdata": [
          [
           18,
           543842.5,
           1610000,
           28980,
           "marto sociedad ...",
           "China"
          ],
          [
           28.9,
           543842.5,
           1072664.4,
           31000,
           "marto sociedad ...",
           "China"
          ],
          [
           30,
           647791.1,
           1573333.3,
           47200,
           "marto sociedad ...",
           "China"
          ]
         ],
         "hovertemplate": "Exportador=%{customdata[4]}<br>Fecha=%{x}<br>Spread=%{y}<br>Kg=%{customdata[0]}<br>Precio de referencia=%{customdata[1]}<br>Precio=%{customdata[2]}<br>Fob=%{customdata[3]}<br>Origen=%{customdata[5]}<extra></extra>",
         "legendgroup": "marto sociedad ...",
         "marker": {
          "color": "#636efa",
          "line": {
           "color": "DarkSlateGrey",
           "width": 2
          },
          "size": 12,
          "symbol": "circle"
         },
         "mode": "markers",
         "name": "marto sociedad ...",
         "orientation": "v",
         "showlegend": true,
         "type": "scatter",
         "x": [
          "10-2021",
          "10-2021",
          "01-2022"
         ],
         "xaxis": "x",
         "y": [
          1066157.5,
          528821.9,
          925542.2
         ],
         "yaxis": "y"
        },
        {
         "customdata": [
          [
           15,
           543842.5,
           1221913.3,
           18328.7,
           "mastermar s.r.l...",
           "China"
          ]
         ],
         "hovertemplate": "Exportador=%{customdata[4]}<br>Fecha=%{x}<br>Spread=%{y}<br>Kg=%{customdata[0]}<br>Precio de referencia=%{customdata[1]}<br>Precio=%{customdata[2]}<br>Fob=%{customdata[3]}<br>Origen=%{customdata[5]}<extra></extra>",
         "legendgroup": "mastermar s.r.l...",
         "marker": {
          "color": "#EF553B",
          "line": {
           "color": "DarkSlateGrey",
           "width": 2
          },
          "size": 12,
          "symbol": "circle"
         },
         "mode": "markers",
         "name": "mastermar s.r.l...",
         "orientation": "v",
         "showlegend": true,
         "type": "scatter",
         "x": [
          "10-2021"
         ],
         "xaxis": "x",
         "y": [
          678070.9
         ],
         "yaxis": "y"
        },
        {
         "customdata": [
          [
           23,
           709121.9,
           1534565.2,
           35295,
           "mazzola tecmel ...",
           "China"
          ],
          [
           95,
           1148816.3,
           1153526.3,
           109585,
           "mazzola tecmel ...",
           "China"
          ]
         ],
         "hovertemplate": "Exportador=%{customdata[4]}<br>Fecha=%{x}<br>Spread=%{y}<br>Kg=%{customdata[0]}<br>Precio de referencia=%{customdata[1]}<br>Precio=%{customdata[2]}<br>Fob=%{customdata[3]}<br>Origen=%{customdata[5]}<extra></extra>",
         "legendgroup": "mazzola tecmel ...",
         "marker": {
          "color": "#00cc96",
          "line": {
           "color": "DarkSlateGrey",
           "width": 2
          },
          "size": 12,
          "symbol": "circle"
         },
         "mode": "markers",
         "name": "mazzola tecmel ...",
         "orientation": "v",
         "showlegend": true,
         "type": "scatter",
         "x": [
          "05-2021",
          "06-2021"
         ],
         "xaxis": "x",
         "y": [
          825443.3,
          4710
         ],
         "yaxis": "y"
        },
        {
         "customdata": [
          [
           2,
           626437.1,
           3377640,
           6755.3,
           "mendoglass s a",
           "China"
          ]
         ],
         "hovertemplate": "Exportador=%{customdata[4]}<br>Fecha=%{x}<br>Spread=%{y}<br>Kg=%{customdata[0]}<br>Precio de referencia=%{customdata[1]}<br>Precio=%{customdata[2]}<br>Fob=%{customdata[3]}<br>Origen=%{customdata[5]}<extra></extra>",
         "legendgroup": "mendoglass s a",
         "marker": {
          "color": "#ab63fa",
          "line": {
           "color": "DarkSlateGrey",
           "width": 2
          },
          "size": 12,
          "symbol": "circle"
         },
         "mode": "markers",
         "name": "mendoglass s a",
         "orientation": "v",
         "showlegend": true,
         "type": "scatter",
         "x": [
          "04-2021"
         ],
         "xaxis": "x",
         "y": [
          2751202.9
         ],
         "yaxis": "y"
        },
        {
         "customdata": [
          [
           14.1,
           836007.5,
           383125.3,
           5413.6,
           "merlo eduardo m...",
           "China"
          ]
         ],
         "hovertemplate": "Exportador=%{customdata[4]}<br>Fecha=%{x}<br>Spread=%{y}<br>Kg=%{customdata[0]}<br>Precio de referencia=%{customdata[1]}<br>Precio=%{customdata[2]}<br>Fob=%{customdata[3]}<br>Origen=%{customdata[5]}<extra></extra>",
         "legendgroup": "merlo eduardo m...",
         "marker": {
          "color": "#FFA15A",
          "line": {
           "color": "DarkSlateGrey",
           "width": 2
          },
          "size": 12,
          "symbol": "circle"
         },
         "mode": "markers",
         "name": "merlo eduardo m...",
         "orientation": "v",
         "showlegend": true,
         "type": "scatter",
         "x": [
          "08-2021"
         ],
         "xaxis": "x",
         "y": [
          -452882.2
         ],
         "yaxis": "y"
        },
        {
         "customdata": [
          [
           34.5,
           647791.1,
           418962,
           14450,
           "modax s.r.l.",
           "China"
          ]
         ],
         "hovertemplate": "Exportador=%{customdata[4]}<br>Fecha=%{x}<br>Spread=%{y}<br>Kg=%{customdata[0]}<br>Precio de referencia=%{customdata[1]}<br>Precio=%{customdata[2]}<br>Fob=%{customdata[3]}<br>Origen=%{customdata[5]}<extra></extra>",
         "legendgroup": "modax s.r.l.",
         "marker": {
          "color": "#19d3f3",
          "line": {
           "color": "DarkSlateGrey",
           "width": 2
          },
          "size": 12,
          "symbol": "circle"
         },
         "mode": "markers",
         "name": "modax s.r.l.",
         "orientation": "v",
         "showlegend": true,
         "type": "scatter",
         "x": [
          "01-2022"
         ],
         "xaxis": "x",
         "y": [
          -228829.1
         ],
         "yaxis": "y"
        },
        {
         "customdata": [
          [
           1.5,
           819259.5,
           114285.7,
           176,
           "molina richarde...",
           "China"
          ]
         ],
         "hovertemplate": "Exportador=%{customdata[4]}<br>Fecha=%{x}<br>Spread=%{y}<br>Kg=%{customdata[0]}<br>Precio de referencia=%{customdata[1]}<br>Precio=%{customdata[2]}<br>Fob=%{customdata[3]}<br>Origen=%{customdata[5]}<extra></extra>",
         "legendgroup": "molina richarde...",
         "marker": {
          "color": "#FF6692",
          "line": {
           "color": "DarkSlateGrey",
           "width": 2
          },
          "size": 12,
          "symbol": "circle"
         },
         "mode": "markers",
         "name": "molina richarde...",
         "orientation": "v",
         "showlegend": true,
         "type": "scatter",
         "x": [
          "11-2021"
         ],
         "xaxis": "x",
         "y": [
          -704973.8
         ],
         "yaxis": "y"
        },
        {
         "customdata": [
          [
           4.5,
           626437.1,
           448888.9,
           2020,
           "muslera mariano...",
           "China"
          ]
         ],
         "hovertemplate": "Exportador=%{customdata[4]}<br>Fecha=%{x}<br>Spread=%{y}<br>Kg=%{customdata[0]}<br>Precio de referencia=%{customdata[1]}<br>Precio=%{customdata[2]}<br>Fob=%{customdata[3]}<br>Origen=%{customdata[5]}<extra></extra>",
         "legendgroup": "muslera mariano...",
         "marker": {
          "color": "#B6E880",
          "line": {
           "color": "DarkSlateGrey",
           "width": 2
          },
          "size": 12,
          "symbol": "circle"
         },
         "mode": "markers",
         "name": "muslera mariano...",
         "orientation": "v",
         "showlegend": true,
         "type": "scatter",
         "x": [
          "04-2021"
         ],
         "xaxis": "x",
         "y": [
          -177548.3
         ],
         "yaxis": "y"
        },
        {
         "customdata": [
          [
           86.1,
           836007.5,
           1306620.2,
           112500,
           "neutronica sa",
           "China"
          ]
         ],
         "hovertemplate": "Exportador=%{customdata[4]}<br>Fecha=%{x}<br>Spread=%{y}<br>Kg=%{customdata[0]}<br>Precio de referencia=%{customdata[1]}<br>Precio=%{customdata[2]}<br>Fob=%{customdata[3]}<br>Origen=%{customdata[5]}<extra></extra>",
         "legendgroup": "neutronica sa",
         "marker": {
          "color": "#FF97FF",
          "line": {
           "color": "DarkSlateGrey",
           "width": 2
          },
          "size": 12,
          "symbol": "circle"
         },
         "mode": "markers",
         "name": "neutronica sa",
         "orientation": "v",
         "showlegend": true,
         "type": "scatter",
         "x": [
          "08-2021"
         ],
         "xaxis": "x",
         "y": [
          470612.7
         ],
         "yaxis": "y"
        },
        {
         "customdata": [
          [
           0,
           675447.9,
           7849800,
           392.5,
           "newsan sociedad...",
           "China"
          ]
         ],
         "hovertemplate": "Exportador=%{customdata[4]}<br>Fecha=%{x}<br>Spread=%{y}<br>Kg=%{customdata[0]}<br>Precio de referencia=%{customdata[1]}<br>Precio=%{customdata[2]}<br>Fob=%{customdata[3]}<br>Origen=%{customdata[5]}<extra></extra>",
         "legendgroup": "newsan sociedad...",
         "marker": {
          "color": "#FECB52",
          "line": {
           "color": "DarkSlateGrey",
           "width": 2
          },
          "size": 12,
          "symbol": "circle"
         },
         "mode": "markers",
         "name": "newsan sociedad...",
         "orientation": "v",
         "showlegend": true,
         "type": "scatter",
         "x": [
          "03-2021"
         ],
         "xaxis": "x",
         "y": [
          7174352.1
         ],
         "yaxis": "y"
        },
        {
         "customdata": [
          [
           20,
           662290.9,
           2777000,
           55540,
           "notebooks.ar s....",
           "China"
          ]
         ],
         "hovertemplate": "Exportador=%{customdata[4]}<br>Fecha=%{x}<br>Spread=%{y}<br>Kg=%{customdata[0]}<br>Precio de referencia=%{customdata[1]}<br>Precio=%{customdata[2]}<br>Fob=%{customdata[3]}<br>Origen=%{customdata[5]}<extra></extra>",
         "legendgroup": "notebooks.ar s....",
         "marker": {
          "color": "#636efa",
          "line": {
           "color": "DarkSlateGrey",
           "width": 2
          },
          "size": 12,
          "symbol": "circle"
         },
         "mode": "markers",
         "name": "notebooks.ar s....",
         "orientation": "v",
         "showlegend": true,
         "type": "scatter",
         "x": [
          "03-2022"
         ],
         "xaxis": "x",
         "y": [
          2114709.1
         ],
         "yaxis": "y"
        },
        {
         "customdata": [
          [
           10,
           1148816.3,
           5780000,
           57800,
           "ortiz de latier...",
           "China"
          ],
          [
           20,
           836007.5,
           2890000,
           57800,
           "ortiz de latier...",
           "China"
          ]
         ],
         "hovertemplate": "Exportador=%{customdata[4]}<br>Fecha=%{x}<br>Spread=%{y}<br>Kg=%{customdata[0]}<br>Precio de referencia=%{customdata[1]}<br>Precio=%{customdata[2]}<br>Fob=%{customdata[3]}<br>Origen=%{customdata[5]}<extra></extra>",
         "legendgroup": "ortiz de latier...",
         "marker": {
          "color": "#EF553B",
          "line": {
           "color": "DarkSlateGrey",
           "width": 2
          },
          "size": 12,
          "symbol": "circle"
         },
         "mode": "markers",
         "name": "ortiz de latier...",
         "orientation": "v",
         "showlegend": true,
         "type": "scatter",
         "x": [
          "06-2021",
          "08-2021"
         ],
         "xaxis": "x",
         "y": [
          4631183.7,
          2053992.5
         ],
         "yaxis": "y"
        },
        {
         "customdata": [
          [
           11,
           836007.5,
           886569.9,
           9770,
           "pampa gaming s....",
           "China"
          ]
         ],
         "hovertemplate": "Exportador=%{customdata[4]}<br>Fecha=%{x}<br>Spread=%{y}<br>Kg=%{customdata[0]}<br>Precio de referencia=%{customdata[1]}<br>Precio=%{customdata[2]}<br>Fob=%{customdata[3]}<br>Origen=%{customdata[5]}<extra></extra>",
         "legendgroup": "pampa gaming s....",
         "marker": {
          "color": "#00cc96",
          "line": {
           "color": "DarkSlateGrey",
           "width": 2
          },
          "size": 12,
          "symbol": "circle"
         },
         "mode": "markers",
         "name": "pampa gaming s....",
         "orientation": "v",
         "showlegend": true,
         "type": "scatter",
         "x": [
          "08-2021"
         ],
         "xaxis": "x",
         "y": [
          50562.4
         ],
         "yaxis": "y"
        },
        {
         "customdata": [
          [
           40,
           819259.5,
           719000,
           28760,
           "perrone david a...",
           "China"
          ]
         ],
         "hovertemplate": "Exportador=%{customdata[4]}<br>Fecha=%{x}<br>Spread=%{y}<br>Kg=%{customdata[0]}<br>Precio de referencia=%{customdata[1]}<br>Precio=%{customdata[2]}<br>Fob=%{customdata[3]}<br>Origen=%{customdata[5]}<extra></extra>",
         "legendgroup": "perrone david a...",
         "marker": {
          "color": "#ab63fa",
          "line": {
           "color": "DarkSlateGrey",
           "width": 2
          },
          "size": 12,
          "symbol": "circle"
         },
         "mode": "markers",
         "name": "perrone david a...",
         "orientation": "v",
         "showlegend": true,
         "type": "scatter",
         "x": [
          "11-2021"
         ],
         "xaxis": "x",
         "y": [
          -100259.5
         ],
         "yaxis": "y"
        },
        {
         "customdata": [
          [
           80,
           687841.9,
           656375,
           52510,
           "petrich diego r...",
           "China"
          ],
          [
           60,
           543842.5,
           896666.7,
           53800,
           "petrich diego r...",
           "China"
          ],
          [
           71.5,
           933219.7,
           691188.8,
           49420,
           "petrich diego r...",
           "China"
          ]
         ],
         "hovertemplate": "Exportador=%{customdata[4]}<br>Fecha=%{x}<br>Spread=%{y}<br>Kg=%{customdata[0]}<br>Precio de referencia=%{customdata[1]}<br>Precio=%{customdata[2]}<br>Fob=%{customdata[3]}<br>Origen=%{customdata[5]}<extra></extra>",
         "legendgroup": "petrich diego r...",
         "marker": {
          "color": "#FFA15A",
          "line": {
           "color": "DarkSlateGrey",
           "width": 2
          },
          "size": 12,
          "symbol": "circle"
         },
         "mode": "markers",
         "name": "petrich diego r...",
         "orientation": "v",
         "showlegend": true,
         "type": "scatter",
         "x": [
          "09-2021",
          "10-2021",
          "04-2022"
         ],
         "xaxis": "x",
         "y": [
          -31466.9,
          352824.2,
          -242030.9
         ],
         "yaxis": "y"
        },
        {
         "customdata": [
          [
           158,
           834502.8,
           623835.4,
           98566,
           "petrocor s r l",
           "China"
          ],
          [
           148,
           647791.1,
           665986.5,
           98566,
           "petrocor s r l",
           "China"
          ],
          [
           100,
           909418.8,
           985600,
           98560,
           "petrocor s r l",
           "China"
          ],
          [
           157,
           909418.8,
           627770.7,
           98560,
           "petrocor s r l",
           "China"
          ]
         ],
         "hovertemplate": "Exportador=%{customdata[4]}<br>Fecha=%{x}<br>Spread=%{y}<br>Kg=%{customdata[0]}<br>Precio de referencia=%{customdata[1]}<br>Precio=%{customdata[2]}<br>Fob=%{customdata[3]}<br>Origen=%{customdata[5]}<extra></extra>",
         "legendgroup": "petrocor s r l",
         "marker": {
          "color": "#19d3f3",
          "line": {
           "color": "DarkSlateGrey",
           "width": 2
          },
          "size": 12,
          "symbol": "circle"
         },
         "mode": "markers",
         "name": "petrocor s r l",
         "orientation": "v",
         "showlegend": true,
         "type": "scatter",
         "x": [
          "12-2021",
          "01-2022",
          "02-2022",
          "02-2022"
         ],
         "xaxis": "x",
         "y": [
          -210667.3,
          18195.4,
          76181.2,
          -281648.1
         ],
         "yaxis": "y"
        },
        {
         "customdata": [
          [
           24.2,
           712964.7,
           980341.2,
           23734.1,
           "plantium s.a.",
           "China"
          ]
         ],
         "hovertemplate": "Exportador=%{customdata[4]}<br>Fecha=%{x}<br>Spread=%{y}<br>Kg=%{customdata[0]}<br>Precio de referencia=%{customdata[1]}<br>Precio=%{customdata[2]}<br>Fob=%{customdata[3]}<br>Origen=%{customdata[5]}<extra></extra>",
         "legendgroup": "plantium s.a.",
         "marker": {
          "color": "#FF6692",
          "line": {
           "color": "DarkSlateGrey",
           "width": 2
          },
          "size": 12,
          "symbol": "circle"
         },
         "mode": "markers",
         "name": "plantium s.a.",
         "orientation": "v",
         "showlegend": true,
         "type": "scatter",
         "x": [
          "01-2021"
         ],
         "xaxis": "x",
         "y": [
          267376.5
         ],
         "yaxis": "y"
        },
        {
         "customdata": [
          [
           15,
           662290.9,
           1500000,
           22500,
           "pozzan facundo ...",
           "China"
          ]
         ],
         "hovertemplate": "Exportador=%{customdata[4]}<br>Fecha=%{x}<br>Spread=%{y}<br>Kg=%{customdata[0]}<br>Precio de referencia=%{customdata[1]}<br>Precio=%{customdata[2]}<br>Fob=%{customdata[3]}<br>Origen=%{customdata[5]}<extra></extra>",
         "legendgroup": "pozzan facundo ...",
         "marker": {
          "color": "#B6E880",
          "line": {
           "color": "DarkSlateGrey",
           "width": 2
          },
          "size": 12,
          "symbol": "circle"
         },
         "mode": "markers",
         "name": "pozzan facundo ...",
         "orientation": "v",
         "showlegend": true,
         "type": "scatter",
         "x": [
          "03-2022"
         ],
         "xaxis": "x",
         "y": [
          837709.1
         ],
         "yaxis": "y"
        },
        {
         "customdata": [
          [
           24,
           1148816.3,
           1750000,
           42000,
           "rcv orsi y asoc...",
           "China"
          ],
          [
           25.5,
           1148816.3,
           1866666.7,
           47600,
           "rcv orsi y asoc...",
           "China"
          ],
          [
           25.5,
           1148816.3,
           1866666.7,
           47600,
           "rcv orsi y asoc...",
           "China"
          ],
          [
           46,
           823762.5,
           2069565.2,
           95200,
           "rcv orsi y asoc...",
           "China"
          ],
          [
           25.5,
           823762.5,
           1866666.7,
           47600,
           "rcv orsi y asoc...",
           "China"
          ],
          [
           26.4,
           823762.5,
           1803030.3,
           47600,
           "rcv orsi y asoc...",
           "China"
          ],
          [
           52.8,
           836007.5,
           1803030.3,
           95200,
           "rcv orsi y asoc...",
           "China"
          ],
          [
           26.4,
           836007.5,
           1803030.3,
           47600,
           "rcv orsi y asoc...",
           "China"
          ],
          [
           26.4,
           687841.9,
           1803030.3,
           47600,
           "rcv orsi y asoc...",
           "China"
          ],
          [
           26.4,
           687841.9,
           1803030.3,
           47600,
           "rcv orsi y asoc...",
           "China"
          ],
          [
           12.4,
           687841.9,
           1935483.9,
           24000,
           "rcv orsi y asoc...",
           "China"
          ]
         ],
         "hovertemplate": "Exportador=%{customdata[4]}<br>Fecha=%{x}<br>Spread=%{y}<br>Kg=%{customdata[0]}<br>Precio de referencia=%{customdata[1]}<br>Precio=%{customdata[2]}<br>Fob=%{customdata[3]}<br>Origen=%{customdata[5]}<extra></extra>",
         "legendgroup": "rcv orsi y asoc...",
         "marker": {
          "color": "#FF97FF",
          "line": {
           "color": "DarkSlateGrey",
           "width": 2
          },
          "size": 12,
          "symbol": "circle"
         },
         "mode": "markers",
         "name": "rcv orsi y asoc...",
         "orientation": "v",
         "showlegend": true,
         "type": "scatter",
         "x": [
          "06-2021",
          "06-2021",
          "06-2021",
          "07-2021",
          "07-2021",
          "07-2021",
          "08-2021",
          "08-2021",
          "09-2021",
          "09-2021",
          "09-2021"
         ],
         "xaxis": "x",
         "y": [
          601183.7,
          717850.4,
          717850.4,
          1245802.7,
          1042904.2,
          979267.8,
          967022.8,
          967022.8,
          1115188.4,
          1115188.4,
          1247642
         ],
         "yaxis": "y"
        },
        {
         "customdata": [
          [
           5.6,
           834502.8,
           241714.3,
           1353.6,
           "riccitelli seba...",
           "China"
          ],
          [
           6,
           647791.1,
           260800,
           1564.8,
           "riccitelli seba...",
           "China"
          ]
         ],
         "hovertemplate": "Exportador=%{customdata[4]}<br>Fecha=%{x}<br>Spread=%{y}<br>Kg=%{customdata[0]}<br>Precio de referencia=%{customdata[1]}<br>Precio=%{customdata[2]}<br>Fob=%{customdata[3]}<br>Origen=%{customdata[5]}<extra></extra>",
         "legendgroup": "riccitelli seba...",
         "marker": {
          "color": "#FECB52",
          "line": {
           "color": "DarkSlateGrey",
           "width": 2
          },
          "size": 12,
          "symbol": "circle"
         },
         "mode": "markers",
         "name": "riccitelli seba...",
         "orientation": "v",
         "showlegend": true,
         "type": "scatter",
         "x": [
          "12-2021",
          "01-2022"
         ],
         "xaxis": "x",
         "y": [
          -592788.5,
          -386991.1
         ],
         "yaxis": "y"
        },
        {
         "customdata": [
          [
           280,
           626437.1,
           364285.7,
           102000,
           "ricciuti claudi...",
           "China"
          ],
          [
           300,
           709121.9,
           351333.3,
           105400,
           "ricciuti claudi...",
           "China"
          ],
          [
           52,
           823762.5,
           708653.8,
           36850,
           "ricciuti claudi...",
           "China"
          ],
          [
           84,
           836007.5,
           587654.8,
           49363,
           "ricciuti claudi...",
           "China"
          ],
          [
           42,
           687841.9,
           604642.9,
           25395,
           "ricciuti claudi...",
           "China"
          ],
          [
           80,
           687841.9,
           500000,
           40000,
           "ricciuti claudi...",
           "China"
          ],
          [
           250,
           819259.5,
           495600,
           123900,
           "ricciuti claudi...",
           "China"
          ],
          [
           103,
           819259.5,
           699029.1,
           72000,
           "ricciuti claudi...",
           "China"
          ],
          [
           93,
           834502.8,
           779150.5,
           72461,
           "ricciuti claudi...",
           "China"
          ],
          [
           88,
           647791.1,
           761818.2,
           67040,
           "ricciuti claudi...",
           "China"
          ],
          [
           160,
           647791.1,
           460000,
           73600,
           "ricciuti claudi...",
           "China"
          ],
          [
           120,
           647791.1,
           480833.3,
           57700,
           "ricciuti claudi...",
           "China"
          ],
          [
           128,
           662290.9,
           576953.1,
           73850,
           "ricciuti claudi...",
           "China"
          ]
         ],
         "hovertemplate": "Exportador=%{customdata[4]}<br>Fecha=%{x}<br>Spread=%{y}<br>Kg=%{customdata[0]}<br>Precio de referencia=%{customdata[1]}<br>Precio=%{customdata[2]}<br>Fob=%{customdata[3]}<br>Origen=%{customdata[5]}<extra></extra>",
         "legendgroup": "ricciuti claudi...",
         "marker": {
          "color": "#636efa",
          "line": {
           "color": "DarkSlateGrey",
           "width": 2
          },
          "size": 12,
          "symbol": "circle"
         },
         "mode": "markers",
         "name": "ricciuti claudi...",
         "orientation": "v",
         "showlegend": true,
         "type": "scatter",
         "x": [
          "04-2021",
          "05-2021",
          "07-2021",
          "08-2021",
          "09-2021",
          "09-2021",
          "11-2021",
          "11-2021",
          "12-2021",
          "01-2022",
          "01-2022",
          "01-2022",
          "03-2022"
         ],
         "xaxis": "x",
         "y": [
          -262151.4,
          -357788.6,
          -115108.7,
          -248352.7,
          -83199,
          -187841.9,
          -323659.5,
          -120230.4,
          -55352.3,
          114027,
          -187791.1,
          -166957.8,
          -85337.8
         ],
         "yaxis": "y"
        },
        {
         "customdata": [
          [
           30,
           1148816.3,
           887333.3,
           26620,
           "rossi paulino b...",
           "China"
          ],
          [
           39,
           823762.5,
           1154282.1,
           45017,
           "rossi paulino b...",
           "China"
          ],
          [
           55,
           687841.9,
           811945.5,
           44657,
           "rossi paulino b...",
           "China"
          ],
          [
           70,
           543842.5,
           930857.1,
           65160,
           "rossi paulino b...",
           "China"
          ]
         ],
         "hovertemplate": "Exportador=%{customdata[4]}<br>Fecha=%{x}<br>Spread=%{y}<br>Kg=%{customdata[0]}<br>Precio de referencia=%{customdata[1]}<br>Precio=%{customdata[2]}<br>Fob=%{customdata[3]}<br>Origen=%{customdata[5]}<extra></extra>",
         "legendgroup": "rossi paulino b...",
         "marker": {
          "color": "#EF553B",
          "line": {
           "color": "DarkSlateGrey",
           "width": 2
          },
          "size": 12,
          "symbol": "circle"
         },
         "mode": "markers",
         "name": "rossi paulino b...",
         "orientation": "v",
         "showlegend": true,
         "type": "scatter",
         "x": [
          "06-2021",
          "07-2021",
          "09-2021",
          "10-2021"
         ],
         "xaxis": "x",
         "y": [
          -261483,
          330519.6,
          124103.6,
          387014.7
         ],
         "yaxis": "y"
        },
        {
         "customdata": [
          [
           175,
           1148816.3,
           1971428.6,
           345000,
           "sacerdote carlo...",
           "China"
          ]
         ],
         "hovertemplate": "Exportador=%{customdata[4]}<br>Fecha=%{x}<br>Spread=%{y}<br>Kg=%{customdata[0]}<br>Precio de referencia=%{customdata[1]}<br>Precio=%{customdata[2]}<br>Fob=%{customdata[3]}<br>Origen=%{customdata[5]}<extra></extra>",
         "legendgroup": "sacerdote carlo...",
         "marker": {
          "color": "#00cc96",
          "line": {
           "color": "DarkSlateGrey",
           "width": 2
          },
          "size": 12,
          "symbol": "circle"
         },
         "mode": "markers",
         "name": "sacerdote carlo...",
         "orientation": "v",
         "showlegend": true,
         "type": "scatter",
         "x": [
          "06-2021"
         ],
         "xaxis": "x",
         "y": [
          822612.3
         ],
         "yaxis": "y"
        },
        {
         "customdata": [
          [
           7,
           836007.5,
           214285.7,
           1500,
           "save track s.a.",
           "China"
          ],
          [
           5,
           819259.5,
           600000,
           3000,
           "save track s.a.",
           "China"
          ],
          [
           30,
           662290.9,
           175000,
           5250,
           "save track s.a.",
           "China"
          ]
         ],
         "hovertemplate": "Exportador=%{customdata[4]}<br>Fecha=%{x}<br>Spread=%{y}<br>Kg=%{customdata[0]}<br>Precio de referencia=%{customdata[1]}<br>Precio=%{customdata[2]}<br>Fob=%{customdata[3]}<br>Origen=%{customdata[5]}<extra></extra>",
         "legendgroup": "save track s.a.",
         "marker": {
          "color": "#ab63fa",
          "line": {
           "color": "DarkSlateGrey",
           "width": 2
          },
          "size": 12,
          "symbol": "circle"
         },
         "mode": "markers",
         "name": "save track s.a.",
         "orientation": "v",
         "showlegend": true,
         "type": "scatter",
         "x": [
          "08-2021",
          "11-2021",
          "03-2022"
         ],
         "xaxis": "x",
         "y": [
          -621721.8,
          -219259.5,
          -487290.9
         ],
         "yaxis": "y"
        },
        {
         "customdata": [
          [
           0.3,
           750514,
           281100,
           84.3,
           "se?alco sudamer...",
           "China"
          ]
         ],
         "hovertemplate": "Exportador=%{customdata[4]}<br>Fecha=%{x}<br>Spread=%{y}<br>Kg=%{customdata[0]}<br>Precio de referencia=%{customdata[1]}<br>Precio=%{customdata[2]}<br>Fob=%{customdata[3]}<br>Origen=%{customdata[5]}<extra></extra>",
         "legendgroup": "se?alco sudamer...",
         "marker": {
          "color": "#FFA15A",
          "line": {
           "color": "DarkSlateGrey",
           "width": 2
          },
          "size": 12,
          "symbol": "circle"
         },
         "mode": "markers",
         "name": "se?alco sudamer...",
         "orientation": "v",
         "showlegend": true,
         "type": "scatter",
         "x": [
          "07-2022"
         ],
         "xaxis": "x",
         "y": [
          -469414
         ],
         "yaxis": "y"
        },
        {
         "customdata": [
          [
           3,
           687841.9,
           75040,
           225.1,
           "siciliano ferna...",
           "China"
          ],
          [
           7.2,
           543842.5,
           211675,
           1524.1,
           "siciliano ferna...",
           "China"
          ]
         ],
         "hovertemplate": "Exportador=%{customdata[4]}<br>Fecha=%{x}<br>Spread=%{y}<br>Kg=%{customdata[0]}<br>Precio de referencia=%{customdata[1]}<br>Precio=%{customdata[2]}<br>Fob=%{customdata[3]}<br>Origen=%{customdata[5]}<extra></extra>",
         "legendgroup": "siciliano ferna...",
         "marker": {
          "color": "#19d3f3",
          "line": {
           "color": "DarkSlateGrey",
           "width": 2
          },
          "size": 12,
          "symbol": "circle"
         },
         "mode": "markers",
         "name": "siciliano ferna...",
         "orientation": "v",
         "showlegend": true,
         "type": "scatter",
         "x": [
          "09-2021",
          "10-2021"
         ],
         "xaxis": "x",
         "y": [
          -612801.9,
          -332167.5
         ],
         "yaxis": "y"
        },
        {
         "customdata": [
          [
           3.9,
           819259.5,
           2564267.4,
           9975,
           "soluciones inte...",
           "China"
          ],
          [
           10,
           1235237,
           207657,
           2076.6,
           "soluciones inte...",
           "China"
          ]
         ],
         "hovertemplate": "Exportador=%{customdata[4]}<br>Fecha=%{x}<br>Spread=%{y}<br>Kg=%{customdata[0]}<br>Precio de referencia=%{customdata[1]}<br>Precio=%{customdata[2]}<br>Fob=%{customdata[3]}<br>Origen=%{customdata[5]}<extra></extra>",
         "legendgroup": "soluciones inte...",
         "marker": {
          "color": "#FF6692",
          "line": {
           "color": "DarkSlateGrey",
           "width": 2
          },
          "size": 12,
          "symbol": "circle"
         },
         "mode": "markers",
         "name": "soluciones inte...",
         "orientation": "v",
         "showlegend": true,
         "type": "scatter",
         "x": [
          "11-2021",
          "05-2022"
         ],
         "xaxis": "x",
         "y": [
          1745007.9,
          -1027580
         ],
         "yaxis": "y"
        },
        {
         "customdata": [
          [
           0.3,
           709121.9,
           281035.7,
           78.7,
           "tecme s a",
           "China"
          ]
         ],
         "hovertemplate": "Exportador=%{customdata[4]}<br>Fecha=%{x}<br>Spread=%{y}<br>Kg=%{customdata[0]}<br>Precio de referencia=%{customdata[1]}<br>Precio=%{customdata[2]}<br>Fob=%{customdata[3]}<br>Origen=%{customdata[5]}<extra></extra>",
         "legendgroup": "tecme s a",
         "marker": {
          "color": "#B6E880",
          "line": {
           "color": "DarkSlateGrey",
           "width": 2
          },
          "size": 12,
          "symbol": "circle"
         },
         "mode": "markers",
         "name": "tecme s a",
         "orientation": "v",
         "showlegend": true,
         "type": "scatter",
         "x": [
          "05-2021"
         ],
         "xaxis": "x",
         "y": [
          -428086.2
         ],
         "yaxis": "y"
        },
        {
         "customdata": [
          [
           9,
           626437.1,
           1487777.8,
           13390,
           "tecnoteam",
           "China"
          ]
         ],
         "hovertemplate": "Exportador=%{customdata[4]}<br>Fecha=%{x}<br>Spread=%{y}<br>Kg=%{customdata[0]}<br>Precio de referencia=%{customdata[1]}<br>Precio=%{customdata[2]}<br>Fob=%{customdata[3]}<br>Origen=%{customdata[5]}<extra></extra>",
         "legendgroup": "tecnoteam",
         "marker": {
          "color": "#FF97FF",
          "line": {
           "color": "DarkSlateGrey",
           "width": 2
          },
          "size": 12,
          "symbol": "circle"
         },
         "mode": "markers",
         "name": "tecnoteam",
         "orientation": "v",
         "showlegend": true,
         "type": "scatter",
         "x": [
          "04-2021"
         ],
         "xaxis": "x",
         "y": [
          861340.6
         ],
         "yaxis": "y"
        },
        {
         "customdata": [
          [
           3.3,
           836007.5,
           2913054.2,
           9671.3,
           "tiendas new tec...",
           "China"
          ]
         ],
         "hovertemplate": "Exportador=%{customdata[4]}<br>Fecha=%{x}<br>Spread=%{y}<br>Kg=%{customdata[0]}<br>Precio de referencia=%{customdata[1]}<br>Precio=%{customdata[2]}<br>Fob=%{customdata[3]}<br>Origen=%{customdata[5]}<extra></extra>",
         "legendgroup": "tiendas new tec...",
         "marker": {
          "color": "#FECB52",
          "line": {
           "color": "DarkSlateGrey",
           "width": 2
          },
          "size": 12,
          "symbol": "circle"
         },
         "mode": "markers",
         "name": "tiendas new tec...",
         "orientation": "v",
         "showlegend": true,
         "type": "scatter",
         "x": [
          "08-2021"
         ],
         "xaxis": "x",
         "y": [
          2077046.7
         ],
         "yaxis": "y"
        },
        {
         "customdata": [
          [
           16.8,
           626437.1,
           12656,
           213,
           "torres american...",
           "China"
          ]
         ],
         "hovertemplate": "Exportador=%{customdata[4]}<br>Fecha=%{x}<br>Spread=%{y}<br>Kg=%{customdata[0]}<br>Precio de referencia=%{customdata[1]}<br>Precio=%{customdata[2]}<br>Fob=%{customdata[3]}<br>Origen=%{customdata[5]}<extra></extra>",
         "legendgroup": "torres american...",
         "marker": {
          "color": "#636efa",
          "line": {
           "color": "DarkSlateGrey",
           "width": 2
          },
          "size": 12,
          "symbol": "circle"
         },
         "mode": "markers",
         "name": "torres american...",
         "orientation": "v",
         "showlegend": true,
         "type": "scatter",
         "x": [
          "04-2021"
         ],
         "xaxis": "x",
         "y": [
          -613781.2
         ],
         "yaxis": "y"
        },
        {
         "customdata": [
          [
           52.1,
           823762.5,
           964320,
           50270,
           "torres emiliano...",
           "China"
          ],
          [
           348.4,
           543842.5,
           267234.9,
           93110,
           "torres emiliano...",
           "China"
          ],
          [
           3.1,
           647791.1,
           486645,
           1494,
           "torres emiliano...",
           "China"
          ],
          [
           67.4,
           909418.8,
           390659.7,
           26350,
           "torres emiliano...",
           "China"
          ],
          [
           240,
           933219.7,
           1196333.3,
           287120,
           "torres emiliano...",
           "China"
          ]
         ],
         "hovertemplate": "Exportador=%{customdata[4]}<br>Fecha=%{x}<br>Spread=%{y}<br>Kg=%{customdata[0]}<br>Precio de referencia=%{customdata[1]}<br>Precio=%{customdata[2]}<br>Fob=%{customdata[3]}<br>Origen=%{customdata[5]}<extra></extra>",
         "legendgroup": "torres emiliano...",
         "marker": {
          "color": "#EF553B",
          "line": {
           "color": "DarkSlateGrey",
           "width": 2
          },
          "size": 12,
          "symbol": "circle"
         },
         "mode": "markers",
         "name": "torres emiliano...",
         "orientation": "v",
         "showlegend": true,
         "type": "scatter",
         "x": [
          "07-2021",
          "10-2021",
          "01-2022",
          "02-2022",
          "04-2022"
         ],
         "xaxis": "x",
         "y": [
          140557.5,
          -276607.5,
          -161146.2,
          -518759.1,
          263113.7
         ],
         "yaxis": "y"
        },
        {
         "customdata": [
          [
           5.5,
           687841.9,
           98567.5,
           540.2,
           "tp s. r. l.",
           "China"
          ]
         ],
         "hovertemplate": "Exportador=%{customdata[4]}<br>Fecha=%{x}<br>Spread=%{y}<br>Kg=%{customdata[0]}<br>Precio de referencia=%{customdata[1]}<br>Precio=%{customdata[2]}<br>Fob=%{customdata[3]}<br>Origen=%{customdata[5]}<extra></extra>",
         "legendgroup": "tp s. r. l.",
         "marker": {
          "color": "#00cc96",
          "line": {
           "color": "DarkSlateGrey",
           "width": 2
          },
          "size": 12,
          "symbol": "circle"
         },
         "mode": "markers",
         "name": "tp s. r. l.",
         "orientation": "v",
         "showlegend": true,
         "type": "scatter",
         "x": [
          "09-2021"
         ],
         "xaxis": "x",
         "y": [
          -589274.4
         ],
         "yaxis": "y"
        },
        {
         "customdata": [
          [
           1.5,
           687841.9,
           1000000,
           1500,
           "troncoso gabrie...",
           "China"
          ]
         ],
         "hovertemplate": "Exportador=%{customdata[4]}<br>Fecha=%{x}<br>Spread=%{y}<br>Kg=%{customdata[0]}<br>Precio de referencia=%{customdata[1]}<br>Precio=%{customdata[2]}<br>Fob=%{customdata[3]}<br>Origen=%{customdata[5]}<extra></extra>",
         "legendgroup": "troncoso gabrie...",
         "marker": {
          "color": "#ab63fa",
          "line": {
           "color": "DarkSlateGrey",
           "width": 2
          },
          "size": 12,
          "symbol": "circle"
         },
         "mode": "markers",
         "name": "troncoso gabrie...",
         "orientation": "v",
         "showlegend": true,
         "type": "scatter",
         "x": [
          "09-2021"
         ],
         "xaxis": "x",
         "y": [
          312158.1
         ],
         "yaxis": "y"
        },
        {
         "customdata": [
          [
           0.1,
           834502.8,
           418142.9,
           29.3,
           "uv vis metrolab...",
           "China"
          ]
         ],
         "hovertemplate": "Exportador=%{customdata[4]}<br>Fecha=%{x}<br>Spread=%{y}<br>Kg=%{customdata[0]}<br>Precio de referencia=%{customdata[1]}<br>Precio=%{customdata[2]}<br>Fob=%{customdata[3]}<br>Origen=%{customdata[5]}<extra></extra>",
         "legendgroup": "uv vis metrolab...",
         "marker": {
          "color": "#FFA15A",
          "line": {
           "color": "DarkSlateGrey",
           "width": 2
          },
          "size": 12,
          "symbol": "circle"
         },
         "mode": "markers",
         "name": "uv vis metrolab...",
         "orientation": "v",
         "showlegend": true,
         "type": "scatter",
         "x": [
          "12-2021"
         ],
         "xaxis": "x",
         "y": [
          -416359.9
         ],
         "yaxis": "y"
        },
        {
         "customdata": [
          [
           15,
           836007.5,
           9766666.7,
           146500,
           "vallejos oscar ...",
           "China"
          ]
         ],
         "hovertemplate": "Exportador=%{customdata[4]}<br>Fecha=%{x}<br>Spread=%{y}<br>Kg=%{customdata[0]}<br>Precio de referencia=%{customdata[1]}<br>Precio=%{customdata[2]}<br>Fob=%{customdata[3]}<br>Origen=%{customdata[5]}<extra></extra>",
         "legendgroup": "vallejos oscar ...",
         "marker": {
          "color": "#19d3f3",
          "line": {
           "color": "DarkSlateGrey",
           "width": 2
          },
          "size": 12,
          "symbol": "circle"
         },
         "mode": "markers",
         "name": "vallejos oscar ...",
         "orientation": "v",
         "showlegend": true,
         "type": "scatter",
         "x": [
          "08-2021"
         ],
         "xaxis": "x",
         "y": [
          8930659.2
         ],
         "yaxis": "y"
        },
        {
         "customdata": [
          [
           10,
           675447.9,
           565200,
           5652,
           "vazquez lautaro...",
           "China"
          ]
         ],
         "hovertemplate": "Exportador=%{customdata[4]}<br>Fecha=%{x}<br>Spread=%{y}<br>Kg=%{customdata[0]}<br>Precio de referencia=%{customdata[1]}<br>Precio=%{customdata[2]}<br>Fob=%{customdata[3]}<br>Origen=%{customdata[5]}<extra></extra>",
         "legendgroup": "vazquez lautaro...",
         "marker": {
          "color": "#FF6692",
          "line": {
           "color": "DarkSlateGrey",
           "width": 2
          },
          "size": 12,
          "symbol": "circle"
         },
         "mode": "markers",
         "name": "vazquez lautaro...",
         "orientation": "v",
         "showlegend": true,
         "type": "scatter",
         "x": [
          "03-2021"
         ],
         "xaxis": "x",
         "y": [
          -110247.9
         ],
         "yaxis": "y"
        },
        {
         "customdata": [
          [
           24,
           823762.5,
           1250000,
           30000,
           "vazquez nicolas...",
           "China"
          ],
          [
           8,
           834502.8,
           5900000,
           47200,
           "vazquez nicolas...",
           "China"
          ]
         ],
         "hovertemplate": "Exportador=%{customdata[4]}<br>Fecha=%{x}<br>Spread=%{y}<br>Kg=%{customdata[0]}<br>Precio de referencia=%{customdata[1]}<br>Precio=%{customdata[2]}<br>Fob=%{customdata[3]}<br>Origen=%{customdata[5]}<extra></extra>",
         "legendgroup": "vazquez nicolas...",
         "marker": {
          "color": "#B6E880",
          "line": {
           "color": "DarkSlateGrey",
           "width": 2
          },
          "size": 12,
          "symbol": "circle"
         },
         "mode": "markers",
         "name": "vazquez nicolas...",
         "orientation": "v",
         "showlegend": true,
         "type": "scatter",
         "x": [
          "07-2021",
          "12-2021"
         ],
         "xaxis": "x",
         "y": [
          426237.5,
          5065497.2
         ],
         "yaxis": "y"
        },
        {
         "customdata": [
          [
           13,
           712964.7,
           2501159.2,
           32515.1,
           "venex s.a.",
           "China"
          ],
          [
           0.6,
           712964.7,
           7080300,
           4248.2,
           "venex s.a.",
           "China"
          ],
          [
           153.6,
           712964.7,
           458320.1,
           70379.6,
           "venex s.a.",
           "China"
          ],
          [
           10.1,
           475121.4,
           405629.7,
           4096.9,
           "venex s.a.",
           "China"
          ],
          [
           0.7,
           675447.9,
           5831115.9,
           4023.5,
           "venex s.a.",
           "China"
          ],
          [
           5.6,
           626437.1,
           710679.9,
           3951.4,
           "venex s.a.",
           "China"
          ],
          [
           31.4,
           626437.1,
           988072.4,
           30986,
           "venex s.a.",
           "China"
          ],
          [
           3.2,
           626437.1,
           1123457.4,
           3561.4,
           "venex s.a.",
           "China"
          ],
          [
           3.3,
           709121.9,
           1543193.4,
           5108,
           "venex s.a.",
           "China"
          ],
          [
           10.8,
           709121.9,
           955767.8,
           10331.8,
           "venex s.a.",
           "China"
          ],
          [
           22.3,
           1148816.3,
           521429.1,
           11617.4,
           "venex s.a.",
           "China"
          ],
          [
           25.4,
           1148816.3,
           541465,
           13764,
           "venex s.a.",
           "China"
          ],
          [
           29.5,
           823762.5,
           904382.8,
           26652.2,
           "venex s.a.",
           "China"
          ],
          [
           8.9,
           823762.5,
           909216.9,
           8092,
           "venex s.a.",
           "China"
          ],
          [
           35.9,
           823762.5,
           538911.8,
           19363.1,
           "venex s.a.",
           "China"
          ],
          [
           51.8,
           836007.5,
           565884.2,
           29324.1,
           "venex s.a.",
           "China"
          ],
          [
           100,
           836007.5,
           525500,
           52550,
           "venex s.a.",
           "China"
          ],
          [
           74.9,
           687841.9,
           455880.7,
           34154.6,
           "venex s.a.",
           "China"
          ],
          [
           109.5,
           687841.9,
           408590.2,
           44732.5,
           "venex s.a.",
           "China"
          ],
          [
           5.8,
           687841.9,
           484901.4,
           2802.7,
           "venex s.a.",
           "China"
          ],
          [
           10.8,
           687841.9,
           1094496.8,
           11853.4,
           "venex s.a.",
           "China"
          ],
          [
           153.9,
           543842.5,
           497941.5,
           76638.2,
           "venex s.a.",
           "China"
          ],
          [
           13,
           543842.5,
           339161.7,
           4426.1,
           "venex s.a.",
           "China"
          ],
          [
           60.5,
           543842.5,
           456834,
           27638.5,
           "venex s.a.",
           "China"
          ],
          [
           55,
           819259.5,
           578181.8,
           31800,
           "venex s.a.",
           "China"
          ]
         ],
         "hovertemplate": "Exportador=%{customdata[4]}<br>Fecha=%{x}<br>Spread=%{y}<br>Kg=%{customdata[0]}<br>Precio de referencia=%{customdata[1]}<br>Precio=%{customdata[2]}<br>Fob=%{customdata[3]}<br>Origen=%{customdata[5]}<extra></extra>",
         "legendgroup": "venex s.a.",
         "marker": {
          "color": "#FF97FF",
          "line": {
           "color": "DarkSlateGrey",
           "width": 2
          },
          "size": 12,
          "symbol": "circle"
         },
         "mode": "markers",
         "name": "venex s.a.",
         "orientation": "v",
         "showlegend": true,
         "type": "scatter",
         "x": [
          "01-2021",
          "01-2021",
          "01-2021",
          "02-2021",
          "03-2021",
          "04-2021",
          "04-2021",
          "04-2021",
          "05-2021",
          "05-2021",
          "06-2021",
          "06-2021",
          "07-2021",
          "07-2021",
          "07-2021",
          "08-2021",
          "08-2021",
          "09-2021",
          "09-2021",
          "09-2021",
          "09-2021",
          "10-2021",
          "10-2021",
          "10-2021",
          "11-2021"
         ],
         "xaxis": "x",
         "y": [
          1788194.5,
          6367335.3,
          -254644.7,
          -69491.7,
          5155668,
          84242.7,
          361635.2,
          497020.3,
          834071.4,
          246645.9,
          -627387.2,
          -607351.3,
          80620.3,
          85454.4,
          -284850.7,
          -270123.3,
          -310507.5,
          -231961.2,
          -279251.7,
          -202940.5,
          406654.9,
          -45901,
          -204680.8,
          -87008.4,
          -241077.7
         ],
         "yaxis": "y"
        },
        {
         "customdata": [
          [
           121,
           1148816.3,
           735537.2,
           89000,
           "vertex computer...",
           "China"
          ],
          [
           70,
           836007.5,
           658200,
           46074,
           "vertex computer...",
           "China"
          ],
          [
           273.2,
           834502.8,
           1099337.5,
           300339,
           "vertex computer...",
           "China"
          ],
          [
           79.2,
           834502.8,
           643750,
           50985,
           "vertex computer...",
           "China"
          ],
          [
           100,
           647791.1,
           690060,
           69006,
           "vertex computer...",
           "China"
          ]
         ],
         "hovertemplate": "Exportador=%{customdata[4]}<br>Fecha=%{x}<br>Spread=%{y}<br>Kg=%{customdata[0]}<br>Precio de referencia=%{customdata[1]}<br>Precio=%{customdata[2]}<br>Fob=%{customdata[3]}<br>Origen=%{customdata[5]}<extra></extra>",
         "legendgroup": "vertex computer...",
         "marker": {
          "color": "#FECB52",
          "line": {
           "color": "DarkSlateGrey",
           "width": 2
          },
          "size": 12,
          "symbol": "circle"
         },
         "mode": "markers",
         "name": "vertex computer...",
         "orientation": "v",
         "showlegend": true,
         "type": "scatter",
         "x": [
          "06-2021",
          "08-2021",
          "12-2021",
          "12-2021",
          "01-2022"
         ],
         "xaxis": "x",
         "y": [
          -413279.1,
          -177807.5,
          264834.7,
          -190752.8,
          42268.9
         ],
         "yaxis": "y"
        },
        {
         "customdata": [
          [
           32.3,
           823762.5,
           43155.8,
           1393.5,
           "virtual argenti...",
           "China"
          ]
         ],
         "hovertemplate": "Exportador=%{customdata[4]}<br>Fecha=%{x}<br>Spread=%{y}<br>Kg=%{customdata[0]}<br>Precio de referencia=%{customdata[1]}<br>Precio=%{customdata[2]}<br>Fob=%{customdata[3]}<br>Origen=%{customdata[5]}<extra></extra>",
         "legendgroup": "virtual argenti...",
         "marker": {
          "color": "#636efa",
          "line": {
           "color": "DarkSlateGrey",
           "width": 2
          },
          "size": 12,
          "symbol": "circle"
         },
         "mode": "markers",
         "name": "virtual argenti...",
         "orientation": "v",
         "showlegend": true,
         "type": "scatter",
         "x": [
          "07-2021"
         ],
         "xaxis": "x",
         "y": [
          -780606.7
         ],
         "yaxis": "y"
        },
        {
         "customdata": [
          [
           44.5,
           543842.5,
           412677,
           18360,
           "visokolskis ale...",
           "China"
          ]
         ],
         "hovertemplate": "Exportador=%{customdata[4]}<br>Fecha=%{x}<br>Spread=%{y}<br>Kg=%{customdata[0]}<br>Precio de referencia=%{customdata[1]}<br>Precio=%{customdata[2]}<br>Fob=%{customdata[3]}<br>Origen=%{customdata[5]}<extra></extra>",
         "legendgroup": "visokolskis ale...",
         "marker": {
          "color": "#EF553B",
          "line": {
           "color": "DarkSlateGrey",
           "width": 2
          },
          "size": 12,
          "symbol": "circle"
         },
         "mode": "markers",
         "name": "visokolskis ale...",
         "orientation": "v",
         "showlegend": true,
         "type": "scatter",
         "x": [
          "10-2021"
         ],
         "xaxis": "x",
         "y": [
          -131165.5
         ],
         "yaxis": "y"
        },
        {
         "customdata": [
          [
           32,
           647791.1,
           321250,
           10280,
           "voip experts so...",
           "China"
          ],
          [
           52,
           647791.1,
           185730.8,
           9658,
           "voip experts so...",
           "China"
          ],
          [
           45,
           662290.9,
           244222.2,
           10990,
           "voip experts so...",
           "China"
          ],
          [
           70,
           492952.7,
           282428.6,
           19770,
           "voip experts so...",
           "China"
          ]
         ],
         "hovertemplate": "Exportador=%{customdata[4]}<br>Fecha=%{x}<br>Spread=%{y}<br>Kg=%{customdata[0]}<br>Precio de referencia=%{customdata[1]}<br>Precio=%{customdata[2]}<br>Fob=%{customdata[3]}<br>Origen=%{customdata[5]}<extra></extra>",
         "legendgroup": "voip experts so...",
         "marker": {
          "color": "#00cc96",
          "line": {
           "color": "DarkSlateGrey",
           "width": 2
          },
          "size": 12,
          "symbol": "circle"
         },
         "mode": "markers",
         "name": "voip experts so...",
         "orientation": "v",
         "showlegend": true,
         "type": "scatter",
         "x": [
          "01-2022",
          "01-2022",
          "03-2022",
          "06-2022"
         ],
         "xaxis": "x",
         "y": [
          -326541.1,
          -462060.4,
          -418068.7,
          -210524.1
         ],
         "yaxis": "y"
        },
        {
         "customdata": [
          [
           57.4,
           836007.5,
           780487.8,
           44800,
           "volpi guillermo...",
           "China"
          ]
         ],
         "hovertemplate": "Exportador=%{customdata[4]}<br>Fecha=%{x}<br>Spread=%{y}<br>Kg=%{customdata[0]}<br>Precio de referencia=%{customdata[1]}<br>Precio=%{customdata[2]}<br>Fob=%{customdata[3]}<br>Origen=%{customdata[5]}<extra></extra>",
         "legendgroup": "volpi guillermo...",
         "marker": {
          "color": "#ab63fa",
          "line": {
           "color": "DarkSlateGrey",
           "width": 2
          },
          "size": 12,
          "symbol": "circle"
         },
         "mode": "markers",
         "name": "volpi guillermo...",
         "orientation": "v",
         "showlegend": true,
         "type": "scatter",
         "x": [
          "08-2021"
         ],
         "xaxis": "x",
         "y": [
          -55519.7
         ],
         "yaxis": "y"
        },
        {
         "customdata": [
          [
           0.6,
           687841.9,
           674135.6,
           397.7,
           "zkteco argentin...",
           "China"
          ],
          [
           225.8,
           834502.8,
           11348.8,
           2562,
           "zkteco argentin...",
           "China"
          ]
         ],
         "hovertemplate": "Exportador=%{customdata[4]}<br>Fecha=%{x}<br>Spread=%{y}<br>Kg=%{customdata[0]}<br>Precio de referencia=%{customdata[1]}<br>Precio=%{customdata[2]}<br>Fob=%{customdata[3]}<br>Origen=%{customdata[5]}<extra></extra>",
         "legendgroup": "zkteco argentin...",
         "marker": {
          "color": "#FFA15A",
          "line": {
           "color": "DarkSlateGrey",
           "width": 2
          },
          "size": 12,
          "symbol": "circle"
         },
         "mode": "markers",
         "name": "zkteco argentin...",
         "orientation": "v",
         "showlegend": true,
         "type": "scatter",
         "x": [
          "09-2021",
          "12-2021"
         ],
         "xaxis": "x",
         "y": [
          -13706.3,
          -823154
         ],
         "yaxis": "y"
        }
       ],
       "layout": {
        "font": {
         "family": "Georgia",
         "size": 13
        },
        "height": 700,
        "legend": {
         "title": {
          "text": "Exportador"
         },
         "tracegroupgap": 0
        },
        "margin": {
         "t": 150
        },
        "separators": ",.",
        "template": {
         "data": {
          "scatter": [
           {
            "type": "scatter"
           }
          ]
         }
        },
        "title": {
         "text": "FOB por tonelada importada 2021-2022 de: <br>\"Placas  de microprocesamiento c/dispositivo de disipacion de color,incluso...\"<br>NCM:84733043<br> <sup> Precio de referencia a partir de datos mensuales",
         "y": 0.95
        },
        "width": 900,
        "xaxis": {
         "anchor": "y",
         "categoryarray": [
          "01-2021",
          "02-2021",
          "03-2021",
          "04-2021",
          "05-2021",
          "06-2021",
          "07-2021",
          "08-2021",
          "09-2021",
          "10-2021",
          "11-2021",
          "12-2021",
          "01-2022",
          "02-2022",
          "03-2022",
          "04-2022",
          "05-2022",
          "06-2022",
          "07-2022",
          "08-2022"
         ],
         "categoryorder": "array",
         "domain": [
          0,
          1
         ],
         "title": {
          "text": ""
         },
         "type": "category"
        },
        "yaxis": {
         "anchor": "x",
         "domain": [
          0,
          1
         ],
         "range": [
          -1089086.9596277096,
          14044967.530296698
         ],
         "title": {
          "text": "Diferencia en USD"
         }
        }
       }
      }
     },
     "metadata": {},
     "output_type": "display_data"
    }
   ],
   "source": [
    "ncm='84733043'\n",
    "# precio_boxplot_capitalizado(df=df_producto,\n",
    "#                             ncm=ncm,\n",
    "#                             # sim=sim_unique(ncm)[1],\n",
    "#                             )\n",
    "\n",
    "plot_precio(df=df_producto,\n",
    "            ncm=ncm,\n",
    "            # sim=sim_unique(ncm)[0],\n",
    "            color='empresa',\n",
    "            pais='China'\n",
    "            )"
   ]
  },
  {
   "cell_type": "code",
   "execution_count": 10,
   "metadata": {},
   "outputs": [
    {
     "data": {
      "text/plain": [
       "array(['190C', '110B'], dtype=object)"
      ]
     },
     "execution_count": 10,
     "metadata": {},
     "output_type": "execute_result"
    }
   ],
   "source": [
    "sim_unique(ncm='12019000')"
   ]
  },
  {
   "cell_type": "code",
   "execution_count": 14,
   "metadata": {},
   "outputs": [
    {
     "data": {
      "application/vnd.plotly.v1+json": {
       "config": {
        "plotlyServerURL": "https://plot.ly"
       },
       "data": [
        {
         "customdata": [
          [
           4363790,
           507.6,
           510.7,
           2228500.3,
           "aceitera genera...",
           "Paraguay"
          ],
          [
           11273079,
           507.6,
           510.7,
           5756936,
           "aceitera genera...",
           "Paraguay"
          ],
          [
           6581717,
           507.6,
           511.7,
           3367798.8,
           "aceitera genera...",
           "Paraguay"
          ],
          [
           26665540,
           507.6,
           511.7,
           13644490.2,
           "aceitera genera...",
           "Paraguay"
          ],
          [
           32518353,
           505.2,
           503.1,
           16361609.3,
           "aceitera genera...",
           "Paraguay"
          ],
          [
           4071384,
           541.1,
           560.6,
           2282255,
           "aceitera genera...",
           "Paraguay"
          ],
          [
           30793839,
           527.2,
           575.9,
           17734171.9,
           "aceitera genera...",
           "Paraguay"
          ],
          [
           26954556,
           527.2,
           540.2,
           14560042.5,
           "aceitera genera...",
           "Paraguay"
          ],
          [
           8050293,
           527.2,
           568.3,
           4574820.5,
           "aceitera genera...",
           "Paraguay"
          ],
          [
           15466900,
           507.8,
           544.2,
           8417241.6,
           "aceitera genera...",
           "Paraguay"
          ],
          [
           26314150,
           509.5,
           506.9,
           13339432.1,
           "aceitera genera...",
           "Paraguay"
          ],
          [
           27795470,
           515.8,
           515.2,
           14319948.2,
           "aceitera genera...",
           "Paraguay"
          ],
          [
           3750932,
           515.8,
           496.9,
           1863950.6,
           "aceitera genera...",
           "Paraguay"
          ],
          [
           29646059,
           517.9,
           496.9,
           14732016.1,
           "aceitera genera...",
           "Paraguay"
          ],
          [
           9991983,
           517.9,
           512.9,
           5124706.6,
           "aceitera genera...",
           "Paraguay"
          ],
          [
           16131472,
           517.9,
           512.9,
           8274315.9,
           "aceitera genera...",
           "Paraguay"
          ],
          [
           25663245,
           670.6,
           673.5,
           17284708.8,
           "aceitera genera...",
           "Paraguay"
          ],
          [
           7368906,
           670.6,
           677.6,
           4993094.9,
           "aceitera genera...",
           "Paraguay"
          ],
          [
           30499883,
           629.9,
           651.1,
           19858227.5,
           "aceitera genera...",
           "Paraguay"
          ],
          [
           23895468,
           632,
           630.5,
           15067048.4,
           "aceitera genera...",
           "Paraguay"
          ],
          [
           11536821,
           632,
           647.5,
           7470437.7,
           "aceitera genera...",
           "Paraguay"
          ],
          [
           3972328,
           632,
           630.5,
           2504711.7,
           "aceitera genera...",
           "Paraguay"
          ],
          [
           22958396,
           632,
           620.6,
           14246832.6,
           "aceitera genera...",
           "Paraguay"
          ],
          [
           14853485,
           632,
           624.5,
           9276595.5,
           "aceitera genera...",
           "Paraguay"
          ],
          [
           16138727,
           637.1,
           645.5,
           10418032.4,
           "aceitera genera...",
           "Paraguay"
          ]
         ],
         "hovertemplate": "Exportador=%{customdata[4]}<br>Fecha=%{x}<br>Spread=%{y}<br>Kg=%{customdata[0]}<br>Precio de referencia=%{customdata[1]}<br>Precio=%{customdata[2]}<br>Fob=%{customdata[3]}<br>Origen=%{customdata[5]}<extra></extra>",
         "legendgroup": "aceitera genera...",
         "marker": {
          "color": "#636efa",
          "line": {
           "color": "DarkSlateGrey",
           "width": 2
          },
          "size": 12,
          "symbol": "circle"
         },
         "mode": "markers",
         "name": "aceitera genera...",
         "orientation": "v",
         "showlegend": true,
         "type": "scatter",
         "x": [
          "03-2021",
          "03-2021",
          "03-2021",
          "03-2021",
          "04-2021",
          "05-2021",
          "06-2021",
          "06-2021",
          "06-2021",
          "07-2021",
          "08-2021",
          "11-2021",
          "11-2021",
          "12-2021",
          "12-2021",
          "12-2021",
          "03-2022",
          "03-2022",
          "04-2022",
          "05-2022",
          "05-2022",
          "05-2022",
          "05-2022",
          "05-2022",
          "06-2022"
         ],
         "xaxis": "x",
         "y": [
          3.1,
          3.1,
          4.1,
          4.1,
          -2.1,
          19.5,
          48.7,
          13,
          41.1,
          36.4,
          -2.6,
          -0.6,
          -18.8,
          -21,
          -5.1,
          -5,
          2.9,
          7,
          21.2,
          -1.5,
          15.5,
          -1.5,
          -11.5,
          -7.5,
          8.4
         ],
         "yaxis": "y"
        },
        {
         "customdata": [
          [
           28620,
           541.1,
           430,
           12306.6,
           "alfatrans s.a.s...",
           "Argentina"
          ]
         ],
         "hovertemplate": "Exportador=%{customdata[4]}<br>Fecha=%{x}<br>Spread=%{y}<br>Kg=%{customdata[0]}<br>Precio de referencia=%{customdata[1]}<br>Precio=%{customdata[2]}<br>Fob=%{customdata[3]}<br>Origen=%{customdata[5]}<extra></extra>",
         "legendgroup": "alfatrans s.a.s...",
         "marker": {
          "color": "#EF553B",
          "line": {
           "color": "DarkSlateGrey",
           "width": 2
          },
          "size": 12,
          "symbol": "circle"
         },
         "mode": "markers",
         "name": "alfatrans s.a.s...",
         "orientation": "v",
         "showlegend": true,
         "type": "scatter",
         "x": [
          "05-2021"
         ],
         "xaxis": "x",
         "y": [
          -111.1
         ],
         "yaxis": "y"
        },
        {
         "customdata": [
          [
           17576099,
           541.1,
           533.1,
           9369642.6,
           "amaggi argentin...",
           "Paraguay"
          ],
          [
           16021785,
           541.1,
           536.8,
           8600334,
           "amaggi argentin...",
           "Paraguay"
          ],
          [
           20390819,
           541.1,
           522.6,
           10655630.3,
           "amaggi argentin...",
           "Paraguay"
          ],
          [
           30176524,
           541.1,
           540,
           16294733.9,
           "amaggi argentin...",
           "Paraguay"
          ],
          [
           2369128,
           527.2,
           498.5,
           1181034,
           "amaggi argentin...",
           "Bolivia"
          ],
          [
           25126579,
           527.2,
           561.5,
           14109076.6,
           "amaggi argentin...",
           "Paraguay"
          ],
          [
           5043282,
           527.2,
           517.6,
           2610201,
           "amaggi argentin...",
           "Bolivia"
          ],
          [
           24602928,
           507.8,
           504.7,
           12417589.8,
           "amaggi argentin...",
           "Paraguay"
          ],
          [
           9437965,
           509.5,
           535.2,
           5051387.6,
           "amaggi argentin...",
           "Bolivia"
          ]
         ],
         "hovertemplate": "Exportador=%{customdata[4]}<br>Fecha=%{x}<br>Spread=%{y}<br>Kg=%{customdata[0]}<br>Precio de referencia=%{customdata[1]}<br>Precio=%{customdata[2]}<br>Fob=%{customdata[3]}<br>Origen=%{customdata[5]}<extra></extra>",
         "legendgroup": "amaggi argentin...",
         "marker": {
          "color": "#00cc96",
          "line": {
           "color": "DarkSlateGrey",
           "width": 2
          },
          "size": 12,
          "symbol": "circle"
         },
         "mode": "markers",
         "name": "amaggi argentin...",
         "orientation": "v",
         "showlegend": true,
         "type": "scatter",
         "x": [
          "05-2021",
          "05-2021",
          "05-2021",
          "05-2021",
          "06-2021",
          "06-2021",
          "06-2021",
          "07-2021",
          "08-2021"
         ],
         "xaxis": "x",
         "y": [
          -8,
          -4.3,
          -18.5,
          -1.1,
          -28.6,
          34.4,
          -9.6,
          -3.1,
          25.7
         ],
         "yaxis": "y"
        },
        {
         "customdata": [
          [
           6829960,
           507.6,
           496.8,
           3393200.6,
           "bunge argentina...",
           "Paraguay"
          ],
          [
           16325764,
           507.6,
           501.5,
           8186893.9,
           "bunge argentina...",
           "Paraguay"
          ],
          [
           6692469,
           507.6,
           500.2,
           3347873,
           "bunge argentina...",
           "Paraguay"
          ],
          [
           5762710,
           505.2,
           496.8,
           2862978.9,
           "bunge argentina...",
           "Paraguay"
          ],
          [
           7459959,
           505.2,
           492.5,
           3673837.2,
           "bunge argentina...",
           "Paraguay"
          ],
          [
           7108765,
           505.2,
           496.8,
           3531714.1,
           "bunge argentina...",
           "Paraguay"
          ],
          [
           10047588,
           505.2,
           499.5,
           5019225.4,
           "bunge argentina...",
           "Paraguay"
          ],
          [
           12782676,
           505.2,
           494,
           6314638.4,
           "bunge argentina...",
           "Paraguay"
          ],
          [
           14295722,
           541.1,
           490,
           7005377.3,
           "bunge argentina...",
           "Paraguay"
          ],
          [
           9823585,
           527.2,
           490.1,
           4814789.4,
           "bunge argentina...",
           "Paraguay"
          ],
          [
           5118293,
           527.2,
           489,
           2502662.6,
           "bunge argentina...",
           "Paraguay"
          ],
          [
           3992717,
           527.2,
           492.8,
           1967664.3,
           "bunge argentina...",
           "Paraguay"
          ],
          [
           9915074,
           527.2,
           490.6,
           4864291.6,
           "bunge argentina...",
           "Paraguay"
          ],
          [
           12509991,
           527.2,
           504.2,
           6308136.7,
           "bunge argentina...",
           "Paraguay"
          ],
          [
           2902881,
           527.2,
           504.2,
           1463771.6,
           "bunge argentina...",
           "Paraguay"
          ],
          [
           12403651,
           507.8,
           495.3,
           6143315.3,
           "bunge argentina...",
           "Paraguay"
          ],
          [
           1282478,
           507.8,
           491.4,
           630212.2,
           "bunge argentina...",
           "Paraguay"
          ],
          [
           8108980,
           507.8,
           493,
           3997701.1,
           "bunge argentina...",
           "Paraguay"
          ],
          [
           5731086,
           509.5,
           494.7,
           2835253.6,
           "bunge argentina...",
           "Paraguay"
          ],
          [
           3833840,
           509.5,
           497.9,
           1908926.1,
           "bunge argentina...",
           "Paraguay"
          ],
          [
           3856587,
           509.5,
           491.4,
           1895134.6,
           "bunge argentina...",
           "Paraguay"
          ],
          [
           2826604,
           509.5,
           497.9,
           1407408.2,
           "bunge argentina...",
           "Paraguay"
          ],
          [
           13933423,
           509.5,
           497.9,
           6937658.9,
           "bunge argentina...",
           "Paraguay"
          ],
          [
           8930773,
           522.5,
           497.9,
           4446765,
           "bunge argentina...",
           "Paraguay"
          ],
          [
           2318892,
           522.5,
           497.9,
           1154610.9,
           "bunge argentina...",
           "Paraguay"
          ],
          [
           9843747,
           518.5,
           493,
           4852556.9,
           "bunge argentina...",
           "Paraguay"
          ],
          [
           1538290,
           518.5,
           494,
           759860.3,
           "bunge argentina...",
           "Paraguay"
          ],
          [
           16029625,
           518.5,
           495.5,
           7942112.5,
           "bunge argentina...",
           "Paraguay"
          ],
          [
           17475400,
           515.8,
           496.7,
           8680482.4,
           "bunge argentina...",
           "Paraguay"
          ],
          [
           7214576,
           515.8,
           497.9,
           3592244.9,
           "bunge argentina...",
           "Paraguay"
          ],
          [
           7371395,
           515.8,
           486.3,
           3584508.1,
           "bunge argentina...",
           "Paraguay"
          ],
          [
           7692211,
           515.8,
           452.7,
           3482226.6,
           "bunge argentina...",
           "Paraguay"
          ],
          [
           16677485,
           517.9,
           502.4,
           8377984.7,
           "bunge argentina...",
           "Paraguay"
          ],
          [
           3684479,
           517.9,
           456.8,
           1683074.6,
           "bunge argentina...",
           "Paraguay"
          ],
          [
           1840871,
           517.9,
           434.3,
           799461.4,
           "bunge argentina...",
           "Paraguay"
          ],
          [
           1674763,
           517.9,
           434.3,
           727323.3,
           "bunge argentina...",
           "Paraguay"
          ],
          [
           10812975,
           517.9,
           521.4,
           5638331.4,
           "bunge argentina...",
           "Paraguay"
          ],
          [
           21750450,
           637.1,
           672.4,
           14623915.1,
           "bunge argentina...",
           "Uruguay"
          ],
          [
           14370685,
           566.9,
           622.1,
           8939859.4,
           "bunge argentina...",
           "Uruguay"
          ],
          [
           3588630,
           566.9,
           602.1,
           2160678.2,
           "bunge argentina...",
           "Uruguay"
          ],
          [
           11461620,
           566.9,
           602.1,
           6900926.8,
           "bunge argentina...",
           "Uruguay"
          ]
         ],
         "hovertemplate": "Exportador=%{customdata[4]}<br>Fecha=%{x}<br>Spread=%{y}<br>Kg=%{customdata[0]}<br>Precio de referencia=%{customdata[1]}<br>Precio=%{customdata[2]}<br>Fob=%{customdata[3]}<br>Origen=%{customdata[5]}<extra></extra>",
         "legendgroup": "bunge argentina...",
         "marker": {
          "color": "#ab63fa",
          "line": {
           "color": "DarkSlateGrey",
           "width": 2
          },
          "size": 12,
          "symbol": "circle"
         },
         "mode": "markers",
         "name": "bunge argentina...",
         "orientation": "v",
         "showlegend": true,
         "type": "scatter",
         "x": [
          "03-2021",
          "03-2021",
          "03-2021",
          "04-2021",
          "04-2021",
          "04-2021",
          "04-2021",
          "04-2021",
          "05-2021",
          "06-2021",
          "06-2021",
          "06-2021",
          "06-2021",
          "06-2021",
          "06-2021",
          "07-2021",
          "07-2021",
          "07-2021",
          "08-2021",
          "08-2021",
          "08-2021",
          "08-2021",
          "08-2021",
          "09-2021",
          "09-2021",
          "10-2021",
          "10-2021",
          "10-2021",
          "11-2021",
          "11-2021",
          "11-2021",
          "11-2021",
          "12-2021",
          "12-2021",
          "12-2021",
          "12-2021",
          "12-2021",
          "06-2022",
          "07-2022",
          "07-2022",
          "07-2022"
         ],
         "xaxis": "x",
         "y": [
          -10.8,
          -6.1,
          -7.3,
          -8.4,
          -12.7,
          -8.4,
          -5.7,
          -11.2,
          -51,
          -37,
          -38.2,
          -34.3,
          -36.6,
          -22.9,
          -22.9,
          -12.6,
          -16.4,
          -14.9,
          -14.8,
          -11.6,
          -18.1,
          -11.6,
          -11.6,
          -24.6,
          -24.6,
          -25.5,
          -24.5,
          -23,
          -19,
          -17.9,
          -29.5,
          -63.1,
          -15.6,
          -61.1,
          -83.7,
          -83.7,
          3.5,
          35.3,
          55.2,
          35.2,
          35.2
         ],
         "yaxis": "y"
        },
        {
         "customdata": [
          [
           17838076,
           508.2,
           485.7,
           8664513.8,
           "cargill socieda...",
           "Paraguay"
          ],
          [
           436576,
           508.2,
           478.9,
           209093.7,
           "cargill socieda...",
           "Paraguay"
          ],
          [
           11428796,
           508.2,
           520.1,
           5944116.8,
           "cargill socieda...",
           "Paraguay"
          ],
          [
           7551555,
           508.2,
           520.1,
           3927563.8,
           "cargill socieda...",
           "Paraguay"
          ],
          [
           3130020,
           508.2,
           556.1,
           1740635.4,
           "cargill socieda...",
           "Paraguay"
          ],
          [
           4429169,
           508.2,
           548.3,
           2428611.9,
           "cargill socieda...",
           "Paraguay"
          ],
          [
           4411272,
           539.9,
           539.9,
           2381822.2,
           "cargill socieda...",
           "Paraguay"
          ],
          [
           17706714,
           539.9,
           539.9,
           9560563.2,
           "cargill socieda...",
           "Paraguay"
          ],
          [
           49563387,
           507.6,
           513.9,
           25468146.4,
           "cargill socieda...",
           "Paraguay"
          ],
          [
           33379546,
           507.6,
           505.4,
           16870022.6,
           "cargill socieda...",
           "Paraguay"
          ],
          [
           27552961,
           507.6,
           503.9,
           13884763.6,
           "cargill socieda...",
           "Paraguay"
          ],
          [
           15441948,
           507.6,
           503.9,
           7781660.9,
           "cargill socieda...",
           "Paraguay"
          ],
          [
           19683460,
           507.6,
           503.9,
           9919086,
           "cargill socieda...",
           "Paraguay"
          ],
          [
           15575510,
           507.6,
           503.9,
           7848966.8,
           "cargill socieda...",
           "Paraguay"
          ],
          [
           12114745,
           507.6,
           500.8,
           6066700.8,
           "cargill socieda...",
           "Paraguay"
          ],
          [
           23631695,
           507.6,
           498.1,
           11769765.7,
           "cargill socieda...",
           "Paraguay"
          ],
          [
           23403191,
           507.6,
           498.1,
           11655959.3,
           "cargill socieda...",
           "Paraguay"
          ],
          [
           1236590,
           505.2,
           498.1,
           615883.6,
           "cargill socieda...",
           "Paraguay"
          ],
          [
           26992870,
           505.2,
           490.9,
           13251438,
           "cargill socieda...",
           "Paraguay"
          ],
          [
           2061067,
           505.2,
           488.1,
           1006068.6,
           "cargill socieda...",
           "Paraguay"
          ],
          [
           9144002,
           505.2,
           499,
           4562948.4,
           "cargill socieda...",
           "Paraguay"
          ],
          [
           15143225,
           505.2,
           486.4,
           7365361.8,
           "cargill socieda...",
           "Brasil"
          ],
          [
           5072535,
           505.2,
           486.4,
           2467179.6,
           "cargill socieda...",
           "Brasil"
          ],
          [
           6661235,
           505.2,
           484.3,
           3226169.3,
           "cargill socieda...",
           "Brasil"
          ],
          [
           2692941,
           505.2,
           494.3,
           1331070.4,
           "cargill socieda...",
           "Paraguay"
          ],
          [
           15499238,
           505.2,
           499.9,
           7747914.1,
           "cargill socieda...",
           "Paraguay"
          ],
          [
           12933998,
           505.2,
           499.9,
           6465576.3,
           "cargill socieda...",
           "Paraguay"
          ],
          [
           3775462,
           505.2,
           526.4,
           1987478.7,
           "cargill socieda...",
           "Paraguay"
          ],
          [
           20717304,
           505.2,
           526.4,
           10906003.2,
           "cargill socieda...",
           "Paraguay"
          ],
          [
           4230365,
           541.1,
           534.4,
           2260834,
           "cargill socieda...",
           "Paraguay"
          ],
          [
           5748814,
           541.1,
           551.7,
           3171620.7,
           "cargill socieda...",
           "Paraguay"
          ],
          [
           19044860,
           541.1,
           533.7,
           10163422.3,
           "cargill socieda...",
           "Paraguay"
          ],
          [
           22444083,
           541.1,
           556.8,
           12497763.2,
           "cargill socieda...",
           "Paraguay"
          ],
          [
           9742330,
           541.1,
           548.8,
           5346980.4,
           "cargill socieda...",
           "Brasil"
          ],
          [
           18842569,
           541.1,
           556.8,
           10492296.1,
           "cargill socieda...",
           "Paraguay"
          ],
          [
           12117505,
           541.1,
           537.4,
           6512553.1,
           "cargill socieda...",
           "Brasil"
          ],
          [
           17259272,
           527.2,
           531.4,
           9170714.2,
           "cargill socieda...",
           "Brasil"
          ],
          [
           8149630,
           527.2,
           539.3,
           4395502.9,
           "cargill socieda...",
           "Paraguay"
          ],
          [
           6997080,
           527.2,
           545.1,
           3814038.3,
           "cargill socieda...",
           "Paraguay"
          ],
          [
           7248144,
           527.2,
           545.1,
           3950890.8,
           "cargill socieda...",
           "Paraguay"
          ],
          [
           24824646,
           527.2,
           543.9,
           13501816.2,
           "cargill socieda...",
           "Paraguay"
          ],
          [
           13006054,
           527.2,
           533.8,
           6943151.9,
           "cargill socieda...",
           "Paraguay"
          ],
          [
           9523468,
           527.2,
           485.2,
           4620691.4,
           "cargill socieda...",
           "Paraguay"
          ],
          [
           12195094,
           507.8,
           479,
           5841815.9,
           "cargill socieda...",
           "Brasil"
          ],
          [
           3861987,
           507.8,
           510.5,
           1971737.5,
           "cargill socieda...",
           "Paraguay"
          ],
          [
           24300988,
           507.8,
           512.8,
           12460331.6,
           "cargill socieda...",
           "Paraguay"
          ],
          [
           18544148,
           507.8,
           514.2,
           9535771.8,
           "cargill socieda...",
           "Paraguay"
          ],
          [
           998619,
           507.8,
           514.2,
           513509.9,
           "cargill socieda...",
           "Paraguay"
          ],
          [
           11971119,
           509.5,
           509.1,
           6094257.2,
           "cargill socieda...",
           "Paraguay"
          ],
          [
           12245255,
           509.5,
           509.1,
           6233814.4,
           "cargill socieda...",
           "Paraguay"
          ],
          [
           12360784,
           509.5,
           498.6,
           6163704.9,
           "cargill socieda...",
           "Brasil"
          ],
          [
           19025805,
           522.5,
           517.9,
           9853274.2,
           "cargill socieda...",
           "Paraguay"
          ],
          [
           9701102,
           522.5,
           531.5,
           5156038.7,
           "cargill socieda...",
           "Paraguay"
          ],
          [
           1514153,
           518.5,
           532.2,
           805877.6,
           "cargill socieda...",
           "Paraguay"
          ],
          [
           21803615,
           518.5,
           523.3,
           11408959.6,
           "cargill socieda...",
           "Paraguay"
          ],
          [
           16462995,
           518.5,
           525.2,
           8647023.5,
           "cargill socieda...",
           "Paraguay"
          ],
          [
           4019760,
           518.5,
           525.2,
           2111338.7,
           "cargill socieda...",
           "Paraguay"
          ],
          [
           24450447,
           515.8,
           524.9,
           12833550.6,
           "cargill socieda...",
           "Paraguay"
          ],
          [
           7700830,
           515.8,
           509.1,
           3920338.5,
           "cargill socieda...",
           "Paraguay"
          ],
          [
           15054411,
           515.8,
           504.7,
           7597509.6,
           "cargill socieda...",
           "Paraguay"
          ],
          [
           10770962,
           515.8,
           509.1,
           5483281.3,
           "cargill socieda...",
           "Paraguay"
          ],
          [
           15446054,
           515.8,
           533,
           8232128.9,
           "cargill socieda...",
           "Paraguay"
          ],
          [
           19093117,
           517.9,
           531.9,
           10154865.2,
           "cargill socieda...",
           "Paraguay"
          ],
          [
           21427378,
           517.9,
           533,
           11419935.4,
           "cargill socieda...",
           "Paraguay"
          ],
          [
           18135646,
           612.6,
           616.1,
           11173190.1,
           "cargill socieda...",
           "Paraguay"
          ],
          [
           19307119,
           670.6,
           632.2,
           12205574.5,
           "cargill socieda...",
           "Paraguay"
          ],
          [
           7091281,
           670.6,
           680.7,
           4826964.1,
           "cargill socieda...",
           "Paraguay"
          ],
          [
           13568600,
           670.6,
           652.8,
           8857039.3,
           "cargill socieda...",
           "Paraguay"
          ],
          [
           15627634,
           629.9,
           608.3,
           9506289.8,
           "cargill socieda...",
           "Paraguay"
          ],
          [
           9970486,
           629.9,
           595.7,
           5939219.1,
           "cargill socieda...",
           "Bolivia"
          ],
          [
           29483679,
           629.9,
           635.2,
           18728999.1,
           "cargill socieda...",
           "Paraguay"
          ],
          [
           19758515,
           629.9,
           619.3,
           12236843.5,
           "cargill socieda...",
           "Paraguay"
          ],
          [
           5037297,
           629.9,
           614.8,
           3096879.8,
           "cargill socieda...",
           "Bolivia"
          ],
          [
           15007280,
           629.9,
           637,
           9559787.4,
           "cargill socieda...",
           "Uruguay"
          ],
          [
           10429000,
           629.9,
           604.9,
           6308189.2,
           "cargill socieda...",
           "Bolivia"
          ],
          [
           15007915,
           632,
           632.7,
           9494907.5,
           "cargill socieda...",
           "Uruguay"
          ],
          [
           15009145,
           632,
           627.2,
           9414035.9,
           "cargill socieda...",
           "Uruguay"
          ],
          [
           15020330,
           632,
           640.5,
           9619770.4,
           "cargill socieda...",
           "Uruguay"
          ],
          [
           15008990,
           632,
           648.5,
           9733780.3,
           "cargill socieda...",
           "Uruguay"
          ],
          [
           15041790,
           632,
           644.5,
           9694283.2,
           "cargill socieda...",
           "Uruguay"
          ],
          [
           12858972,
           632,
           618,
           7947230.5,
           "cargill socieda...",
           "Bolivia"
          ],
          [
           8751773,
           637.1,
           631.7,
           5528144.9,
           "cargill socieda...",
           "Paraguay"
          ],
          [
           15010450,
           637.1,
           657.5,
           9869070.7,
           "cargill socieda...",
           "Uruguay"
          ],
          [
           15096880,
           637.1,
           631.1,
           9528093.9,
           "cargill socieda...",
           "Uruguay"
          ],
          [
           7500750,
           637.1,
           630.1,
           4726447.6,
           "cargill socieda...",
           "Uruguay"
          ],
          [
           10080342,
           637.1,
           552.5,
           5569288.2,
           "cargill socieda...",
           "Bolivia"
          ],
          [
           15077690,
           637.1,
           591.1,
           8912121,
           "cargill socieda...",
           "Uruguay"
          ],
          [
           7499950,
           566.9,
           580.9,
           4356646,
           "cargill socieda...",
           "Uruguay"
          ],
          [
           18121610,
           566.9,
           601,
           10890181.5,
           "cargill socieda...",
           "Paraguay"
          ],
          [
           7565665,
           566.9,
           517.4,
           3914475.1,
           "cargill socieda...",
           "Bolivia"
          ],
          [
           14448837,
           566.9,
           554.4,
           8009857.3,
           "cargill socieda...",
           "Paraguay"
          ],
          [
           15029480,
           567.1,
           592.9,
           8911129,
           "cargill socieda...",
           "Uruguay"
          ],
          [
           18053817,
           567.1,
           543.5,
           9812069,
           "cargill socieda...",
           "Bolivia"
          ],
          [
           15030455,
           567.1,
           595.2,
           8946277.1,
           "cargill socieda...",
           "Uruguay"
          ],
          [
           13603066,
           567.1,
           549.2,
           7471348,
           "cargill socieda...",
           "Bolivia"
          ],
          [
           10101316,
           567.1,
           549.2,
           5548046.8,
           "cargill socieda...",
           "Bolivia"
          ],
          [
           15033115,
           567.1,
           602.5,
           9057000.8,
           "cargill socieda...",
           "Uruguay"
          ]
         ],
         "hovertemplate": "Exportador=%{customdata[4]}<br>Fecha=%{x}<br>Spread=%{y}<br>Kg=%{customdata[0]}<br>Precio de referencia=%{customdata[1]}<br>Precio=%{customdata[2]}<br>Fob=%{customdata[3]}<br>Origen=%{customdata[5]}<extra></extra>",
         "legendgroup": "cargill socieda...",
         "marker": {
          "color": "#FFA15A",
          "line": {
           "color": "DarkSlateGrey",
           "width": 2
          },
          "size": 12,
          "symbol": "circle"
         },
         "mode": "markers",
         "name": "cargill socieda...",
         "orientation": "v",
         "showlegend": true,
         "type": "scatter",
         "x": [
          "01-2021",
          "01-2021",
          "01-2021",
          "01-2021",
          "01-2021",
          "01-2021",
          "02-2021",
          "02-2021",
          "03-2021",
          "03-2021",
          "03-2021",
          "03-2021",
          "03-2021",
          "03-2021",
          "03-2021",
          "03-2021",
          "03-2021",
          "04-2021",
          "04-2021",
          "04-2021",
          "04-2021",
          "04-2021",
          "04-2021",
          "04-2021",
          "04-2021",
          "04-2021",
          "04-2021",
          "04-2021",
          "04-2021",
          "05-2021",
          "05-2021",
          "05-2021",
          "05-2021",
          "05-2021",
          "05-2021",
          "05-2021",
          "06-2021",
          "06-2021",
          "06-2021",
          "06-2021",
          "06-2021",
          "06-2021",
          "06-2021",
          "07-2021",
          "07-2021",
          "07-2021",
          "07-2021",
          "07-2021",
          "08-2021",
          "08-2021",
          "08-2021",
          "09-2021",
          "09-2021",
          "10-2021",
          "10-2021",
          "10-2021",
          "10-2021",
          "11-2021",
          "11-2021",
          "11-2021",
          "11-2021",
          "11-2021",
          "12-2021",
          "12-2021",
          "02-2022",
          "03-2022",
          "03-2022",
          "03-2022",
          "04-2022",
          "04-2022",
          "04-2022",
          "04-2022",
          "04-2022",
          "04-2022",
          "04-2022",
          "05-2022",
          "05-2022",
          "05-2022",
          "05-2022",
          "05-2022",
          "05-2022",
          "06-2022",
          "06-2022",
          "06-2022",
          "06-2022",
          "06-2022",
          "06-2022",
          "07-2022",
          "07-2022",
          "07-2022",
          "07-2022",
          "08-2022",
          "08-2022",
          "08-2022",
          "08-2022",
          "08-2022",
          "08-2022"
         ],
         "xaxis": "x",
         "y": [
          -22.5,
          -29.2,
          11.9,
          11.9,
          47.9,
          40.1,
          0,
          0,
          6.3,
          -2.2,
          -3.7,
          -3.7,
          -3.7,
          -3.7,
          -6.8,
          -9.5,
          -9.5,
          -7.2,
          -14.3,
          -17.1,
          -6.2,
          -18.8,
          -18.8,
          -20.9,
          -10.9,
          -5.3,
          -5.3,
          21.2,
          21.2,
          -6.6,
          10.6,
          -7.4,
          15.8,
          7.8,
          15.8,
          -3.6,
          4.2,
          12.2,
          17.9,
          17.9,
          16.7,
          6.7,
          -42,
          -28.8,
          2.7,
          4.9,
          6.4,
          6.4,
          -0.5,
          -0.5,
          -10.9,
          -4.6,
          9,
          13.8,
          4.8,
          6.8,
          6.8,
          9.1,
          -6.7,
          -11.1,
          -6.7,
          17.2,
          13.9,
          15,
          3.5,
          -38.4,
          10.1,
          -17.8,
          -21.6,
          -34.2,
          5.4,
          -10.6,
          -15.1,
          7.1,
          -25,
          0.6,
          -4.8,
          8.4,
          16.5,
          12.5,
          -14,
          -5.4,
          20.4,
          -6,
          -7,
          -84.6,
          -46,
          14,
          34,
          -49.5,
          -12.6,
          25.8,
          -23.6,
          28.1,
          -17.9,
          -17.9,
          35.3
         ],
         "yaxis": "y"
        },
        {
         "customdata": [
          [
           14506604,
           508.2,
           498.5,
           7231542.1,
           "cofco internati...",
           "Paraguay"
          ],
          [
           13502977,
           507.6,
           542,
           7318613.5,
           "cofco internati...",
           "Paraguay"
          ],
          [
           24502115,
           507.6,
           509,
           12471576.5,
           "cofco internati...",
           "Paraguay"
          ],
          [
           36847475,
           507.6,
           511.5,
           18847990,
           "cofco internati...",
           "Paraguay"
          ],
          [
           30798455,
           507.6,
           514.9,
           15858485.2,
           "cofco internati...",
           "Paraguay"
          ],
          [
           16496493,
           507.6,
           520,
           8578110.3,
           "cofco internati...",
           "Paraguay"
          ],
          [
           24689795,
           507.6,
           512.3,
           12649507.6,
           "cofco internati...",
           "Paraguay"
          ],
          [
           5385465,
           507.6,
           513,
           2762743.6,
           "cofco internati...",
           "Paraguay"
          ],
          [
           10785320,
           507.6,
           513,
           5532869.2,
           "cofco internati...",
           "Paraguay"
          ],
          [
           27883200,
           507.6,
           533.3,
           14869108.9,
           "cofco internati...",
           "Paraguay"
          ],
          [
           13941570,
           507.6,
           498,
           6942483.5,
           "cofco internati...",
           "Paraguay"
          ],
          [
           56411482,
           505.2,
           499.2,
           28161813.2,
           "cofco internati...",
           "Paraguay"
          ],
          [
           5335106,
           505.2,
           510,
           2720904.1,
           "cofco internati...",
           "Paraguay"
          ],
          [
           14587131,
           505.2,
           513,
           7483198.2,
           "cofco internati...",
           "Paraguay"
          ],
          [
           31531355,
           505.2,
           484.9,
           15290815.3,
           "cofco internati...",
           "Paraguay"
          ],
          [
           41696507,
           505.2,
           489.3,
           20404077,
           "cofco internati...",
           "Paraguay"
          ],
          [
           10333566,
           541.1,
           507,
           5239118,
           "cofco internati...",
           "Paraguay"
          ],
          [
           11864340,
           541.1,
           541,
           6418608,
           "cofco internati...",
           "Paraguay"
          ],
          [
           21376850,
           541.1,
           524,
           11201469.4,
           "cofco internati...",
           "Paraguay"
          ],
          [
           6414675,
           541.1,
           527.9,
           3386112.1,
           "cofco internati...",
           "Paraguay"
          ],
          [
           26118695,
           541.1,
           543.9,
           14205011,
           "cofco internati...",
           "Paraguay"
          ],
          [
           54635094,
           541.1,
           535,
           29232197.3,
           "cofco internati...",
           "Paraguay"
          ],
          [
           21113146,
           527.2,
           528,
           11147741.1,
           "cofco internati...",
           "Paraguay"
          ],
          [
           23229705,
           527.2,
           533,
           12381432.8,
           "cofco internati...",
           "Paraguay"
          ],
          [
           11238580,
           527.2,
           521,
           5855300.2,
           "cofco internati...",
           "Paraguay"
          ],
          [
           8126820,
           527.2,
           534,
           4339721.9,
           "cofco internati...",
           "Paraguay"
          ],
          [
           22233247,
           527.2,
           538.8,
           11978807.2,
           "cofco internati...",
           "Paraguay"
          ],
          [
           25717500,
           527.2,
           509.9,
           13114225.4,
           "cofco internati...",
           "Paraguay"
          ],
          [
           6023100,
           507.8,
           485.9,
           2926865.2,
           "cofco internati...",
           "Paraguay"
          ],
          [
           10725933,
           507.8,
           483.3,
           5184259.9,
           "cofco internati...",
           "Paraguay"
          ],
          [
           20370385,
           507.8,
           483.5,
           9849081.2,
           "cofco internati...",
           "Paraguay"
          ],
          [
           19591751,
           507.8,
           514,
           10070160,
           "cofco internati...",
           "Paraguay"
          ],
          [
           25099400,
           507.8,
           491.7,
           12342630,
           "cofco internati...",
           "Paraguay"
          ],
          [
           10973595,
           507.8,
           498,
           5464850.3,
           "cofco internati...",
           "Paraguay"
          ],
          [
           24999343,
           507.8,
           494.5,
           12361675.1,
           "cofco internati...",
           "Paraguay"
          ],
          [
           8090650,
           509.5,
           512.9,
           4150018,
           "cofco internati...",
           "Paraguay"
          ],
          [
           8070550,
           509.5,
           512.9,
           4139707.9,
           "cofco internati...",
           "Paraguay"
          ],
          [
           25036540,
           509.5,
           510.4,
           12779901.8,
           "cofco internati...",
           "Paraguay"
          ],
          [
           25314815,
           509.5,
           506.5,
           12820688.1,
           "cofco internati...",
           "Paraguay"
          ],
          [
           24005635,
           522.5,
           521.9,
           12529501.2,
           "cofco internati...",
           "Paraguay"
          ],
          [
           11934695,
           522.5,
           521.9,
           6229194.7,
           "cofco internati...",
           "Paraguay"
          ],
          [
           24911669,
           522.5,
           518.4,
           12915454.8,
           "cofco internati...",
           "Paraguay"
          ],
          [
           24873080,
           518.5,
           527.4,
           13118062.4,
           "cofco internati...",
           "Paraguay"
          ],
          [
           22279660,
           518.5,
           533.9,
           11896001.7,
           "cofco internati...",
           "Paraguay"
          ],
          [
           31545855,
           518.5,
           514.1,
           16218387.9,
           "cofco internati...",
           "Paraguay"
          ],
          [
           14117170,
           515.8,
           516,
           7284459.7,
           "cofco internati...",
           "Paraguay"
          ],
          [
           16050905,
           515.8,
           523.5,
           8402648.8,
           "cofco internati...",
           "Uruguay"
          ],
          [
           14765635,
           517.9,
           530.9,
           7839666.2,
           "cofco internati...",
           "Paraguay"
          ],
          [
           9948855,
           612.6,
           582,
           5790233.6,
           "cofco internati...",
           "Paraguay"
          ],
          [
           19650080,
           612.6,
           589.3,
           11579926.8,
           "cofco internati...",
           "Paraguay"
          ],
          [
           29848544,
           670.6,
           648,
           19341946.4,
           "cofco internati...",
           "Paraguay"
          ],
          [
           10035230,
           670.6,
           667,
           6693498.4,
           "cofco internati...",
           "Paraguay"
          ],
          [
           34913019,
           670.6,
           677.3,
           23645106.6,
           "cofco internati...",
           "Paraguay"
          ],
          [
           18674025,
           670.6,
           669,
           12492922.7,
           "cofco internati...",
           "Paraguay"
          ],
          [
           22496457,
           670.6,
           683.5,
           15376328.4,
           "cofco internati...",
           "Paraguay"
          ],
          [
           5838350,
           670.6,
           685,
           3999269.8,
           "cofco internati...",
           "Paraguay"
          ],
          [
           24899256,
           670.6,
           685,
           17055990.4,
           "cofco internati...",
           "Paraguay"
          ],
          [
           6672056,
           670.6,
           673.5,
           4493629.7,
           "cofco internati...",
           "Paraguay"
          ],
          [
           12907977,
           629.9,
           622.4,
           8034565.8,
           "cofco internati...",
           "Paraguay"
          ],
          [
           13211535,
           629.9,
           633,
           8362901.6,
           "cofco internati...",
           "Paraguay"
          ],
          [
           7491973,
           629.9,
           608,
           4555119.6,
           "cofco internati...",
           "Paraguay"
          ],
          [
           19312570,
           629.9,
           610,
           11780667.7,
           "cofco internati...",
           "Paraguay"
          ],
          [
           24099405,
           629.9,
           619,
           14917531.7,
           "cofco internati...",
           "Paraguay"
          ],
          [
           5514250,
           629.9,
           639,
           3523605.8,
           "cofco internati...",
           "Paraguay"
          ],
          [
           11242325,
           632,
           623,
           7003968.5,
           "cofco internati...",
           "Uruguay"
          ],
          [
           19560395,
           632,
           631,
           12342609.2,
           "cofco internati...",
           "Paraguay"
          ],
          [
           11244095,
           632,
           639,
           7184976.7,
           "cofco internati...",
           "Uruguay"
          ],
          [
           26448290,
           632,
           643,
           17006250.5,
           "cofco internati...",
           "Uruguay"
          ],
          [
           26339500,
           637.1,
           628.9,
           16564311,
           "cofco internati...",
           "Paraguay"
          ],
          [
           29518520,
           637.1,
           648.9,
           19154627.9,
           "cofco internati...",
           "Paraguay"
          ],
          [
           2502430,
           637.1,
           643,
           1609062.5,
           "cofco internati...",
           "Uruguay"
          ],
          [
           3992625,
           637.1,
           640,
           2555280,
           "cofco internati...",
           "Uruguay"
          ],
          [
           16918755,
           637.1,
           635,
           10743409.4,
           "cofco internati...",
           "Uruguay"
          ],
          [
           29206965,
           566.9,
           590,
           17230770.4,
           "cofco internati...",
           "Paraguay"
          ],
          [
           2007970,
           566.9,
           608,
           1220845.8,
           "cofco internati...",
           "Uruguay"
          ],
          [
           10111230,
           566.9,
           608,
           6147627.8,
           "cofco internati...",
           "Uruguay"
          ],
          [
           2446925,
           567.1,
           546.4,
           1336991.9,
           "cofco internati...",
           "Paraguay"
          ]
         ],
         "hovertemplate": "Exportador=%{customdata[4]}<br>Fecha=%{x}<br>Spread=%{y}<br>Kg=%{customdata[0]}<br>Precio de referencia=%{customdata[1]}<br>Precio=%{customdata[2]}<br>Fob=%{customdata[3]}<br>Origen=%{customdata[5]}<extra></extra>",
         "legendgroup": "cofco internati...",
         "marker": {
          "color": "#19d3f3",
          "line": {
           "color": "DarkSlateGrey",
           "width": 2
          },
          "size": 12,
          "symbol": "circle"
         },
         "mode": "markers",
         "name": "cofco internati...",
         "orientation": "v",
         "showlegend": true,
         "type": "scatter",
         "x": [
          "01-2021",
          "03-2021",
          "03-2021",
          "03-2021",
          "03-2021",
          "03-2021",
          "03-2021",
          "03-2021",
          "03-2021",
          "03-2021",
          "03-2021",
          "04-2021",
          "04-2021",
          "04-2021",
          "04-2021",
          "04-2021",
          "05-2021",
          "05-2021",
          "05-2021",
          "05-2021",
          "05-2021",
          "05-2021",
          "06-2021",
          "06-2021",
          "06-2021",
          "06-2021",
          "06-2021",
          "06-2021",
          "07-2021",
          "07-2021",
          "07-2021",
          "07-2021",
          "07-2021",
          "07-2021",
          "07-2021",
          "08-2021",
          "08-2021",
          "08-2021",
          "08-2021",
          "09-2021",
          "09-2021",
          "09-2021",
          "10-2021",
          "10-2021",
          "10-2021",
          "11-2021",
          "11-2021",
          "12-2021",
          "02-2022",
          "02-2022",
          "03-2022",
          "03-2022",
          "03-2022",
          "03-2022",
          "03-2022",
          "03-2022",
          "03-2022",
          "03-2022",
          "04-2022",
          "04-2022",
          "04-2022",
          "04-2022",
          "04-2022",
          "04-2022",
          "05-2022",
          "05-2022",
          "05-2022",
          "05-2022",
          "06-2022",
          "06-2022",
          "06-2022",
          "06-2022",
          "06-2022",
          "07-2022",
          "07-2022",
          "07-2022",
          "08-2022"
         ],
         "xaxis": "x",
         "y": [
          -9.7,
          34.4,
          1.4,
          3.9,
          7.3,
          12.4,
          4.7,
          5.4,
          5.4,
          25.7,
          -9.6,
          -6,
          4.8,
          7.8,
          -20.3,
          -15.9,
          -34.1,
          -0.1,
          -17.1,
          -13.2,
          2.8,
          -6,
          0.8,
          5.8,
          -6.2,
          6.8,
          11.6,
          -17.2,
          -21.9,
          -24.5,
          -24.3,
          6.2,
          -16.1,
          -9.8,
          -13.4,
          3.4,
          3.4,
          0.9,
          -3.1,
          -0.5,
          -0.5,
          -4,
          8.9,
          15.5,
          -4.3,
          0.2,
          7.7,
          13,
          -30.6,
          -23.3,
          -22.6,
          -3.6,
          6.7,
          -1.6,
          12.9,
          14.4,
          14.4,
          2.9,
          -7.4,
          3.1,
          -21.9,
          -19.9,
          -10.9,
          9.1,
          -9,
          -1,
          7,
          11,
          -8.2,
          11.8,
          5.9,
          2.9,
          -2.1,
          23,
          41.1,
          41.1,
          -20.7
         ],
         "yaxis": "y"
        },
        {
         "customdata": [
          [
           26434272,
           507.6,
           496.9,
           13134132.4,
           "ldc argentina s...",
           "Paraguay"
          ],
          [
           32623939,
           507.6,
           488.6,
           15940709.1,
           "ldc argentina s...",
           "Paraguay"
          ],
          [
           10192933,
           507.6,
           488.6,
           4980470.9,
           "ldc argentina s...",
           "Paraguay"
          ],
          [
           6502760,
           507.6,
           488.6,
           3177378.6,
           "ldc argentina s...",
           "Paraguay"
          ],
          [
           46530249,
           507.6,
           488.6,
           22735610.3,
           "ldc argentina s...",
           "Paraguay"
          ],
          [
           16304111,
           505.2,
           488.6,
           7966514.7,
           "ldc argentina s...",
           "Paraguay"
          ],
          [
           15966952,
           505.2,
           482.7,
           7707567.1,
           "ldc argentina s...",
           "Paraguay"
          ],
          [
           5957713,
           505.2,
           499.9,
           2978558.6,
           "ldc argentina s...",
           "Paraguay"
          ],
          [
           5735340,
           505.2,
           499.9,
           2867383.2,
           "ldc argentina s...",
           "Paraguay"
          ],
          [
           4184755,
           505.2,
           499.9,
           2092168.3,
           "ldc argentina s...",
           "Paraguay"
          ],
          [
           29056419,
           541.1,
           532.6,
           15476029.9,
           "ldc argentina s...",
           "Paraguay"
          ],
          [
           11203589,
           541.1,
           546.5,
           6122537.3,
           "ldc argentina s...",
           "Paraguay"
          ],
          [
           4102166,
           541.1,
           546.5,
           2241751.7,
           "ldc argentina s...",
           "Paraguay"
          ],
          [
           8839574,
           541.1,
           525.7,
           4647406,
           "ldc argentina s...",
           "Paraguay"
          ],
          [
           7037244,
           527.2,
           534.6,
           3762110.6,
           "ldc argentina s...",
           "Paraguay"
          ],
          [
           18346465,
           527.2,
           475.2,
           8719157.5,
           "ldc argentina s...",
           "Paraguay"
          ],
          [
           2489202,
           507.8,
           489.1,
           1217369.1,
           "ldc argentina s...",
           "Paraguay"
          ],
          [
           3782898,
           507.8,
           505.9,
           1913730.3,
           "ldc argentina s...",
           "Paraguay"
          ],
          [
           4988316,
           507.8,
           495.1,
           2469465.8,
           "ldc argentina s...",
           "Paraguay"
          ],
          [
           5031316,
           509.5,
           500.9,
           2520387.4,
           "ldc argentina s...",
           "Paraguay"
          ],
          [
           15495530,
           518.5,
           495,
           7670287.4,
           "ldc argentina s...",
           "Paraguay"
          ],
          [
           17825995,
           518.5,
           510.9,
           9106587.8,
           "ldc argentina s...",
           "Paraguay"
          ],
          [
           10839499,
           515.8,
           510.3,
           5531179.5,
           "ldc argentina s...",
           "Paraguay"
          ],
          [
           539795,
           515.8,
           510.3,
           275446.6,
           "ldc argentina s...",
           "Paraguay"
          ],
          [
           7515848,
           517.9,
           497.7,
           3740487.2,
           "ldc argentina s...",
           "Paraguay"
          ],
          [
           6202270,
           612.6,
           605.9,
           3757831.4,
           "ldc argentina s...",
           "Uruguay"
          ],
          [
           20158795,
           670.6,
           662.3,
           13351371.5,
           "ldc argentina s...",
           "Paraguay"
          ],
          [
           6653761,
           670.6,
           657.4,
           4374049.4,
           "ldc argentina s...",
           "Paraguay"
          ],
          [
           16099245,
           670.6,
           635.6,
           10232680.1,
           "ldc argentina s...",
           "Paraguay"
          ],
          [
           12608425,
           629.9,
           620.4,
           7821762.5,
           "ldc argentina s...",
           "Paraguay"
          ],
          [
           3905701,
           632,
           614.1,
           2398491,
           "ldc argentina s...",
           "Paraguay"
          ],
          [
           9794865,
           632,
           599.4,
           5871335.9,
           "ldc argentina s...",
           "Paraguay"
          ],
          [
           16815720,
           637.1,
           620,
           10426250.9,
           "ldc argentina s...",
           "Uruguay"
          ],
          [
           17155538,
           637.1,
           637.8,
           10942659.9,
           "ldc argentina s...",
           "Paraguay"
          ],
          [
           17093960,
           637.1,
           631.1,
           10788511,
           "ldc argentina s...",
           "Uruguay"
          ],
          [
           16756940,
           637.1,
           592.5,
           9928822.1,
           "ldc argentina s...",
           "Uruguay"
          ],
          [
           12713955,
           566.9,
           584.7,
           7433849.5,
           "ldc argentina s...",
           "Paraguay"
          ],
          [
           5594571,
           566.9,
           567,
           3172009.9,
           "ldc argentina s...",
           "Paraguay"
          ],
          [
           16446150,
           566.9,
           553.1,
           9096859,
           "ldc argentina s...",
           "Uruguay"
          ]
         ],
         "hovertemplate": "Exportador=%{customdata[4]}<br>Fecha=%{x}<br>Spread=%{y}<br>Kg=%{customdata[0]}<br>Precio de referencia=%{customdata[1]}<br>Precio=%{customdata[2]}<br>Fob=%{customdata[3]}<br>Origen=%{customdata[5]}<extra></extra>",
         "legendgroup": "ldc argentina s...",
         "marker": {
          "color": "#FF6692",
          "line": {
           "color": "DarkSlateGrey",
           "width": 2
          },
          "size": 12,
          "symbol": "circle"
         },
         "mode": "markers",
         "name": "ldc argentina s...",
         "orientation": "v",
         "showlegend": true,
         "type": "scatter",
         "x": [
          "03-2021",
          "03-2021",
          "03-2021",
          "03-2021",
          "03-2021",
          "04-2021",
          "04-2021",
          "04-2021",
          "04-2021",
          "04-2021",
          "05-2021",
          "05-2021",
          "05-2021",
          "05-2021",
          "06-2021",
          "06-2021",
          "07-2021",
          "07-2021",
          "07-2021",
          "08-2021",
          "10-2021",
          "10-2021",
          "11-2021",
          "11-2021",
          "12-2021",
          "02-2022",
          "03-2022",
          "03-2022",
          "03-2022",
          "04-2022",
          "05-2022",
          "05-2022",
          "06-2022",
          "06-2022",
          "06-2022",
          "06-2022",
          "07-2022",
          "07-2022",
          "07-2022"
         ],
         "xaxis": "x",
         "y": [
          -10.7,
          -19,
          -19,
          -19,
          -19,
          -16.6,
          -22.5,
          -5.3,
          -5.3,
          -5.3,
          -8.4,
          5.4,
          5.4,
          -15.3,
          7.4,
          -51.9,
          -18.8,
          -2,
          -12.8,
          -8.6,
          -23.5,
          -7.6,
          -5.5,
          -5.5,
          -20.3,
          -6.7,
          -8.3,
          -13.2,
          -35,
          -9.5,
          -17.9,
          -32.6,
          -17.1,
          0.8,
          -6,
          -44.6,
          17.8,
          0,
          -13.8
         ],
         "yaxis": "y"
        },
        {
         "customdata": [
          [
           660500,
           505.2,
           409.5,
           270471.8,
           "mirgor sa c i f...",
           "Argentina"
          ]
         ],
         "hovertemplate": "Exportador=%{customdata[4]}<br>Fecha=%{x}<br>Spread=%{y}<br>Kg=%{customdata[0]}<br>Precio de referencia=%{customdata[1]}<br>Precio=%{customdata[2]}<br>Fob=%{customdata[3]}<br>Origen=%{customdata[5]}<extra></extra>",
         "legendgroup": "mirgor sa c i f...",
         "marker": {
          "color": "#B6E880",
          "line": {
           "color": "DarkSlateGrey",
           "width": 2
          },
          "size": 12,
          "symbol": "circle"
         },
         "mode": "markers",
         "name": "mirgor sa c i f...",
         "orientation": "v",
         "showlegend": true,
         "type": "scatter",
         "x": [
          "04-2021"
         ],
         "xaxis": "x",
         "y": [
          -95.7
         ],
         "yaxis": "y"
        },
        {
         "customdata": [
          [
           9591675,
           612.6,
           625.8,
           6002182.5,
           "molinos agro s....",
           "Paraguay"
          ],
          [
           11228180,
           670.6,
           684,
           7679626,
           "molinos agro s....",
           "Paraguay"
          ],
          [
           3642445,
           629.9,
           611.2,
           2226298.8,
           "molinos agro s....",
           "Paraguay"
          ],
          [
           15003360,
           637.1,
           640.9,
           9615035.4,
           "molinos agro s....",
           "Uruguay"
          ],
          [
           15011270,
           637.1,
           655.2,
           9834765.8,
           "molinos agro s....",
           "Uruguay"
          ],
          [
           15027785,
           637.1,
           642.3,
           9652196,
           "molinos agro s....",
           "Uruguay"
          ],
          [
           7499960,
           566.9,
           568.3,
           4262152.3,
           "molinos agro s....",
           "Uruguay"
          ],
          [
           7500440,
           567.1,
           613.3,
           4599944.8,
           "molinos agro s....",
           "Uruguay"
          ]
         ],
         "hovertemplate": "Exportador=%{customdata[4]}<br>Fecha=%{x}<br>Spread=%{y}<br>Kg=%{customdata[0]}<br>Precio de referencia=%{customdata[1]}<br>Precio=%{customdata[2]}<br>Fob=%{customdata[3]}<br>Origen=%{customdata[5]}<extra></extra>",
         "legendgroup": "molinos agro s....",
         "marker": {
          "color": "#FF97FF",
          "line": {
           "color": "DarkSlateGrey",
           "width": 2
          },
          "size": 12,
          "symbol": "circle"
         },
         "mode": "markers",
         "name": "molinos agro s....",
         "orientation": "v",
         "showlegend": true,
         "type": "scatter",
         "x": [
          "02-2022",
          "03-2022",
          "04-2022",
          "06-2022",
          "06-2022",
          "06-2022",
          "07-2022",
          "08-2022"
         ],
         "xaxis": "x",
         "y": [
          13.2,
          13.4,
          -18.7,
          3.8,
          18.1,
          5.2,
          1.4,
          46.2
         ],
         "yaxis": "y"
        },
        {
         "customdata": [
          [
           33200000,
           507.6,
           518.6,
           17217520,
           "viterra argenti...",
           "Paraguay"
          ],
          [
           29866363,
           507.6,
           518.1,
           15473762.7,
           "viterra argenti...",
           "Paraguay"
          ],
          [
           30855435,
           507.6,
           519.1,
           16017056.3,
           "viterra argenti...",
           "Paraguay"
          ],
          [
           24000245,
           507.6,
           511.6,
           12278525.3,
           "viterra argenti...",
           "Paraguay"
          ],
          [
           30462231,
           507.6,
           515.1,
           15691095.2,
           "viterra argenti...",
           "Paraguay"
          ],
          [
           1804240,
           507.6,
           505.6,
           912223.7,
           "viterra argenti...",
           "Paraguay"
          ],
          [
           34333640,
           507.6,
           510.3,
           17522173.2,
           "viterra argenti...",
           "Paraguay"
          ],
          [
           11384186,
           507.6,
           508.8,
           5792160,
           "viterra argenti...",
           "Paraguay"
          ],
          [
           12233310,
           507.6,
           499.4,
           6108703.4,
           "viterra argenti...",
           "Paraguay"
          ],
          [
           31333635,
           507.6,
           500.6,
           15686557.7,
           "viterra argenti...",
           "Brasil"
          ],
          [
           20201874,
           507.6,
           493.5,
           9969220.8,
           "viterra argenti...",
           "Paraguay"
          ],
          [
           56995536,
           505.2,
           489,
           27871763.5,
           "viterra argenti...",
           "Paraguay"
          ],
          [
           62080024,
           505.2,
           509.4,
           31620584.6,
           "viterra argenti...",
           "Paraguay"
          ],
          [
           53454845,
           505.2,
           495.8,
           26500576.8,
           "viterra argenti...",
           "Paraguay"
          ],
          [
           48019049,
           505.2,
           523.9,
           25158264.1,
           "viterra argenti...",
           "Paraguay"
          ],
          [
           27654655,
           505.2,
           530.6,
           14673559.9,
           "viterra argenti...",
           "Brasil"
          ],
          [
           19485480,
           505.2,
           548.8,
           10693436.6,
           "viterra argenti...",
           "Brasil"
          ],
          [
           10559481,
           505.2,
           549.1,
           5797924.9,
           "viterra argenti...",
           "Paraguay"
          ],
          [
           33777743,
           505.2,
           542.3,
           18316347.7,
           "viterra argenti...",
           "Paraguay"
          ],
          [
           11093515,
           505.2,
           543.1,
           6024888,
           "viterra argenti...",
           "Paraguay"
          ],
          [
           49392221,
           541.1,
           537.2,
           26532327.2,
           "viterra argenti...",
           "Paraguay"
          ],
          [
           16289806,
           541.1,
           540.9,
           8810830.3,
           "viterra argenti...",
           "Paraguay"
          ],
          [
           21922235,
           541.1,
           557.6,
           12223838.2,
           "viterra argenti...",
           "Paraguay"
          ],
          [
           13537467,
           541.1,
           568.3,
           7692967.5,
           "viterra argenti...",
           "Paraguay"
          ],
          [
           10079555,
           541.1,
           576.8,
           5813786.5,
           "viterra argenti...",
           "Brasil"
          ],
          [
           15597322,
           541.1,
           575.1,
           8970551.7,
           "viterra argenti...",
           "Paraguay"
          ],
          [
           51279893,
           541.1,
           557.5,
           28589215,
           "viterra argenti...",
           "Paraguay"
          ],
          [
           13499756,
           541.1,
           538.8,
           7273533.5,
           "viterra argenti...",
           "Paraguay"
          ],
          [
           30428860,
           541.1,
           529.5,
           16112385.7,
           "viterra argenti...",
           "Brasil"
          ],
          [
           28500000,
           541.1,
           546.1,
           15563850,
           "viterra argenti...",
           "Paraguay"
          ],
          [
           19306009,
           541.1,
           542.1,
           10465594.4,
           "viterra argenti...",
           "Paraguay"
          ],
          [
           18962227,
           527.2,
           535.9,
           10161667.8,
           "viterra argenti...",
           "Paraguay"
          ],
          [
           12011805,
           527.2,
           547.3,
           6573940.8,
           "viterra argenti...",
           "Paraguay"
          ],
          [
           13306359,
           527.2,
           550.8,
           7329009.5,
           "viterra argenti...",
           "Paraguay"
          ],
          [
           12406942,
           527.2,
           542.3,
           6727912.4,
           "viterra argenti...",
           "Paraguay"
          ],
          [
           8606498,
           527.2,
           541.5,
           4660504.7,
           "viterra argenti...",
           "Brasil"
          ],
          [
           51168965,
           527.2,
           547,
           27987179.8,
           "viterra argenti...",
           "Paraguay"
          ],
          [
           18082795,
           527.2,
           529.6,
           9576990.3,
           "viterra argenti...",
           "Paraguay"
          ],
          [
           13419080,
           527.2,
           524.3,
           7035780.6,
           "viterra argenti...",
           "Paraguay"
          ],
          [
           35654590,
           527.2,
           524,
           18684300.6,
           "viterra argenti...",
           "Paraguay"
          ],
          [
           4416370,
           527.2,
           446.6,
           1972350.8,
           "viterra argenti...",
           "Bolivia"
          ],
          [
           22982180,
           527.2,
           483.4,
           11108599.5,
           "viterra argenti...",
           "Paraguay"
          ],
          [
           26654262,
           527.2,
           478.1,
           12743402.7,
           "viterra argenti...",
           "Paraguay"
          ],
          [
           10000048,
           527.2,
           489.8,
           4897923.5,
           "viterra argenti...",
           "Paraguay"
          ],
          [
           27359560,
           507.8,
           515.1,
           14092909.4,
           "viterra argenti...",
           "Paraguay"
          ],
          [
           35459831,
           507.8,
           514.3,
           18237273.8,
           "viterra argenti...",
           "Paraguay"
          ],
          [
           16008581,
           507.8,
           515.8,
           8257066,
           "viterra argenti...",
           "Paraguay"
          ],
          [
           26667350,
           507.8,
           514.1,
           13709684.6,
           "viterra argenti...",
           "Paraguay"
          ],
          [
           19519392,
           507.8,
           514.9,
           10050454.1,
           "viterra argenti...",
           "Paraguay"
          ],
          [
           24343337,
           507.8,
           510.8,
           12433823,
           "viterra argenti...",
           "Paraguay"
          ],
          [
           17452519,
           507.8,
           511.4,
           8925736.1,
           "viterra argenti...",
           "Paraguay"
          ],
          [
           36259887,
           507.8,
           512.3,
           18575027.3,
           "viterra argenti...",
           "Paraguay"
          ],
          [
           19131721,
           507.8,
           519.8,
           9944477.3,
           "viterra argenti...",
           "Paraguay"
          ],
          [
           28359654,
           507.8,
           517.1,
           14664777.1,
           "viterra argenti...",
           "Paraguay"
          ],
          [
           42059297,
           509.5,
           515.8,
           21695819.3,
           "viterra argenti...",
           "Paraguay"
          ],
          [
           4012051,
           509.5,
           486.1,
           1950205.3,
           "viterra argenti...",
           "Bolivia"
          ],
          [
           8142024,
           509.5,
           507.9,
           4135659.7,
           "viterra argenti...",
           "Paraguay"
          ],
          [
           26424315,
           509.5,
           509.1,
           13452618.8,
           "viterra argenti...",
           "Paraguay"
          ],
          [
           26675290,
           509.5,
           509.1,
           13580390.1,
           "viterra argenti...",
           "Paraguay"
          ],
          [
           35851774,
           509.5,
           505,
           18105524,
           "viterra argenti...",
           "Paraguay"
          ],
          [
           1624269,
           509.5,
           481.6,
           782248,
           "viterra argenti...",
           "Bolivia"
          ],
          [
           14977020,
           509.5,
           505.9,
           7577174,
           "viterra argenti...",
           "Paraguay"
          ],
          [
           21715717,
           509.5,
           506.4,
           10996621.9,
           "viterra argenti...",
           "Paraguay"
          ],
          [
           19192830,
           509.5,
           524.2,
           10060497.6,
           "viterra argenti...",
           "Paraguay"
          ],
          [
           21804959,
           509.5,
           524.6,
           11438129.5,
           "viterra argenti...",
           "Paraguay"
          ],
          [
           26885361,
           522.5,
           521.8,
           14027706,
           "viterra argenti...",
           "Paraguay"
          ],
          [
           19388394,
           522.5,
           524.2,
           10163008.4,
           "viterra argenti...",
           "Paraguay"
          ],
          [
           26554136,
           522.5,
           525.1,
           13943576.8,
           "viterra argenti...",
           "Paraguay"
          ],
          [
           25451383,
           522.5,
           523.5,
           13324902.4,
           "viterra argenti...",
           "Paraguay"
          ],
          [
           27532062,
           522.5,
           521.2,
           14349245.3,
           "viterra argenti...",
           "Paraguay"
          ],
          [
           24419495,
           522.5,
           535.7,
           13081279.3,
           "viterra argenti...",
           "Paraguay"
          ],
          [
           18048899,
           518.5,
           522.5,
           9430008.3,
           "viterra argenti...",
           "Paraguay"
          ],
          [
           17189102,
           518.5,
           520.1,
           8939725.3,
           "viterra argenti...",
           "Paraguay"
          ],
          [
           15768605,
           518.5,
           526.6,
           8303589.7,
           "viterra argenti...",
           "Paraguay"
          ],
          [
           28557078,
           518.5,
           526.6,
           15039014,
           "viterra argenti...",
           "Paraguay"
          ],
          [
           25364081,
           515.8,
           528.6,
           13407453.2,
           "viterra argenti...",
           "Paraguay"
          ],
          [
           3837025,
           515.8,
           518.6,
           1989881.2,
           "viterra argenti...",
           "Paraguay"
          ],
          [
           18817440,
           515.8,
           518.6,
           9758724.4,
           "viterra argenti...",
           "Paraguay"
          ],
          [
           11473215,
           515.8,
           518.6,
           5950009.3,
           "viterra argenti...",
           "Paraguay"
          ],
          [
           2666411,
           515.8,
           515.5,
           1374614.9,
           "viterra argenti...",
           "Paraguay"
          ],
          [
           30033565,
           515.8,
           520.1,
           15620457.2,
           "viterra argenti...",
           "Paraguay"
          ],
          [
           14783455,
           515.8,
           535,
           7909296.3,
           "viterra argenti...",
           "Paraguay"
          ],
          [
           9991780,
           515.8,
           531,
           5305735.1,
           "viterra argenti...",
           "Paraguay"
          ],
          [
           20664240,
           517.9,
           535,
           11055575,
           "viterra argenti...",
           "Paraguay"
          ],
          [
           15983552,
           517.9,
           536.5,
           8574568.3,
           "viterra argenti...",
           "Paraguay"
          ],
          [
           9396340,
           517.9,
           536.5,
           5040779.4,
           "viterra argenti...",
           "Paraguay"
          ],
          [
           1165690,
           517.9,
           558.6,
           651154.4,
           "viterra argenti...",
           "Bolivia"
          ],
          [
           25590708,
           612.6,
           598.1,
           15305802.4,
           "viterra argenti...",
           "Paraguay"
          ],
          [
           24135650,
           612.6,
           625.6,
           15099262.6,
           "viterra argenti...",
           "Paraguay"
          ],
          [
           24213462,
           612.6,
           624.4,
           15117917.1,
           "viterra argenti...",
           "Paraguay"
          ],
          [
           15217325,
           612.6,
           637.8,
           9705153.4,
           "viterra argenti...",
           "Paraguay"
          ],
          [
           22578479,
           670.6,
           665.6,
           15028235.6,
           "viterra argenti...",
           "Paraguay"
          ],
          [
           28263752,
           670.6,
           683.1,
           19306969,
           "viterra argenti...",
           "Paraguay"
          ],
          [
           25412735,
           670.6,
           695.6,
           17677098.5,
           "viterra argenti...",
           "Paraguay"
          ],
          [
           16445300,
           670.6,
           689.8,
           11343474.6,
           "viterra argenti...",
           "Paraguay"
          ],
          [
           5189625,
           670.6,
           679.8,
           3527751.4,
           "viterra argenti...",
           "Paraguay"
          ],
          [
           1219405,
           670.6,
           679.8,
           828914.9,
           "viterra argenti...",
           "Paraguay"
          ],
          [
           3178110,
           670.6,
           658.6,
           2093103.2,
           "viterra argenti...",
           "Bolivia"
          ],
          [
           3882250,
           670.6,
           669.2,
           2598040.5,
           "viterra argenti...",
           "Paraguay"
          ],
          [
           25130080,
           629.9,
           669.4,
           16821723.7,
           "viterra argenti...",
           "Paraguay"
          ],
          [
           18321520,
           629.9,
           581.6,
           10655104.4,
           "viterra argenti...",
           "Bolivia"
          ],
          [
           23322657,
           629.9,
           644.2,
           15024688.9,
           "viterra argenti...",
           "Paraguay"
          ],
          [
           4976610,
           629.9,
           599.6,
           2983975.4,
           "viterra argenti...",
           "Bolivia"
          ],
          [
           31995673,
           629.9,
           648.1,
           20736395.7,
           "viterra argenti...",
           "Paraguay"
          ],
          [
           6693450,
           629.9,
           614.6,
           4113794.4,
           "viterra argenti...",
           "Bolivia"
          ],
          [
           22019288,
           629.9,
           641.6,
           14128015.6,
           "viterra argenti...",
           "Brasil"
          ],
          [
           26820140,
           629.9,
           633.6,
           16993240.7,
           "viterra argenti...",
           "Brasil"
          ],
          [
           9999580,
           629.9,
           648,
           6479727.8,
           "viterra argenti...",
           "Uruguay"
          ],
          [
           19693670,
           632,
           641,
           12623839.4,
           "viterra argenti...",
           "Paraguay"
          ],
          [
           10187590,
           632,
           628,
           6397826.9,
           "viterra argenti...",
           "Paraguay"
          ],
          [
           32048285,
           632,
           623.1,
           19968484.2,
           "viterra argenti...",
           "Paraguay"
          ],
          [
           15003380,
           632,
           630.6,
           9461281.5,
           "viterra argenti...",
           "Uruguay"
          ],
          [
           18298521,
           632,
           580,
           10612904.3,
           "viterra argenti...",
           "Paraguay"
          ],
          [
           16426985,
           632,
           625.7,
           10277707.4,
           "viterra argenti...",
           "Uruguay"
          ],
          [
           12322836,
           632,
           626.4,
           7718815,
           "viterra argenti...",
           "Paraguay"
          ],
          [
           12168744,
           632,
           626.4,
           7622294.4,
           "viterra argenti...",
           "Paraguay"
          ],
          [
           11169905,
           632,
           627,
           7003195.3,
           "viterra argenti...",
           "Paraguay"
          ],
          [
           10162130,
           632,
           626,
           6361493.4,
           "viterra argenti...",
           "Uruguay"
          ],
          [
           15000540,
           632,
           634.9,
           9523692.8,
           "viterra argenti...",
           "Uruguay"
          ],
          [
           25711168,
           632,
           647.7,
           16652257.3,
           "viterra argenti...",
           "Paraguay"
          ],
          [
           8793560,
           632,
           589.4,
           5182487.4,
           "viterra argenti...",
           "Bolivia"
          ],
          [
           10571994,
           632,
           648.6,
           6857523.9,
           "viterra argenti...",
           "Paraguay"
          ],
          [
           8511260,
           632,
           640.6,
           5452313.2,
           "viterra argenti...",
           "Brasil"
          ],
          [
           4511000,
           632,
           648.6,
           2926060.2,
           "viterra argenti...",
           "Paraguay"
          ],
          [
           20005130,
           632,
           658.8,
           13179379.6,
           "viterra argenti...",
           "Uruguay"
          ],
          [
           15128970,
           632,
           644.6,
           9752134.1,
           "viterra argenti...",
           "Brasil"
          ],
          [
           5643286,
           632,
           630.8,
           3559693.8,
           "viterra argenti...",
           "Bolivia"
          ],
          [
           14981652,
           632,
           660.6,
           9896879.3,
           "viterra argenti...",
           "Brasil"
          ],
          [
           14843365,
           637.1,
           674.9,
           10017638.6,
           "viterra argenti...",
           "Uruguay"
          ],
          [
           15002855,
           637.1,
           669.3,
           10041260.8,
           "viterra argenti...",
           "Uruguay"
          ],
          [
           33484128,
           637.1,
           637.9,
           21358816.4,
           "viterra argenti...",
           "Bolivia"
          ],
          [
           6116340,
           637.1,
           663.6,
           4058803.2,
           "viterra argenti...",
           "Paraguay"
          ],
          [
           29107006,
           637.1,
           670.6,
           19519158.2,
           "viterra argenti...",
           "Brasil"
          ],
          [
           8277160,
           637.1,
           673.6,
           5575495,
           "viterra argenti...",
           "Paraguay"
          ],
          [
           6997098,
           637.1,
           610,
           4268229.8,
           "viterra argenti...",
           "Bolivia"
          ],
          [
           27962934,
           637.1,
           670.6,
           18751943.5,
           "viterra argenti...",
           "Brasil"
          ],
          [
           9743376,
           637.1,
           619.3,
           6034489.5,
           "viterra argenti...",
           "Bolivia"
          ],
          [
           74961995,
           637.1,
           654.3,
           49051197.8,
           "viterra argenti...",
           "Uruguay"
          ],
          [
           24123016,
           637.1,
           632.3,
           15253947.9,
           "viterra argenti...",
           "Brasil"
          ],
          [
           20407738,
           637.1,
           566.2,
           11555674.5,
           "viterra argenti...",
           "Bolivia"
          ],
          [
           4798246,
           637.1,
           602,
           2888544.1,
           "viterra argenti...",
           "Bolivia"
          ],
          [
           2924775,
           637.1,
           625.6,
           1829739.2,
           "viterra argenti...",
           "Paraguay"
          ],
          [
           26840192,
           637.1,
           610.6,
           16388621.2,
           "viterra argenti...",
           "Paraguay"
          ],
          [
           31418326,
           637.1,
           612.1,
           19231157.3,
           "viterra argenti...",
           "Paraguay"
          ],
          [
           14413688,
           566.9,
           583.1,
           8404477.3,
           "viterra argenti...",
           "Bolivia"
          ],
          [
           24834752,
           566.9,
           556.6,
           13823023,
           "viterra argenti...",
           "Brasil"
          ],
          [
           2077354,
           566.9,
           537.1,
           1115726.1,
           "viterra argenti...",
           "Bolivia"
          ],
          [
           19208875,
           566.9,
           566.9,
           10888550.8,
           "viterra argenti...",
           "Paraguay"
          ],
          [
           19826241,
           566.9,
           561.1,
           11124922,
           "viterra argenti...",
           "Paraguay"
          ],
          [
           14933495,
           566.9,
           574.1,
           8573767.5,
           "viterra argenti...",
           "Uruguay"
          ],
          [
           5401052,
           566.9,
           536.5,
           2897587.2,
           "viterra argenti...",
           "Bolivia"
          ],
          [
           5475068,
           566.9,
           529.6,
           2899596,
           "viterra argenti...",
           "Bolivia"
          ],
          [
           36659700,
           566.9,
           568.5,
           20840033,
           "viterra argenti...",
           "Uruguay"
          ],
          [
           18166745,
           566.9,
           568.7,
           10331609.6,
           "viterra argenti...",
           "Uruguay"
          ],
          [
           30434615,
           566.9,
           560.1,
           17046427.9,
           "viterra argenti...",
           "Paraguay"
          ],
          [
           3637570,
           566.9,
           568.7,
           2068722.4,
           "viterra argenti...",
           "Uruguay"
          ],
          [
           9780462,
           566.9,
           522.1,
           5106770.4,
           "viterra argenti...",
           "Bolivia"
          ],
          [
           16248070,
           566.9,
           465.3,
           7560745.2,
           "viterra argenti...",
           "Bolivia"
          ],
          [
           7558214,
           567.1,
           546.7,
           4131772.8,
           "viterra argenti...",
           "Bolivia"
          ],
          [
           10109670,
           567.1,
           547.6,
           5535549.8,
           "viterra argenti...",
           "Paraguay"
          ],
          [
           24693385,
           567.1,
           584.3,
           14427851,
           "viterra argenti...",
           "Paraguay"
          ],
          [
           30388824,
           567.1,
           580.6,
           17643751.2,
           "viterra argenti...",
           "Brasil"
          ],
          [
           11155270,
           567.1,
           556.5,
           6207878.3,
           "viterra argenti...",
           "Bolivia"
          ],
          [
           28076979,
           567.1,
           533.1,
           14966714.4,
           "viterra argenti...",
           "Brasil"
          ],
          [
           16339930,
           567.1,
           547.7,
           8949379.7,
           "viterra argenti...",
           "Paraguay"
          ],
          [
           12390941,
           567.1,
           534.8,
           6626333.1,
           "viterra argenti...",
           "Bolivia"
          ],
          [
           61163204,
           567.1,
           587.6,
           35941088.5,
           "viterra argenti...",
           "Paraguay"
          ],
          [
           9196220,
           567.1,
           556.5,
           5117953.8,
           "viterra argenti...",
           "Bolivia"
          ],
          [
           10652534,
           567.1,
           555.5,
           5917163.1,
           "viterra argenti...",
           "Bolivia"
          ],
          [
           11622550,
           567.1,
           578.1,
           6718996.2,
           "viterra argenti...",
           "Brasil"
          ],
          [
           15280358,
           567.1,
           525.7,
           8032700.7,
           "viterra argenti...",
           "Bolivia"
          ]
         ],
         "hovertemplate": "Exportador=%{customdata[4]}<br>Fecha=%{x}<br>Spread=%{y}<br>Kg=%{customdata[0]}<br>Precio de referencia=%{customdata[1]}<br>Precio=%{customdata[2]}<br>Fob=%{customdata[3]}<br>Origen=%{customdata[5]}<extra></extra>",
         "legendgroup": "viterra argenti...",
         "marker": {
          "color": "#FECB52",
          "line": {
           "color": "DarkSlateGrey",
           "width": 2
          },
          "size": 12,
          "symbol": "circle"
         },
         "mode": "markers",
         "name": "viterra argenti...",
         "orientation": "v",
         "showlegend": true,
         "type": "scatter",
         "x": [
          "03-2021",
          "03-2021",
          "03-2021",
          "03-2021",
          "03-2021",
          "03-2021",
          "03-2021",
          "03-2021",
          "03-2021",
          "03-2021",
          "03-2021",
          "04-2021",
          "04-2021",
          "04-2021",
          "04-2021",
          "04-2021",
          "04-2021",
          "04-2021",
          "04-2021",
          "04-2021",
          "05-2021",
          "05-2021",
          "05-2021",
          "05-2021",
          "05-2021",
          "05-2021",
          "05-2021",
          "05-2021",
          "05-2021",
          "05-2021",
          "05-2021",
          "06-2021",
          "06-2021",
          "06-2021",
          "06-2021",
          "06-2021",
          "06-2021",
          "06-2021",
          "06-2021",
          "06-2021",
          "06-2021",
          "06-2021",
          "06-2021",
          "06-2021",
          "07-2021",
          "07-2021",
          "07-2021",
          "07-2021",
          "07-2021",
          "07-2021",
          "07-2021",
          "07-2021",
          "07-2021",
          "07-2021",
          "08-2021",
          "08-2021",
          "08-2021",
          "08-2021",
          "08-2021",
          "08-2021",
          "08-2021",
          "08-2021",
          "08-2021",
          "08-2021",
          "08-2021",
          "09-2021",
          "09-2021",
          "09-2021",
          "09-2021",
          "09-2021",
          "09-2021",
          "10-2021",
          "10-2021",
          "10-2021",
          "10-2021",
          "11-2021",
          "11-2021",
          "11-2021",
          "11-2021",
          "11-2021",
          "11-2021",
          "11-2021",
          "11-2021",
          "12-2021",
          "12-2021",
          "12-2021",
          "12-2021",
          "02-2022",
          "02-2022",
          "02-2022",
          "02-2022",
          "03-2022",
          "03-2022",
          "03-2022",
          "03-2022",
          "03-2022",
          "03-2022",
          "03-2022",
          "03-2022",
          "04-2022",
          "04-2022",
          "04-2022",
          "04-2022",
          "04-2022",
          "04-2022",
          "04-2022",
          "04-2022",
          "04-2022",
          "05-2022",
          "05-2022",
          "05-2022",
          "05-2022",
          "05-2022",
          "05-2022",
          "05-2022",
          "05-2022",
          "05-2022",
          "05-2022",
          "05-2022",
          "05-2022",
          "05-2022",
          "05-2022",
          "05-2022",
          "05-2022",
          "05-2022",
          "05-2022",
          "05-2022",
          "05-2022",
          "06-2022",
          "06-2022",
          "06-2022",
          "06-2022",
          "06-2022",
          "06-2022",
          "06-2022",
          "06-2022",
          "06-2022",
          "06-2022",
          "06-2022",
          "06-2022",
          "06-2022",
          "06-2022",
          "06-2022",
          "06-2022",
          "07-2022",
          "07-2022",
          "07-2022",
          "07-2022",
          "07-2022",
          "07-2022",
          "07-2022",
          "07-2022",
          "07-2022",
          "07-2022",
          "07-2022",
          "07-2022",
          "07-2022",
          "07-2022",
          "08-2022",
          "08-2022",
          "08-2022",
          "08-2022",
          "08-2022",
          "08-2022",
          "08-2022",
          "08-2022",
          "08-2022",
          "08-2022",
          "08-2022",
          "08-2022",
          "08-2022"
         ],
         "xaxis": "x",
         "y": [
          11,
          10.5,
          11.5,
          4,
          7.5,
          -2,
          2.8,
          1.2,
          -8.2,
          -7,
          -14.1,
          -16.2,
          4.1,
          -9.5,
          18.7,
          25.4,
          43.6,
          43.9,
          37.1,
          37.9,
          -3.9,
          -0.2,
          16.5,
          27.2,
          35.7,
          34.1,
          16.4,
          -2.3,
          -11.6,
          5,
          1,
          8.7,
          20.1,
          23.6,
          15.1,
          14.4,
          19.8,
          2.5,
          -2.8,
          -3.1,
          -80.6,
          -43.8,
          -49.1,
          -37.4,
          7.3,
          6.5,
          7.9,
          6.3,
          7,
          2.9,
          3.6,
          4.4,
          11.9,
          9.3,
          6.3,
          -23.5,
          -1.6,
          -0.4,
          -0.4,
          -4.5,
          -27.9,
          -3.6,
          -3.2,
          14.6,
          15,
          -0.7,
          1.7,
          2.6,
          1.1,
          -1.3,
          13.2,
          4,
          1.6,
          8.1,
          8.2,
          12.8,
          2.8,
          2.8,
          2.8,
          -0.2,
          4.3,
          19.2,
          15.2,
          17.1,
          18.5,
          18.5,
          40.7,
          -14.5,
          13,
          11.8,
          25.2,
          -5,
          12.5,
          25,
          19.2,
          9.2,
          9.2,
          -12,
          -1.4,
          39.5,
          -48.3,
          14.3,
          -30.3,
          18.2,
          -15.3,
          11.7,
          3.7,
          18.1,
          9,
          -4,
          -8.9,
          -1.4,
          -52,
          -6.4,
          -5.6,
          -5.6,
          -5,
          -6,
          2.9,
          15.6,
          -42.7,
          16.6,
          8.6,
          16.6,
          26.8,
          12.6,
          -1.2,
          28.6,
          37.8,
          32.2,
          0.8,
          26.5,
          33.5,
          36.5,
          -27.1,
          33.5,
          -17.7,
          17.3,
          -4.7,
          -70.8,
          -35.1,
          -11.5,
          -26.5,
          -25,
          16.2,
          -10.3,
          -29.8,
          -0.1,
          -5.8,
          7.2,
          -30.4,
          -37.3,
          1.5,
          1.8,
          -6.8,
          1.8,
          -44.8,
          -101.6,
          -20.5,
          -19.6,
          17.2,
          13.5,
          -10.6,
          -34.1,
          -19.4,
          -32.4,
          20.5,
          -10.6,
          -11.7,
          11,
          -41.4
         ],
         "yaxis": "y"
        }
       ],
       "layout": {
        "font": {
         "family": "Georgia",
         "size": 13
        },
        "height": 700,
        "legend": {
         "title": {
          "text": "Exportador"
         },
         "tracegroupgap": 0
        },
        "margin": {
         "t": 150
        },
        "separators": ",.",
        "template": {
         "data": {
          "scatter": [
           {
            "type": "scatter"
           }
          ]
         }
        },
        "title": {
         "text": "FOB por tonelada importada 2021-2022 de: <br>\"Porotos de soja excluidos p/siembra\"<br>NCM:12019000<br> <sup> Precio de referencia a partir de datos mensuales",
         "y": 0.95
        },
        "width": 900,
        "xaxis": {
         "anchor": "y",
         "categoryarray": [
          "01-2021",
          "02-2021",
          "03-2021",
          "04-2021",
          "05-2021",
          "06-2021",
          "07-2021",
          "08-2021",
          "09-2021",
          "10-2021",
          "11-2021",
          "12-2021",
          "01-2022",
          "02-2022",
          "03-2022",
          "04-2022",
          "05-2022",
          "06-2022",
          "07-2022",
          "08-2022"
         ],
         "categoryorder": "array",
         "domain": [
          0,
          1
         ],
         "title": {
          "text": ""
         },
         "type": "category"
        },
        "yaxis": {
         "anchor": "x",
         "domain": [
          0,
          1
         ],
         "range": [
          -211.06351812038247,
          155.1563359634231
         ],
         "title": {
          "text": "Diferencia en USD"
         }
        }
       }
      }
     },
     "metadata": {},
     "output_type": "display_data"
    }
   ],
   "source": [
    "plot_precio(df=df_producto, ncm='12019000',\n",
    "            # sim='190C',\n",
    "            color='empresa')"
   ]
  },
  {
   "cell_type": "code",
   "execution_count": 108,
   "metadata": {},
   "outputs": [],
   "source": [
    "plot_precio(df=df_producto, ncm='12019000',color='empresa').write_html('../output/diferencia con ref soja impo empresa.html')\n",
    "precio_boxplot_capitalizado(df_producto,'12019000').write_html('../output/impo soja boxplot.html')"
   ]
  },
  {
   "cell_type": "code",
   "execution_count": 106,
   "metadata": {},
   "outputs": [],
   "source": [
    "writer = pd.ExcelWriter(f'../output/importaciones selecionadas.xlsx', engine='xlsxwriter')\n",
    "sim_filtro(df_producto,'12019000').to_excel(writer, sheet_name='soja', index=False)\n",
    "# tabla_1('trigo').to_excel(writer, sheet_name='trigo', index=False)\n",
    "# tabla_1('maiz').to_excel(writer, sheet_name='maiz', index=False)\n",
    "writer.save()\n"
   ]
  }
 ],
 "metadata": {
  "kernelspec": {
   "display_name": "Python 3.10.4 ('indec')",
   "language": "python",
   "name": "python3"
  },
  "language_info": {
   "codemirror_mode": {
    "name": "ipython",
    "version": 3
   },
   "file_extension": ".py",
   "mimetype": "text/x-python",
   "name": "python",
   "nbconvert_exporter": "python",
   "pygments_lexer": "ipython3",
   "version": "3.10.4"
  },
  "orig_nbformat": 4,
  "vscode": {
   "interpreter": {
    "hash": "8e76e384a9df139c1746ba138f5ce3f6d0babc035eebae6bb58adb8dce6b6867"
   }
  }
 },
 "nbformat": 4,
 "nbformat_minor": 2
}
