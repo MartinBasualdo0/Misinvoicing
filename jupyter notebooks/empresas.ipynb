{
 "cells": [
  {
   "cell_type": "code",
   "execution_count": 35,
   "metadata": {},
   "outputs": [],
   "source": [
    "import pandas as pd\n",
    "import plotly.express as px"
   ]
  },
  {
   "cell_type": "code",
   "execution_count": 36,
   "metadata": {},
   "outputs": [
    {
     "name": "stderr",
     "output_type": "stream",
     "text": [
      "C:\\Users\\mbasualdo\\AppData\\Local\\Temp\\ipykernel_16564\\1921368730.py:1: DtypeWarning: Columns (3) have mixed types. Specify dtype option on import or set low_memory=False.\n",
      "  df_producto=pd.read_csv('../data/expo_doc_completo.csv',\n"
     ]
    }
   ],
   "source": [
    "df_producto=pd.read_csv('../data/expo_doc_completo.csv', \n",
    "                        encoding='Latin-1',\n",
    "                        # sep=';', \n",
    "            dtype={'ncm':'str','CUIT':'str','empresa':'str','enmienda':'str','ncm_descri':'str','sim':'str','pais':'str','pais_descri':'str','dia':'str','mes':'str','anio':'str','sec':str}\n",
    "            )"
   ]
  },
  {
   "cell_type": "code",
   "execution_count": 37,
   "metadata": {},
   "outputs": [],
   "source": [
    "df_producto.cuit=df_producto.cuit.astype(str)"
   ]
  },
  {
   "cell_type": "code",
   "execution_count": 38,
   "metadata": {},
   "outputs": [],
   "source": [
    "# Correcciones de lectura\n",
    "df_producto.pais_descri=df_producto.pais_descri.apply(lambda x: x.capitalize()) #Mayuscula a los países\n",
    "df_producto.empresa=df_producto.empresa.apply(lambda x: x.lower()) #Minuscula en los nombres de las empresas\n",
    "\n",
    "# Fechas para usarlas en los graficos: Se usa más adelante\n",
    "desde=df_producto.sort_values(['anio','mes','dia'], ascending=True)['anio'][0]\n",
    "hasta=df_producto.sort_values(['anio','mes','dia'], ascending=True)['anio'].iloc[-1]\n",
    "\n",
    "inicio=df_producto.sort_values(['anio','mes'],ascending=True).reset_index(drop=True).mes[0]+'/01/'+df_producto.sort_values(['anio','mes'],ascending=True).reset_index(drop=True).anio[0]\n",
    "mes=int(df_producto.sort_values(['anio','mes'],ascending=True).reset_index(drop=True).mes.iloc[-1])+1\n",
    "fin=str(mes)+'/01/'+df_producto.sort_values(['anio','mes'],ascending=True).reset_index(drop=True).anio.iloc[-1]\n",
    "monthDates = pd.DataFrame({\n",
    "    'fecha': pd.date_range(start=inicio, end=fin, freq='M').strftime('%m-%Y')\n",
    "})"
   ]
  },
  {
   "cell_type": "code",
   "execution_count": 39,
   "metadata": {},
   "outputs": [],
   "source": [
    "top_empresas=pd.read_excel('../output/ex-derivados soja.xlsx',dtype={'cuit':str})\n",
    "top_empresas.cuit=top_empresas.cuit.astype(str)"
   ]
  },
  {
   "cell_type": "code",
   "execution_count": 40,
   "metadata": {},
   "outputs": [],
   "source": [
    "expo_desagregado=df_producto[(df_producto.empresa.isin(top_empresas.empresa))&(df_producto.anio>='2021')].reset_index(drop=True)\n",
    "expo_top_empresas=expo_desagregado.groupby(['mes','anio'],as_index=False).sum()[['mes','anio','fob']]\n",
    "expo_top_empresas=expo_top_empresas.sort_values(['anio','mes'],ascending=True).reset_index(drop=True)"
   ]
  },
  {
   "cell_type": "code",
   "execution_count": 41,
   "metadata": {},
   "outputs": [],
   "source": [
    "expo_top_empresas.to_excel('../output/expo_top_empresas.xlsx',index=False)\n",
    "\n",
    "# Excel\n",
    "writer = pd.ExcelWriter('../output/expo_top_empresas.xlsx', engine='xlsxwriter')\n",
    "expo_top_empresas.to_excel(writer, sheet_name='Expo indec', index=False)\n",
    "expo_desagregado.to_excel(writer, sheet_name='Expo indec por empresa', index=False)\n",
    "writer.save()"
   ]
  }
 ],
 "metadata": {
  "kernelspec": {
   "display_name": "Python 3.10.4 ('indec')",
   "language": "python",
   "name": "python3"
  },
  "language_info": {
   "codemirror_mode": {
    "name": "ipython",
    "version": 3
   },
   "file_extension": ".py",
   "mimetype": "text/x-python",
   "name": "python",
   "nbconvert_exporter": "python",
   "pygments_lexer": "ipython3",
   "version": "3.10.4"
  },
  "orig_nbformat": 4,
  "vscode": {
   "interpreter": {
    "hash": "8e76e384a9df139c1746ba138f5ce3f6d0babc035eebae6bb58adb8dce6b6867"
   }
  }
 },
 "nbformat": 4,
 "nbformat_minor": 2
}
