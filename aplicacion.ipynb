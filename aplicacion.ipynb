{
 "cells": [
  {
   "cell_type": "markdown",
   "metadata": {},
   "source": [
    "# Importamos los datos y las manipulaciones\n",
    "\n",
    "Tarda un poco, aproximadamente 1 minuto y medio. Es normal dado el alto volumen de datos"
   ]
  },
  {
   "cell_type": "code",
   "execution_count": 7,
   "metadata": {},
   "outputs": [],
   "source": [
    "import src.exportaciones as expo\n",
    "import src.importaciones as impo\n",
    "import pandas as pd"
   ]
  },
  {
   "cell_type": "code",
   "execution_count": 8,
   "metadata": {},
   "outputs": [],
   "source": [
    "#Elegir expo o impo en base a lo que se requiera. SIN COMILLAS\n",
    "comercio=impo\n",
    "if comercio==impo:\n",
    "    clasificacion='cif' #si se ven las impo, importan CIF\n",
    "elif comercio==expo:\n",
    "    clasificacion='fob' #Expo en FOB\n",
    "    "
   ]
  },
  {
   "cell_type": "code",
   "execution_count": 9,
   "metadata": {},
   "outputs": [
    {
     "data": {
      "text/plain": [
       "array(['190C', '110B', '299C', '219B'], dtype=object)"
      ]
     },
     "execution_count": 9,
     "metadata": {},
     "output_type": "execute_result"
    }
   ],
   "source": [
    "from src.exportaciones import sim_unique\n",
    "\n",
    "\n",
    "sim_unique(\"12019000\") # Para ver los códigos sims para una nomenclatura"
   ]
  },
  {
   "cell_type": "code",
   "execution_count": null,
   "metadata": {},
   "outputs": [],
   "source": [
    "#Cambiar expo e impo en base a lo que se requiera\n",
    "comercio.plot_precio(df=comercio.df_producto, #Se aclara de donde se van a sacar los datos, ignorar\n",
    "            y=f'{clasificacion}_unitario_ton', # Eje Y: 'fob_unitario_ton' o 'diferencia_ref'\n",
    "            ncm=27101922, # La nomenclatura que se quiere ver\n",
    "            # sim='190C', # El código sim\n",
    "            color='pais_descri', # 'empresa' o 'pais_descri' para cambiar la variable que determina los colores\n",
    "            # n_empresa=20, # Por si se quiere ver un \"top\" de empresas, están ordenadas por fob/cif\n",
    "            n_paises=2, # \"top\" países, igual que con las empresas\n",
    "            # pais='Uruguay', # Por si se quiere ver un país en particular, pierde el sentido el n_paises\n",
    "            # max_range=1000  # Por si se quiere poner un máximo al eje Y, muy bueno para evitar ver los outliers\n",
    ")"
   ]
  },
  {
   "cell_type": "code",
   "execution_count": null,
   "metadata": {},
   "outputs": [],
   "source": [
    "# comercio.precio_violinplot_capitalizado(df=comercio.df_producto,\n",
    "#                 ncm=12019000, \n",
    "#                 sim=None, #Es otra forma de decir que no importa, sino poner \"#\" adelante\n",
    "#                 n_paises=2,\n",
    "#                 max_range=4000\n",
    "#                 )"
   ]
  },
  {
   "cell_type": "code",
   "execution_count": 12,
   "metadata": {},
   "outputs": [],
   "source": [
    "# comercio.precio_boxplot_capitalizado(df=comercio.df_producto,\n",
    "#                                  ncm=12019000,\n",
    "#                                  sim=None, \n",
    "#                                  n_paises=None,\n",
    "#                                  max_range=3000\n",
    "#                                  )"
   ]
  },
  {
   "cell_type": "code",
   "execution_count": 13,
   "metadata": {},
   "outputs": [],
   "source": [
    "# comercio.precio_boxplot_capitalizado(df=comercio.df_producto,\n",
    "#                                  ncm=38260000,\n",
    "#                                  sim=None,\n",
    "#                                  n_paises=None,\n",
    "#                                  max_range=3000\n",
    "#                                  )"
   ]
  },
  {
   "cell_type": "code",
   "execution_count": null,
   "metadata": {},
   "outputs": [],
   "source": [
    "impo.sim_filtro(df=comercio.df_producto,ncm='27101922',pais='Brasil')"
   ]
  },
  {
   "cell_type": "code",
   "execution_count": null,
   "metadata": {},
   "outputs": [],
   "source": [
    "#Para ver la tabla con todos los datos, despues se exporta a un excel para verlo mejor, y manipularlo\n",
    "comercio.sim_filtro(df=comercio.df_producto,ncm=27101922,sim=None,pais='Brasil').sort_values(f'{clasificacion}_unitario_ton',ascending=False).reset_index(drop=True)"
   ]
  },
  {
   "cell_type": "markdown",
   "metadata": {},
   "source": [
    "## Exportar\n",
    "Siempre guardar los archivos en la carpeta \"output\", por una cuestion de orden."
   ]
  },
  {
   "cell_type": "code",
   "execution_count": null,
   "metadata": {},
   "outputs": [],
   "source": [
    "#elegir la ncm y ponerle un nombre adelante del igual, el resto se copia. Ordena por precio (fob unitario por tonelada)\n",
    "soja=comercio.sim_filtro(comercio.df_producto,ncm=12019000).sort_values('fob_unitario_ton',ascending=False)\n",
    "aceite_soja=comercio.sim_filtro(comercio.df_producto,ncm=15071000).sort_values('fob_unitario_ton',ascending=False)\n",
    "harina_soja=comercio.sim_filtro(comercio.df_producto,ncm=23040010).sort_values('fob_unitario_ton',ascending=False)\n",
    "trigo=comercio.sim_filtro(comercio.df_producto,ncm=10019900).sort_values('fob_unitario_ton',ascending=False)\n",
    "maiz=comercio.sim_filtro(comercio.df_producto,ncm=10059010).sort_values('fob_unitario_ton',ascending=False)\n",
    "\n",
    "# Excel. Tener el cuenta el nombre de la hoja del excel y de la tabla\n",
    "writer = pd.ExcelWriter(f'./output/seleccion de datos.xlsx', engine='xlsxwriter') #Poner la ruta\n",
    "soja.to_excel(writer, sheet_name='soja', index=False)\n",
    "aceite_soja.to_excel(writer, sheet_name='aceite_soja', index=False)\n",
    "harina_soja.to_excel(writer, sheet_name='harina_soja', index=False)\n",
    "trigo.to_excel(writer, sheet_name='trigo', index=False)\n",
    "maiz.to_excel(writer, sheet_name='maiz', index=False)\n",
    "writer.save()"
   ]
  },
  {
   "cell_type": "code",
   "execution_count": null,
   "metadata": {},
   "outputs": [],
   "source": [
    "#Exportar gráficos, tener en cuenta la ruta\n",
    "comercio.plot_precio(df=comercio.df_producto,y=f'{clasificacion}_unitario_ton',ncm=12019000,color='empresa',n_empresa=20).write_html('./output/comercio poroto_soja.html')"
   ]
  }
 ],
 "metadata": {
  "kernelspec": {
   "display_name": "Python 3.10.4 ('indec')",
   "language": "python",
   "name": "python3"
  },
  "language_info": {
   "codemirror_mode": {
    "name": "ipython",
    "version": 3
   },
   "file_extension": ".py",
   "mimetype": "text/x-python",
   "name": "python",
   "nbconvert_exporter": "python",
   "pygments_lexer": "ipython3",
   "version": "3.10.4"
  },
  "orig_nbformat": 4,
  "vscode": {
   "interpreter": {
    "hash": "8e76e384a9df139c1746ba138f5ce3f6d0babc035eebae6bb58adb8dce6b6867"
   }
  }
 },
 "nbformat": 4,
 "nbformat_minor": 2
}
